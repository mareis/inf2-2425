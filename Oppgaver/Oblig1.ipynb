{
 "cells": [
  {
   "cell_type": "markdown",
   "metadata": {},
   "source": [
    "# Øving 1"
   ]
  },
  {
   "cell_type": "markdown",
   "metadata": {},
   "source": [
    "## Oppgave 1"
   ]
  },
  {
   "cell_type": "markdown",
   "metadata": {},
   "source": [
    "Lag et program som skal snu rekkefølgen på bokstavene i et navn, og skrive ut navnet stavet baklengs."
   ]
  },
  {
   "metadata": {},
   "cell_type": "code",
   "outputs": [],
   "execution_count": null,
   "source": []
  },
  {
   "cell_type": "markdown",
   "metadata": {},
   "source": [
    "## Oppgave 2 "
   ]
  },
  {
   "cell_type": "markdown",
   "metadata": {
    "tags": []
   },
   "source": [
    "Print-setningen skal skrive ut \"Vurderingen av om du kommer inn eller ikker er: og \"Ja\" eller\n",
    "\"Nei\", ut fra hvilken alder som blir gitt som argument til funksjonen inngangTillat(). Hvorfor blir ikke resultatet\n",
    "riktig? Rett opp koden så den kjører."
   ]
  },
  {
   "cell_type": "code",
   "execution_count": null,
   "metadata": {},
   "outputs": [],
   "source": []
  },
  {
   "metadata": {},
   "cell_type": "markdown",
   "source": [
    "## Oppgave 3\n",
    "\n",
    "I denne oppgaven skal du ved hjelp av en nøstet liste liste printe ut den lille gangetabellen (1-10) til konsoll."
   ]
  },
  {
   "metadata": {
    "tags": []
   },
   "cell_type": "code",
   "outputs": [],
   "source": [],
   "execution_count": null
  },
  {
   "cell_type": "markdown",
   "metadata": {},
   "source": [
    "## Oppgave 4"
   ]
  },
  {
   "cell_type": "markdown",
   "metadata": {},
   "source": [
    "### Analyse av Trontalen 2021\n",
    "\n",
    "Skriv et program som tar inn Trontalen for 2021, gjengitt under, som én lang string-variabel, og utfør følgende analyse:\n",
    "\n",
    "* Tell antall ord i teksten og print antallet ut til konsoll\n",
    "* Tell antall setninger i teksten og print antallet ut til konsoll\n",
    "* Beregn gjennomsnittlig antall ord i hver setning og print til konsoll\n",
    "* Tell hvor mange ganger hver bokstav i alfabetet forekommer i teksten, og skriv en sortert liste som går fra høyest til lavest til konsoll. \n",
    "\n",
    "_Tips: mellomrom kan definere slutten av et ord, og punktum kan definere slutten av en setning._\n",
    "\n",
    "Ærede President, Folkets representanter. Jeg hilser Stortinget velkommen til ansvarsfullt arbeid og ønsker at det må bli til gagn for fedrelandet. Etter halvannet år har koronaviruset løsnet sitt grep om vår hverdag. Norge har klart seg bedre gjennom pandemien enn de fleste andre land. Tiltakene har vært byrdefulle for mange. Men færre har mistet livet og flere har vært i jobb sammenlignet med andre land. Raske og effektive tiltak har begrenset spredningen av viruset. God etterlevelse og oppslutning om tiltakene har vært nødvendig. Samarbeidet med EU om anskaffelse av vaksiner har gitt oss en vei ut av pandemien. Regjeringen har etablert beredskapslagre for smittevernutstyr og medisiner. Arbeid er satt i gang for å øke intensivkapasiteten. Regjeringen vil opprettholde en høy beredskap for nye virusvarianter. Regjeringen vil i den kommende perioden særlig prioritere to store utfordringer for Norge: Begrense utslippene av klimagasser og inkludere flere i arbeidslivet. Farlige klimaendringer er vår tids største utfordring. Norge skal redusere egne utslipp av klimagasser i tråd med våre internasjonale forpliktelser. I tillegg skal vi støtte fattige land i deres arbeid. Norske utslipp går ned. I forrige periode la regjeringen frem planen for ytterligere utslippskutt frem mot 2030. Nå skal denne planen iverksettes. Det viktigste tiltaket er at prisen for å slippe ut klimagasser må gå opp. Det er nødvendig for å skape et marked for nye, klimavennlige løsninger og ny teknologi. Regjeringen vil derfor fremme forslag om økt pris på utslipp av gasser som bidrar til klimaendringene. Øvrige skatter og avgifter skal senkes, slik at samlet skattenivå ikke øker. Regjeringen vil også fremme forslag om et nytt og mer nøytralt skattesystem for petroleumssektoren. Regjeringen vil følge opp veikartet for hydrogen og fortsette byggingen av anlegg for fangst og lagring av CO2. \n",
    "Og så snart som mulig skal selskaper kunne søke konsesjon for utbygging av havvind i åpnede områder. God sameksistens med eksisterende næringer skal ivaretas. Regjeringen vil legge til rette for videre elektrifisering av og fortsatt sikker tilgang på strøm for norsk industri og transport. Regjeringen vil styrke Grønn plattform som støtter opp om økt verdiskaping innenfor bærekraftige rammer. Et nytt fond som skal investere i fornybar energi i utviklingsland, skal bygges opp over fem år. Den andre store utfordringen er å inkludere flere i arbeidslivet. Den økonomiske aktiviteten i Norge tar seg raskt opp. Det er nå flere sysselsatte i befolkningen enn før pandemien kom. Stadig færre går ledige. Det blir stadig flere ledige stillinger. Perspektivmeldingen viser at vi trenger flere lønnsomme jobber og flere i arbeid for å finansiere velferden når bidraget fra oljeaktiviteten reduseres. Allerede nå ser vi mangel på kvalifisert arbeidskraft flere steder. Det er både en utfordring og en mulighet. En utfordring fordi mangel på arbeidskraft gir mindre verdiskaping og velferd i samfunnet. En mulighet fordi det er mange flere som kan og vil arbeide i vårt samfunn. Den muligheten vil regjeringen gripe. Regjeringen vil gjennomføre fullføringsreformen slik at flere blir kvalifisert for arbeidslivet og videre studier. Utdanningsløftet skal fortsette. Regjeringen vil følge opp strategien for desentralisert og fleksibel utdanning ved fagskoler, høyskoler og universiteter for å styrke tilgangen på kompetanse både i byene og distriktene. Muligheten for stedsuavhengige arbeidsplasser gjør det mulig å jobbe fra der man måtte ønske. Arbeidet for inkludering i arbeidslivet må styrkes ytterligere. Den nye NAV-strategien skal gi økt innovasjon og bedre tjenester på arbeids- og velferdsfeltet. Regjeringen vil gjøre det enklere å ta utdanning samtidig som man mottar offentlige ytelser til livsopphold. Kompetansereformen skal bidra til at ingen som er i jobb, går ut på dato i vårt arbeidsliv. Flere i arbeid er den viktigste forutsetningen for et samfunn med mindre fattigdom og små forskjeller. Pandemien har vist at godt internasjonalt samarbeid er god beredskap. Norge har vært avhengig av EU for effektiv tilgang til vaksiner. EØS-avtalen bidro til å lette importen av smittevernutstyr. Norge har også hjulpet andre land som har vært mer alvorlig rammet enn oss. Pandemien har rammet mange fattige land hardt. Regjeringen vil fortsette arbeidet for likeverdig tilgang til covid-19-vaksiner, diagnostikk og tester globalt. Norge skal fortsatt være en pådriver for at FNs bærekraftsmål skal nås. Både i Norge og internasjonalt. Regjeringen vil gjennom medlemskapet i FNs sikkerhetsråd arbeide for et sterkt og velfungerende internasjonalt samarbeid for å ivareta global sikkerhet og fred. Regjeringen vil basere sin politikk på sterk støtte til EØS-avtalen og NATO-medlemskapet. Et godt nordisk samarbeid bygger opp om dette. Disse avtalene representerer et verdifellesskap Norge deler med våre nærmeste samarbeidspartnere. De er en forutsetning for norske arbeidsplasser og vår nasjonale sikkerhet. Og de er en avgjørende del av Norges beredskap mot kriser. Regjeringen vil videreføre arbeidet for å skape et bærekraftig velferdssamfunn. Endringer i skattesystemet skal gjøre det mer lønnsomt å jobbe og mer lønnsomt å investere i norske arbeidsplasser. Regjeringen vil fortsette den historiske satsingen på samferdsel. Regjeringen vil følge opp den nye nasjonale strategien for sosial boligpolitikk. Stadig færre er bostedsløse i Norge og den positive utviklingen må fortsette. Bostøtten skal styrkes, og regjeringen vil prioritere midler til boliglån i distriktene. Regjeringen vil styrke kompetansen i barnevernet for å forbedre tjenesten og forberede kommunene på økt ansvar. Det vil bli tatt initiativ til å oppheve aktivitetskravet tilsvarende fedrekvoten, slik at alle fedre med opptjente foreldrepengerettigheter kan ta ut fedrekvoten. Regjeringen vil utvide tilbudet om helsekartlegging for barn i barnevernet som skal flyttes ut av hjemmet. Målet er å identifisere barn som trenger hjelp på et tidligere tidspunkt. Regjeringen vil utvide fritidskortet for å senke den økonomiske terskelen for at barn kan delta i fritidsaktiviteter. Tilbudet til barn og unge med psykiske helseutfordringer skal styrkes videre, og det skal utdannes flere fagfolk til tjenestene. Regjeringen vil sette ned et partssammensatt utvalg for å styrke heltidskultur i helsetjenesten. Regjeringen vil ta initiativ til en pilot med investeringstilskudd til trygghetsboliger for eldre i distriktene. Målet er at flere eldre som selv ønsker det, skal kunne bo i eget hjem. Regjeringen vil fortsette arbeidet med å reformere og effektivisere offentlig sektor. Med lavere vekst i Statens pensjonsfond utland og en aldrende befolkning, vil handlingsrommet på budsjettene etter hvert bli klart mindre enn vi har vært vant til. Regjeringen vil fase ut den ekstraordinære bruken av oljepenger knyttet til koronapandemien. Mer effektiv bruk av fellesskapets ressurser vil bidra til at vi fortsatt kan løse utfordringer vårt samfunn stilles overfor. Digitalisering, forenkling og modernisering kan frigjøre store ressurser til velferd. Regjeringen vil videreføre og forsterke dette arbeidet. Stortingsvalget ga en ny politisk sammensetning av Stortinget. Den parlamentariske situasjonen vil kunne endre grunnlaget for det videre arbeidet med flere av de bebudede sakene. Jeg ber Gud velsigne Stortingets arbeid, og erklærer Norges 166. storting for åpnet."
   ]
  },
  {
   "metadata": {},
   "cell_type": "code",
   "outputs": [],
   "execution_count": null,
   "source": []
  },
  {
   "metadata": {},
   "cell_type": "markdown",
   "source": [
    "## Oppgave 5\n",
    "\n",
    "Ta for deg oppgave 1.3.2 som handler om å oversette tall fra titallsystemet til binære tall. Løs denne oppgaven ved å benytte unntakshåndtering (med en try-blokk) i stedet for en if- setning med isnumeric(). Utforsk også muligheten for å benytte en else- eller finally- blokk i denne sammenhengen. Programmet skal altså fortsette å kjøre selv om brukeren taster inn noe annet enn et heltall."
   ]
  },
  {
   "metadata": {},
   "cell_type": "code",
   "outputs": [],
   "execution_count": null,
   "source": []
  },
  {
   "cell_type": "markdown",
   "metadata": {},
   "source": [
    "## Oppgave 6"
   ]
  },
  {
   "cell_type": "markdown",
   "metadata": {},
   "source": [
    "Analyse av værdata\n",
    "\n",
    "Under har du en dictionary med fiktive data fra været den siste måneden i Trondheim. Dict'en består av følgende: dato (key), og values som er en liste der første element er gj.snittlig mm regn pr døgn (regn_dag), andre er gj.snittlig grader celcius for hvert døgn (temp_dag), og tredje er gj.snittlig vindstyrke m/s pr døgn (vind_dag). Skriv et program som tar inn denne informasjonen, og ved hjelp av funksjoner deretter finner:\n",
    "\n",
    "* Den uka med mest regn i gjennomsnitt\n",
    "* Døgnet med lavest temperatur\n",
    "* Den høyeste vindstyrken som ble målt\n",
    "\n",
    "_For nysgjerrige: et eksempel på hvordan man genererer en dict med fiktive værdata finner du helt nederst i notebook'en._"
   ]
  },
  {
   "cell_type": "code",
   "execution_count": null,
   "metadata": {},
   "outputs": [],
   "source": [
    "trondheim_vaer = {1: [8, 25, 8],\n",
    " 2: [31, 10, 5],\n",
    " 3: [19, 23, 3],\n",
    " 4: [4, 20, 2],\n",
    " 5: [9, 24, 4],\n",
    " 6: [10, 20, 8],\n",
    " 7: [40, 22, 8],\n",
    " 8: [35, 22, 8],\n",
    " 9: [10, 15, 2],\n",
    " 10: [8, 16, 10],\n",
    " 11: [17, 25, 7],\n",
    " 12: [6, 14, 7],\n",
    " 13: [35, 25, 5],\n",
    " 14: [31, 24, 1],\n",
    " 15: [29, 16, 8],\n",
    " 16: [30, 21, 6],\n",
    " 17: [13, 20, 6],\n",
    " 18: [34, 25, 0],\n",
    " 19: [37, 11, 2],\n",
    " 20: [0, 22, 4],\n",
    " 21: [32, 22, 5],\n",
    " 22: [20, 13, 0],\n",
    " 23: [23, 17, 15],\n",
    " 24: [8, 12, 1],\n",
    " 25: [27, 20, 0],\n",
    " 26: [34, 20, 4],\n",
    " 27: [4, 24, 3],\n",
    " 28: [22, 15, 1],\n",
    " 29: [38, 23, 8],\n",
    " 30: [29, 21, 3],\n",
    " 31: [26, 13, 10]}"
   ]
  },
  {
   "cell_type": "code",
   "execution_count": null,
   "metadata": {},
   "outputs": [],
   "source": []
  },
  {
   "cell_type": "markdown",
   "metadata": {},
   "source": [
    "## Oppgave 7\n",
    "\n",
    "I spillet «Lotto» fra Norsk tipping deltar man ved å velge syv forskjellige tall mellom 1 og 34 (1 og 34 er inkludert). Det betyr at en lottokupong kan se slik ut:\n",
    "\n",
    "                6\t34\t12\t1\t2\t23\t27\n",
    "\n",
    "Hver lørdag trekkes vinnertallene. Da trekkes syv tall pluss ett tilleggstall. Dette var vinnertallene lørdag 08.10.2022:\n",
    "\n",
    "![](https://github.com/mareis/IT2_22-23/blob/main/Innleveringer/lotto.png?raw=true)\n",
    "\n",
    "Premieoversikten den samme lørdagen, så slik ut:\n",
    "\n",
    "| Antall rette | Vinnere | Premie        |\n",
    "|--------------|---------|---------------|\n",
    "| 7 rette      | 1       | 14 819 200 kr |\n",
    "| 6 + 1 rette  | 15      | 139 425 kr    |\n",
    "| 6 rette      | 500     | 4 380 kr      |\n",
    "| 5 rette      | 21 322  | 110 kr        |\n",
    "| 4 rette      | 303 169 | 50 kr         |\n",
    "\n",
    "I denne oppgaven skal du skrive dokumentasjon for funksjonene du lager.\n",
    "\n",
    "- Lag en funksjon som trekker vinnertall (altså syv tall pluss ett tilleggstall). Tallene er fra 1–34, og ingen tall brukes to ganger. \n",
    "\n",
    "- Lag en funksjon som tar inn en lottokupong (altså tallene en person har valgt ut) og sjekker hvor mange riktige personen har fått (sammenlign med vinnertallene du fant i a). \n",
    "\n",
    "- Regn ut hvor mange mulige kuponger som kan lages. Her holder det å tenke på 7 rette. Hvor sannsynlig er det å få syv rette hvis du bare leverer én lottokupong?\n"
   ]
  },
  {
   "cell_type": "code",
   "execution_count": null,
   "metadata": {},
   "outputs": [],
   "source": []
  },
  {
   "cell_type": "markdown",
   "metadata": {},
   "source": [
    "## Oppgave 7\n",
    "\n",
    "Kevin og Stuart ønsker å spille ‘Ordspillet’.\n",
    "Spilleregler:\n",
    "- Begger spillerene blir tildelt den samme tekststrengen, S.\n",
    "- Begge spillerene skal lage substrenger av bokstavene I strengen, S.\n",
    "- Stuart må lage «ord» som starter med konsonanter. \n",
    "- Kevin må lage ord som starter med vokaler.\n",
    "\n",
    "Spillet avsluttes nå begge spillerene har lagd alle mulige substrenger. \n",
    "\n",
    "Poeng:\n",
    "- Spillerene får +1 poeng for hvert ord/substring de klarer å lage.\n",
    "\n",
    "For Example:\n",
    "\n",
    "S  = BANANA\n",
    "\n",
    "Kevin beginner med ord = ANA\n",
    "\n",
    "ANA forekommer to ganger I BANANA. Så Keven vil få 2 poeng. \n",
    "\n",
    "\n",
    "\n",
    "![](https://github.com/mareis/IT2_22-23/blob/main/Innleveringer/banana.png?raw=true)"
   ]
  },
  {
   "cell_type": "markdown",
   "metadata": {},
   "source": [
    "Din oppgave er å avgjøre hvem som vinner og poengene til spillerene."
   ]
  },
  {
   "cell_type": "code",
   "execution_count": null,
   "metadata": {},
   "outputs": [],
   "source": []
  },
  {
   "cell_type": "code",
   "execution_count": 4,
   "outputs": [
    {
     "name": "stdout",
     "output_type": "stream",
     "text": [
      "Restgjeld: 1732912.16\n",
      "Total avdrag: 67087.84\n",
      "Total renter: 172912.16\n"
     ]
    }
   ],
   "source": [
    "lån = 1_800_000\n",
    "terminbeløp = 10_000\n",
    "rente = (1 + 0.05)**(1/12)-1  # Månedlig rente\n",
    "mnd = 0\n",
    "total_avdrag = 0\n",
    "total_renter = 0\n",
    "\n",
    "while mnd < 24:\n",
    "    renter = lån * rente\n",
    "    avdrag = terminbeløp - renter\n",
    "    lån = lån - avdrag\n",
    "    \n",
    "    total_avdrag += avdrag\n",
    "    total_renter += renter\n",
    "    \n",
    "    mnd += 1\n",
    "\n",
    "print(f\"Restgjeld: {lån:.2f}\")\n",
    "print(f\"Total avdrag: {total_avdrag:.2f}\")\n",
    "print(f\"Total renter: {total_renter:.2f}\")"
   ],
   "metadata": {
    "collapsed": false,
    "ExecuteTime": {
     "end_time": "2024-10-27T13:12:03.047438Z",
     "start_time": "2024-10-27T13:12:03.042038Z"
    }
   }
  },
  {
   "cell_type": "code",
   "execution_count": 5,
   "outputs": [
    {
     "data": {
      "text/plain": "0.0040741237836483535"
     },
     "execution_count": 5,
     "metadata": {},
     "output_type": "execute_result"
    }
   ],
   "source": [
    "rente"
   ],
   "metadata": {
    "collapsed": false,
    "ExecuteTime": {
     "end_time": "2024-10-27T13:12:06.275849Z",
     "start_time": "2024-10-27T13:12:06.271238Z"
    }
   }
  },
  {
   "cell_type": "code",
   "execution_count": null,
   "outputs": [],
   "source": [],
   "metadata": {
    "collapsed": false
   }
  }
 ],
 "metadata": {
  "kernelspec": {
   "display_name": "Python 3 (ipykernel)",
   "language": "python",
   "name": "python3"
  },
  "language_info": {
   "codemirror_mode": {
    "name": "ipython",
    "version": 3
   },
   "file_extension": ".py",
   "mimetype": "text/x-python",
   "name": "python",
   "nbconvert_exporter": "python",
   "pygments_lexer": "ipython3",
   "version": "3.8.13"
  },
  "toc": {
   "base_numbering": 1,
   "nav_menu": {},
   "number_sections": true,
   "sideBar": true,
   "skip_h1_title": false,
   "title_cell": "Table of Contents",
   "title_sidebar": "Contents",
   "toc_cell": false,
   "toc_position": {},
   "toc_section_display": true,
   "toc_window_display": false
  },
  "vscode": {
   "interpreter": {
    "hash": "31f2aee4e71d21fbe5cf8b01ff0e069b9275f58929596ceb00d14d90e3e16cd6"
   }
  }
 },
 "nbformat": 4,
 "nbformat_minor": 4
}
