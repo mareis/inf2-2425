{
 "cells": [
  {
   "cell_type": "markdown",
   "id": "introduction",
   "metadata": {},
   "source": [
    "# Python Programming Exercises\n",
    "\n",
    "Welcome to the Python programming exercises! These tasks start easy and gradually become more challenging. They cover variables, conditions, loops, lists, pandas, seaborn datasets, and plotting. Let's have some fun coding!"
   ]
  },
  {
   "cell_type": "markdown",
   "id": "exercise-1",
   "metadata": {},
   "source": [
    "## Exercise 1\n",
    "\n",
    "Assign the number `5` to a variable named `x`."
   ]
  },
  {
   "cell_type": "code",
   "execution_count": null,
   "id": "code-1",
   "metadata": {},
   "outputs": [],
   "source": [
    "# Your code here"
   ]
  },
  {
   "cell_type": "markdown",
   "id": "exercise-2",
   "metadata": {},
   "source": [
    "## Exercise 2\n",
    "\n",
    "Create a variable `y` that is the sum of `x` and `10`."
   ]
  },
  {
   "cell_type": "code",
   "execution_count": null,
   "id": "code-2",
   "metadata": {},
   "outputs": [],
   "source": [
    "# Your code here"
   ]
  },
  {
   "cell_type": "markdown",
   "id": "exercise-3",
   "metadata": {},
   "source": [
    "## Exercise 3\n",
    "\n",
    "Check if `y` is greater than `10`. If it is, print \"Yay!\""
   ]
  },
  {
   "cell_type": "code",
   "execution_count": null,
   "id": "code-3",
   "metadata": {},
   "outputs": [],
   "source": [
    "# Your code here"
   ]
  },
  // ... Continue adding exercises up to 100 ...
  {
   "cell_type": "markdown",
   "id": "exercise-100",
   "metadata": {},
   "source": [
    "## Exercise 100\n",
    "\n",
    "Using the `seaborn` `penguins` dataset, create a scatter plot that shows the relationship between flipper length and body mass for each species. Use different colors for each species."
   ]
  },
  {
   "cell_type": "code",
   "execution_count": null,
   "id": "code-100",
   "metadata": {},
   "outputs": [],
   "source": [
    "# Your code here"
   ]
  },
  {
   "cell_type": "markdown",
   "id": "conclusion",
   "metadata": {},
   "source": [
    "## Great Job!\n",
    "\n",
    "You've completed all 100 exercises. Well done!"
   ]
  }
 ],
 "metadata": {
  "kernelspec": {
   "display_name": "Python 3",
   "language": "python",
   "name": "python3"
  },
  "language_info": {
   "name": "python"
  }
 },
 "nbformat": 4,
 "nbformat_minor": 5
}