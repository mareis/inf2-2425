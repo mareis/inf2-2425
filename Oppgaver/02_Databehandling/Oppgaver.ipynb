{
 "cells": [
  {
   "cell_type": "markdown",
   "id": "2e7c7b48-a9b6-495a-b5e3-40c3decf268e",
   "metadata": {},
   "source": [
    "# Prøve - Databehandling\n"
   ]
  },
  {
   "cell_type": "code",
   "id": "344b1c1c-ed35-4b1a-8715-6fe8059eecb3",
   "metadata": {
    "ExecuteTime": {
     "end_time": "2024-09-30T12:44:42.415045Z",
     "start_time": "2024-09-30T12:44:42.399418Z"
    }
   },
   "source": [
    "import pandas as pd\n",
    "import matplotlib.pyplot as plt\n",
    "import seaborn as sns\n",
    "from IPython.terminal.shortcuts.auto_suggest import accept\n",
    "\n",
    "plt.style.use(['ggplot'])\n",
    "sns.set_palette(\"deep\", 10)\n",
    "sns.set(rc={'figure.figsize':(10, 8)})"
   ],
   "outputs": [],
   "execution_count": 2
  },
  {
   "cell_type": "markdown",
   "id": "50bd7456-d2be-4364-a667-ed62ca93a4ba",
   "metadata": {},
   "source": [
    "## Dow Jones"
   ]
  },
  {
   "cell_type": "code",
   "id": "b286ed5f-9d29-42d1-a0e4-54fc4a9009f4",
   "metadata": {
    "ExecuteTime": {
     "end_time": "2024-09-30T12:46:40.715763Z",
     "start_time": "2024-09-30T12:46:40.677911Z"
    }
   },
   "source": [
    "dj = sns.load_dataset('dowjones')\n",
    "dj.head()"
   ],
   "outputs": [
    {
     "data": {
      "text/plain": [
       "        Date  Price\n",
       "0 1914-12-01  55.00\n",
       "1 1915-01-01  56.55\n",
       "2 1915-02-01  56.00\n",
       "3 1915-03-01  58.30\n",
       "4 1915-04-01  66.45"
      ],
      "text/html": [
       "<div>\n",
       "<style scoped>\n",
       "    .dataframe tbody tr th:only-of-type {\n",
       "        vertical-align: middle;\n",
       "    }\n",
       "\n",
       "    .dataframe tbody tr th {\n",
       "        vertical-align: top;\n",
       "    }\n",
       "\n",
       "    .dataframe thead th {\n",
       "        text-align: right;\n",
       "    }\n",
       "</style>\n",
       "<table border=\"1\" class=\"dataframe\">\n",
       "  <thead>\n",
       "    <tr style=\"text-align: right;\">\n",
       "      <th></th>\n",
       "      <th>Date</th>\n",
       "      <th>Price</th>\n",
       "    </tr>\n",
       "  </thead>\n",
       "  <tbody>\n",
       "    <tr>\n",
       "      <th>0</th>\n",
       "      <td>1914-12-01</td>\n",
       "      <td>55.00</td>\n",
       "    </tr>\n",
       "    <tr>\n",
       "      <th>1</th>\n",
       "      <td>1915-01-01</td>\n",
       "      <td>56.55</td>\n",
       "    </tr>\n",
       "    <tr>\n",
       "      <th>2</th>\n",
       "      <td>1915-02-01</td>\n",
       "      <td>56.00</td>\n",
       "    </tr>\n",
       "    <tr>\n",
       "      <th>3</th>\n",
       "      <td>1915-03-01</td>\n",
       "      <td>58.30</td>\n",
       "    </tr>\n",
       "    <tr>\n",
       "      <th>4</th>\n",
       "      <td>1915-04-01</td>\n",
       "      <td>66.45</td>\n",
       "    </tr>\n",
       "  </tbody>\n",
       "</table>\n",
       "</div>"
      ]
     },
     "execution_count": 7,
     "metadata": {},
     "output_type": "execute_result"
    }
   ],
   "execution_count": 7
  },
  {
   "cell_type": "markdown",
   "id": "147fc84d-133c-49f4-81fc-530c3501bfcd",
   "metadata": {},
   "source": [
    "### Oppgave 0\n",
    "\n",
    "Lag et plot over prisutviklingen til Dow Jones indeksen."
   ]
  },
  {
   "cell_type": "code",
   "id": "936cb446-db52-4a44-8b8b-657d65641e42",
   "metadata": {
    "ExecuteTime": {
     "end_time": "2024-09-30T12:46:31.194242Z",
     "start_time": "2024-09-30T12:46:31.178663Z"
    }
   },
   "source": [],
   "outputs": [],
   "execution_count": null
  },
  {
   "cell_type": "markdown",
   "id": "0fc46daa-fdcd-42d3-b82b-25b49d047c19",
   "metadata": {},
   "source": [
    "### Oppgave 1\n",
    "\n",
    "Presenter dagen med lavest verdi og dagen med høyest verdi. Hva var prisen de dagene?\n"
   ]
  },
  {
   "cell_type": "code",
   "id": "78792ad7-bb53-44fe-acd1-7d3fa810bf36",
   "metadata": {
    "ExecuteTime": {
     "end_time": "2024-09-30T12:44:44.184687Z",
     "start_time": "2024-09-30T12:44:44.169047Z"
    }
   },
   "source": [],
   "outputs": [],
   "execution_count": null
  },
  {
   "cell_type": "markdown",
   "id": "a673042b-26c2-4c6d-b1ea-32ac7ab8b9aa",
   "metadata": {},
   "source": [
    "## F1 drivers"
   ]
  },
  {
   "cell_type": "code",
   "id": "53b9c3b9-f3fb-400e-9edb-a69d4771b9ed",
   "metadata": {
    "ExecuteTime": {
     "end_time": "2024-09-30T12:44:44.905380Z",
     "start_time": "2024-09-30T12:44:44.836737Z"
    }
   },
   "source": [
    "f1 = pd.read_csv('F1DriversDataset.csv', sep=',')\n",
    "f1.head()"
   ],
   "outputs": [
    {
     "data": {
      "text/plain": [
       "              Driver     Nationality                         Seasons  \\\n",
       "0        Carlo Abate           Italy                    [1962, 1963]   \n",
       "1   George Abecassis  United Kingdom                    [1951, 1952]   \n",
       "2      Kenny Acheson  United Kingdom                    [1983, 1985]   \n",
       "3  Andrea de Adamich           Italy  [1968, 1970, 1971, 1972, 1973]   \n",
       "4     Philippe Adams         Belgium                          [1994]   \n",
       "\n",
       "   Championships  Race_Entries  Race_Starts  Pole_Positions  Race_Wins  \\\n",
       "0            0.0           3.0          0.0             0.0        0.0   \n",
       "1            0.0           2.0          2.0             0.0        0.0   \n",
       "2            0.0          10.0          3.0             0.0        0.0   \n",
       "3            0.0          36.0         30.0             0.0        0.0   \n",
       "4            0.0           2.0          2.0             0.0        0.0   \n",
       "\n",
       "   Podiums  Fastest_Laps  ...  Championship Years  Decade Pole_Rate  \\\n",
       "0      0.0           0.0  ...                 NaN    1960       0.0   \n",
       "1      0.0           0.0  ...                 NaN    1950       0.0   \n",
       "2      0.0           0.0  ...                 NaN    1980       0.0   \n",
       "3      0.0           0.0  ...                 NaN    1970       0.0   \n",
       "4      0.0           0.0  ...                 NaN    1990       0.0   \n",
       "\n",
       "   Start_Rate  Win_Rate  Podium_Rate  FastLap_Rate  Points_Per_Entry  \\\n",
       "0    0.000000       0.0          0.0           0.0          0.000000   \n",
       "1    1.000000       0.0          0.0           0.0          0.000000   \n",
       "2    0.300000       0.0          0.0           0.0          0.000000   \n",
       "3    0.833333       0.0          0.0           0.0          0.166667   \n",
       "4    1.000000       0.0          0.0           0.0          0.000000   \n",
       "\n",
       "   Years_Active  Champion  \n",
       "0             2     False  \n",
       "1             2     False  \n",
       "2             2     False  \n",
       "3             5     False  \n",
       "4             1     False  \n",
       "\n",
       "[5 rows x 22 columns]"
      ],
      "text/html": [
       "<div>\n",
       "<style scoped>\n",
       "    .dataframe tbody tr th:only-of-type {\n",
       "        vertical-align: middle;\n",
       "    }\n",
       "\n",
       "    .dataframe tbody tr th {\n",
       "        vertical-align: top;\n",
       "    }\n",
       "\n",
       "    .dataframe thead th {\n",
       "        text-align: right;\n",
       "    }\n",
       "</style>\n",
       "<table border=\"1\" class=\"dataframe\">\n",
       "  <thead>\n",
       "    <tr style=\"text-align: right;\">\n",
       "      <th></th>\n",
       "      <th>Driver</th>\n",
       "      <th>Nationality</th>\n",
       "      <th>Seasons</th>\n",
       "      <th>Championships</th>\n",
       "      <th>Race_Entries</th>\n",
       "      <th>Race_Starts</th>\n",
       "      <th>Pole_Positions</th>\n",
       "      <th>Race_Wins</th>\n",
       "      <th>Podiums</th>\n",
       "      <th>Fastest_Laps</th>\n",
       "      <th>...</th>\n",
       "      <th>Championship Years</th>\n",
       "      <th>Decade</th>\n",
       "      <th>Pole_Rate</th>\n",
       "      <th>Start_Rate</th>\n",
       "      <th>Win_Rate</th>\n",
       "      <th>Podium_Rate</th>\n",
       "      <th>FastLap_Rate</th>\n",
       "      <th>Points_Per_Entry</th>\n",
       "      <th>Years_Active</th>\n",
       "      <th>Champion</th>\n",
       "    </tr>\n",
       "  </thead>\n",
       "  <tbody>\n",
       "    <tr>\n",
       "      <th>0</th>\n",
       "      <td>Carlo Abate</td>\n",
       "      <td>Italy</td>\n",
       "      <td>[1962, 1963]</td>\n",
       "      <td>0.0</td>\n",
       "      <td>3.0</td>\n",
       "      <td>0.0</td>\n",
       "      <td>0.0</td>\n",
       "      <td>0.0</td>\n",
       "      <td>0.0</td>\n",
       "      <td>0.0</td>\n",
       "      <td>...</td>\n",
       "      <td>NaN</td>\n",
       "      <td>1960</td>\n",
       "      <td>0.0</td>\n",
       "      <td>0.000000</td>\n",
       "      <td>0.0</td>\n",
       "      <td>0.0</td>\n",
       "      <td>0.0</td>\n",
       "      <td>0.000000</td>\n",
       "      <td>2</td>\n",
       "      <td>False</td>\n",
       "    </tr>\n",
       "    <tr>\n",
       "      <th>1</th>\n",
       "      <td>George Abecassis</td>\n",
       "      <td>United Kingdom</td>\n",
       "      <td>[1951, 1952]</td>\n",
       "      <td>0.0</td>\n",
       "      <td>2.0</td>\n",
       "      <td>2.0</td>\n",
       "      <td>0.0</td>\n",
       "      <td>0.0</td>\n",
       "      <td>0.0</td>\n",
       "      <td>0.0</td>\n",
       "      <td>...</td>\n",
       "      <td>NaN</td>\n",
       "      <td>1950</td>\n",
       "      <td>0.0</td>\n",
       "      <td>1.000000</td>\n",
       "      <td>0.0</td>\n",
       "      <td>0.0</td>\n",
       "      <td>0.0</td>\n",
       "      <td>0.000000</td>\n",
       "      <td>2</td>\n",
       "      <td>False</td>\n",
       "    </tr>\n",
       "    <tr>\n",
       "      <th>2</th>\n",
       "      <td>Kenny Acheson</td>\n",
       "      <td>United Kingdom</td>\n",
       "      <td>[1983, 1985]</td>\n",
       "      <td>0.0</td>\n",
       "      <td>10.0</td>\n",
       "      <td>3.0</td>\n",
       "      <td>0.0</td>\n",
       "      <td>0.0</td>\n",
       "      <td>0.0</td>\n",
       "      <td>0.0</td>\n",
       "      <td>...</td>\n",
       "      <td>NaN</td>\n",
       "      <td>1980</td>\n",
       "      <td>0.0</td>\n",
       "      <td>0.300000</td>\n",
       "      <td>0.0</td>\n",
       "      <td>0.0</td>\n",
       "      <td>0.0</td>\n",
       "      <td>0.000000</td>\n",
       "      <td>2</td>\n",
       "      <td>False</td>\n",
       "    </tr>\n",
       "    <tr>\n",
       "      <th>3</th>\n",
       "      <td>Andrea de Adamich</td>\n",
       "      <td>Italy</td>\n",
       "      <td>[1968, 1970, 1971, 1972, 1973]</td>\n",
       "      <td>0.0</td>\n",
       "      <td>36.0</td>\n",
       "      <td>30.0</td>\n",
       "      <td>0.0</td>\n",
       "      <td>0.0</td>\n",
       "      <td>0.0</td>\n",
       "      <td>0.0</td>\n",
       "      <td>...</td>\n",
       "      <td>NaN</td>\n",
       "      <td>1970</td>\n",
       "      <td>0.0</td>\n",
       "      <td>0.833333</td>\n",
       "      <td>0.0</td>\n",
       "      <td>0.0</td>\n",
       "      <td>0.0</td>\n",
       "      <td>0.166667</td>\n",
       "      <td>5</td>\n",
       "      <td>False</td>\n",
       "    </tr>\n",
       "    <tr>\n",
       "      <th>4</th>\n",
       "      <td>Philippe Adams</td>\n",
       "      <td>Belgium</td>\n",
       "      <td>[1994]</td>\n",
       "      <td>0.0</td>\n",
       "      <td>2.0</td>\n",
       "      <td>2.0</td>\n",
       "      <td>0.0</td>\n",
       "      <td>0.0</td>\n",
       "      <td>0.0</td>\n",
       "      <td>0.0</td>\n",
       "      <td>...</td>\n",
       "      <td>NaN</td>\n",
       "      <td>1990</td>\n",
       "      <td>0.0</td>\n",
       "      <td>1.000000</td>\n",
       "      <td>0.0</td>\n",
       "      <td>0.0</td>\n",
       "      <td>0.0</td>\n",
       "      <td>0.000000</td>\n",
       "      <td>1</td>\n",
       "      <td>False</td>\n",
       "    </tr>\n",
       "  </tbody>\n",
       "</table>\n",
       "<p>5 rows × 22 columns</p>\n",
       "</div>"
      ]
     },
     "execution_count": 4,
     "metadata": {},
     "output_type": "execute_result"
    }
   ],
   "execution_count": 4
  },
  {
   "cell_type": "markdown",
   "id": "f8d8356c-ac2d-41dd-8fe3-bfd097ad4132",
   "metadata": {
    "tags": []
   },
   "source": [
    "### Oppgave 0\n",
    "\n",
    "Presenter antallet som har blitt 'Champion' og antallet som ikke har blitt det."
   ]
  },
  {
   "cell_type": "code",
   "execution_count": null,
   "id": "7972f6e4-09d5-49a8-b171-090bc873f36a",
   "metadata": {},
   "outputs": [],
   "source": []
  },
  {
   "cell_type": "markdown",
   "id": "3fabb776-0507-4524-b2f5-031cd4d45c52",
   "metadata": {},
   "source": [
    "### Oppgave 1\n",
    "\n",
    "Hvem har flest raskeste runder og hvor mange?"
   ]
  },
  {
   "metadata": {},
   "cell_type": "code",
   "outputs": [],
   "execution_count": null,
   "source": "",
   "id": "9380e8adb08af6c5"
  },
  {
   "cell_type": "code",
   "id": "b78436a6-8739-4bdf-bd1b-7b95bd3c9e4a",
   "metadata": {
    "ExecuteTime": {
     "end_time": "2024-09-30T12:50:27.151981Z",
     "start_time": "2024-09-30T12:50:27.104800Z"
    }
   },
   "source": "f1.sort_values(by=\"Fastest_Laps\", ascending = False)[[\"Driver\", \"Fastest_Laps\"]].head(5)",
   "outputs": [
    {
     "data": {
      "text/plain": [
       "                 Driver  Fastest_Laps\n",
       "710  Michael Schumacher          77.0\n",
       "338      Lewis Hamilton          61.0\n",
       "635      Kimi Räikkönen          46.0\n",
       "628         Alain Prost          41.0\n",
       "812    Sebastian Vettel          38.0"
      ],
      "text/html": [
       "<div>\n",
       "<style scoped>\n",
       "    .dataframe tbody tr th:only-of-type {\n",
       "        vertical-align: middle;\n",
       "    }\n",
       "\n",
       "    .dataframe tbody tr th {\n",
       "        vertical-align: top;\n",
       "    }\n",
       "\n",
       "    .dataframe thead th {\n",
       "        text-align: right;\n",
       "    }\n",
       "</style>\n",
       "<table border=\"1\" class=\"dataframe\">\n",
       "  <thead>\n",
       "    <tr style=\"text-align: right;\">\n",
       "      <th></th>\n",
       "      <th>Driver</th>\n",
       "      <th>Fastest_Laps</th>\n",
       "    </tr>\n",
       "  </thead>\n",
       "  <tbody>\n",
       "    <tr>\n",
       "      <th>710</th>\n",
       "      <td>Michael Schumacher</td>\n",
       "      <td>77.0</td>\n",
       "    </tr>\n",
       "    <tr>\n",
       "      <th>338</th>\n",
       "      <td>Lewis Hamilton</td>\n",
       "      <td>61.0</td>\n",
       "    </tr>\n",
       "    <tr>\n",
       "      <th>635</th>\n",
       "      <td>Kimi Räikkönen</td>\n",
       "      <td>46.0</td>\n",
       "    </tr>\n",
       "    <tr>\n",
       "      <th>628</th>\n",
       "      <td>Alain Prost</td>\n",
       "      <td>41.0</td>\n",
       "    </tr>\n",
       "    <tr>\n",
       "      <th>812</th>\n",
       "      <td>Sebastian Vettel</td>\n",
       "      <td>38.0</td>\n",
       "    </tr>\n",
       "  </tbody>\n",
       "</table>\n",
       "</div>"
      ]
     },
     "execution_count": 13,
     "metadata": {},
     "output_type": "execute_result"
    }
   ],
   "execution_count": 13
  },
  {
   "cell_type": "markdown",
   "id": "523de12f-9950-4c92-af20-69ca5cb542e8",
   "metadata": {},
   "source": [
    "### Oppgave 2\n",
    "\n",
    "Presenterer de fem som har vunnet flest ganger og hvor mange ganger de har vunnet"
   ]
  },
  {
   "cell_type": "code",
   "execution_count": null,
   "id": "b462e029-2fcb-4aaf-b57a-5d4d1deb1d85",
   "metadata": {},
   "outputs": [],
   "source": []
  },
  {
   "cell_type": "markdown",
   "id": "91c5c000-59f7-4f46-8440-ecc87d9adb59",
   "metadata": {},
   "source": [
    "### Oppgave 3\n",
    "Presenterer de ti med høyes podiumsrate. Vis 'Driver', 'Podium_Rate', 'Decade' og 'Nationality'."
   ]
  },
  {
   "cell_type": "code",
   "execution_count": null,
   "id": "8aaaaf8a-66b5-4b85-a192-53f35d386b47",
   "metadata": {},
   "outputs": [],
   "source": []
  },
  {
   "cell_type": "markdown",
   "id": "925f818e-07c1-42bb-a2e5-053097251c7b",
   "metadata": {},
   "source": [
    "### Oppgave 4\n",
    "\n",
    "Lag et histogram (histplot) over 'Years_Active'. Sett binwidth=2"
   ]
  },
  {
   "cell_type": "code",
   "execution_count": null,
   "id": "5a0471c0-fcd8-47d8-b62c-15c880d9f436",
   "metadata": {},
   "outputs": [],
   "source": []
  },
  {
   "cell_type": "markdown",
   "id": "c10e6845-b7d3-417b-8119-5622f9aab05b",
   "metadata": {},
   "source": [
    "### Oppgave 5\n",
    "\n",
    "Lag et passende diagram som viser de 20 som har vunnet \"serien\" (er Champion) og antall seiere."
   ]
  },
  {
   "cell_type": "code",
   "execution_count": null,
   "id": "8783eb6a-2ef7-4694-9656-e6857c9d6907",
   "metadata": {},
   "outputs": [],
   "source": []
  },
  {
   "cell_type": "markdown",
   "id": "dfa54b59-c312-413c-afae-1ac034107717",
   "metadata": {},
   "source": [
    "### Oppgave 6\n",
    "\n",
    "Presenter total antall førsteplasser til de 20 mestvinnende nationalitetene"
   ]
  },
  {
   "cell_type": "code",
   "execution_count": null,
   "id": "a63dd367-6205-47cf-88df-179a153dbc78",
   "metadata": {},
   "outputs": [],
   "source": []
  },
  {
   "cell_type": "markdown",
   "id": "8843b38c-c113-47ef-907d-19a3b3ff79be",
   "metadata": {},
   "source": [
    "### Oppgave 7\n",
    "\n",
    "Av de som har blitt 'Champion', hva er gjennomsnitt antall ganger de har vunnet?"
   ]
  },
  {
   "cell_type": "code",
   "execution_count": null,
   "id": "4b0ece5b-5814-45f8-935a-b83fe25ec9a3",
   "metadata": {},
   "outputs": [],
   "source": []
  },
  {
   "cell_type": "markdown",
   "id": "1a3ca79c-8d88-4cc0-8483-b6e2c80f8f04",
   "metadata": {},
   "source": [
    "### Oppgave 8\n",
    "\n",
    "Vis alle kjørere som har over 13 seiere oppdelt etter nationalitet."
   ]
  },
  {
   "cell_type": "code",
   "execution_count": null,
   "id": "e1006e9c-a09f-4557-9c25-6b3bc145e3b9",
   "metadata": {},
   "outputs": [],
   "source": []
  },
  {
   "cell_type": "markdown",
   "id": "aeb2dab3-f8b0-4dd3-adb9-c28004ed0c09",
   "metadata": {},
   "source": [
    "### Oppgave 9\n",
    "\n",
    "Hvor mange ulike nationaliteter har blitt representert?"
   ]
  },
  {
   "cell_type": "code",
   "execution_count": null,
   "id": "b268c463-d9e5-4d78-811c-52927bb81d39",
   "metadata": {},
   "outputs": [],
   "source": []
  },
  {
   "cell_type": "markdown",
   "id": "06534dcf-b64a-4292-a20a-148a2be0deef",
   "metadata": {},
   "source": "### Ekstraoppgave"
  },
  {
   "cell_type": "markdown",
   "id": "31cd978e-6847-4cb6-ad0b-c6f07753284c",
   "metadata": {},
   "source": [
    "Hvem kan ha blitt 'Champion' i 1983?  "
   ]
  },
  {
   "metadata": {},
   "cell_type": "code",
   "outputs": [],
   "execution_count": null,
   "source": "",
   "id": "43b50896811c3d0b"
  },
  {
   "cell_type": "code",
   "execution_count": null,
   "id": "6037e43c-26c5-47f4-8c36-91e72e0b7a72",
   "metadata": {},
   "outputs": [],
   "source": []
  }
 ],
 "metadata": {
  "kernelspec": {
   "display_name": "Python 3 (ipykernel)",
   "language": "python",
   "name": "python3"
  },
  "language_info": {
   "codemirror_mode": {
    "name": "ipython",
    "version": 3
   },
   "file_extension": ".py",
   "mimetype": "text/x-python",
   "name": "python",
   "nbconvert_exporter": "python",
   "pygments_lexer": "ipython3",
   "version": "3.8.13"
  }
 },
 "nbformat": 4,
 "nbformat_minor": 5
}
