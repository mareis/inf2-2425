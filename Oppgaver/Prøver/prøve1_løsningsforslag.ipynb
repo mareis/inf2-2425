{
 "cells": [
  {
   "metadata": {},
   "cell_type": "markdown",
   "source": [
    "# Grunnlegende programmering\n",
    "\n"
   ],
   "id": "3bb8fbd6b68ce6a9"
  },
  {
   "metadata": {},
   "cell_type": "markdown",
   "source": [
    "## Oppgave 1\n",
    "\n",
    "Tildel tallet `5` til en variabel kalt `a`, og tallet `10` til en variabel kalt `b`. Skriv ut summen, differansen og produktet av `a` og `b`."
   ],
   "id": "aaa2379b2fdf9ea7"
  },
  {
   "metadata": {
    "ExecuteTime": {
     "end_time": "2024-10-16T06:55:34.014757Z",
     "start_time": "2024-10-16T06:55:33.983503Z"
    }
   },
   "cell_type": "code",
   "source": [
    "a = 5\n",
    "b = 10\n",
    "print(f\"Sum: {a + b}\")\n",
    "print(f\"Differanse: {a - b}\")\n",
    "print(f\"Produkt: {a * b}\")"
   ],
   "id": "75bdc361f3a7f379",
   "outputs": [
    {
     "name": "stdout",
     "output_type": "stream",
     "text": [
      "Sum: 15\n",
      "Differanse: -5\n",
      "Produkt: 50\n"
     ]
    }
   ],
   "execution_count": 54
  },
  {
   "metadata": {},
   "cell_type": "markdown",
   "source": [
    "## Oppgave 2\n",
    "\n",
    "Lag en liste som inneholder tallene `10` til `20`. Skriv ut det første og det siste elementet i listen."
   ],
   "id": "478b31f204306de0"
  },
  {
   "metadata": {
    "ExecuteTime": {
     "end_time": "2024-10-16T06:55:54.323528Z",
     "start_time": "2024-10-16T06:55:54.305532Z"
    }
   },
   "cell_type": "code",
   "source": [
    "liste = list(range(10, 21))\n",
    "print(f\"Første element: {liste[0]}\")\n",
    "print(f\"Siste element: {liste[-1]}\")"
   ],
   "id": "e8bfdeaca9275d69",
   "outputs": [
    {
     "name": "stdout",
     "output_type": "stream",
     "text": [
      "Første element: 10\n",
      "Siste element: 20\n"
     ]
    }
   ],
   "execution_count": 55
  },
  {
   "metadata": {},
   "cell_type": "markdown",
   "source": "",
   "id": "bef2abe66ee2cb8f"
  },
  {
   "metadata": {},
   "cell_type": "markdown",
   "source": [
    "## Oppgave 3\n",
    "\n",
    "Skriv en for-løkke som går gjennom listen fra forrige oppgave og skriver ut hvert tall multiplisert med `2`."
   ],
   "id": "2bdf2dfa4d9dc026"
  },
  {
   "metadata": {
    "ExecuteTime": {
     "end_time": "2024-10-16T06:58:37.841186Z",
     "start_time": "2024-10-16T06:58:37.809909Z"
    }
   },
   "cell_type": "code",
   "source": [
    "for tall in liste:\n",
    "    print(tall * 2)"
   ],
   "id": "a4dc506fbfb81d89",
   "outputs": [
    {
     "name": "stdout",
     "output_type": "stream",
     "text": [
      "20\n",
      "22\n",
      "24\n",
      "26\n",
      "28\n",
      "30\n",
      "32\n",
      "34\n",
      "36\n",
      "38\n",
      "40\n"
     ]
    }
   ],
   "execution_count": 60
  },
  {
   "metadata": {},
   "cell_type": "markdown",
   "source": [
    "## Oppgave 4\n",
    "\n",
    "a) Skriv et program som avgjør om tallet er positivt, negativt eller null, og skriver ut en passende melding.\n"
   ],
   "id": "165c55170631adfe"
  },
  {
   "metadata": {
    "ExecuteTime": {
     "end_time": "2024-10-16T06:59:42.471204Z",
     "start_time": "2024-10-16T06:59:42.456217Z"
    }
   },
   "cell_type": "code",
   "source": [
    "import random\n",
    "tall = random.randint(-1,1)\n",
    "\n",
    "if tall > 0:\n",
    "    print(\"Tallet er positivt.\")\n",
    "elif tall < 0:\n",
    "    print(\"Tallet er negativt.\")\n",
    "else:\n",
    "    print(\"Tallet er null.\")"
   ],
   "id": "b1ef00eaead7d97b",
   "outputs": [
    {
     "name": "stdout",
     "output_type": "stream",
     "text": [
      "Tallet er negativt.\n"
     ]
    }
   ],
   "execution_count": 63
  },
  {
   "metadata": {},
   "cell_type": "markdown",
   "source": [
    "b)  Skriv et program som genererer et tilfeldig tall mellom `1` og `10`. Be brukeren om å gjette tallet. Programmet skal fortsette å be om et nytt gjett inntil brukeren gjetter riktig tall. For hvert gjett skal programmet gi tilbakemelding om det gjettede tallet er for høyt eller for lavt.\"\n",
    "\n",
    "Denne oppgaven er litt mer tidkrevende enn noen av oppgavene under så hvis du ar dårlig tid så gjør de oppgavene du vet du får til med en gang først\n"
   ],
   "id": "a36f56b29b83e059"
  },
  {
   "metadata": {
    "ExecuteTime": {
     "end_time": "2024-10-16T07:23:39.853676Z",
     "start_time": "2024-10-16T07:23:29.026447Z"
    }
   },
   "cell_type": "code",
   "source": [
    "import random\n",
    "riktig_tall = random.randint(1, 10)\n",
    "gjett = None\n",
    "\n",
    "while gjett != riktig_tall:\n",
    "    gjett = int(input(\"Gjett et tall mellom 1 og 10: \"))\n",
    "    if gjett < riktig_tall:\n",
    "        print(\"For lavt!\")\n",
    "    elif gjett > riktig_tall:\n",
    "        print(\"For høyt!\")\n",
    "print(\"Gratulerer, du gjettet riktig!\")"
   ],
   "id": "cdb45774098534f7",
   "outputs": [
    {
     "name": "stdout",
     "output_type": "stream",
     "text": [
      "For høyt!\n",
      "Gratulerer, du gjettet riktig!\n"
     ]
    }
   ],
   "execution_count": 70
  },
  {
   "metadata": {},
   "cell_type": "markdown",
   "source": [
    "## Oppgave 5\n",
    "\n",
    "Lag en while-løkke som teller ned fra `30` til `25`, og skriver ut hvert tall."
   ],
   "id": "6982e8b7a5fa045e"
  },
  {
   "metadata": {
    "ExecuteTime": {
     "end_time": "2024-10-16T07:24:21.302307Z",
     "start_time": "2024-10-16T07:24:21.278305Z"
    }
   },
   "cell_type": "code",
   "source": [
    "teller = 30\n",
    "while teller >= 25:\n",
    "    print(teller)\n",
    "    teller -= 1"
   ],
   "id": "5d53011813ec7099",
   "outputs": [
    {
     "name": "stdout",
     "output_type": "stream",
     "text": [
      "30\n",
      "29\n",
      "28\n",
      "27\n",
      "26\n",
      "25\n"
     ]
    }
   ],
   "execution_count": 71
  },
  {
   "metadata": {},
   "cell_type": "markdown",
   "source": [
    "## Oppgave 6\n",
    "\n",
    "Finn gjennomsnittlig **kroppsmasse** (`body_mass_g`) for hver **pingvinart**.\n",
    "\n"
   ],
   "id": "3490067ce5655d2b"
  },
  {
   "metadata": {
    "ExecuteTime": {
     "end_time": "2024-10-16T07:28:24.582973Z",
     "start_time": "2024-10-16T07:28:24.545971Z"
    }
   },
   "cell_type": "code",
   "source": [
    "import pandas as pd\n",
    "import seaborn as sns\n",
    "\n",
    "# Last inn \"penguins\"-datasettet\n",
    "penguins = sns.load_dataset('penguins')\n",
    "\n",
    "# Beregn gjennomsnittlig kroppsmasse for hver art\n",
    "gjennomsnitt = penguins.groupby('species')['body_mass_g'].mean().reset_index()\n",
    "gjennomsnitt.columns = ['Art', 'Gjennomsnitlig vekt i g']\n",
    "print(gjennomsnitt)\n"
   ],
   "id": "96987b35f8b34ff3",
   "outputs": [
    {
     "name": "stdout",
     "output_type": "stream",
     "text": [
      "         Art  Gjennomsnitlig vekt i g\n",
      "0     Adelie              3700.662252\n",
      "1  Chinstrap              3733.088235\n",
      "2     Gentoo              5076.016260\n"
     ]
    }
   ],
   "execution_count": 75
  },
  {
   "metadata": {},
   "cell_type": "markdown",
   "source": [
    "\n",
    "## Oppgave 7\n",
    "\n",
    "Lag et boksplot over vingespennet (flipper_length_mm) til de ulike artene"
   ],
   "id": "c4ad1cc23132d663"
  },
  {
   "metadata": {
    "ExecuteTime": {
     "end_time": "2024-10-16T07:29:09.233717Z",
     "start_time": "2024-10-16T07:29:08.948554Z"
    }
   },
   "cell_type": "code",
   "source": [
    "import pandas as pd\n",
    "import seaborn as sns\n",
    "import matplotlib.pyplot as plt\n",
    "\n",
    "# Last inn \"penguins\"-datasettet\n",
    "penguins = sns.load_dataset('penguins')\n",
    "\n",
    "sns.boxplot(x='species', y='flipper_length_mm', data=penguins)\n",
    "plt.show()\n",
    "\n"
   ],
   "id": "96cffa0cf8ba8986",
   "outputs": [
    {
     "data": {
      "text/plain": [
       "<Figure size 640x480 with 1 Axes>"
      ],
      "image/png": "[encoded data removed]"
     },
     "metadata": {},
     "output_type": "display_data"
    }
   ],
   "execution_count": 76
  },
  {
   "metadata": {},
   "cell_type": "markdown",
   "source": [
    "## Oppgave 8\n",
    "\n",
    " Beregne antall pingviner av hvert kjønn innenfor hver art."
   ],
   "id": "76cdbb1beedd9547"
  },
  {
   "metadata": {
    "ExecuteTime": {
     "end_time": "2024-10-16T07:30:44.819221Z",
     "start_time": "2024-10-16T07:30:44.779224Z"
    }
   },
   "cell_type": "code",
   "source": [
    "import pandas as pd\n",
    "import seaborn as sns\n",
    "\n",
    "# Last inn \"penguins\"-datasettet\n",
    "penguins = sns.load_dataset('penguins')\n",
    "\n",
    "antall_pingviner = penguins.groupby(['species', 'sex']).size().reset_index()\n",
    "antall_pingviner.columns = ['Art', 'Kjønn', 'Antall']\n",
    "\n",
    "print(antall_pingviner)"
   ],
   "id": "fa858be64d5025fa",
   "outputs": [
    {
     "name": "stdout",
     "output_type": "stream",
     "text": [
      "         Art   Kjønn  Antall\n",
      "0     Adelie  Female      73\n",
      "1     Adelie    Male      73\n",
      "2  Chinstrap  Female      34\n",
      "3  Chinstrap    Male      34\n",
      "4     Gentoo  Female      58\n",
      "5     Gentoo    Male      61\n"
     ]
    }
   ],
   "execution_count": 79
  },
  {
   "metadata": {},
   "cell_type": "markdown",
   "source": [
    "## Oppgave 9\n",
    "\n",
    "Bruk en løkke for å telle antall e-er i ordet \"Etterretningstjeneste\""
   ],
   "id": "1ec38b6049135167"
  },
  {
   "metadata": {
    "ExecuteTime": {
     "end_time": "2024-10-16T07:33:22.980169Z",
     "start_time": "2024-10-16T07:33:22.962176Z"
    }
   },
   "cell_type": "code",
   "source": [
    "ord = \"Etterretningstjeneste\"\n",
    "ant_e = 0\n",
    "for bokstav in ord:\n",
    "    if bokstav == 'e' or bokstav == 'E':\n",
    "        ant_e += 1\n",
    "\n",
    "print(f\"Antall e-er: {ant_e}\")\n",
    "    "
   ],
   "id": "1da97211e8c1bc37",
   "outputs": [
    {
     "name": "stdout",
     "output_type": "stream",
     "text": [
      "Antall e-er: 6\n"
     ]
    }
   ],
   "execution_count": 84
  },
  {
   "metadata": {
    "ExecuteTime": {
     "end_time": "2024-10-16T07:33:56.073850Z",
     "start_time": "2024-10-16T07:33:56.058856Z"
    }
   },
   "cell_type": "code",
   "source": [
    "ant_e = \"Etterretningstjeneste\".lower().count('e')\n",
    "print(f\"Antall e-er: {ant_e}\")"
   ],
   "id": "7bac991a0d37eefa",
   "outputs": [
    {
     "name": "stdout",
     "output_type": "stream",
     "text": [
      "Antall e-er: 6\n"
     ]
    }
   ],
   "execution_count": 85
  },
  {
   "metadata": {},
   "cell_type": "markdown",
   "source": [
    "## Oppgave 10\n",
    "\n",
    "Lag en for-løkke som skriver ut alle tallene mellom `1` og `20` som er delelige med `4` og beregn summen av disse tallene."
   ],
   "id": "14b0fed95f89923d"
  },
  {
   "metadata": {
    "ExecuteTime": {
     "end_time": "2024-10-16T07:34:19.847387Z",
     "start_time": "2024-10-16T07:34:19.836384Z"
    }
   },
   "cell_type": "code",
   "source": [
    "sum_tall = 0\n",
    "for tall in range(1, 21):\n",
    "    if tall % 4 == 0:\n",
    "        print(tall)\n",
    "        sum_tall += tall\n",
    "\n",
    "print(f\"Summen er: {sum_tall}\")\n"
   ],
   "id": "43965c518293bfa5",
   "outputs": [
    {
     "name": "stdout",
     "output_type": "stream",
     "text": [
      "4\n",
      "8\n",
      "12\n",
      "16\n",
      "20\n",
      "Summen er: 60\n"
     ]
    }
   ],
   "execution_count": 86
  },
  {
   "metadata": {},
   "cell_type": "markdown",
   "source": [
    "## Oppgave 11\n",
    "\n",
    "Gitt en liste med tilfeldige tall fra 1 til og med 5, bruk en løkke til å telle hvor mange ganger hvert unike tall forekommer."
   ],
   "id": "e9f0574da2606bd"
  },
  {
   "metadata": {
    "ExecuteTime": {
     "end_time": "2024-10-16T07:37:38.778139Z",
     "start_time": "2024-10-16T07:37:38.757145Z"
    }
   },
   "cell_type": "code",
   "source": [
    "import random\n",
    "\n",
    "# En liste med 100 tilfeldige tall mellom 1 og 5\n",
    "tilfeldige_tall = [random.randint(1, 5) for _ in range(100)]\n",
    "\n",
    "teller = {}\n",
    "\n",
    "for tall in tilfeldige_tall:\n",
    "    if tall in teller:\n",
    "        teller[tall] += 1\n",
    "    else:\n",
    "        teller[tall] = 1\n",
    "\n",
    "print(dict(sorted(teller.items())))\n"
   ],
   "id": "977322e9e210389d",
   "outputs": [
    {
     "name": "stdout",
     "output_type": "stream",
     "text": [
      "{1: 26, 2: 18, 3: 17, 4: 17, 5: 22}\n"
     ]
    }
   ],
   "execution_count": 89
  },
  {
   "metadata": {},
   "cell_type": "markdown",
   "source": [
    "---\n",
    "\n",
    "## Ekstraoppgave\n",
    "\n",
    "### **Problem**\n",
    "\n",
    "Du har en bygning med \\( N \\) etasjer (nummerert fra 1 til \\( N \\)) og en heis som starter i etasje \\( S \\). Det er \\( M \\) personer som ønsker å bruke heisen. Hver person befinner seg i en bestemt etasje og ønsker å reise til en annen etasje.\n",
    "\n",
    "Heisen kan frakte et ubegrenset antall personer samtidig. Den kan bevege seg oppover og nedover, men kan kun **endre retning én gang** underveis. Heisen kan stoppe i hvilken som helst etasje for å plukke opp eller slippe av passasjerer.\n",
    "\n",
    "### **Oppgave**\n",
    "\n",
    "Skriv et program som beregner den **minimale totale distansen** heisen må bevege seg for å frakte alle passasjerene til deres ønskede destinasjoner.\n",
    "\n",
    "### **Input**\n",
    "\n",
    "- Den første linjen inneholder tre heltall adskilt av mellomrom: \\( N \\) (antall etasjer), \\( M \\) (antall passasjerer) og \\( S \\) (startetasjen til heisen).\n",
    "- De neste \\( M \\) linjene inneholder to heltall hver: \\( A_i \\) og \\( B_i \\), hvor:\n",
    "  - \\( A_i \\) er etasjen der passasjer \\( i \\) befinner seg.\n",
    "  - \\( B_i \\) er destinasjonsetasjen til passasjer \\( i \\).\n",
    "\n",
    "### **Output**\n",
    "\n",
    "- Et enkelt heltall som representerer den **minimale totale distansen** heisen må bevege seg.\n",
    "\n",
    "### **Eksempel**\n",
    "\n",
    "**Input:**\n",
    "\n",
    "```python \n",
    "# Eksempelbruk\n",
    "N = 10\n",
    "M = 2\n",
    "S = 5\n",
    "requests = [\n",
    "    (2, 8),\n",
    "    (6, 7)\n",
    "]\n",
    "```\n",
    "\n",
    "**Output:** 9\n",
    "\n",
    "\n"
   ],
   "id": "aaa1c9ec5bb9c2b9"
  },
  {
   "metadata": {
    "ExecuteTime": {
     "end_time": "2024-10-16T07:38:21.599872Z",
     "start_time": "2024-10-16T07:38:21.579875Z"
    }
   },
   "cell_type": "code",
   "source": [
    "N, M, S = 10, 2, 5\n",
    "requests = [(2, 8), (6, 7)]\n",
    "\n",
    "etasjer = [S] + [req[0] for req in requests] + [req[1] for req in requests]\n",
    "etasjer.sort()\n",
    "\n",
    "min_distanse = etasjer[-1] - etasjer[0]\n",
    "print(f\"Minimal distanse: {min_distanse}\")"
   ],
   "id": "10d764379ab988fb",
   "outputs": [
    {
     "name": "stdout",
     "output_type": "stream",
     "text": [
      "Minimal distanse: 6\n"
     ]
    }
   ],
   "execution_count": 90
  },
  {
   "metadata": {},
   "cell_type": "code",
   "outputs": [],
   "execution_count": null,
   "source": "",
   "id": "3fce2009db74f196"
  }
 ],
 "metadata": {
  "kernelspec": {
   "name": "python3",
   "language": "python",
   "display_name": "Python 3 (ipykernel)"
  }
 },
 "nbformat": 5,
 "nbformat_minor": 9
}
