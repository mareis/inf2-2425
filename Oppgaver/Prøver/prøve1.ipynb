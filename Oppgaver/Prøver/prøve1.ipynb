{
 "cells": [
  {
   "metadata": {},
   "cell_type": "markdown",
   "source": [
    "# Grunnlegende programmering\n",
    "\n"
   ],
   "id": "3bb8fbd6b68ce6a9"
  },
  {
   "metadata": {},
   "cell_type": "markdown",
   "source": [
    "## Oppgave 1\n",
    "\n",
    "Tildel tallet `5` til en variabel kalt `a`, og tallet `10` til en variabel kalt `b`. Skriv ut summen, differansen og produktet av `a` og `b`."
   ],
   "id": "aaa2379b2fdf9ea7"
  },
  {
   "metadata": {
    "ExecuteTime": {
     "end_time": "2024-10-16T07:16:36.985227Z",
     "start_time": "2024-10-16T07:16:36.967051Z"
    }
   },
   "cell_type": "code",
   "source": "# Din kode her",
   "id": "75bdc361f3a7f379",
   "outputs": [],
   "execution_count": 64
  },
  {
   "metadata": {},
   "cell_type": "markdown",
   "source": [
    "## Oppgave 2\n",
    "\n",
    "Lag en liste som inneholder tallene `10` til `20`. Skriv ut det første og det siste elementet i listen."
   ],
   "id": "478b31f204306de0"
  },
  {
   "metadata": {
    "ExecuteTime": {
     "end_time": "2024-10-16T07:16:38.453285Z",
     "start_time": "2024-10-16T07:16:38.423041Z"
    }
   },
   "cell_type": "code",
   "source": "# Din kode her\n",
   "id": "e8bfdeaca9275d69",
   "outputs": [],
   "execution_count": 65
  },
  {
   "metadata": {},
   "cell_type": "markdown",
   "source": [
    "## Oppgave 3\n",
    "\n",
    "Skriv en for-løkke som går gjennom listen fra forrige oppgave og skriver ut hvert tall multiplisert med `2`."
   ],
   "id": "2bdf2dfa4d9dc026"
  },
  {
   "metadata": {
    "ExecuteTime": {
     "end_time": "2024-10-16T07:16:41.210728Z",
     "start_time": "2024-10-16T07:16:41.195107Z"
    }
   },
   "cell_type": "code",
   "source": "# Din kode her",
   "id": "a4dc506fbfb81d89",
   "outputs": [],
   "execution_count": 67
  },
  {
   "metadata": {},
   "cell_type": "markdown",
   "source": [
    "## Oppgave 4\n",
    "\n",
    "a) Skriv et program som avgjør om tallet er positivt, negativt eller null, og skriver ut en passende melding.\n"
   ],
   "id": "165c55170631adfe"
  },
  {
   "metadata": {
    "ExecuteTime": {
     "end_time": "2024-10-16T07:16:44.142916Z",
     "start_time": "2024-10-16T07:16:44.130920Z"
    }
   },
   "cell_type": "code",
   "source": "# Din kode her",
   "id": "b1ef00eaead7d97b",
   "outputs": [],
   "execution_count": 68
  },
  {
   "metadata": {},
   "cell_type": "markdown",
   "source": [
    "b)  Skriv et program som genererer et tilfeldig tall mellom `1` og `10`. Be brukeren om å gjette tallet. Programmet skal fortsette å be om et nytt gjett inntil brukeren gjetter riktig tall. For hvert gjett skal programmet gi tilbakemelding om det gjettede tallet er for høyt eller for lavt.\"\n",
    "\n",
    "Denne oppgaven er litt mer tidkrevende enn noen av oppgavene under så hvis du ar dårlig tid så gjør de oppgavene du vet du får til med en gang først\n"
   ],
   "id": "a36f56b29b83e059"
  },
  {
   "metadata": {},
   "cell_type": "code",
   "outputs": [],
   "execution_count": null,
   "source": "# Din kode her",
   "id": "cdb45774098534f7"
  },
  {
   "metadata": {},
   "cell_type": "markdown",
   "source": [
    "## Oppgave 5\n",
    "\n",
    "Lag en while-løkke som teller ned fra `30` til `25`, og skriver ut hvert tall."
   ],
   "id": "ee1fb137eb1beb45"
  },
  {
   "metadata": {},
   "cell_type": "code",
   "outputs": [],
   "execution_count": null,
   "source": "# Din kode her",
   "id": "5d53011813ec7099"
  },
  {
   "metadata": {},
   "cell_type": "markdown",
   "source": [
    "## Oppgave 6\n",
    "\n",
    "Finn gjennomsnittlig **kroppsmasse** (`body_mass_g`) for hver **pingvinart**.\n",
    "\n"
   ],
   "id": "3490067ce5655d2b"
  },
  {
   "metadata": {
    "ExecuteTime": {
     "end_time": "2024-10-15T21:24:54.597432Z",
     "start_time": "2024-10-15T21:24:54.572440Z"
    }
   },
   "cell_type": "code",
   "source": [
    "import pandas as pd\n",
    "import seaborn as sns\n",
    "\n",
    "# Last inn \"penguins\"-datasettet\n",
    "penguins = sns.load_dataset('penguins')\n",
    "# Din kode her"
   ],
   "id": "96987b35f8b34ff3",
   "outputs": [],
   "execution_count": 50
  },
  {
   "metadata": {},
   "cell_type": "markdown",
   "source": [
    "\n",
    "## Oppgave 7\n",
    "\n",
    "Lag et boksplot over vingespennet (flipper_length_mm) til de ulike artene"
   ],
   "id": "c4ad1cc23132d663"
  },
  {
   "metadata": {
    "ExecuteTime": {
     "end_time": "2024-10-15T21:25:48.308242Z",
     "start_time": "2024-10-15T21:25:48.289244Z"
    }
   },
   "cell_type": "code",
   "source": [
    "import pandas as pd\n",
    "import seaborn as sns\n",
    "import matplotlib.pyplot as plt\n",
    "\n",
    "# Last inn \"penguins\"-datasettet\n",
    "penguins = sns.load_dataset('penguins')\n",
    "\n"
   ],
   "id": "96cffa0cf8ba8986",
   "outputs": [],
   "execution_count": 51
  },
  {
   "metadata": {},
   "cell_type": "markdown",
   "source": [
    "## Oppgave 8\n",
    "\n",
    " Beregne antall pingviner av hvert kjønn innenfor hver art."
   ],
   "id": "76cdbb1beedd9547"
  },
  {
   "metadata": {},
   "cell_type": "code",
   "outputs": [],
   "execution_count": null,
   "source": [
    "import pandas as pd\n",
    "import seaborn as sns\n",
    "\n",
    "# Last inn \"penguins\"-datasettet\n",
    "penguins = sns.load_dataset('penguins')\n",
    "# Din kode her"
   ],
   "id": "fa858be64d5025fa"
  },
  {
   "metadata": {},
   "cell_type": "markdown",
   "source": [
    "## Oppgave 9\n",
    "\n",
    "Bruk en løkke for å telle antall e-er i ordet \"Etterretningstjeneste\""
   ],
   "id": "1ec38b6049135167"
  },
  {
   "metadata": {},
   "cell_type": "code",
   "outputs": [],
   "execution_count": null,
   "source": "# Din kode her",
   "id": "7bac991a0d37eefa"
  },
  {
   "metadata": {},
   "cell_type": "markdown",
   "source": [
    "## Oppgave 10\n",
    "\n",
    "Lag en for-løkke som skriver ut alle tallene mellom `1` og `20` som er delelige med `4` og beregn summen av disse tallene."
   ],
   "id": "14b0fed95f89923d"
  },
  {
   "metadata": {
    "ExecuteTime": {
     "end_time": "2024-10-15T21:29:13.375605Z",
     "start_time": "2024-10-15T21:29:13.359940Z"
    }
   },
   "cell_type": "code",
   "source": "# Din kode her",
   "id": "43965c518293bfa5",
   "outputs": [],
   "execution_count": 53
  },
  {
   "metadata": {},
   "cell_type": "markdown",
   "source": [
    "## Oppgave 11\n",
    "\n",
    "Gitt en liste med tilfeldige tall fra 1 til og med 5, bruk en løkke til å telle hvor mange ganger hvert unike tall forekommer."
   ],
   "id": "e9f0574da2606bd"
  },
  {
   "metadata": {
    "ExecuteTime": {
     "end_time": "2024-10-15T20:08:05.858670Z",
     "start_time": "2024-10-15T20:08:05.838673Z"
    }
   },
   "cell_type": "code",
   "source": [
    "import random\n",
    "\n",
    "# En liste med 100 tilfeldige tall mellom 1 og 5\n",
    "tilfeldige_tall = [random.randint(1, 5) for _ in range(100)]\n",
    "# Din kode her"
   ],
   "id": "977322e9e210389d",
   "outputs": [],
   "execution_count": 9
  },
  {
   "metadata": {},
   "cell_type": "markdown",
   "source": [
    "---\n",
    "\n",
    "## Ekstraoppgave\n",
    "\n",
    "### **Problem**\n",
    "\n",
    "Du har en bygning med \\( N \\) etasjer (nummerert fra 1 til \\( N \\)) og en heis som starter i etasje \\( S \\). Det er \\( M \\) personer som ønsker å bruke heisen. Hver person befinner seg i en bestemt etasje og ønsker å reise til en annen etasje.\n",
    "\n",
    "Heisen kan frakte et ubegrenset antall personer samtidig. Den kan bevege seg oppover og nedover, men kan kun **endre retning én gang** underveis. Heisen kan stoppe i hvilken som helst etasje for å plukke opp eller slippe av passasjerer.\n",
    "\n",
    "### **Oppgave**\n",
    "\n",
    "Skriv et program som beregner den **minimale totale distansen** heisen må bevege seg for å frakte alle passasjerene til deres ønskede destinasjoner.\n",
    "\n",
    "### **Input**\n",
    "\n",
    "- Den første linjen inneholder tre heltall adskilt av mellomrom: \\( N \\) (antall etasjer), \\( M \\) (antall passasjerer) og \\( S \\) (startetasjen til heisen).\n",
    "- De neste \\( M \\) linjene inneholder to heltall hver: \\( A_i \\) og \\( B_i \\), hvor:\n",
    "  - \\( A_i \\) er etasjen der passasjer \\( i \\) befinner seg.\n",
    "  - \\( B_i \\) er destinasjonsetasjen til passasjer \\( i \\).\n",
    "\n",
    "### **Output**\n",
    "\n",
    "- Et enkelt heltall som representerer den **minimale totale distansen** heisen må bevege seg.\n",
    "\n",
    "### **Eksempel**\n",
    "\n",
    "**Input:**\n",
    "\n",
    "```python \n",
    "# Eksempelbruk\n",
    "N = 10\n",
    "M = 2\n",
    "S = 5\n",
    "requests = [\n",
    "    (2, 8),\n",
    "    (6, 7)\n",
    "]\n",
    "```\n",
    "\n",
    "**Output:** 9\n",
    "\n",
    "\n"
   ],
   "id": "aaa1c9ec5bb9c2b9"
  },
  {
   "metadata": {
    "ExecuteTime": {
     "end_time": "2024-10-15T21:29:03.271379Z",
     "start_time": "2024-10-15T21:29:03.255375Z"
    }
   },
   "cell_type": "code",
   "source": "# Din kode her",
   "id": "10d764379ab988fb",
   "outputs": [],
   "execution_count": 52
  },
  {
   "metadata": {},
   "cell_type": "code",
   "outputs": [],
   "execution_count": null,
   "source": "",
   "id": "3fce2009db74f196"
  }
 ],
 "metadata": {
  "kernelspec": {
   "name": "python3",
   "language": "python",
   "display_name": "Python 3 (ipykernel)"
  }
 },
 "nbformat": 5,
 "nbformat_minor": 9
}
