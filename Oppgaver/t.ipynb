{
 "cells": [
  {
   "cell_type": "markdown",
   "id": "introduction-solutions",
   "metadata": {},
   "source": [
    "# Python Programming Exercises - Solutions\n",
    "\n",
    "Here are the solutions to the Python programming exercises."
   ]
  },
  {
   "cell_type": "markdown",
   "id": "solution-1",
   "metadata": {},
   "source": [
    "## Exercise 1 Solution\n",
    "\n",
    "Assign the number `5` to a variable named `x`."
   ]
  },
  {
   "cell_type": "code",
   "execution_count": 1,
   "id": "solution-code-1",
   "metadata": {},
   "outputs": [],
   "source": [
    "x = 5"
   ]
  },
  {
   "cell_type": "markdown",
   "id": "solution-2",
   "metadata": {},
   "source": [
    "## Exercise 2 Solution\n",
    "\n",
    "Create a variable `y` that is the sum of `x` and `10`."
   ]
  },
  {
   "cell_type": "code",
   "execution_count": 2,
   "id": "solution-code-2",
   "metadata": {},
   "outputs": [],
   "source": [
    "y = x + 10"
   ]
  },
  {
   "cell_type": "markdown",
   "id": "solution-3",
   "metadata": {},
   "source": [
    "## Exercise 3 Solution\n",
    "\n",
    "Check if `y` is greater than `10`. If it is, print \"Yay!\""
   ]
  },
  {
   "cell_type": "code",
   "execution_count": 3,
   "id": "solution-code-3",
   "metadata": {},
   "outputs": [],
   "source": [
    "if y > 10:\n",
    "    print(\"Yay!\")"
   ]
  },
  // ... Continue adding solutions up to 100 ...
  {
   "cell_type": "markdown",
   "id": "solution-100",
   "metadata": {},
   "source": [
    "## Exercise 100 Solution\n",
    "\n",
    "Using the `seaborn` `penguins` dataset, create a scatter plot that shows the relationship between flipper length and body mass for each species. Use different colors for each species."
   ]
  },
  {
   "cell_type": "code",
   "execution_count": 100,
   "id": "solution-code-100",
   "metadata": {},
   "outputs": [],
   "source": [
    "import seaborn as sns\n",
    "import matplotlib.pyplot as plt\n",
    "\n",
    "penguins = sns.load_dataset('penguins')\n",
    "sns.scatterplot(data=penguins, x='flipper_length_mm', y='body_mass_g', hue='species')\n",
    "plt.title('Flipper Length vs Body Mass by Species')\n",
    "plt.show()"
   ]
  },
  {
   "cell_type": "markdown",
   "id": "conclusion-solutions",
   "metadata": {},
   "source": [
    "## Congratulations!\n",
    "\n",
    "You've reviewed all the solutions."
   ]
  }
 ],
 "metadata": {
  "kernelspec": {
   "display_name": "Python 3",
   "language": "python",
   "name": "python3"
  },
  "language_info": {
   "name": "python"
  }
 },
 "nbformat": 4,
 "nbformat_minor": 5
}