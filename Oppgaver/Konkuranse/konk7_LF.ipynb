{
 "cells": [
  {
   "cell_type": "markdown",
   "metadata": {},
   "source": [
    "# Løsningsforslag - Logiske Utfordringer\n",
    "\n",
    "Her er løsningsforslagene for de logiske utfordringene."
   ]
  },
  {
   "cell_type": "markdown",
   "metadata": {},
   "source": [
    "## Oppgave 1\n",
    "\n",
    "Skriv et program som sjekker om en liste med tall inneholder et partall. Hvis det finnes et partall, skriv ut \"Partall funnet\", ellers skriv ut \"Ingen partall funnet\"."
   ]
  },
  {
   "cell_type": "code",
   "metadata": {
    "ExecuteTime": {
     "end_time": "2024-10-02T07:16:47.301053Z",
     "start_time": "2024-10-02T07:16:47.289033Z"
    }
   },
   "source": [
    "# Løsning:\n",
    "tall = [1, 3, 5, 7, 9]\n",
    "partall_funnet = False\n",
    "for t in tall:\n",
    "    if t % 2 == 0:\n",
    "        partall_funnet = True\n",
    "        break\n",
    "\n",
    "if partall_funnet:\n",
    "    print(\"Partall funnet\")\n",
    "else:\n",
    "    print(\"Ingen partall funnet\")"
   ],
   "outputs": [
    {
     "name": "stdout",
     "output_type": "stream",
     "text": [
      "Ingen partall funnet\n"
     ]
    }
   ],
   "execution_count": 1
  },
  {
   "cell_type": "markdown",
   "metadata": {},
   "source": [
    "## Oppgave 2\n",
    "\n",
    "Skriv et program som sjekker om en liste er sortert i stigende rekkefølge. Hvis den er det, skriv ut \"Listen er sortert\", ellers skriv ut \"Listen er ikke sortert\"."
   ]
  },
  {
   "cell_type": "code",
   "metadata": {
    "ExecuteTime": {
     "end_time": "2024-10-02T07:16:47.411604Z",
     "start_time": "2024-10-02T07:16:47.390603Z"
    }
   },
   "source": [
    "# Løsning:\n",
    "liste = [1, 2, 3, 4, 5]\n",
    "sortert = True\n",
    "for i in range(1, len(liste)):\n",
    "    if liste[i] < liste[i-1]:\n",
    "        sortert = False\n",
    "        break\n",
    "\n",
    "if sortert:\n",
    "    print(\"Listen er sortert\")\n",
    "else:\n",
    "    print(\"Listen er ikke sortert\")"
   ],
   "outputs": [
    {
     "name": "stdout",
     "output_type": "stream",
     "text": [
      "Listen er sortert\n"
     ]
    }
   ],
   "execution_count": 2
  },
  {
   "cell_type": "markdown",
   "metadata": {},
   "source": [
    "## Oppgave 3\n",
    "\n",
    "Skriv et program som reverserer rekkefølgen på en liste uten å bruke innebygde funksjoner som `reverse()`."
   ]
  },
  {
   "cell_type": "code",
   "metadata": {
    "ExecuteTime": {
     "end_time": "2024-10-02T07:16:47.759644Z",
     "start_time": "2024-10-02T07:16:47.746641Z"
    }
   },
   "source": [
    "# Løsning:\n",
    "liste = [10, 20, 30, 40, 50]\n",
    "reversert_liste = []\n",
    "for i in range(len(liste)-1, -1, -1):\n",
    "    reversert_liste.append(liste[i])\n",
    "print(reversert_liste)"
   ],
   "outputs": [
    {
     "name": "stdout",
     "output_type": "stream",
     "text": [
      "[50, 40, 30, 20, 10]\n"
     ]
    }
   ],
   "execution_count": 3
  },
  {
   "cell_type": "markdown",
   "metadata": {},
   "source": [
    "## Oppgave 4\n",
    "\n",
    "Skriv et program som teller hvor mange ganger et tall dukker opp i en liste. Lag en variabel `target` som inneholder tallet du vil telle."
   ]
  },
  {
   "cell_type": "code",
   "metadata": {
    "ExecuteTime": {
     "end_time": "2024-10-02T07:16:47.806637Z",
     "start_time": "2024-10-02T07:16:47.787644Z"
    }
   },
   "source": [
    "# Løsning:\n",
    "liste = [1, 2, 3, 2, 2, 4, 2, 5]\n",
    "target = 2\n",
    "antall = 0\n",
    "for t in liste:\n",
    "    if t == target:\n",
    "        antall += 1\n",
    "print(f\"{target} dukker opp {antall} ganger.\")"
   ],
   "outputs": [
    {
     "name": "stdout",
     "output_type": "stream",
     "text": [
      "2 dukker opp 4 ganger.\n"
     ]
    }
   ],
   "execution_count": 4
  },
  {
   "cell_type": "markdown",
   "metadata": {},
   "source": [
    "## Oppgave 5\n",
    "\n",
    "Skriv et program som fjerner alle forekomster av et gitt tall fra en liste uten å bruke innebygde funksjoner som `remove()`."
   ]
  },
  {
   "cell_type": "code",
   "metadata": {
    "ExecuteTime": {
     "end_time": "2024-10-02T07:16:47.838649Z",
     "start_time": "2024-10-02T07:16:47.825641Z"
    }
   },
   "source": [
    "# Løsning:\n",
    "liste = [3, 5, 3, 7, 3, 9]\n",
    "tall = 3\n",
    "ny_liste = []\n",
    "for t in liste:\n",
    "    if t != tall:\n",
    "        ny_liste.append(t)\n",
    "print(ny_liste)"
   ],
   "outputs": [
    {
     "name": "stdout",
     "output_type": "stream",
     "text": [
      "[5, 7, 9]\n"
     ]
    }
   ],
   "execution_count": 5
  },
  {
   "cell_type": "markdown",
   "metadata": {},
   "source": [
    "## Oppgave 6\n",
    "\n",
    "Skriv et program som finner alle tallene mellom `1` og `100` som er både partall og delelige med `5`."
   ]
  },
  {
   "cell_type": "code",
   "metadata": {
    "ExecuteTime": {
     "end_time": "2024-10-02T07:16:47.900643Z",
     "start_time": "2024-10-02T07:16:47.880646Z"
    }
   },
   "source": [
    "# Løsning:\n",
    "for t in range(1, 101):\n",
    "    if t % 2 == 0 and t % 5 == 0:\n",
    "        print(t)"
   ],
   "outputs": [
    {
     "name": "stdout",
     "output_type": "stream",
     "text": [
      "10\n",
      "20\n",
      "30\n",
      "40\n",
      "50\n",
      "60\n",
      "70\n",
      "80\n",
      "90\n",
      "100\n"
     ]
    }
   ],
   "execution_count": 6
  },
  {
   "cell_type": "markdown",
   "metadata": {},
   "source": [
    "## Oppgave 7\n",
    "\n",
    "Skriv et program som tar en liste med tall og bytter plass på det største og det minste tallet i listen."
   ]
  },
  {
   "cell_type": "code",
   "metadata": {
    "ExecuteTime": {
     "end_time": "2024-10-02T07:16:47.964643Z",
     "start_time": "2024-10-02T07:16:47.952646Z"
    }
   },
   "source": [
    "# Løsning:\n",
    "liste = [7, 3, 9, 1, 5]\n",
    "største = max(liste)\n",
    "minste = min(liste)\n",
    "index_største = liste.index(største)\n",
    "index_minste = liste.index(minste)\n",
    "liste[index_største], liste[index_minste] = liste[index_minste], liste[index_største]\n",
    "print(liste)"
   ],
   "outputs": [
    {
     "name": "stdout",
     "output_type": "stream",
     "text": [
      "[7, 3, 1, 9, 5]\n"
     ]
    }
   ],
   "execution_count": 7
  },
  {
   "cell_type": "markdown",
   "metadata": {},
   "source": [
    "## Oppgave 8\n",
    "\n",
    "Skriv et program som lager en ny liste som inneholder kvadratet av alle partall i en gitt liste."
   ]
  },
  {
   "cell_type": "code",
   "metadata": {
    "ExecuteTime": {
     "end_time": "2024-10-02T07:16:48.010637Z",
     "start_time": "2024-10-02T07:16:47.988641Z"
    }
   },
   "source": [
    "# Løsning:\n",
    "liste = [1, 2, 3, 4, 5, 6]\n",
    "kvadrater = [t**2 for t in liste if t % 2 == 0]\n",
    "print(kvadrater)"
   ],
   "outputs": [
    {
     "name": "stdout",
     "output_type": "stream",
     "text": [
      "[4, 16, 36]\n"
     ]
    }
   ],
   "execution_count": 8
  },
  {
   "cell_type": "markdown",
   "metadata": {},
   "source": [
    "## Oppgave 9\n",
    "\n",
    "Skriv et program som sjekker om en liste inneholder duplikater (dvs. om noen tall dukker opp mer enn én gang)."
   ]
  },
  {
   "cell_type": "code",
   "metadata": {
    "ExecuteTime": {
     "end_time": "2024-10-02T07:16:48.055864Z",
     "start_time": "2024-10-02T07:16:48.044643Z"
    }
   },
   "source": [
    "# Løsning:\n",
    "liste = [1, 2, 3, 4, 5, 3]\n",
    "har_duplikater = False\n",
    "for t in liste:\n",
    "    if liste.count(t) > 1:\n",
    "        har_duplikater = True\n",
    "        break\n",
    "\n",
    "if har_duplikater:\n",
    "    print(\"Listen inneholder duplikater\")\n",
    "else:\n",
    "    print(\"Listen inneholder ikke duplikater\")"
   ],
   "outputs": [
    {
     "name": "stdout",
     "output_type": "stream",
     "text": [
      "Listen inneholder duplikater\n"
     ]
    }
   ],
   "execution_count": 9
  },
  {
   "cell_type": "markdown",
   "metadata": {},
   "source": [
    "## Oppgave 10\n",
    "\n",
    "Skriv et program som tar en liste med tall og sorterer den uten å bruke innebygde sorteringsfunksjoner."
   ]
  },
  {
   "cell_type": "code",
   "metadata": {
    "ExecuteTime": {
     "end_time": "2024-10-02T07:16:48.102863Z",
     "start_time": "2024-10-02T07:16:48.082866Z"
    }
   },
   "source": [
    "# Løsning (Boble-sortering):\n",
    "liste = [4, 1, 7, 3, 9, 2]\n",
    "for i in range(len(liste)):\n",
    "    for j in range(0, len(liste)-i-1):\n",
    "        if liste[j] > liste[j+1]:\n",
    "            liste[j], liste[j+1] = liste[j+1], liste[j]\n",
    "print(liste)"
   ],
   "outputs": [
    {
     "name": "stdout",
     "output_type": "stream",
     "text": [
      "[1, 2, 3, 4, 7, 9]\n"
     ]
    }
   ],
   "execution_count": 10
  }
 ],
 "metadata": {
  "kernelspec": {
   "display_name": "Python 3",
   "language": "python",
   "name": "python3"
  },
  "language_info": {
   "name": "python"
  }
 },
 "nbformat": 4,
 "nbformat_minor": 4
}
