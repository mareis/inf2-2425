{
 "cells": [
  {
   "cell_type": "markdown",
   "metadata": {},
   "source": [
    "# Løsningsforslag - Notebook 3 (Oppgaver 21-30)\n",
    "\n",
    "Her er løsningsforslagene for de neste 10 oppgavene."
   ]
  },
  {
   "cell_type": "markdown",
   "metadata": {},
   "source": [
    "## Oppgave 21\n",
    "\n",
    "Lag en variabel `tekst` som inneholder setningen \"Python er gøy!\". Skriv ut lengden på setningen."
   ]
  },
  {
   "cell_type": "code",
   "metadata": {
    "ExecuteTime": {
     "end_time": "2024-10-02T07:08:58.895073Z",
     "start_time": "2024-10-02T07:08:58.872076Z"
    }
   },
   "source": [
    "# Løsning:\n",
    "tekst = \"Python er gøy!\"\n",
    "print(len(tekst))"
   ],
   "outputs": [
    {
     "name": "stdout",
     "output_type": "stream",
     "text": [
      "14\n"
     ]
    }
   ],
   "execution_count": 11
  },
  {
   "cell_type": "markdown",
   "metadata": {},
   "source": [
    "## Oppgave 22\n",
    "\n",
    "Lag en for-løkke som skriver ut tallene fra `1` til `10`, men hopp over tallet `5`."
   ]
  },
  {
   "cell_type": "code",
   "metadata": {
    "ExecuteTime": {
     "end_time": "2024-10-02T07:08:59.021134Z",
     "start_time": "2024-10-02T07:08:59.007139Z"
    }
   },
   "source": [
    "# Løsning:\n",
    "for t in range(1, 11):\n",
    "    if t == 5:\n",
    "        continue\n",
    "    print(t)"
   ],
   "outputs": [
    {
     "name": "stdout",
     "output_type": "stream",
     "text": [
      "1\n",
      "2\n",
      "3\n",
      "4\n",
      "6\n",
      "7\n",
      "8\n",
      "9\n",
      "10\n"
     ]
    }
   ],
   "execution_count": 12
  },
  {
   "cell_type": "markdown",
   "metadata": {},
   "source": [
    "## Oppgave 23\n",
    "\n",
    "Skriv ut tallet `10`, men bryt ut av løkken dersom tallet når `5`."
   ]
  },
  {
   "cell_type": "code",
   "metadata": {
    "ExecuteTime": {
     "end_time": "2024-10-02T07:08:59.179633Z",
     "start_time": "2024-10-02T07:08:59.160114Z"
    }
   },
   "source": [
    "# Løsning:\n",
    "for t in range(1, 11):\n",
    "    if t == 5:\n",
    "        break\n",
    "    print(t)"
   ],
   "outputs": [
    {
     "name": "stdout",
     "output_type": "stream",
     "text": [
      "1\n",
      "2\n",
      "3\n",
      "4\n"
     ]
    }
   ],
   "execution_count": 13
  },
  {
   "cell_type": "markdown",
   "metadata": {},
   "source": [
    "## Oppgave 24\n",
    "\n",
    "Lag en liste `karakterer` med tall fra `1` til `6`. Bruk en for-løkke for å beregne gjennomsnittskarakteren."
   ]
  },
  {
   "cell_type": "code",
   "metadata": {
    "ExecuteTime": {
     "end_time": "2024-10-02T07:08:59.365595Z",
     "start_time": "2024-10-02T07:08:59.353599Z"
    }
   },
   "source": [
    "# Løsning:\n",
    "karakterer = [1, 2, 3, 4, 5, 6]\n",
    "sum_karakterer = 0\n",
    "for karakter in karakterer:\n",
    "    sum_karakterer += karakter\n",
    "gjennomsnitt = sum_karakterer / len(karakterer)\n",
    "print(gjennomsnitt)"
   ],
   "outputs": [
    {
     "name": "stdout",
     "output_type": "stream",
     "text": [
      "3.5\n"
     ]
    }
   ],
   "execution_count": 14
  },
  {
   "cell_type": "markdown",
   "metadata": {},
   "source": [
    "## Oppgave 25\n",
    "\n",
    "Lag en variabel `navn` som inneholder navnet ditt. Skriv ut navnet i store bokstaver."
   ]
  },
  {
   "cell_type": "code",
   "metadata": {
    "ExecuteTime": {
     "end_time": "2024-10-02T07:08:59.492114Z",
     "start_time": "2024-10-02T07:08:59.483112Z"
    }
   },
   "source": [
    "# Løsning:\n",
    "navn = \"Ola Nordmann\"\n",
    "print(navn.upper())"
   ],
   "outputs": [
    {
     "name": "stdout",
     "output_type": "stream",
     "text": [
      "OLA NORDMANN\n"
     ]
    }
   ],
   "execution_count": 15
  },
  {
   "cell_type": "markdown",
   "metadata": {},
   "source": [
    "## Oppgave 26\n",
    "\n",
    "Lag en ny liste `hobbyer` som inneholder tre hobbyer. Skriv ut hver hobby ved bruk av en for-løkke."
   ]
  },
  {
   "cell_type": "code",
   "metadata": {
    "ExecuteTime": {
     "end_time": "2024-10-02T07:08:59.587094Z",
     "start_time": "2024-10-02T07:08:59.565100Z"
    }
   },
   "source": [
    "# Løsning:\n",
    "hobbyer = ['fotball', 'sjakk', 'lesing']\n",
    "for hobby in hobbyer:\n",
    "    print(hobby)"
   ],
   "outputs": [
    {
     "name": "stdout",
     "output_type": "stream",
     "text": [
      "fotball\n",
      "sjakk\n",
      "lesing\n"
     ]
    }
   ],
   "execution_count": 16
  },
  {
   "cell_type": "markdown",
   "metadata": {},
   "source": [
    "## Oppgave 27\n",
    "\n",
    "Lag en tom liste `resultater`. Bruk en for-løkke for å legge til resultatet av multiplikasjonstabellen for `2` i listen."
   ]
  },
  {
   "cell_type": "code",
   "metadata": {
    "ExecuteTime": {
     "end_time": "2024-10-02T07:08:59.697160Z",
     "start_time": "2024-10-02T07:08:59.673075Z"
    }
   },
   "source": [
    "# Løsning:\n",
    "resultater = []\n",
    "for t in range(1, 11):\n",
    "    resultater.append(t * 2)\n",
    "print(resultater)"
   ],
   "outputs": [
    {
     "name": "stdout",
     "output_type": "stream",
     "text": [
      "[2, 4, 6, 8, 10, 12, 14, 16, 18, 20]\n"
     ]
    }
   ],
   "execution_count": 17
  },
  {
   "cell_type": "markdown",
   "metadata": {},
   "source": [
    "## Oppgave 28\n",
    "\n",
    "Lag en liste `farger` som inneholder tre forskjellige farger. Skriv ut hver farge."
   ]
  },
  {
   "cell_type": "code",
   "metadata": {
    "ExecuteTime": {
     "end_time": "2024-10-02T07:08:59.777145Z",
     "start_time": "2024-10-02T07:08:59.767149Z"
    }
   },
   "source": [
    "# Løsning:\n",
    "farger = ['rød', 'blå', 'grønn']\n",
    "for farge in farger:\n",
    "    print(farge)"
   ],
   "outputs": [
    {
     "name": "stdout",
     "output_type": "stream",
     "text": [
      "rød\n",
      "blå\n",
      "grønn\n"
     ]
    }
   ],
   "execution_count": 18
  },
  {
   "cell_type": "markdown",
   "metadata": {},
   "source": [
    "## Oppgave 29\n",
    "\n",
    "Lag en tom liste `mynter`. Bruk en for-løkke for å legge til verdiene av mynter (1, 5, 10, 20) i listen."
   ]
  },
  {
   "cell_type": "code",
   "metadata": {
    "ExecuteTime": {
     "end_time": "2024-10-02T07:08:59.873125Z",
     "start_time": "2024-10-02T07:08:59.858135Z"
    }
   },
   "source": [
    "# Løsning:\n",
    "mynter = []\n",
    "verdier = [1, 5, 10, 20]\n",
    "for verdi in verdier:\n",
    "    mynter.append(verdi)\n",
    "print(mynter)"
   ],
   "outputs": [
    {
     "name": "stdout",
     "output_type": "stream",
     "text": [
      "[1, 5, 10, 20]\n"
     ]
    }
   ],
   "execution_count": 19
  },
  {
   "cell_type": "markdown",
   "metadata": {},
   "source": [
    "## Oppgave 30\n",
    "\n",
    "Lag en variabel `pris` med en verdi på 100. Skriv ut \"Kjøp\" dersom prisen er mindre enn 150."
   ]
  },
  {
   "cell_type": "code",
   "metadata": {
    "ExecuteTime": {
     "end_time": "2024-10-02T07:08:59.951107Z",
     "start_time": "2024-10-02T07:08:59.929117Z"
    }
   },
   "source": [
    "# Løsning:\n",
    "pris = 100\n",
    "if pris < 150:\n",
    "    print(\"Kjøp\")"
   ],
   "outputs": [
    {
     "name": "stdout",
     "output_type": "stream",
     "text": [
      "Kjøp\n"
     ]
    }
   ],
   "execution_count": 20
  }
 ],
 "metadata": {
  "kernelspec": {
   "display_name": "Python 3",
   "language": "python",
   "name": "python3"
  },
  "language_info": {
   "name": "python"
  }
 },
 "nbformat": 4,
 "nbformat_minor": 4
}
