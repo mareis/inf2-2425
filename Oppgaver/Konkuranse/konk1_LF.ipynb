{
 "cells": [
  {
   "cell_type": "markdown",
   "metadata": {},
   "source": [
    "# Løsningsforslag - Notebook 1 (Oppgaver 1-10)\n",
    "\n",
    "Her er løsningsforslagene for de første 10 oppgavene. Følg med på hvert eksempel for å forstå hvordan oppgavene kan løses."
   ]
  },
  {
   "cell_type": "markdown",
   "metadata": {},
   "source": [
    "## Oppgave 1\n",
    "\n",
    "Tildel tallet `5` til en variabel som heter `x`."
   ]
  },
  {
   "cell_type": "code",
   "metadata": {
    "ExecuteTime": {
     "end_time": "2024-10-02T06:34:55.235942Z",
     "start_time": "2024-10-02T06:34:55.222946Z"
    }
   },
   "source": [
    "# Løsning:\n",
    "x = 5\n",
    "print(x)"
   ],
   "outputs": [
    {
     "name": "stdout",
     "output_type": "stream",
     "text": [
      "5\n"
     ]
    }
   ],
   "execution_count": 1
  },
  {
   "cell_type": "markdown",
   "metadata": {},
   "source": [
    "## Oppgave 2\n",
    "\n",
    "Lag en variabel `y` som er summen av `x` og `10`."
   ]
  },
  {
   "cell_type": "code",
   "metadata": {
    "ExecuteTime": {
     "end_time": "2024-10-02T06:34:55.344933Z",
     "start_time": "2024-10-02T06:34:55.334937Z"
    }
   },
   "source": [
    "# Løsning:\n",
    "y = x + 10\n",
    "print(y)"
   ],
   "outputs": [
    {
     "name": "stdout",
     "output_type": "stream",
     "text": [
      "15\n"
     ]
    }
   ],
   "execution_count": 2
  },
  {
   "cell_type": "markdown",
   "metadata": {},
   "source": [
    "## Oppgave 3\n",
    "\n",
    "Sjekk om `y` er større enn `10`. Hvis den er det, skriv ut \"Hurra!\""
   ]
  },
  {
   "cell_type": "code",
   "metadata": {
    "ExecuteTime": {
     "end_time": "2024-10-02T06:34:55.658429Z",
     "start_time": "2024-10-02T06:34:55.645892Z"
    }
   },
   "source": [
    "# Løsning:\n",
    "if y > 10:\n",
    "    print(\"Hurra!\")"
   ],
   "outputs": [
    {
     "name": "stdout",
     "output_type": "stream",
     "text": [
      "Hurra!\n"
     ]
    }
   ],
   "execution_count": 3
  },
  {
   "cell_type": "markdown",
   "metadata": {},
   "source": [
    "## Oppgave 4\n",
    "\n",
    "Lag en liste `frukter` som inneholder `['eple', 'banan', 'kirsebær']`."
   ]
  },
  {
   "cell_type": "code",
   "metadata": {
    "ExecuteTime": {
     "end_time": "2024-10-02T06:34:55.706413Z",
     "start_time": "2024-10-02T06:34:55.686423Z"
    }
   },
   "source": [
    "# Løsning:\n",
    "frukter = ['eple', 'banan', 'kirsebær']\n",
    "print(frukter)"
   ],
   "outputs": [
    {
     "name": "stdout",
     "output_type": "stream",
     "text": [
      "['eple', 'banan', 'kirsebær']\n"
     ]
    }
   ],
   "execution_count": 4
  },
  {
   "cell_type": "markdown",
   "metadata": {},
   "source": [
    "## Oppgave 5\n",
    "\n",
    "Legg til frukten `appelsin` til listen `frukter`."
   ]
  },
  {
   "cell_type": "code",
   "metadata": {
    "ExecuteTime": {
     "end_time": "2024-10-02T06:34:55.738416Z",
     "start_time": "2024-10-02T06:34:55.728419Z"
    }
   },
   "source": [
    "# Løsning:\n",
    "frukter.append('appelsin')\n",
    "print(frukter)"
   ],
   "outputs": [
    {
     "name": "stdout",
     "output_type": "stream",
     "text": [
      "['eple', 'banan', 'kirsebær', 'appelsin']\n"
     ]
    }
   ],
   "execution_count": 5
  },
  {
   "cell_type": "markdown",
   "metadata": {},
   "source": [
    "## Oppgave 6\n",
    "\n",
    "Skriv ut antall frukter i listen `frukter`."
   ]
  },
  {
   "cell_type": "code",
   "metadata": {
    "ExecuteTime": {
     "end_time": "2024-10-02T06:34:55.833404Z",
     "start_time": "2024-10-02T06:34:55.821406Z"
    }
   },
   "source": [
    "# Løsning:\n",
    "print(len(frukter))"
   ],
   "outputs": [
    {
     "name": "stdout",
     "output_type": "stream",
     "text": [
      "4\n"
     ]
    }
   ],
   "execution_count": 6
  },
  {
   "cell_type": "markdown",
   "metadata": {},
   "source": [
    "## Oppgave 7\n",
    "\n",
    "Bruk en for-løkke for å skrive ut hver frukt i listen `frukter`."
   ]
  },
  {
   "cell_type": "code",
   "metadata": {
    "ExecuteTime": {
     "end_time": "2024-10-02T06:34:55.897389Z",
     "start_time": "2024-10-02T06:34:55.890394Z"
    }
   },
   "source": [
    "# Løsning:\n",
    "for frukt in frukter:\n",
    "    print(frukt)"
   ],
   "outputs": [
    {
     "name": "stdout",
     "output_type": "stream",
     "text": [
      "eple\n",
      "banan\n",
      "kirsebær\n",
      "appelsin\n"
     ]
    }
   ],
   "execution_count": 7
  },
  {
   "cell_type": "markdown",
   "metadata": {},
   "source": [
    "## Oppgave 8\n",
    "\n",
    "Lag en variabel `teller` som starter på `0`. Bruk en while-løkke for å øke `teller` med `1` til den når `5`."
   ]
  },
  {
   "cell_type": "code",
   "metadata": {
    "ExecuteTime": {
     "end_time": "2024-10-02T06:34:55.960378Z",
     "start_time": "2024-10-02T06:34:55.948381Z"
    }
   },
   "source": [
    "# Løsning:\n",
    "teller = 0\n",
    "while teller < 5:\n",
    "    teller += 1\n",
    "    print(teller)"
   ],
   "outputs": [
    {
     "name": "stdout",
     "output_type": "stream",
     "text": [
      "1\n",
      "2\n",
      "3\n",
      "4\n",
      "5\n"
     ]
    }
   ],
   "execution_count": 8
  },
  {
   "cell_type": "markdown",
   "metadata": {},
   "source": [
    "## Oppgave 9\n",
    "\n",
    "Sjekk om `'banan'` er i listen `frukter`. Hvis det er, skriv ut \"Jeg elsker bananer!\""
   ]
  },
  {
   "cell_type": "code",
   "metadata": {
    "ExecuteTime": {
     "end_time": "2024-10-02T06:34:56.024371Z",
     "start_time": "2024-10-02T06:34:56.009376Z"
    }
   },
   "source": [
    "# Løsning:\n",
    "if 'banan' in frukter:\n",
    "    print(\"Jeg elsker bananer!\")"
   ],
   "outputs": [
    {
     "name": "stdout",
     "output_type": "stream",
     "text": [
      "Jeg elsker bananer!\n"
     ]
    }
   ],
   "execution_count": 9
  },
  {
   "cell_type": "markdown",
   "metadata": {},
   "source": [
    "## Oppgave 10\n",
    "\n",
    "Lag en liste `tall` som inneholder tallene fra `1` til `10` ved hjelp av `range`-funksjonen."
   ]
  },
  {
   "cell_type": "code",
   "metadata": {
    "ExecuteTime": {
     "end_time": "2024-10-02T06:34:56.118357Z",
     "start_time": "2024-10-02T06:34:56.103361Z"
    }
   },
   "source": [
    "# Løsning:\n",
    "tall = list(range(1, 11))\n",
    "print(tall)"
   ],
   "outputs": [
    {
     "name": "stdout",
     "output_type": "stream",
     "text": [
      "[1, 2, 3, 4, 5, 6, 7, 8, 9, 10]\n"
     ]
    }
   ],
   "execution_count": 10
  }
 ],
 "metadata": {
  "kernelspec": {
   "display_name": "Python 3",
   "language": "python",
   "name": "python3"
  },
  "language_info": {
   "name": "python"
  }
 },
 "nbformat": 4,
 "nbformat_minor": 4
}
