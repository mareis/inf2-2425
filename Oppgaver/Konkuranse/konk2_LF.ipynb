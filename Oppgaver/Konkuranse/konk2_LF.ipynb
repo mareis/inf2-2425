{
 "cells": [
  {
   "cell_type": "markdown",
   "metadata": {},
   "source": [
    "# Løsningsforslag - Notebook 2 (Oppgaver 11-20)\n",
    "\n",
    "Her er løsningsforslagene for de neste 10 oppgavene."
   ]
  },
  {
   "cell_type": "markdown",
   "metadata": {},
   "source": [
    "## Oppgave 11\n",
    "\n",
    "Skriv ut alle tallene fra listen `tall` ved bruk av en for-løkke."
   ]
  },
  {
   "cell_type": "code",
   "metadata": {
    "ExecuteTime": {
     "end_time": "2024-10-02T06:33:21.042008Z",
     "start_time": "2024-10-02T06:33:21.029012Z"
    }
   },
   "source": [
    "# Løsning:\n",
    "tall = list(range(1, 11))\n",
    "for t in tall:\n",
    "    print(t)"
   ],
   "outputs": [
    {
     "name": "stdout",
     "output_type": "stream",
     "text": [
      "1\n",
      "2\n",
      "3\n",
      "4\n",
      "5\n",
      "6\n",
      "7\n",
      "8\n",
      "9\n",
      "10\n"
     ]
    }
   ],
   "execution_count": 11
  },
  {
   "cell_type": "markdown",
   "metadata": {},
   "source": [
    "## Oppgave 12\n",
    "\n",
    "Finn summen av tallene i listen `tall` ved bruk av en for-løkke."
   ]
  },
  {
   "cell_type": "code",
   "metadata": {
    "ExecuteTime": {
     "end_time": "2024-10-02T06:33:21.281498Z",
     "start_time": "2024-10-02T06:33:21.267502Z"
    }
   },
   "source": [
    "# Løsning:\n",
    "sum_tall = 0\n",
    "for t in tall:\n",
    "    sum_tall += t\n",
    "print(sum_tall)"
   ],
   "outputs": [
    {
     "name": "stdout",
     "output_type": "stream",
     "text": [
      "55\n"
     ]
    }
   ],
   "execution_count": 12
  },
  {
   "cell_type": "markdown",
   "metadata": {},
   "source": [
    "## Oppgave 13\n",
    "\n",
    "Lag en ny liste som inneholder kvadratet av tallene fra `1` til `10`."
   ]
  },
  {
   "cell_type": "code",
   "metadata": {
    "ExecuteTime": {
     "end_time": "2024-10-02T06:33:21.452564Z",
     "start_time": "2024-10-02T06:33:21.431567Z"
    }
   },
   "source": [
    "# Løsning:\n",
    "kvadrater = [t**2 for t in tall]\n",
    "print(kvadrater)"
   ],
   "outputs": [
    {
     "name": "stdout",
     "output_type": "stream",
     "text": [
      "[1, 4, 9, 16, 25, 36, 49, 64, 81, 100]\n"
     ]
    }
   ],
   "execution_count": 13
  },
  {
   "cell_type": "markdown",
   "metadata": {},
   "source": [
    "## Oppgave 14\n",
    "\n",
    "Skriv ut summen av tallene i listen `tall` kun dersom de er partall."
   ]
  },
  {
   "cell_type": "code",
   "metadata": {
    "ExecuteTime": {
     "end_time": "2024-10-02T06:33:21.610546Z",
     "start_time": "2024-10-02T06:33:21.599543Z"
    }
   },
   "source": [
    "# Løsning:\n",
    "sum_partall = 0\n",
    "for t in tall:\n",
    "    if t % 2 == 0:\n",
    "        sum_partall += t\n",
    "print(sum_partall)"
   ],
   "outputs": [
    {
     "name": "stdout",
     "output_type": "stream",
     "text": [
      "30\n"
     ]
    }
   ],
   "execution_count": 14
  },
  {
   "cell_type": "markdown",
   "metadata": {},
   "source": [
    "## Oppgave 15\n",
    "\n",
    "Bruk en while-løkke for å telle ned fra 10 til 1 og skriv ut \"Ferdig!\" etterpå."
   ]
  },
  {
   "cell_type": "code",
   "metadata": {
    "ExecuteTime": {
     "end_time": "2024-10-02T06:33:21.706533Z",
     "start_time": "2024-10-02T06:33:21.695529Z"
    }
   },
   "source": [
    "# Løsning:\n",
    "teller = 10\n",
    "while teller > 0:\n",
    "    print(teller)\n",
    "    teller -= 1\n",
    "print(\"Ferdig!\")"
   ],
   "outputs": [
    {
     "name": "stdout",
     "output_type": "stream",
     "text": [
      "10\n",
      "9\n",
      "8\n",
      "7\n",
      "6\n",
      "5\n",
      "4\n",
      "3\n",
      "2\n",
      "1\n",
      "Ferdig!\n"
     ]
    }
   ],
   "execution_count": 15
  },
  {
   "cell_type": "markdown",
   "metadata": {},
   "source": [
    "## Oppgave 16\n",
    "\n",
    "Skriv ut de første 10 multiplene av `3` ved hjelp av en for-løkke."
   ]
  },
  {
   "cell_type": "code",
   "metadata": {
    "ExecuteTime": {
     "end_time": "2024-10-02T06:33:21.830505Z",
     "start_time": "2024-10-02T06:33:21.806519Z"
    }
   },
   "source": [
    "# Løsning:\n",
    "for i in range(1, 11):\n",
    "    print(i * 3)"
   ],
   "outputs": [
    {
     "name": "stdout",
     "output_type": "stream",
     "text": [
      "3\n",
      "6\n",
      "9\n",
      "12\n",
      "15\n",
      "18\n",
      "21\n",
      "24\n",
      "27\n",
      "30\n"
     ]
    }
   ],
   "execution_count": 16
  },
  {
   "cell_type": "markdown",
   "metadata": {},
   "source": [
    "## Oppgave 17\n",
    "\n",
    "Lag en liste `dager` som inneholder navnene på ukedagene. Bruk en for-løkke for å skrive ut hver dag i uken."
   ]
  },
  {
   "cell_type": "code",
   "metadata": {
    "ExecuteTime": {
     "end_time": "2024-10-02T06:33:21.971486Z",
     "start_time": "2024-10-02T06:33:21.960488Z"
    }
   },
   "source": [
    "# Løsning:\n",
    "dager = ['Mandag', 'Tirsdag', 'Onsdag', 'Torsdag', 'Fredag', 'Lørdag', 'Søndag']\n",
    "for dag in dager:\n",
    "    print(dag)"
   ],
   "outputs": [
    {
     "name": "stdout",
     "output_type": "stream",
     "text": [
      "Mandag\n",
      "Tirsdag\n",
      "Onsdag\n",
      "Torsdag\n",
      "Fredag\n",
      "Lørdag\n",
      "Søndag\n"
     ]
    }
   ],
   "execution_count": 17
  },
  {
   "cell_type": "markdown",
   "metadata": {},
   "source": [
    "## Oppgave 18\n",
    "\n",
    "Lag en tom liste `firkanttall`. Bruk en for-løkke for å legge til kvadratet av tallene fra `1` til `10` i listen."
   ]
  },
  {
   "cell_type": "code",
   "metadata": {
    "ExecuteTime": {
     "end_time": "2024-10-02T06:33:22.081474Z",
     "start_time": "2024-10-02T06:33:22.066477Z"
    }
   },
   "source": [
    "# Løsning:\n",
    "firkanttall = []\n",
    "for t in range(1, 11):\n",
    "    firkanttall.append(t**2)\n",
    "print(firkanttall)"
   ],
   "outputs": [
    {
     "name": "stdout",
     "output_type": "stream",
     "text": [
      "[1, 4, 9, 16, 25, 36, 49, 64, 81, 100]\n"
     ]
    }
   ],
   "execution_count": 18
  },
  {
   "cell_type": "markdown",
   "metadata": {},
   "source": [
    "## Oppgave 19\n",
    "\n",
    "Bruk en for-løkke for å telle antall bokstaver i ordet `\"programmering\"`."
   ]
  },
  {
   "cell_type": "code",
   "metadata": {
    "ExecuteTime": {
     "end_time": "2024-10-02T06:33:22.158709Z",
     "start_time": "2024-10-02T06:33:22.145460Z"
    }
   },
   "source": [
    "# Løsning:\n",
    "ordet = \"programmering\"\n",
    "antall_bokstaver = 0\n",
    "for bokstav in ordet:\n",
    "    antall_bokstaver += 1\n",
    "print(antall_bokstaver)"
   ],
   "outputs": [
    {
     "name": "stdout",
     "output_type": "stream",
     "text": [
      "13\n"
     ]
    }
   ],
   "execution_count": 19
  },
  {
   "cell_type": "markdown",
   "metadata": {},
   "source": [
    "## Oppgave 20\n",
    "\n",
    "Skriv ut alle oddetall fra `1` til `20` ved hjelp av en for-løkke."
   ]
  },
  {
   "cell_type": "code",
   "metadata": {
    "ExecuteTime": {
     "end_time": "2024-10-02T06:33:22.252696Z",
     "start_time": "2024-10-02T06:33:22.230701Z"
    }
   },
   "source": [
    "# Løsning:\n",
    "for t in range(1, 21):\n",
    "    if t % 2 != 0:\n",
    "        print(t)"
   ],
   "outputs": [
    {
     "name": "stdout",
     "output_type": "stream",
     "text": [
      "1\n",
      "3\n",
      "5\n",
      "7\n",
      "9\n",
      "11\n",
      "13\n",
      "15\n",
      "17\n",
      "19\n"
     ]
    }
   ],
   "execution_count": 20
  }
 ],
 "metadata": {
  "kernelspec": {
   "display_name": "Python 3",
   "language": "python",
   "name": "python3"
  },
  "language_info": {
   "name": "python"
  }
 },
 "nbformat": 4,
 "nbformat_minor": 4
}
