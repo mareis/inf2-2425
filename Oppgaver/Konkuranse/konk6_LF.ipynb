{
 "cells": [
  {
   "cell_type": "markdown",
   "metadata": {},
   "source": [
    "# Løsningsforslag - Pandas og Seaborn Oppgaver\n",
    "\n",
    "Her er løsningsforslagene for pandas og seaborn-oppgavene."
   ]
  },
  {
   "cell_type": "markdown",
   "metadata": {},
   "source": [
    "## Oppgave 1\n",
    "\n",
    "Importer bibliotekene `pandas` og `seaborn`. Last ned `tips`-datasettet fra `seaborn` og vis de første 5 radene i datasettet."
   ]
  },
  {
   "cell_type": "code",
   "metadata": {},
   "outputs": [],
   "source": [
    "# Løsning:\n",
    "import pandas as pd\n",
    "import seaborn as sns\n",
    "\n",
    "tips = sns.load_dataset('tips')\n",
    "tips.head()"
   ]
  },
  {
   "cell_type": "markdown",
   "metadata": {},
   "source": [
    "## Oppgave 2\n",
    "\n",
    "Skriv ut en oversikt over kolonnetypene og manglende verdier (null-verdier) i `tips`-datasettet."
   ]
  },
  {
   "cell_type": "code",
   "metadata": {},
   "outputs": [],
   "source": [
    "# Løsning:\n",
    "print(tips.info())\n",
    "print(tips.isnull().sum())"
   ]
  },
  {
   "cell_type": "markdown",
   "metadata": {},
   "source": [
    "## Oppgave 3\n",
    "\n",
    "Beregn gjennomsnittlig tipsbeløp for hver dag i `tips`-datasettet ved å gruppere etter kolonnen `day`."
   ]
  },
  {
   "cell_type": "code",
   "metadata": {},
   "outputs": [],
   "source": [
    "# Løsning:\n",
    "gjennomsnitt_tips = tips.groupby('day')['tip'].mean()\n",
    "print(gjennomsnitt_tips)"
   ]
  },
  {
   "cell_type": "markdown",
   "metadata": {},
   "source": [
    "## Oppgave 4\n",
    "\n",
    "Lag et stolpediagram ved hjelp av seaborn som viser gjennomsnittlig tipsbeløp for hver dag."
   ]
  },
  {
   "cell_type": "code",
   "metadata": {},
   "outputs": [],
   "source": [
    "# Løsning:\n",
    "import matplotlib.pyplot as plt\n",
    "sns.barplot(x='day', y='tip', data=tips, estimator=pd.Series.mean)\n",
    "plt.show()"
   ]
  },
  {
   "cell_type": "markdown",
   "metadata": {},
   "source": [
    "## Oppgave 5\n",
    "\n",
    "Last ned `penguins`-datasettet fra `seaborn`. Vis de første fem radene i datasettet."
   ]
  },
  {
   "cell_type": "code",
   "metadata": {},
   "outputs": [],
   "source": [
    "# Løsning:\n",
    "penguins = sns.load_dataset('penguins')\n",
    "penguins.head()"
   ]
  },
  {
   "cell_type": "markdown",
   "metadata": {},
   "source": [
    "## Oppgave 6\n",
    "\n",
    "Finn gjennomsnittlig kroppsvekt for pingvinene fordelt på artene i `penguins`-datasettet."
   ]
  },
  {
   "cell_type": "code",
   "metadata": {},
   "outputs": [],
   "source": [
    "# Løsning:\n",
    "gjennomsnitt_vekt = penguins.groupby('species')['body_mass_g'].mean()\n",
    "print(gjennomsnitt_vekt)"
   ]
  },
  {
   "cell_type": "markdown",
   "metadata": {},
   "source": [
    "## Oppgave 7\n",
    "\n",
    "Lag et spredningsdiagram som viser sammenhengen mellom svømmeføttene og kroppsvekt hos pingviner. Bruk ulike farger for hver art."
   ]
  },
  {
   "cell_type": "code",
   "metadata": {},
   "outputs": [],
   "source": [
    "# Løsning:\n",
    "sns.scatterplot(x='flipper_length_mm', y='body_mass_g', hue='species', data=penguins)\n",
    "plt.show()"
   ]
  },
  {
   "cell_type": "markdown",
   "metadata": {},
   "source": [
    "## Oppgave 8\n",
    "\n",
    "Last ned `iris`-datasettet fra `seaborn`. Vis de siste fem radene i datasettet."
   ]
  },
  {
   "cell_type": "code",
   "metadata": {},
   "outputs": [],
   "source": [
    "# Løsning:\n",
    "iris = sns.load_dataset('iris')\n",
    "iris.tail()"
   ]
  },
  {
   "cell_type": "markdown",
   "metadata": {},
   "source": [
    "## Oppgave 9\n",
    "\n",
    "Finn gjennomsnittlig lengde på begerblad (sepal_length) for hver art i `iris`-datasettet."
   ]
  },
  {
   "cell_type": "code",
   "metadata": {},
   "outputs": [],
   "source": [
    "# Løsning:\n",
    "gjennomsnitt_sepal = iris.groupby('species')['sepal_length'].mean()\n",
    "print(gjennomsnitt_sepal)"
   ]
  },
  {
   "cell_type": "markdown",
   "metadata": {},
   "source": [
    "## Oppgave 10\n",
    "\n",
    "Lag et boksplott som viser fordelingen av begerbladets lengde for hver art i `iris`-datasettet."
   ]
  },
  {
   "cell_type": "code",
   "metadata": {},
   "outputs": [],
   "source": [
    "# Løsning:\n",
    "sns.boxplot(x='species', y='sepal_length', data=iris)\n",
    "plt.show()"
   ]
  }
 ],
 "metadata": {
  "kernelspec": {
   "display_name": "Python 3",
   "language": "python",
   "name": "python3"
  },
  "language_info": {
   "name": "python"
  }
 },
 "nbformat": 4,
 "nbformat_minor": 4
}