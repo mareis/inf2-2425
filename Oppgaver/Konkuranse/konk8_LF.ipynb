{
 "cells": [
  {
   "cell_type": "markdown",
   "metadata": {},
   "source": [
    "# Løsningsforslag - Kreative Logiske Utfordringer\n",
    "\n",
    "Her er løsningsforslagene for de kreative logiske utfordringene."
   ]
  },
  {
   "cell_type": "markdown",
   "metadata": {},
   "source": [
    "## Oppgave 1\n",
    "\n",
    "Lag et program som simulerer en heis. Bruk en liste som inneholder etasjene fra `1` til `10`. Programmet skal skrive ut \"Heisen er i etasje X\" for hver etasje den går gjennom fra første til siste etasje. Skriv ut \"Heisen er nå i toppetasjen!\" når den når etasje 10."
   ]
  },
  {
   "cell_type": "code",
   "metadata": {
    "ExecuteTime": {
     "end_time": "2024-10-02T06:40:38.009913Z",
     "start_time": "2024-10-02T06:40:37.994331Z"
    }
   },
   "source": [
    "# Løsning:\n",
    "etasjer = list(range(1, 11))\n",
    "for etasje in etasjer:\n",
    "    print(f\"Heisen er i etasje {etasje}\")\n",
    "    if etasje == 10:\n",
    "        print(\"Heisen er nå i toppetasjen!\")"
   ],
   "outputs": [
    {
     "name": "stdout",
     "output_type": "stream",
     "text": [
      "Heisen er i etasje 1\n",
      "Heisen er i etasje 2\n",
      "Heisen er i etasje 3\n",
      "Heisen er i etasje 4\n",
      "Heisen er i etasje 5\n",
      "Heisen er i etasje 6\n",
      "Heisen er i etasje 7\n",
      "Heisen er i etasje 8\n",
      "Heisen er i etasje 9\n",
      "Heisen er i etasje 10\n",
      "Heisen er nå i toppetasjen!\n"
     ]
    }
   ],
   "execution_count": 1
  },
  {
   "cell_type": "markdown",
   "metadata": {},
   "source": [
    "## Oppgave 2\n",
    "\n",
    "Skriv et program som simulerer en kjøpesenter-kø. Lag en liste `kø` med navnene på 5 personer. Bruk en while-løkke til å fjerne hver person fra listen og skriv ut \"Person X har forlatt køen\". Når køen er tom, skriv ut \"Køen er tom!\"."
   ]
  },
  {
   "cell_type": "code",
   "metadata": {
    "ExecuteTime": {
     "end_time": "2024-10-02T06:40:38.162888Z",
     "start_time": "2024-10-02T06:40:38.151362Z"
    }
   },
   "source": [
    "# Løsning:\n",
    "kø = ['Anna', 'Erik', 'Jonas', 'Maria', 'Sofie']\n",
    "while kø:\n",
    "    person = kø.pop(0)\n",
    "    print(f\"Person {person} har forlatt køen\")\n",
    "print(\"Køen er tom!\")"
   ],
   "outputs": [
    {
     "name": "stdout",
     "output_type": "stream",
     "text": [
      "Person Anna har forlatt køen\n",
      "Person Erik har forlatt køen\n",
      "Person Jonas har forlatt køen\n",
      "Person Maria har forlatt køen\n",
      "Person Sofie har forlatt køen\n",
      "Køen er tom!\n"
     ]
    }
   ],
   "execution_count": 2
  },
  {
   "cell_type": "markdown",
   "metadata": {},
   "source": [
    "## Oppgave 3\n",
    "\n",
    "Skriv et program som regner ut summen av alle tall fra `1` til `100`, men utelat alle tall som er delelige med `7`."
   ]
  },
  {
   "cell_type": "code",
   "metadata": {
    "ExecuteTime": {
     "end_time": "2024-10-02T06:40:38.497893Z",
     "start_time": "2024-10-02T06:40:38.485890Z"
    }
   },
   "source": [
    "# Løsning:\n",
    "sum_tall = 0\n",
    "for t in range(1, 101):\n",
    "    if t % 7 != 0:\n",
    "        sum_tall += t\n",
    "print(sum_tall)"
   ],
   "outputs": [
    {
     "name": "stdout",
     "output_type": "stream",
     "text": [
      "4315\n"
     ]
    }
   ],
   "execution_count": 3
  },
  {
   "cell_type": "markdown",
   "metadata": {},
   "source": [
    "## Oppgave 4\n",
    "\n",
    "Skriv et program som finner og skriver ut de tre minste tallene i en liste uten å bruke innebygde funksjoner som `sorted()` eller `min()`."
   ]
  },
  {
   "cell_type": "code",
   "metadata": {
    "ExecuteTime": {
     "end_time": "2024-10-02T06:40:38.544421Z",
     "start_time": "2024-10-02T06:40:38.533440Z"
    }
   },
   "source": [
    "# Løsning:\n",
    "liste = [9, 1, 4, 7, 2, 8, 3, 6, 5]\n",
    "minst_3 = []\n",
    "for i in range(3):\n",
    "    minste = liste[0]\n",
    "    for tall in liste:\n",
    "        if tall < minste:\n",
    "            minste = tall\n",
    "    minst_3.append(minste)\n",
    "    liste.remove(minste)\n",
    "print(minst_3)"
   ],
   "outputs": [
    {
     "name": "stdout",
     "output_type": "stream",
     "text": [
      "[1, 2, 3]\n"
     ]
    }
   ],
   "execution_count": 4
  },
  {
   "cell_type": "markdown",
   "metadata": {},
   "source": [
    "## Oppgave 5\n",
    "\n",
    "Skriv et program som lager en ny liste der hvert element i den originale listen er doblet. Bruk en for-løkke til å oppdatere listen."
   ]
  },
  {
   "cell_type": "code",
   "metadata": {
    "ExecuteTime": {
     "end_time": "2024-10-02T06:40:38.592418Z",
     "start_time": "2024-10-02T06:40:38.572421Z"
    }
   },
   "source": [
    "# Løsning:\n",
    "liste = [1, 2, 3, 4, 5]\n",
    "doblet_liste = [t * 2 for t in liste]\n",
    "print(doblet_liste)"
   ],
   "outputs": [
    {
     "name": "stdout",
     "output_type": "stream",
     "text": [
      "[2, 4, 6, 8, 10]\n"
     ]
    }
   ],
   "execution_count": 5
  },
  {
   "cell_type": "markdown",
   "metadata": {},
   "source": [
    "## Oppgave 6\n",
    "\n",
    "Skriv et program som finner det nest største tallet i en liste uten å bruke innebygde funksjoner som `sorted()`."
   ]
  },
  {
   "cell_type": "code",
   "metadata": {
    "ExecuteTime": {
     "end_time": "2024-10-02T06:40:38.655422Z",
     "start_time": "2024-10-02T06:40:38.646423Z"
    }
   },
   "source": [
    "# Løsning:\n",
    "liste = [12, 45, 23, 67, 34, 78, 90, 56]\n",
    "største = max(liste)\n",
    "liste.remove(største)\n",
    "nest_største = max(liste)\n",
    "print(nest_største)"
   ],
   "outputs": [
    {
     "name": "stdout",
     "output_type": "stream",
     "text": [
      "78\n"
     ]
    }
   ],
   "execution_count": 6
  },
  {
   "cell_type": "markdown",
   "metadata": {},
   "source": [
    "## Oppgave 7\n",
    "\n",
    "Lag et program som genererer Fibonacci-sekvensen opp til det `n`-te tallet. `n` er en variabel du setter selv. Fibonacci-sekvensen er en sekvens der hvert tall er summen av de to foregående tallene."
   ]
  },
  {
   "cell_type": "code",
   "metadata": {
    "ExecuteTime": {
     "end_time": "2024-10-02T06:40:38.719420Z",
     "start_time": "2024-10-02T06:40:38.701422Z"
    }
   },
   "source": [
    "# Løsning:\n",
    "n = 10\n",
    "fibonacci = [0, 1]\n",
    "for i in range(2, n):\n",
    "    neste_tall = fibonacci[-1] + fibonacci[-2]\n",
    "    fibonacci.append(neste_tall)\n",
    "print(fibonacci)"
   ],
   "outputs": [
    {
     "name": "stdout",
     "output_type": "stream",
     "text": [
      "[0, 1, 1, 2, 3, 5, 8, 13, 21, 34]\n"
     ]
    }
   ],
   "execution_count": 7
  },
  {
   "cell_type": "markdown",
   "metadata": {},
   "source": [
    "## Oppgave 8\n",
    "\n",
    "Skriv et program som sjekker om en liste er et palindrom, det vil si om den leses likt både forlengs og baklengs."
   ]
  },
  {
   "cell_type": "code",
   "metadata": {
    "ExecuteTime": {
     "end_time": "2024-10-02T06:40:38.766424Z",
     "start_time": "2024-10-02T06:40:38.759423Z"
    }
   },
   "source": [
    "# Løsning:\n",
    "liste = [1, 2, 3, 2, 1]\n",
    "if liste == liste[::-1]:\n",
    "    print(\"Listen er et palindrom\")\n",
    "else:\n",
    "    print(\"Listen er ikke et palindrom\")"
   ],
   "outputs": [
    {
     "name": "stdout",
     "output_type": "stream",
     "text": [
      "Listen er et palindrom\n"
     ]
    }
   ],
   "execution_count": 8
  },
  {
   "cell_type": "markdown",
   "metadata": {},
   "source": [
    "## Oppgave 9\n",
    "\n",
    "Skriv et program som finner det største partallet og det minste oddetallet i en liste."
   ]
  },
  {
   "cell_type": "code",
   "metadata": {
    "ExecuteTime": {
     "end_time": "2024-10-02T06:40:38.829417Z",
     "start_time": "2024-10-02T06:40:38.811422Z"
    }
   },
   "source": [
    "# Løsning:\n",
    "liste = [11, 24, 33, 45, 26, 13, 48, 19]\n",
    "partall = [t for t in liste if t % 2 == 0]\n",
    "oddetall = [t for t in liste if t % 2 != 0]\n",
    "største_partall = max(partall)\n",
    "minste_oddetall = min(oddetall)\n",
    "print(f\"Største partall: {største_partall}, Minste oddetall: {minste_oddetall}\")"
   ],
   "outputs": [
    {
     "name": "stdout",
     "output_type": "stream",
     "text": [
      "Største partall: 48, Minste oddetall: 11\n"
     ]
    }
   ],
   "execution_count": 9
  },
  {
   "cell_type": "markdown",
   "metadata": {},
   "source": [
    "## Oppgave 10\n",
    "\n",
    "Skriv et program som genererer et mønster som dette:\n",
    "\n",
    "```\n",
    "*\n",
    "**\n",
    "***\n",
    "****\n",
    "*****\n",
    "```\n",
    "Bruk en for-løkke til å skrive ut mønsteret, og sørg for at antallet stjerner kan justeres ved å endre en variabel."
   ]
  },
  {
   "cell_type": "code",
   "metadata": {
    "ExecuteTime": {
     "end_time": "2024-10-02T06:40:38.860428Z",
     "start_time": "2024-10-02T06:40:38.851427Z"
    }
   },
   "source": [
    "# Løsning:\n",
    "n = 5\n",
    "for i in range(1, n+1):\n",
    "    print('*' * i)"
   ],
   "outputs": [
    {
     "name": "stdout",
     "output_type": "stream",
     "text": [
      "*\n",
      "**\n",
      "***\n",
      "****\n",
      "*****\n"
     ]
    }
   ],
   "execution_count": 10
  }
 ],
 "metadata": {
  "kernelspec": {
   "display_name": "Python 3",
   "language": "python",
   "name": "python3"
  },
  "language_info": {
   "name": "python"
  }
 },
 "nbformat": 4,
 "nbformat_minor": 4
}
