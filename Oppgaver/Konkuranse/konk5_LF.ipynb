{
 "cells": [
  {
   "cell_type": "markdown",
   "metadata": {},
   "source": [
    "# Løsningsforslag - Notebook 5 (Oppgaver 41-50)\n",
    "\n",
    "Her er løsningsforslagene for de neste 10 oppgavene."
   ]
  },
  {
   "cell_type": "markdown",
   "metadata": {},
   "source": [
    "## Oppgave 41\n",
    "\n",
    "Lag en liste med fem tilfeldige tall. Bruk en for-løkke for å finne det største tallet i listen."
   ]
  },
  {
   "cell_type": "code",
   "metadata": {},
   "outputs": [],
   "source": [
    "# Løsning:\n",
    "liste = [4, 8, 1, 3, 9]\n",
    "største = liste[0]\n",
    "for tall in liste:\n",
    "    if tall > største:\n",
    "        største = tall\n",
    "print(største)"
   ]
  },
  {
   "cell_type": "markdown",
   "metadata": {},
   "source": [
    "## Oppgave 42\n",
    "\n",
    "Lag en liste med tall fra 1 til 10. Skriv ut produktet av alle tallene i listen."
   ]
  },
  {
   "cell_type": "code",
   "metadata": {},
   "outputs": [],
   "source": [
    "# Løsning:\n",
    "liste = list(range(1, 11))\n",
    "produkt = 1\n",
    "for tall in liste:\n",
    "    produkt *= tall\n",
    "print(produkt)"
   ]
  },
  {
   "cell_type": "markdown",
   "metadata": {},
   "source": [
    "## Oppgave 43\n",
    "\n",
    "Lag en variabel `pris` som inneholder en prisverdi. Hvis prisen er mindre enn 50, skriv ut \"Lav pris\". Hvis den er mellom 50 og 100, skriv ut \"Middels pris\". Hvis den er over 100, skriv ut \"Høy pris\"."
   ]
  },
  {
   "cell_type": "code",
   "metadata": {},
   "outputs": [],
   "source": [
    "# Løsning:\n",
    "pris = 120\n",
    "if pris < 50:\n",
    "    print(\"Lav pris\")\n",
    "elif 50 <= pris <= 100:\n",
    "    print(\"Middels pris\")\n",
    "else:\n",
    "    print(\"Høy pris\")"
   ]
  },
  {
   "cell_type": "markdown",
   "metadata": {},
   "source": [
    "## Oppgave 44\n",
    "\n",
    "Skriv ut kvadratet av alle tall fra `1` til `10` som er oddetall."
   ]
  },
  {
   "cell_type": "code",
   "metadata": {},
   "outputs": [],
   "source": [
    "# Løsning:\n",
    "for t in range(1, 11):\n",
    "    if t % 2 != 0:\n",
    "        print(t ** 2)"
   ]
  },
  {
   "cell_type": "markdown",
   "metadata": {},
   "source": [
    "## Oppgave 45\n",
    "\n",
    "Skriv en for-løkke som teller fra 1 til 100 og skriver ut \"Fizz\" for tall som er delbare med 3, \"Buzz\" for tall som er delbare med 5, og \"FizzBuzz\" for tall som er delbare med både 3 og 5."
   ]
  },
  {
   "cell_type": "code",
   "metadata": {},
   "outputs": [],
   "source": [
    "# Løsning:\n",
    "for t in range(1, 101):\n",
    "    if t % 3 == 0 and t % 5 == 0:\n",
    "        print(\"FizzBuzz\")\n",
    "    elif t % 3 == 0:\n",
    "        print(\"Fizz\")\n",
    "    elif t % 5 == 0:\n",
    "        print(\"Buzz\")\n",
    "    else:\n",
    "        print(t)"
   ]
  },
  {
   "cell_type": "markdown",
   "metadata": {},
   "source": [
    "## Oppgave 46\n",
    "\n",
    "Lag en liste med ti tall. Bruk en for-løkke for å finne gjennomsnittet av tallene."
   ]
  },
  {
   "cell_type": "code",
   "metadata": {},
   "outputs": [],
   "source": [
    "# Løsning:\n",
    "liste = [3, 5, 7, 9, 2, 4, 6, 8, 1, 10]\n",
    "sum_tall = 0\n",
    "for tall in liste:\n",
    "    sum_tall += tall\n",
    "gjennomsnitt = sum_tall / len(liste)\n",
    "print(gjennomsnitt)"
   ]
  },
  {
   "cell_type": "markdown",
   "metadata": {},
   "source": [
    "## Oppgave 47\n",
    "\n",
    "Lag en variabel `vekt` og skriv ut om vekten er over eller under gjennomsnittet dersom gjennomsnittsvekten er 70 kg."
   ]
  },
  {
   "cell_type": "code",
   "metadata": {},
   "outputs": [],
   "source": [
    "# Løsning:\n",
    "vekt = 65\n",
    "if vekt > 70:\n",
    "    print(\"Over gjennomsnittet\")\n",
    "else:\n",
    "    print(\"Under gjennomsnittet\")"
   ]
  },
  {
   "cell_type": "markdown",
   "metadata": {},
   "source": [
    "## Oppgave 48\n",
    "\n",
    "Bruk en for-løkke for å skrive ut summen av tall fra 1 til 50 som er partall."
   ]
  },
  {
   "cell_type": "code",
   "metadata": {},
   "outputs": [],
   "source": [
    "# Løsning:\n",
    "sum_partall = 0\n",
    "for t in range(1, 51):\n",
    "    if t % 2 == 0:\n",
    "        sum_partall += t\n",
    "print(sum_partall)"
   ]
  },
  {
   "cell_type": "markdown",
   "metadata": {},
   "source": [
    "## Oppgave 49\n",
    "\n",
    "Lag en tom liste og bruk en for-løkke for å legge til alle tall mellom 1 og 10 som er oddetall."
   ]
  },
  {
   "cell_type": "code",
   "metadata": {},
   "outputs": [],
   "source": [
    "# Løsning:\n",
    "oddetall = []\n",
    "for t in range(1, 11):\n",
    "    if t % 2 != 0:\n",
    "        oddetall.append(t)\n",
    "print(oddetall)"
   ]
  },
  {
   "cell_type": "markdown",
   "metadata": {},
   "source": [
    "## Oppgave 50\n",
    "\n",
    "Lag en variabel `alder` og sjekk om alderen er et oddetall. Hvis ja, skriv ut \"Oddetall\", hvis nei, skriv ut \"Partall\"."
   ]
  },
  {
   "cell_type": "code",
   "metadata": {},
   "outputs": [],
   "source": [
    "# Løsning:\n",
    "alder = 23\n",
    "if alder % 2 != 0:\n",
    "    print(\"Oddetall\")\n",
    "else:\n",
    "    print(\"Partall\")"
   ]
  }
 ],
 "metadata": {
  "kernelspec": {
   "display_name": "Python 3",
   "language": "python",
   "name": "python3"
  },
  "language_info": {
   "name": "python"
  }
 },
 "nbformat": 4,
 "nbformat_minor": 4
}