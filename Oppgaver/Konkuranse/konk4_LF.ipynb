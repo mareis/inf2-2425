{
 "cells": [
  {
   "cell_type": "markdown",
   "metadata": {},
   "source": [
    "# Løsningsforslag - Notebook 4 (Oppgaver 31-40)\n",
    "\n",
    "Her er løsningsforslagene for de neste 10 oppgavene."
   ]
  },
  {
   "cell_type": "markdown",
   "metadata": {},
   "source": [
    "## Oppgave 31\n",
    "\n",
    "Skriv en while-løkke som fortsetter så lenge `teller` er mindre enn `5`."
   ]
  },
  {
   "cell_type": "code",
   "metadata": {
    "ExecuteTime": {
     "end_time": "2024-10-02T07:09:05.255423Z",
     "start_time": "2024-10-02T07:09:05.239546Z"
    }
   },
   "source": [
    "# Løsning:\n",
    "teller = 0\n",
    "while teller < 5:\n",
    "    print(teller)\n",
    "    teller += 1"
   ],
   "outputs": [
    {
     "name": "stdout",
     "output_type": "stream",
     "text": [
      "0\n",
      "1\n",
      "2\n",
      "3\n",
      "4\n"
     ]
    }
   ],
   "execution_count": 11
  },
  {
   "cell_type": "markdown",
   "metadata": {},
   "source": [
    "## Oppgave 32\n",
    "\n",
    "Lag en variabel `alder` med en verdi på 18. Skriv ut \"Du er myndig\" hvis alderen er større enn eller lik 18."
   ]
  },
  {
   "cell_type": "code",
   "metadata": {
    "ExecuteTime": {
     "end_time": "2024-10-02T07:09:05.417221Z",
     "start_time": "2024-10-02T07:09:05.402382Z"
    }
   },
   "source": [
    "# Løsning:\n",
    "alder = 18\n",
    "if alder >= 18:\n",
    "    print(\"Du er myndig\")"
   ],
   "outputs": [
    {
     "name": "stdout",
     "output_type": "stream",
     "text": [
      "Du er myndig\n"
     ]
    }
   ],
   "execution_count": 12
  },
  {
   "cell_type": "markdown",
   "metadata": {},
   "source": [
    "## Oppgave 33\n",
    "\n",
    "Lag en liste med navnene på fem venner. Skriv ut antall venner."
   ]
  },
  {
   "cell_type": "code",
   "metadata": {
    "ExecuteTime": {
     "end_time": "2024-10-02T07:09:05.603732Z",
     "start_time": "2024-10-02T07:09:05.588456Z"
    }
   },
   "source": [
    "# Løsning:\n",
    "venner = ['Jonas', 'Kari', 'Ola', 'Marie', 'Anders']\n",
    "print(len(venner))"
   ],
   "outputs": [
    {
     "name": "stdout",
     "output_type": "stream",
     "text": [
      "5\n"
     ]
    }
   ],
   "execution_count": 13
  },
  {
   "cell_type": "markdown",
   "metadata": {},
   "source": [
    "## Oppgave 34\n",
    "\n",
    "Bruk en for-løkke for å skrive ut hver bokstav i navnet ditt."
   ]
  },
  {
   "cell_type": "code",
   "metadata": {
    "ExecuteTime": {
     "end_time": "2024-10-02T07:09:05.737678Z",
     "start_time": "2024-10-02T07:09:05.713472Z"
    }
   },
   "source": [
    "# Løsning:\n",
    "navn = \"Ola\"\n",
    "for bokstav in navn:\n",
    "    print(bokstav)"
   ],
   "outputs": [
    {
     "name": "stdout",
     "output_type": "stream",
     "text": [
      "O\n",
      "l\n",
      "a\n"
     ]
    }
   ],
   "execution_count": 14
  },
  {
   "cell_type": "markdown",
   "metadata": {},
   "source": [
    "## Oppgave 35\n",
    "\n",
    "Lag en variabel `temperatur` og sjekk om temperaturen er under 0. Skriv ut \"Det er kaldt\" hvis den er under 0."
   ]
  },
  {
   "cell_type": "code",
   "metadata": {
    "ExecuteTime": {
     "end_time": "2024-10-02T07:09:05.871890Z",
     "start_time": "2024-10-02T07:09:05.856270Z"
    }
   },
   "source": [
    "# Løsning:\n",
    "temperatur = -5\n",
    "if temperatur < 0:\n",
    "    print(\"Det er kaldt\")"
   ],
   "outputs": [
    {
     "name": "stdout",
     "output_type": "stream",
     "text": [
      "Det er kaldt\n"
     ]
    }
   ],
   "execution_count": 15
  },
  {
   "cell_type": "markdown",
   "metadata": {},
   "source": [
    "## Oppgave 36\n",
    "\n",
    "Lag en liste `dyr` med tre dyrenavn. Bruk en for-løkke for å skrive ut hvert dyr."
   ]
  },
  {
   "cell_type": "code",
   "metadata": {
    "ExecuteTime": {
     "end_time": "2024-10-02T07:09:05.964405Z",
     "start_time": "2024-10-02T07:09:05.940379Z"
    }
   },
   "source": [
    "# Løsning:\n",
    "dyr = ['hund', 'katt', 'kanin']\n",
    "for d in dyr:\n",
    "    print(d)"
   ],
   "outputs": [
    {
     "name": "stdout",
     "output_type": "stream",
     "text": [
      "hund\n",
      "katt\n",
      "kanin\n"
     ]
    }
   ],
   "execution_count": 16
  },
  {
   "cell_type": "markdown",
   "metadata": {},
   "source": [
    "## Oppgave 37\n",
    "\n",
    "Lag en variabel `år` med verdien `2024`. Skriv ut om det er et skuddår (delbart med 4, men ikke med 100 med mindre det er delbart med 400)."
   ]
  },
  {
   "cell_type": "code",
   "metadata": {
    "ExecuteTime": {
     "end_time": "2024-10-02T07:09:06.056091Z",
     "start_time": "2024-10-02T07:09:06.020290Z"
    }
   },
   "source": [
    "# Løsning:\n",
    "år = 2024\n",
    "if (år % 4 == 0 and år % 100 != 0) or (år % 400 == 0):\n",
    "    print(\"Det er et skuddår\")\n",
    "else:\n",
    "    print(\"Det er ikke et skuddår\")"
   ],
   "outputs": [
    {
     "name": "stdout",
     "output_type": "stream",
     "text": [
      "Det er et skuddår\n"
     ]
    }
   ],
   "execution_count": 17
  },
  {
   "cell_type": "markdown",
   "metadata": {},
   "source": [
    "## Oppgave 38\n",
    "\n",
    "Lag en variabel `pris` og sjekk om prisen er mellom 100 og 200. Skriv ut \"Pris innenfor budsjett\" dersom den er det."
   ]
  },
  {
   "cell_type": "code",
   "metadata": {
    "ExecuteTime": {
     "end_time": "2024-10-02T07:09:06.127411Z",
     "start_time": "2024-10-02T07:09:06.104415Z"
    }
   },
   "source": [
    "# Løsning:\n",
    "pris = 150\n",
    "if 100 <= pris <= 200:\n",
    "    print(\"Pris innenfor budsjett\")"
   ],
   "outputs": [
    {
     "name": "stdout",
     "output_type": "stream",
     "text": [
      "Pris innenfor budsjett\n"
     ]
    }
   ],
   "execution_count": 18
  },
  {
   "cell_type": "markdown",
   "metadata": {},
   "source": [
    "## Oppgave 39\n",
    "\n",
    "Skriv en for-løkke som skriver ut alle tall mellom 1 og 20 som er delbare med 3."
   ]
  },
  {
   "cell_type": "code",
   "metadata": {
    "ExecuteTime": {
     "end_time": "2024-10-02T07:09:06.205398Z",
     "start_time": "2024-10-02T07:09:06.185400Z"
    }
   },
   "source": [
    "# Løsning:\n",
    "for t in range(1, 21):\n",
    "    if t % 3 == 0:\n",
    "        print(t)"
   ],
   "outputs": [
    {
     "name": "stdout",
     "output_type": "stream",
     "text": [
      "3\n",
      "6\n",
      "9\n",
      "12\n",
      "15\n",
      "18\n"
     ]
    }
   ],
   "execution_count": 19
  },
  {
   "cell_type": "markdown",
   "metadata": {},
   "source": [
    "## Oppgave 40\n",
    "\n",
    "Skriv ut antall vokaler i ordet `\"programmering\"` ved hjelp av en for-løkke."
   ]
  },
  {
   "cell_type": "code",
   "metadata": {
    "ExecuteTime": {
     "end_time": "2024-10-02T07:09:06.282383Z",
     "start_time": "2024-10-02T07:09:06.269381Z"
    }
   },
   "source": [
    "# Løsning:\n",
    "ordet = \"programmering\"\n",
    "vokaler = 'aeiou'\n",
    "antall_vokaler = 0\n",
    "for bokstav in ordet:\n",
    "    if bokstav in vokaler:\n",
    "        antall_vokaler += 1\n",
    "print(antall_vokaler)"
   ],
   "outputs": [
    {
     "name": "stdout",
     "output_type": "stream",
     "text": [
      "4\n"
     ]
    }
   ],
   "execution_count": 20
  }
 ],
 "metadata": {
  "kernelspec": {
   "display_name": "Python 3",
   "language": "python",
   "name": "python3"
  },
  "language_info": {
   "name": "python"
  }
 },
 "nbformat": 4,
 "nbformat_minor": 4
}
