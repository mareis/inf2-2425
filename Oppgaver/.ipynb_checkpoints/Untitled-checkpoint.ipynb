{
 "cells": [
  {
   "cell_type": "markdown",
   "id": "c00e6322",
   "metadata": {},
   "source": [
    "# 100 Python-oppgaver\n",
    "\n",
    "Her er 100 oppgaver i Python som dekker variabler, betingelser, if-setninger, løkker, lister, pandas, seaborn-datasett og plotting. Lykke til!"
   ]
  },
  {
   "cell_type": "markdown",
   "id": "4f27e3e2",
   "metadata": {},
   "source": [
    "---\n",
    "\n",
    "**1.** Opprett en variabel `navn` og sett den til ditt eget navn."
   ]
  },
  {
   "cell_type": "code",
   "execution_count": null,
   "id": "3385b5be",
   "metadata": {},
   "outputs": [],
   "source": [
    "# Oppgave 1\n",
    "\n"
   ]
  },
  {
   "cell_type": "markdown",
   "id": "59ed9518",
   "metadata": {},
   "source": [
    "---\n",
    "\n",
    "**2.** Skriv ut teksten \"Velkommen til Python-verdenen!\""
   ]
  },
  {
   "cell_type": "code",
   "execution_count": null,
   "id": "3c4e9a93",
   "metadata": {},
   "outputs": [],
   "source": [
    "# Oppgave 2\n",
    "\n"
   ]
  },
  {
   "cell_type": "markdown",
   "id": "724b8b80",
   "metadata": {},
   "source": [
    "---\n",
    "\n",
    "**3.** Beregn verdien av `7 * 9` og skriv ut resultatet."
   ]
  },
  {
   "cell_type": "code",
   "execution_count": null,
   "id": "2cfd9908",
   "metadata": {},
   "outputs": [],
   "source": [
    "# Oppgave 3\n",
    "\n"
   ]
  },
  {
   "cell_type": "markdown",
   "id": "b87c1e6b",
   "metadata": {},
   "source": [
    "---\n",
    "\n",
    "**4.** Lag en variabel `alder` og sett den til din alder. Skriv ut \"Jeg er X år gammel\", hvor X er din alder."
   ]
  },
  {
   "cell_type": "code",
   "execution_count": null,
   "id": "5a0e0f42",
   "metadata": {},
   "outputs": [],
   "source": [
    "# Oppgave 4\n",
    "\n"
   ]
  },
  {
   "cell_type": "markdown",
   "id": "c84020be",
   "metadata": {},
   "source": [
    "---\n",
    "\n",
    "**5.** Sjekk om `alder` er større enn 18. Hvis ja, skriv ut \"Du er myndig\", ellers skriv ut \"Du er ikke myndig\"."
   ]
  },
  {
   "cell_type": "code",
   "execution_count": null,
   "id": "2b44f822",
   "metadata": {},
   "outputs": [],
   "source": [
    "# Oppgave 5\n",
    "\n"
   ]
  },
  {
   "cell_type": "markdown",
   "id": "0b76b175",
   "metadata": {},
   "source": [
    "---\n",
    "\n",
    "**6.** Lag en liste `favoritt_tall` som inneholder dine tre favoritt-tall."
   ]
  },
  {
   "cell_type": "code",
   "execution_count": null,
   "id": "ee001e46",
   "metadata": {},
   "outputs": [],
   "source": [
    "# Oppgave 6\n",
    "\n"
   ]
  },
  {
   "cell_type": "markdown",
   "id": "27674503",
   "metadata": {},
   "source": [
    "---\n",
    "\n",
    "**7.** Legg til tallet `42` til listen `favoritt_tall`."
   ]
  },
  {
   "cell_type": "code",
   "execution_count": null,
   "id": "3ed78444",
   "metadata": {},
   "outputs": [],
   "source": [
    "# Oppgave 7\n",
    "\n"
   ]
  },
  {
   "cell_type": "markdown",
   "id": "800fcf8c",
   "metadata": {},
   "source": [
    "---\n",
    "\n",
    "**8.** Skriv ut det siste elementet i listen `favoritt_tall`."
   ]
  },
  {
   "cell_type": "code",
   "execution_count": null,
   "id": "9ac85c85",
   "metadata": {},
   "outputs": [],
   "source": [
    "# Oppgave 8\n",
    "\n"
   ]
  },
  {
   "cell_type": "markdown",
   "id": "36b75585",
   "metadata": {},
   "source": [
    "---\n",
    "\n",
    "**9.** Skriv en løkke som summerer tallene i listen `favoritt_tall` og skriver ut summen."
   ]
  },
  {
   "cell_type": "code",
   "execution_count": null,
   "id": "f64533e0",
   "metadata": {},
   "outputs": [],
   "source": [
    "# Oppgave 9\n",
    "\n"
   ]
  },
  {
   "cell_type": "markdown",
   "id": "7b0f4b5c",
   "metadata": {},
   "source": [
    "---\n",
    "\n",
    "**10.** Opprett en variabel `tall` med verdien 15. Sjekk om `tall` er delelig med 5."
   ]
  },
  {
   "cell_type": "code",
   "execution_count": null,
   "id": "7d927219",
   "metadata": {},
   "outputs": [],
   "source": [
    "# Oppgave 10\n",
    "\n"
   ]
  },
  {
   "cell_type": "markdown",
   "id": "a53c1369",
   "metadata": {},
   "source": [
    "---\n",
    "\n",
    "**11.** Lag en liste `ord` som inneholder ordene i setningen \"Python er kjempegøy\"."
   ]
  },
  {
   "cell_type": "code",
   "execution_count": null,
   "id": "2e84f7d1",
   "metadata": {},
   "outputs": [],
   "source": [
    "# Oppgave 11\n",
    "\n"
   ]
  },
  {
   "cell_type": "markdown",
   "id": "94f01266",
   "metadata": {},
   "source": [
    "---\n",
    "\n",
    "**12.** Bruk en løkke til å skrive ut hvert ord i listen `ord`."
   ]
  },
  {
   "cell_type": "code",
   "execution_count": null,
   "id": "d444a541",
   "metadata": {},
   "outputs": [],
   "source": [
    "# Oppgave 12\n",
    "\n"
   ]
  },
  {
   "cell_type": "markdown",
   "id": "75cd3c97",
   "metadata": {},
   "source": [
    "---\n",
    "\n",
    "**13.** Bruk en løkke til å skrive ut tallene fra 1 til 10."
   ]
  },
  {
   "cell_type": "code",
   "execution_count": null,
   "id": "5a8edc10",
   "metadata": {},
   "outputs": [],
   "source": [
    "# Oppgave 13\n",
    "\n"
   ]
  },
  {
   "cell_type": "markdown",
   "id": "142d962b",
   "metadata": {},
   "source": [
    "---\n",
    "\n",
    "**14.** Lag en variabel `temperatur` med en verdi du velger selv. Sjekk om det er kaldt eller varmt ved å bruke en if-setning (f.eks. over eller under 10 grader)."
   ]
  },
  {
   "cell_type": "code",
   "execution_count": null,
   "id": "1cf5bd38",
   "metadata": {},
   "outputs": [],
   "source": [
    "# Oppgave 14\n",
    "\n"
   ]
  },
  {
   "cell_type": "markdown",
   "id": "aeb27cf8",
   "metadata": {},
   "source": [
    "---\n",
    "\n",
    "**15.** Opprett en liste `tall` som inneholder tallene fra 1 til 20."
   ]
  },
  {
   "cell_type": "code",
   "execution_count": null,
   "id": "4faaf5f8",
   "metadata": {},
   "outputs": [],
   "source": [
    "# Oppgave 15\n",
    "\n"
   ]
  },
  {
   "cell_type": "markdown",
   "id": "b991dc3b",
   "metadata": {},
   "source": [
    "---\n",
    "\n",
    "**16.** Bruk en løkke til å finne og skrive ut alle partallene i listen `tall`."
   ]
  },
  {
   "cell_type": "code",
   "execution_count": null,
   "id": "b5e2bf78",
   "metadata": {},
   "outputs": [],
   "source": [
    "# Oppgave 16\n",
    "\n"
   ]
  },
  {
   "cell_type": "markdown",
   "id": "64cd3aa5",
   "metadata": {},
   "source": [
    "---\n",
    "\n",
    "**17.** Lag en variabel `setning` med en setning du liker. Skriv ut lengden på setningen."
   ]
  },
  {
   "cell_type": "code",
   "execution_count": null,
   "id": "7a105fdf",
   "metadata": {},
   "outputs": [],
   "source": [
    "# Oppgave 17\n",
    "\n"
   ]
  },
  {
   "cell_type": "markdown",
   "id": "7e298692",
   "metadata": {},
   "source": [
    "---\n",
    "\n",
    "**18.** Sjekk om ordet \"Python\" finnes i variabelen `setning`."
   ]
  },
  {
   "cell_type": "code",
   "execution_count": null,
   "id": "bcaaec2d",
   "metadata": {},
   "outputs": [],
   "source": [
    "# Oppgave 18\n",
    "\n"
   ]
  },
  {
   "cell_type": "markdown",
   "id": "64e947e2",
   "metadata": {},
   "source": [
    "---\n",
    "\n",
    "**19.** Bruk en løkke til å telle antall vokaler i variabelen `setning`."
   ]
  },
  {
   "cell_type": "code",
   "execution_count": null,
   "id": "78e7ae40",
   "metadata": {},
   "outputs": [],
   "source": [
    "# Oppgave 19\n",
    "\n"
   ]
  },
  {
   "cell_type": "markdown",
   "id": "3bfabdb4",
   "metadata": {},
   "source": [
    "---\n",
    "\n",
    "**20.** Lag en liste `pris` med prisene [10, 20, 30, 40, 50]. Beregn totalprisen ved å summere alle prisene."
   ]
  },
  {
   "cell_type": "code",
   "execution_count": null,
   "id": "d741c4cc",
   "metadata": {},
   "outputs": [],
   "source": [
    "# Oppgave 20\n",
    "\n"
   ]
  },
  {
   "cell_type": "markdown",
   "id": "ca225353",
   "metadata": {},
   "source": [
    "---\n",
    "\n",
    "**21.** Bruk en løkke til å øke hver pris i listen `pris` med 10%, og skriv ut de nye prisene."
   ]
  },
  {
   "cell_type": "code",
   "execution_count": null,
   "id": "54bdb841",
   "metadata": {},
   "outputs": [],
   "source": [
    "# Oppgave 21\n",
    "\n"
   ]
  },
  {
   "cell_type": "markdown",
   "id": "2ca36340",
   "metadata": {},
   "source": [
    "---\n",
    "\n",
    "**22.** Opprett en tom liste `kvadrater`. Bruk en løkke til å fylle den med kvadrattallene fra 1 til 10."
   ]
  },
  {
   "cell_type": "code",
   "execution_count": null,
   "id": "7f7ca12e",
   "metadata": {},
   "outputs": [],
   "source": [
    "# Oppgave 22\n",
    "\n"
   ]
  },
  {
   "cell_type": "markdown",
   "id": "79640fe8",
   "metadata": {},
   "source": [
    "---\n",
    "\n",
    "**23.** Lag en variabel `teller` og sett den til 0. Bruk en løkke til å telle opp til 10."
   ]
  },
  {
   "cell_type": "code",
   "execution_count": null,
   "id": "b5d50038",
   "metadata": {},
   "outputs": [],
   "source": [
    "# Oppgave 23\n",
    "\n"
   ]
  },
  {
   "cell_type": "markdown",
   "id": "fa1a3d7f",
   "metadata": {},
   "source": [
    "---\n",
    "\n",
    "**24.** Bruk en while-løkke til å telle ned fra 10 til 1, og skriv ut hvert tall."
   ]
  },
  {
   "cell_type": "code",
   "execution_count": null,
   "id": "8cbb2450",
   "metadata": {},
   "outputs": [],
   "source": [
    "# Oppgave 24\n",
    "\n"
   ]
  },
  {
   "cell_type": "markdown",
   "id": "fe6009c8",
   "metadata": {},
   "source": [
    "---\n",
    "\n",
    "**25.** Opprett en liste `frukt` med elementene \"eple\", \"banan\", \"appelsin\". Sjekk om \"banan\" er i listen."
   ]
  },
  {
   "cell_type": "code",
   "execution_count": null,
   "id": "e9842d1b",
   "metadata": {},
   "outputs": [],
   "source": [
    "# Oppgave 25\n",
    "\n"
   ]
  },
  {
   "cell_type": "markdown",
   "id": "33c1fb39",
   "metadata": {},
   "source": [
    "---\n",
    "\n",
    "**26.** Legg til \"druer\" til listen `frukt`."
   ]
  },
  {
   "cell_type": "code",
   "execution_count": null,
   "id": "ff0e5e96",
   "metadata": {},
   "outputs": [],
   "source": [
    "# Oppgave 26\n",
    "\n"
   ]
  },
  {
   "cell_type": "markdown",
   "id": "e1c12a38",
   "metadata": {},
   "source": [
    "---\n",
    "\n",
    "**27.** Fjern \"eple\" fra listen `frukt`."
   ]
  },
  {
   "cell_type": "code",
   "execution_count": null,
   "id": "926c6d10",
   "metadata": {},
   "outputs": [],
   "source": [
    "# Oppgave 27\n",
    "\n"
   ]
  },
  {
   "cell_type": "markdown",
   "id": "26e7bd83",
   "metadata": {},
   "source": [
    "---\n",
    "\n",
    "**28.** Sorter listen `frukt` alfabetisk."
   ]
  },
  {
   "cell_type": "code",
   "execution_count": null,
   "id": "dd312ced",
   "metadata": {},
   "outputs": [],
   "source": [
    "# Oppgave 28\n",
    "\n"
   ]
  },
  {
   "cell_type": "markdown",
   "id": "68b74d56",
   "metadata": {},
   "source": [
    "---\n",
    "\n",
    "**29.** Opprett en variabel `tekst` med verdien \"Python er morsomt!\". Skriv ut teksten i store bokstaver."
   ]
  },
  {
   "cell_type": "code",
   "execution_count": null,
   "id": "95f8d36e",
   "metadata": {},
   "outputs": [],
   "source": [
    "# Oppgave 29\n",
    "\n"
   ]
  },
  {
   "cell_type": "markdown",
   "id": "ab6b0f8a",
   "metadata": {},
   "source": [
    "---\n",
    "\n",
    "**30.** Sjekk om teksten i variabelen `tekst` starter med \"Python\"."
   ]
  },
  {
   "cell_type": "code",
   "execution_count": null,
   "id": "2985e4b5",
   "metadata": {},
   "outputs": [],
   "source": [
    "# Oppgave 30\n",
    "\n"
   ]
  },
  {
   "cell_type": "markdown",
   "id": "73bf3af0",
   "metadata": {},
   "source": [
    "---\n",
    "\n",
    "**31.** Importer pandas som `pd` og les inn datasettet \"tips\" fra seaborn."
   ]
  },
  {
   "cell_type": "code",
   "execution_count": null,
   "id": "20f2a451",
   "metadata": {},
   "outputs": [],
   "source": [
    "# Oppgave 31\n",
    "\n"
   ]
  },
  {
   "cell_type": "markdown",
   "id": "b49d660b",
   "metadata": {},
   "source": [
    "---\n",
    "\n",
    "**32.** Vis de første 5 radene av DataFrame `tips`."
   ]
  },
  {
   "cell_type": "code",
   "execution_count": null,
   "id": "b5e85cd6",
   "metadata": {},
   "outputs": [],
   "source": [
    "# Oppgave 32\n",
    "\n"
   ]
  },
  {
   "cell_type": "markdown",
   "id": "c5a4c4b7",
   "metadata": {},
   "source": [
    "---\n",
    "\n",
    "**33.** Finn gjennomsnittlig `total_bill` i datasettet `tips`."
   ]
  },
  {
   "cell_type": "code",
   "execution_count": null,
   "id": "fb50ac6f",
   "metadata": {},
   "outputs": [],
   "source": [
    "# Oppgave 33\n",
    "\n"
   ]
  },
  {
   "cell_type": "markdown",
   "id": "9815a830",
   "metadata": {},
   "source": [
    "---\n",
    "\n",
    "**34.** Lag en ny kolonne `tip_percentage` som er tips delt på total regning ganger 100."
   ]
  },
  {
   "cell_type": "code",
   "execution_count": null,
   "id": "4b2060c1",
   "metadata": {},
   "outputs": [],
   "source": [
    "# Oppgave 34\n",
    "\n"
   ]
  },
  {
   "cell_type": "markdown",
   "id": "a493b941",
   "metadata": {},
   "source": [
    "---\n",
    "\n",
    "**35.** Finn ut hvilken dag som har høyest gjennomsnittlig tipsprosent."
   ]
  },
  {
   "cell_type": "code",
   "execution_count": null,
   "id": "22ad7b94",
   "metadata": {},
   "outputs": [],
   "source": [
    "# Oppgave 35\n",
    "\n"
   ]
  },
  {
   "cell_type": "markdown",
   "id": "77e93ca8",
   "metadata": {},
   "source": [
    "---\n",
    "\n",
    "**36.** Importer `matplotlib.pyplot` som `plt` og lag en histogram av `total_bill` fra `tips`-datasettet."
   ]
  },
  {
   "cell_type": "code",
   "execution_count": null,
   "id": "bc5b2d90",
   "metadata": {},
   "outputs": [],
   "source": [
    "# Oppgave 36\n",
    "\n"
   ]
  },
  {
   "cell_type": "markdown",
   "id": "07e425e6",
   "metadata": {},
   "source": [
    "---\n",
    "\n",
    "**37.** Opprett en liste `aldre` med alderen til fem personer du kjenner."
   ]
  },
  {
   "cell_type": "code",
   "execution_count": null,
   "id": "c266a02f",
   "metadata": {},
   "outputs": [],
   "source": [
    "# Oppgave 37\n",
    "\n"
   ]
  },
  {
   "cell_type": "markdown",
   "id": "e2a6e6aa",
   "metadata": {},
   "source": [
    "---\n",
    "\n",
    "**38.** Beregn gjennomsnittsalderen fra listen `aldre`."
   ]
  },
  {
   "cell_type": "code",
   "execution_count": null,
   "id": "1ca3abcf",
   "metadata": {},
   "outputs": [],
   "source": [
    "# Oppgave 38\n",
    "\n"
   ]
  },
  {
   "cell_type": "markdown",
   "id": "e6e76761",
   "metadata": {},
   "source": [
    "---\n",
    "\n",
    "**39.** Skriv en løkke som finner den eldste og yngste alderen i listen `aldre`."
   ]
  },
  {
   "cell_type": "code",
   "execution_count": null,
   "id": "798f0fe0",
   "metadata": {},
   "outputs": [],
   "source": [
    "# Oppgave 39\n",
    "\n"
   ]
  },
  {
   "cell_type": "markdown",
   "id": "0e6604db",
   "metadata": {},
   "source": [
    "---\n",
    "\n",
    "**40.** Lag en løkke som skriver ut \"Person X er Y år gammel\", hvor X er personens nummer og Y er alderen."
   ]
  },
  {
   "cell_type": "code",
   "execution_count": null,
   "id": "621d08b9",
   "metadata": {},
   "outputs": [],
   "source": [
    "# Oppgave 40\n",
    "\n"
   ]
  },
  {
   "cell_type": "markdown",
   "id": "b2dfc6b2",
   "metadata": {},
   "source": [
    "---\n",
    "\n",
    "**41.** Opprett en tekststreng `alfabet` som inneholder alle bokstavene i alfabetet."
   ]
  },
  {
   "cell_type": "code",
   "execution_count": null,
   "id": "ee782c39",
   "metadata": {},
   "outputs": [],
   "source": [
    "# Oppgave 41\n",
    "\n"
   ]
  },
  {
   "cell_type": "markdown",
   "id": "37e31aa4",
   "metadata": {},
   "source": [
    "---\n",
    "\n",
    "**42.** Bruk en løkke til å skrive ut hver bokstav i `alfabet` på en ny linje."
   ]
  },
  {
   "cell_type": "code",
   "execution_count": null,
   "id": "3c75e4d6",
   "metadata": {},
   "outputs": [],
   "source": [
    "# Oppgave 42\n",
    "\n"
   ]
  },
  {
   "cell_type": "markdown",
   "id": "97f78d8f",
   "metadata": {},
   "source": [
    "---\n",
    "\n",
    "**43.** Lag en løkke som teller hvor mange ganger bokstaven \"e\" forekommer i en gitt tekst."
   ]
  },
  {
   "cell_type": "code",
   "execution_count": null,
   "id": "d806c3e8",
   "metadata": {},
   "outputs": [],
   "source": [
    "# Oppgave 43\n",
    "\n"
   ]
  },
  {
   "cell_type": "markdown",
   "id": "284c75d4",
   "metadata": {},
   "source": [
    "---\n",
    "\n",
    "**44.** Opprett en liste `temperaturer` med temperaturene [5, -3, 12, 7, 0, -8]. Bruk en løkke til å finne antall dager med minusgrader."
   ]
  },
  {
   "cell_type": "code",
   "execution_count": null,
   "id": "e2c882e4",
   "metadata": {},
   "outputs": [],
   "source": [
    "# Oppgave 44\n",
    "\n"
   ]
  },
  {
   "cell_type": "markdown",
   "id": "999d06e2",
   "metadata": {},
   "source": [
    "---\n",
    "\n",
    "**45.** Lag en variabel `nummer` med verdien 1. Bruk en while-løkke til å doble `nummer` til den er større enn 1000."
   ]
  },
  {
   "cell_type": "code",
   "execution_count": null,
   "id": "f57fe902",
   "metadata": {},
   "outputs": [],
   "source": [
    "# Oppgave 45\n",
    "\n"
   ]
  },
  {
   "cell_type": "markdown",
   "id": "d6631a0b",
   "metadata": {},
   "source": [
    "---\n",
    "\n",
    "**46.** Opprett to lister `a` og `b` med tallene [1, 2, 3] og [4, 5, 6]. Legg sammen listene elementvis og lagre resultatet i en ny liste `c`."
   ]
  },
  {
   "cell_type": "code",
   "execution_count": null,
   "id": "d6183651",
   "metadata": {},
   "outputs": [],
   "source": [
    "# Oppgave 46\n",
    "\n"
   ]
  },
  {
   "cell_type": "markdown",
   "id": "e6a66e1a",
   "metadata": {},
   "source": [
    "---\n",
    "\n",
    "**47.** Lag en løkke som finner summen av alle tall fra 1 til 100 som er delelige med 3."
   ]
  },
  {
   "cell_type": "code",
   "execution_count": null,
   "id": "825ad2fb",
   "metadata": {},
   "outputs": [],
   "source": [
    "# Oppgave 47\n",
    "\n"
   ]
  },
  {
   "cell_type": "markdown",
   "id": "e2ad5f89",
   "metadata": {},
   "source": [
    "---\n",
    "\n",
    "**48.** Opprett en liste `ord` med ordene i setningen \"Dette er en test\". Bruk en løkke til å lage en ny liste `lengder` som inneholder lengden på hvert ord."
   ]
  },
  {
   "cell_type": "code",
   "execution_count": null,
   "id": "0b1f8b93",
   "metadata": {},
   "outputs": [],
   "source": [
    "# Oppgave 48\n",
    "\n"
   ]
  },
  {
   "cell_type": "markdown",
   "id": "8c53efdf",
   "metadata": {},
   "source": [
    "---\n",
    "\n",
    "**49.** Lag en løkke som skriver ut multiplikasjonstabellen for 7 (dvs. 7x1 til 7x10)."
   ]
  },
  {
   "cell_type": "code",
   "execution_count": null,
   "id": "c04b6c12",
   "metadata": {},
   "outputs": [],
   "source": [
    "# Oppgave 49\n",
    "\n"
   ]
  },
  {
   "cell_type": "markdown",
   "id": "aa7d2b83",
   "metadata": {},
   "source": [
    "---\n",
    "\n",
    "**50.** Bruk en løkke til å finne alle primtall mellom 1 og 50."
   ]
  },
  {
   "cell_type": "code",
   "execution_count": null,
   "id": "86d2d41c",
   "metadata": {},
   "outputs": [],
   "source": [
    "# Oppgave 50\n",
    "\n"
   ]
  },
  {
   "cell_type": "markdown",
   "id": "ca9ff1fe",
   "metadata": {},
   "source": [
    "---\n",
    "\n",
    "**51.** Lag et program som gjetter et tall du tenker på mellom 1 og 100. Bruk en løkke og if-setninger til å gjøre gjetninger basert på tilbakemeldingene \"høyere\" eller \"lavere\"."
   ]
  },
  {
   "cell_type": "code",
   "execution_count": null,
   "id": "2d0dbaad",
   "metadata": {},
   "outputs": [],
   "source": [
    "# Oppgave 51\n",
    "\n"
   ]
  },
  {
   "cell_type": "markdown",
   "id": "08af45d3",
   "metadata": {},
   "source": [
    "---\n",
    "\n",
    "**52.** Skriv et program som teller antall ord i en tekst som brukeren skriver inn."
   ]
  },
  {
   "cell_type": "code",
   "execution_count": null,
   "id": "a8a99e75",
   "metadata": {},
   "outputs": [],
   "source": [
    "# Oppgave 52\n",
    "\n"
   ]
  },
  {
   "cell_type": "markdown",
   "id": "2d9fe2ef",
   "metadata": {},
   "source": [
    "---\n",
    "\n",
    "**53.** Lag en enkel kalkulator som kan utføre de grunnleggende operasjonene (+, -, *, /) på to tall som brukeren skriver inn."
   ]
  },
  {
   "cell_type": "code",
   "execution_count": null,
   "id": "e1222e5b",
   "metadata": {},
   "outputs": [],
   "source": [
    "# Oppgave 53\n",
    "\n"
   ]
  },
  {
   "cell_type": "markdown",
   "id": "936e3c4c",
   "metadata": {},
   "source": [
    "---\n",
    "\n",
    "**54.** Skriv et program som finner det største tallet i en liste uten å bruke innebygde funksjoner som `max()`."
   ]
  },
  {
   "cell_type": "code",
   "execution_count": null,
   "id": "2d60a0ae",
   "metadata": {},
   "outputs": [],
   "source": [
    "# Oppgave 54\n",
    "\n"
   ]
  },
  {
   "cell_type": "markdown",
   "id": "291fc0b8",
   "metadata": {},
   "source": [
    "---\n",
    "\n",
    "**55.** Lag en liste over tilfeldige tall. Skriv et program som sorterer listen i stigende rekkefølge uten å bruke innebygde sorteringsfunksjoner."
   ]
  },
  {
   "cell_type": "code",
   "execution_count": null,
   "id": "479de6e2",
   "metadata": {},
   "outputs": [],
   "source": [
    "# Oppgave 55\n",
    "\n"
   ]
  },
  {
   "cell_type": "markdown",
   "id": "12798530",
   "metadata": {},
   "source": [
    "---\n",
    "\n",
    "**56.** Skriv et program som beregner n-te tall i Fibonacci-sekvensen uten å bruke rekursjon."
   ]
  },
  {
   "cell_type": "code",
   "execution_count": null,
   "id": "fa7bd16f",
   "metadata": {},
   "outputs": [],
   "source": [
    "# Oppgave 56\n",
    "\n"
   ]
  },
  {
   "cell_type": "markdown",
   "id": "caac9b09",
   "metadata": {},
   "source": [
    "---\n",
    "\n",
    "**57.** Lag en "gjett ordet"-lek der programmet velger et tilfeldig ord fra en liste, og brukeren skal gjette bokstaver til de finner ordet."
   ]
  },
  {
   "cell_type": "code",
   "execution_count": null,
   "id": "2a1ff6c4",
   "metadata": {},
   "outputs": [],
   "source": [
    "# Oppgave 57\n",
    "\n"
   ]
  },
  {
   "cell_type": "markdown",
   "id": "e52a05dd",
   "metadata": {},
   "source": [
    "---\n",
    "\n",
    "**58.** Skriv et program som teller hvor mange ganger hvert ord forekommer i en tekst."
   ]
  },
  {
   "cell_type": "code",
   "execution_count": null,
   "id": "6678c902",
   "metadata": {},
   "outputs": [],
   "source": [
    "# Oppgave 58\n",
    "\n"
   ]
  },
  {
   "cell_type": "markdown",
   "id": "19cfa9a6",
   "metadata": {},
   "source": [
    "---\n",
    "\n",
    "**59.** Lag en liste over studenter og karakterene deres. Skriv et program som finner gjennomsnittskarakteren."
   ]
  },
  {
   "cell_type": "code",
   "execution_count": null,
   "id": "c9bf3a16",
   "metadata": {},
   "outputs": [],
   "source": [
    "# Oppgave 59\n",
    "\n"
   ]
  },
  {
   "cell_type": "markdown",
   "id": "39682969",
   "metadata": {},
   "source": [
    "---\n",
    "\n",
    "**60.** Skriv et program som konverterer en binær streng til desimaltall."
   ]
  },
  {
   "cell_type": "code",
   "execution_count": null,
   "id": "3a4549a5",
   "metadata": {},
   "outputs": [],
   "source": [
    "# Oppgave 60\n",
    "\n"
   ]
  },
  {
   "cell_type": "markdown",
   "id": "731d425e",
   "metadata": {},
   "source": [
    "---\n",
    "\n",
    "**61.** Lag en enkel krypteringsalgoritme som bytter ut hver bokstav i en tekst med neste bokstav i alfabetet."
   ]
  },
  {
   "cell_type": "code",
   "execution_count": null,
   "id": "d10fa2c2",
   "metadata": {},
   "outputs": [],
   "source": [
    "# Oppgave 61\n",
    "\n"
   ]
  },
  {
   "cell_type": "markdown",
   "id": "6bdbd7eb",
   "metadata": {},
   "source": [
    "---\n",
    "\n",
    "**62.** Skriv et program som sjekker om en tekst er et palindrom (leses likt forfra og bakfra)."
   ]
  },
  {
   "cell_type": "code",
   "execution_count": null,
   "id": "b4b9c0dd",
   "metadata": {},
   "outputs": [],
   "source": [
    "# Oppgave 62\n",
    "\n"
   ]
  },
  {
   "cell_type": "markdown",
   "id": "c0e1ab2d",
   "metadata": {},
   "source": [
    "---\n",
    "\n",
    "**63.** Lag en quiz med fem spørsmål og la brukeren svare. Tell opp antall riktige svar."
   ]
  },
  {
   "cell_type": "code",
   "execution_count": null,
   "id": "e2c02af6",
   "metadata": {},
   "outputs": [],
   "source": [
    "# Oppgave 63\n",
    "\n"
   ]
  },
  {
   "cell_type": "markdown",
   "id": "1e8a7231",
   "metadata": {},
   "source": [
    "---\n",
    "\n",
    "**64.** Skriv et program som simulerer en enkel lommepengekalkulator. Brukeren starter med 0 kroner og kan velge å legge til eller trekke fra et beløp."
   ]
  },
  {
   "cell_type": "code",
   "execution_count": null,
   "id": "cb5aface",
   "metadata": {},
   "outputs": [],
   "source": [
    "# Oppgave 64\n",
    "\n"
   ]
  },
  {
   "cell_type": "markdown",
   "id": "4ab00413",
   "metadata": {},
   "source": [
    "---\n",
    "\n",
    "**65.** Lag en "ordgjetting"-lek der programmet velger et ord, og brukeren må gjette ordet ved å foreslå bokstaver."
   ]
  },
  {
   "cell_type": "code",
   "execution_count": null,
   "id": "0db7b7e0",
   "metadata": {},
   "outputs": [],
   "source": [
    "# Oppgave 65\n",
    "\n"
   ]
  },
  {
   "cell_type": "markdown",
   "id": "4267565a",
   "metadata": {},
   "source": [
    "---\n",
    "\n",
    "**66.** Skriv et program som finner den største felles faktoren (GCF) av to tall."
   ]
  },
  {
   "cell_type": "code",
   "execution_count": null,
   "id": "e171fb63",
   "metadata": {},
   "outputs": [],
   "source": [
    "# Oppgave 66\n",
    "\n"
   ]
  },
  {
   "cell_type": "markdown",
   "id": "2987e7bf",
   "metadata": {},
   "source": [
    "---\n",
    "\n",
    "**67.** Lag en enkel "steinsaks-papir"-spill der brukeren spiller mot datamaskinen."
   ]
  },
  {
   "cell_type": "code",
   "execution_count": null,
   "id": "ed29f514",
   "metadata": {},
   "outputs": [],
   "source": [
    "# Oppgave 67\n",
    "\n"
   ]
  },
  {
   "cell_type": "markdown",
   "id": "8a6ebea0",
   "metadata": {},
   "source": [
    "---\n",
    "\n",
    "**68.** Skriv et program som genererer et tilfeldig passord med en lengde spesifisert av brukeren."
   ]
  },
  {
   "cell_type": "code",
   "execution_count": null,
   "id": "c8728fd6",
   "metadata": {},
   "outputs": [],
   "source": [
    "# Oppgave 68\n",
    "\n"
   ]
  },
  {
   "cell_type": "markdown",
   "id": "12d67b0a",
   "metadata": {},
   "source": [
    "---\n",
    "\n",
    "**69.** Lag en tekstbasert "eventyrspill" der brukeren kan velge forskjellige veier som fører til ulike utfall."
   ]
  },
  {
   "cell_type": "code",
   "execution_count": null,
   "id": "78dfe0b5",
   "metadata": {},
   "outputs": [],
   "source": [
    "# Oppgave 69\n",
    "\n"
   ]
  },
  {
   "cell_type": "markdown",
   "id": "49d8330b",
   "metadata": {},
   "source": [
    "---\n",
    "\n",
    "**70.** Skriv et program som regner ut hvor mange dager det er igjen til din neste bursdag."
   ]
  },
  {
   "cell_type": "code",
   "execution_count": null,
   "id": "d38a1d7f",
   "metadata": {},
   "outputs": [],
   "source": [
    "# Oppgave 70\n",
    "\n"
   ]
  },
  {
   "cell_type": "markdown",
   "id": "dd65cd06",
   "metadata": {},
   "source": [
    "---\n",
    "\n",
    "**71.** Lag en "Minesveiper"-lignende spillmatrise der noen celler inneholder miner, og brukeren kan velge celler for å avsløre om det er en mine eller ikke."
   ]
  },
  {
   "cell_type": "code",
   "execution_count": null,
   "id": "c7c83174",
   "metadata": {},
   "outputs": [],
   "source": [
    "# Oppgave 71\n",
    "\n"
   ]
  },
  {
   "cell_type": "markdown",
   "id": "ab140c5e",
   "metadata": {},
   "source": [
    "---\n",
    "\n",
    "**72.** Skriv et program som kan konvertere en tekst til Morse-kode."
   ]
  },
  {
   "cell_type": "code",
   "execution_count": null,
   "id": "c30c2a13",
   "metadata": {},
   "outputs": [],
   "source": [
    "# Oppgave 72\n",
    "\n"
   ]
  },
  {
   "cell_type": "markdown",
   "id": "00701e24",
   "metadata": {},
   "source": [
    "---\n",
    "\n",
    "**73.** Lag en enkel "livets spill" simulering ved hjelp av to-dimensjonale lister."
   ]
  },
  {
   "cell_type": "code",
   "execution_count": null,
   "id": "93771df4",
   "metadata": {},
   "outputs": [],
   "source": [
    "# Oppgave 73\n",
    "\n"
   ]
  },
  {
   "cell_type": "markdown",
   "id": "4e44e264",
   "metadata": {},
   "source": [
    "---\n",
    "\n",
    "**74.** Skriv et program som finner alle anagrammer av et ord fra en gitt liste med ord."
   ]
  },
  {
   "cell_type": "code",
   "execution_count": null,
   "id": "ce5c2be0",
   "metadata": {},
   "outputs": [],
   "source": [
    "# Oppgave 74\n",
    "\n"
   ]
  },
  {
   "cell_type": "markdown",
   "id": "05d6cfdc",
   "metadata": {},
   "source": [
    "---\n",
    "\n",
    "**75.** Lag et program som simulerer kasting av to terninger og beregner sannsynligheten for at summen blir 7."
   ]
  },
  {
   "cell_type": "code",
   "execution_count": null,
   "id": "e06009c3",
   "metadata": {},
   "outputs": [],
   "source": [
    "# Oppgave 75\n",
    "\n"
   ]
  },
  {
   "cell_type": "markdown",
   "id": "3a8ee12f",
   "metadata": {},
   "source": [
    "---\n",
    "\n",
    "**76.** Skriv et program som beregner Pi ved hjelp av Monte Carlo-metoden."
   ]
  },
  {
   "cell_type": "code",
   "execution_count": null,
   "id": "6c2a5e2f",
   "metadata": {},
   "outputs": [],
   "source": [
    "# Oppgave 76\n",
    "\n"
   ]
  },
  {
   "cell_type": "markdown",
   "id": "c29e4aa5",
   "metadata": {},
   "source": [
    "---\n",
    "\n",
    "**77.** Lag en enkel teksteditor der brukeren kan skrive og lagre tekst til en fil."
   ]
  },
  {
   "cell_type": "code",
   "execution_count": null,
   "id": "e1ccbc5b",
   "metadata": {},
   "outputs": [],
   "source": [
    "# Oppgave 77\n",
    "\n"
   ]
  },
  {
   "cell_type": "markdown",
   "id": "ec915cd2",
   "metadata": {},
   "source": [
    "---\n",
    "\n",
    "**78.** Skriv et program som laster ned HTML-koden fra en nettside og teller antall ganger et bestemt ord forekommer."
   ]
  },
  {
   "cell_type": "code",
   "execution_count": null,
   "id": "937d2421",
   "metadata": {},
   "outputs": [],
   "source": [
    "# Oppgave 78\n",
    "\n"
   ]
  },
  {
   "cell_type": "markdown",
   "id": "5e0b9646",
   "metadata": {},
   "source": [
    "---\n",
    "\n",
    "**79.** Lag en "spørringsspill" der programmet velger et dyr, og brukeren kan stille ja/nei-spørsmål for å gjette hvilket dyr det er."
   ]
  },
  {
   "cell_type": "code",
   "execution_count": null,
   "id": "d67c2a2f",
   "metadata": {},
   "outputs": [],
   "source": [
    "# Oppgave 79\n",
    "\n"
   ]
  },
  {
   "cell_type": "markdown",
   "id": "a0e164a1",
   "metadata": {},
   "source": [
    "---\n",
    "\n",
    "**80.** Skriv et program som simulerer trafikklys ved hjelp av en uendelig løkke som endrer og viser status."
   ]
  },
  {
   "cell_type": "code",
   "execution_count": null,
   "id": "9c3c6e86",
   "metadata": {},
   "outputs": [],
   "source": [
    "# Oppgave 80\n",
    "\n"
   ]
  },
  {
   "cell_type": "markdown",
   "id": "7e7b9a9e",
   "metadata": {},
   "source": [
    "---\n",
    "\n",
    "**81.** Lag en "matrise-kalkulator" som kan legge til, trekke fra og multiplisere to matriser representert som to-dimensjonale lister."
   ]
  },
  {
   "cell_type": "code",
   "execution_count": null,
   "id": "93036dc4",
   "metadata": {},
   "outputs": [],
   "source": [
    "# Oppgave 81\n",
    "\n"
   ]
  },
  {
   "cell_type": "markdown",
   "id": "ade59824",
   "metadata": {},
   "source": [
    "---\n",
    "\n",
    "**82.** Skriv et program som kan løse lineære ligningssystemer ved hjelp av Gauss-eliminasjon."
   ]
  },
  {
   "cell_type": "code",
   "execution_count": null,
   "id": "f620d3a1",
   "metadata": {},
   "outputs": [],
   "source": [
    "# Oppgave 82\n",
    "\n"
   ]
  },
  {
   "cell_type": "markdown",
   "id": "a52f7bb6",
   "metadata": {},
   "source": [
    "---\n",
    "\n",
    "**83.** Lag en enkel grafisk applikasjon ved hjelp av `tkinter` som tegner en sirkel der brukeren klikker."
   ]
  },
  {
   "cell_type": "code",
   "execution_count": null,
   "id": "db746ed3",
   "metadata": {},
   "outputs": [],
   "source": [
    "# Oppgave 83\n",
    "\n"
   ]
  },
  {
   "cell_type": "markdown",
   "id": "1011b07c",
   "metadata": {},
   "source": [
    "---\n",
    "\n",
    "**84.** Skriv et program som leser en CSV-fil og plotter dataene ved hjelp av `matplotlib`."
   ]
  },
  {
   "cell_type": "code",
   "execution_count": null,
   "id": "f89c78c7",
   "metadata": {},
   "outputs": [],
   "source": [
    "# Oppgave 84\n",
    "\n"
   ]
  },
  {
   "cell_type": "markdown",
   "id": "0fb6e5d3",
   "metadata": {},
   "source": [
    "---\n",
    "\n",
    "**85.** Lag en "bildeviser" som blar gjennom bilder i en mappe."
   ]
  },
  {
   "cell_type": "code",
   "execution_count": null,
   "id": "8304cf60",
   "metadata": {},
   "outputs": [],
   "source": [
    "# Oppgave 85\n",
    "\n"
   ]
  },
  {
   "cell_type": "markdown",
   "id": "11e1e4c5",
   "metadata": {},
   "source": [
    "---\n",
    "\n",
    "**86.** Skriv et program som kan laste opp og laste ned filer fra en FTP-server."
   ]
  },
  {
   "cell_type": "code",
   "execution_count": null,
   "id": "88d78d0a",
   "metadata": {},
   "outputs": [],
   "source": [
    "# Oppgave 86\n",
    "\n"
   ]
  },
  {
   "cell_type": "markdown",
   "id": "5a2b847c",
   "metadata": {},
   "source": [
    "---\n",
    "\n",
    "**87.** Lag en "notatblokk"-applikasjon der brukeren kan skrive, lagre og åpne notater."
   ]
  },
  {
   "cell_type": "code",
   "execution_count": null,
   "id": "21cbb236",
   "metadata": {},
   "outputs": [],
   "source": [
    "# Oppgave 87\n",
    "\n"
   ]
  },
  {
   "cell_type": "markdown",
   "id": "31ca35c1",
   "metadata": {},
   "source": [
    "---\n",
    "\n",
    "**88.** Skriv et program som analyserer en tekst og finner de mest brukte ordene."
   ]
  },
  {
   "cell_type": "code",
   "execution_count": null,
   "id": "b9fae38d",
   "metadata": {},
   "outputs": [],
   "source": [
    "# Oppgave 88\n",
    "\n"
   ]
  },
  {
   "cell_type": "markdown",
   "id": "721ea62d",
   "metadata": {},
   "source": [
    "---\n",
    "\n",
    "**89.** Lag et program som tegner fraktaler, som Mandelbrot- eller Julia-mengden."
   ]
  },
  {
   "cell_type": "code",
   "execution_count": null,
   "id": "d94f367b",
   "metadata": {},
   "outputs": [],
   "source": [
    "# Oppgave 89\n",
    "\n"
   ]
  },
  {
   "cell_type": "markdown",
   "id": "c998f77c",
   "metadata": {},
   "source": [
    "---\n",
    "\n",
    "**90.** Skriv et program som simulerer en enkel AI-spiller i et sjakkspill."
   ]
  },
  {
   "cell_type": "code",
   "execution_count": null,
   "id": "7e4db1ce",
   "metadata": {},
   "outputs": [],
   "source": [
    "# Oppgave 90\n",
    "\n"
   ]
  },
  {
   "cell_type": "markdown",
   "id": "896f1d4c",
   "metadata": {},
   "source": [
    "---\n",
    "\n",
    "**91.** Lag en web-søknad som lar brukere legge inn og se data ved hjelp av `flask`."
   ]
  },
  {
   "cell_type": "code",
   "execution_count": null,
   "id": "7ed50f31",
   "metadata": {},
   "outputs": [],
   "source": [
    "# Oppgave 91\n",
    "\n"
   ]
  },
  {
   "cell_type": "markdown",
   "id": "07a042f7",
   "metadata": {},
   "source": [
    "---\n",
    "\n",
    "**92.** Skriv et program som bruker API-et til en værmeldingstjeneste for å vise været i en valgt by."
   ]
  },
  {
   "cell_type": "code",
   "execution_count": null,
   "id": "d4580427",
   "metadata": {},
   "outputs": [],
   "source": [
    "# Oppgave 92\n",
    "\n"
   ]
  },
  {
   "cell_type": "markdown",
   "id": "bb825b2a",
   "metadata": {},
   "source": [
    "---\n",
    "\n",
    "**93.** Lag en maskinlæringsmodell som kan klassifisere iris-blomster ved hjelp av `scikit-learn`."
   ]
  },
  {
   "cell_type": "code",
   "execution_count": null,
   "id": "d3c858ed",
   "metadata": {},
   "outputs": [],
   "source": [
    "# Oppgave 93\n",
    "\n"
   ]
  },
  {
   "cell_type": "markdown",
   "id": "0f66e8ec",
   "metadata": {},
   "source": [
    "---\n",
    "\n",
    "**94.** Skriv et program som kan gjenkjenne håndskrevne sifre ved hjelp av en nevralt nettverk."
   ]
  },
  {
   "cell_type": "code",
   "execution_count": null,
   "id": "3d67e469",
   "metadata": {},
   "outputs": [],
   "source": [
    "# Oppgave 94\n",
    "\n"
   ]
  },
  {
   "cell_type": "markdown",
   "id": "7ed263e6",
   "metadata": {},
   "source": [
    "---\n",
    "\n",
    "**95.** Lag en chat-applikasjon der flere brukere kan kommunisere over nettverket."
   ]
  },
  {
   "cell_type": "code",
   "execution_count": null,
   "id": "fe7d2526",
   "metadata": {},
   "outputs": [],
   "source": [
    "# Oppgave 95\n",
    "\n"
   ]
  },
  {
   "cell_type": "markdown",
   "id": "d6e1b122",
   "metadata": {},
   "source": [
    "---\n",
    "\n",
    "**96.** Skriv et program som kan oversette tekst fra ett språk til et annet ved hjelp av et oversettelses-API."
   ]
  },
  {
   "cell_type": "code",
   "execution_count": null,
   "id": "70c926bb",
   "metadata": {},
   "outputs": [],
   "source": [
    "# Oppgave 96\n",
    "\n"
   ]
  },
  {
   "cell_type": "markdown",
   "id": "c2100841",
   "metadata": {},
   "source": [
    "---\n",
    "\n",
    "**97.** Lag en spillmotor for 2D-spill med grunnleggende fysikk og kollisjonsdeteksjon."
   ]
  },
  {
   "cell_type": "code",
   "execution_count": null,
   "id": "7e75c7f5",
   "metadata": {},
   "outputs": [],
   "source": [
    "# Oppgave 97\n",
    "\n"
   ]
  },
  {
   "cell_type": "markdown",
   "id": "82c2e23f",
   "metadata": {},
   "source": [
    "---\n",
    "\n",
    "**98.** Skriv et program som kan løse differensialligninger numerisk ved hjelp av Euler's metode."
   ]
  },
  {
   "cell_type": "code",
   "execution_count": null,
   "id": "781132c6",
   "metadata": {},
   "outputs": [],
   "source": [
    "# Oppgave 98\n",
    "\n"
   ]
  },
  {
   "cell_type": "markdown",
   "id": "d03ecbd1",
   "metadata": {},
   "source": [
    "---\n",
    "\n",
    "**99.** Implementer en enkel blockchain og vis hvordan transaksjoner kan legges til."
   ]
  },
  {
   "cell_type": "code",
   "execution_count": null,
   "id": "cfcaa7ba",
   "metadata": {},
   "outputs": [],
   "source": [
    "# Oppgave 99\n",
    "\n"
   ]
  },
  {
   "cell_type": "markdown",
   "id": "ac045861",
   "metadata": {},
   "source": [
    "---\n",
    "\n",
    "**100.** Lag en virtuell assistent som kan utføre enkle oppgaver basert på stemmekommandoer."
   ]
  },
  {
   "cell_type": "code",
   "execution_count": null,
   "id": "3bf8af14",
   "metadata": {},
   "outputs": [],
   "source": [
    "# Oppgave 100\n",
    "\n"
   ]
  }
 ],
 "metadata": {
  "kernelspec": {
   "display_name": "Python 3",
   "language": "python",
   "name": "python3"
  },
  "language_info": {
   "codemirror_mode": {
    "name": "ipython",
    "version": 3
   },
   "file_extension": ".py",
   "mimetype": "text/x-python",
   "name": "python",
   "nbconvert_exporter": "python",
   "pygments_lexer": "ipython3",
   "version": "3.8"
  }
 },
 "nbformat": 4,
 "nbformat_minor": 5
}