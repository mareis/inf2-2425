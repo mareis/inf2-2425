{
 "cells": [
  {
   "cell_type": "code",
   "id": "initial_id",
   "metadata": {
    "collapsed": true,
    "ExecuteTime": {
     "end_time": "2024-10-28T13:06:24.766681Z",
     "start_time": "2024-10-28T13:06:18.922677Z"
    }
   },
   "source": [
    "def skrem_person(navn):\n",
    "    print(f\"Møøøøørke hilsener, {navn}!\")\n",
    "    \n",
    "skrem_person(input(\"Hva heter du?\"))\n",
    "\n",
    "navnet = input(\"Hva heter du?\")\n",
    "skrem_person(navnet)"
   ],
   "outputs": [
    {
     "name": "stdout",
     "output_type": "stream",
     "text": [
      "Møøøøørke hilsener, Emma!\n",
      "Møøøøørke hilsener, Emma!\n"
     ]
    }
   ],
   "execution_count": 4
  },
  {
   "metadata": {
    "ExecuteTime": {
     "end_time": "2024-10-28T13:17:50.332765Z",
     "start_time": "2024-10-28T13:17:50.301511Z"
    }
   },
   "cell_type": "code",
   "source": [
    "def tegn_spøkelseshus(b, h):\n",
    "    print(f\"/{' '*(b-3)}|\")\n",
    "    print(\"*\"*b)\n",
    "    for _ in range(h-2):\n",
    "        print(f\"|{' '*(b-2)}|\")\n",
    "    \n",
    "    \n",
    "tegn_spøkelseshus(10,10)\n",
    "    \n",
    "    \n",
    "        \n",
    "        \n",
    "          \n",
    "          "
   ],
   "id": "e53525bd2871a349",
   "outputs": [
    {
     "name": "stdout",
     "output_type": "stream",
     "text": [
      "/       |\n",
      "**********\n",
      "|        |\n",
      "|        |\n",
      "|        |\n",
      "|        |\n",
      "|        |\n",
      "|        |\n",
      "|        |\n",
      "|        |\n"
     ]
    }
   ],
   "execution_count": 18
  },
  {
   "metadata": {
    "ExecuteTime": {
     "end_time": "2024-10-28T13:33:51.847847Z",
     "start_time": "2024-10-28T13:33:48.799738Z"
    }
   },
   "cell_type": "code",
   "source": [
    "from random import randint\n",
    "from time import sleep\n",
    "\n",
    "def opprett_monster(navn, type):\n",
    "    nytt_monster = {\n",
    "        \"navn\": navn,\n",
    "        \"type\": type,\n",
    "        \"styrke\": 100,\n",
    "        \"spesialevne\": randint(1,100), # Angrepsstyrke\n",
    "        \"er_beseiret\": False\n",
    "    }\n",
    "    return nytt_monster\n",
    "\n",
    "def angrip(monster1, monster2):\n",
    "    # Gjør ett myntkast for å se hvem som skal angripe hvem\n",
    "    coinflip = randint(0,1)\n",
    "    if coinflip == 0:\n",
    "        print(f\"{monster1['navn']} blir angrepet av {monster2['navn']}\")\n",
    "        monster1[\"styrke\"] = monster1[\"styrke\"] - monster2[\"spesialevne\"]\n",
    "    else:\n",
    "        print(f\"{monster2['navn']} blir angrepet av {monster1['navn']}\")\n",
    "        monster2[\"styrke\"] = monster2[\"styrke\"] - monster1[\"spesialevne\"]\n",
    "\n",
    "def vis_monster_status(monster):\n",
    "    print(monster)\n",
    "\n",
    "def er_beseiret(monster):\n",
    "    if monster[\"er_beseiret\"]:\n",
    "        print(f\"{monster['navn']} er beseiret\")\n",
    "    else:\n",
    "        print(f\"{monster['navn']} er ikke beseiret\")\n",
    "\n",
    "m1 = opprett_monster(\"Bob\", \"drage\")\n",
    "m2 = opprett_monster(\"Dave\", \"vampyr\")\n",
    "print(m1, m2)\n",
    "\n",
    "print(\"Starter monsterfight!!!\")\n",
    "while True:\n",
    "    sleep(1)\n",
    "    angrip(m1, m2)\n",
    "    if int(m1[\"styrke\"]) <= 0:\n",
    "        print(f\"{m1['navn']} er beseiret!\")\n",
    "        m1[\"er_beseiret\"] = True\n",
    "        break\n",
    "    elif int(m2[\"styrke\"]) <= 0:\n",
    "        print(f\"{m2['navn']} er beseiret!\")\n",
    "        m2[\"er_beseiret\"] = True\n",
    "        break\n",
    "\n",
    "print(\"Beseiret Status:\")\n",
    "print(er_beseiret(m1))\n",
    "print(er_beseiret(m2))"
   ],
   "id": "1c1d1171bd13c5b4",
   "outputs": [
    {
     "name": "stdout",
     "output_type": "stream",
     "text": [
      "{'navn': 'Bob', 'type': 'drage', 'styrke': 100, 'spesialevne': 57, 'er_beseiret': False} {'navn': 'Dave', 'type': 'vampyr', 'styrke': 100, 'spesialevne': 86, 'er_beseiret': False}\n",
      "Starter monsterfight!!!\n",
      "Bob blir angrepet av Dave\n",
      "Dave blir angrepet av Bob\n",
      "Bob blir angrepet av Dave\n",
      "Bob er beseiret!\n",
      "Beseiret Status:\n",
      "Bob er beseiret\n",
      "None\n",
      "Dave er ikke beseiret\n",
      "None\n"
     ]
    }
   ],
   "execution_count": 24
  },
  {
   "metadata": {},
   "cell_type": "code",
   "outputs": [],
   "execution_count": null,
   "source": "",
   "id": "ac1ae662f341bd8e"
  }
 ],
 "metadata": {
  "kernelspec": {
   "display_name": "Python 3",
   "language": "python",
   "name": "python3"
  },
  "language_info": {
   "codemirror_mode": {
    "name": "ipython",
    "version": 2
   },
   "file_extension": ".py",
   "mimetype": "text/x-python",
   "name": "python",
   "nbconvert_exporter": "python",
   "pygments_lexer": "ipython2",
   "version": "2.7.6"
  }
 },
 "nbformat": 4,
 "nbformat_minor": 5
}
