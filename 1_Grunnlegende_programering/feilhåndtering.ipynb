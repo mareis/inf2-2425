{
 "cells": [
  {
   "metadata": {},
   "cell_type": "markdown",
   "source": [
    "# Feilhåndtering\n",
    "\n",
    "## - Syntaksfeil\n",
    "\n",
    "\n"
   ],
   "id": "509e901c54f9fff3"
  },
  {
   "metadata": {
    "ExecuteTime": {
     "end_time": "2024-09-18T06:36:55.297934Z",
     "start_time": "2024-09-18T06:36:55.279935Z"
    }
   },
   "cell_type": "code",
   "source": [
    "for i en range(10):\n",
    "    print(\"Feil\")"
   ],
   "id": "712cf40ebd526b43",
   "outputs": [
    {
     "ename": "SyntaxError",
     "evalue": "invalid syntax (2114347768.py, line 1)",
     "output_type": "error",
     "traceback": [
      "\u001B[1;36m  Cell \u001B[1;32mIn[12], line 1\u001B[1;36m\u001B[0m\n\u001B[1;33m    for i en range(10):\u001B[0m\n\u001B[1;37m          ^\u001B[0m\n\u001B[1;31mSyntaxError\u001B[0m\u001B[1;31m:\u001B[0m invalid syntax\n"
     ]
    }
   ],
   "execution_count": 12
  },
  {
   "metadata": {
    "ExecuteTime": {
     "end_time": "2024-09-18T06:36:55.329930400Z",
     "start_time": "2024-09-18T06:23:55.619780Z"
    }
   },
   "cell_type": "code",
   "source": [
    "For i in range(10):\n",
    "    print(\"Feil\")"
   ],
   "id": "51ae4be10d5c5f2d",
   "outputs": [
    {
     "ename": "SyntaxError",
     "evalue": "invalid syntax (1370496167.py, line 1)",
     "output_type": "error",
     "traceback": [
      "\u001B[1;36m  Cell \u001B[1;32mIn[2], line 1\u001B[1;36m\u001B[0m\n\u001B[1;33m    For i in range(10):\u001B[0m\n\u001B[1;37m        ^\u001B[0m\n\u001B[1;31mSyntaxError\u001B[0m\u001B[1;31m:\u001B[0m invalid syntax\n"
     ]
    }
   ],
   "execution_count": 2
  },
  {
   "metadata": {},
   "cell_type": "markdown",
   "source": "## - Navnefeil",
   "id": "6c9784516a6a049f"
  },
  {
   "metadata": {
    "ExecuteTime": {
     "end_time": "2024-09-18T06:36:55.352933700Z",
     "start_time": "2024-09-18T06:24:42.657155Z"
    }
   },
   "cell_type": "code",
   "source": [
    "for i in range(10):\n",
    "    pint(\"Feil\")"
   ],
   "id": "96c60c5870230aa5",
   "outputs": [
    {
     "ename": "NameError",
     "evalue": "name 'pint' is not defined",
     "output_type": "error",
     "traceback": [
      "\u001B[1;31m---------------------------------------------------------------------------\u001B[0m",
      "\u001B[1;31mNameError\u001B[0m                                 Traceback (most recent call last)",
      "Cell \u001B[1;32mIn[3], line 2\u001B[0m\n\u001B[0;32m      1\u001B[0m \u001B[38;5;28;01mfor\u001B[39;00m i \u001B[38;5;129;01min\u001B[39;00m \u001B[38;5;28mrange\u001B[39m(\u001B[38;5;241m10\u001B[39m):\n\u001B[1;32m----> 2\u001B[0m     \u001B[43mpint\u001B[49m(\u001B[38;5;124m\"\u001B[39m\u001B[38;5;124mFeil\u001B[39m\u001B[38;5;124m\"\u001B[39m)\n",
      "\u001B[1;31mNameError\u001B[0m: name 'pint' is not defined"
     ]
    }
   ],
   "execution_count": 3
  },
  {
   "metadata": {
    "ExecuteTime": {
     "end_time": "2024-09-18T06:36:55.354931700Z",
     "start_time": "2024-09-18T06:25:55.509231Z"
    }
   },
   "cell_type": "code",
   "source": "print(test)",
   "id": "269342b9c71add83",
   "outputs": [
    {
     "ename": "NameError",
     "evalue": "name 'test' is not defined",
     "output_type": "error",
     "traceback": [
      "\u001B[1;31m---------------------------------------------------------------------------\u001B[0m",
      "\u001B[1;31mNameError\u001B[0m                                 Traceback (most recent call last)",
      "Cell \u001B[1;32mIn[4], line 1\u001B[0m\n\u001B[1;32m----> 1\u001B[0m \u001B[38;5;28mprint\u001B[39m(\u001B[43mtest\u001B[49m)\n",
      "\u001B[1;31mNameError\u001B[0m: name 'test' is not defined"
     ]
    }
   ],
   "execution_count": 4
  },
  {
   "metadata": {},
   "cell_type": "markdown",
   "source": "## -Typefeil",
   "id": "2aa8d1fe02f6d9f3"
  },
  {
   "metadata": {
    "ExecuteTime": {
     "end_time": "2024-09-18T06:36:55.355931300Z",
     "start_time": "2024-09-18T06:26:52.315375Z"
    }
   },
   "cell_type": "code",
   "source": [
    "a = \"1\"\n",
    "b = 2\n",
    "c = a + b"
   ],
   "id": "f37d33870fd2c6d0",
   "outputs": [
    {
     "ename": "TypeError",
     "evalue": "can only concatenate str (not \"int\") to str",
     "output_type": "error",
     "traceback": [
      "\u001B[1;31m---------------------------------------------------------------------------\u001B[0m",
      "\u001B[1;31mTypeError\u001B[0m                                 Traceback (most recent call last)",
      "Cell \u001B[1;32mIn[5], line 3\u001B[0m\n\u001B[0;32m      1\u001B[0m a \u001B[38;5;241m=\u001B[39m \u001B[38;5;124m\"\u001B[39m\u001B[38;5;124m1\u001B[39m\u001B[38;5;124m\"\u001B[39m\n\u001B[0;32m      2\u001B[0m b \u001B[38;5;241m=\u001B[39m \u001B[38;5;241m2\u001B[39m\n\u001B[1;32m----> 3\u001B[0m c \u001B[38;5;241m=\u001B[39m \u001B[43ma\u001B[49m\u001B[43m \u001B[49m\u001B[38;5;241;43m+\u001B[39;49m\u001B[43m \u001B[49m\u001B[43mb\u001B[49m\n",
      "\u001B[1;31mTypeError\u001B[0m: can only concatenate str (not \"int\") to str"
     ]
    }
   ],
   "execution_count": 5
  },
  {
   "metadata": {
    "ExecuteTime": {
     "end_time": "2024-09-18T06:36:55.357927500Z",
     "start_time": "2024-09-18T06:28:33.197147Z"
    }
   },
   "cell_type": "code",
   "source": "d = 1/0",
   "id": "ac4b2c967d0349f7",
   "outputs": [
    {
     "ename": "ZeroDivisionError",
     "evalue": "division by zero",
     "output_type": "error",
     "traceback": [
      "\u001B[1;31m---------------------------------------------------------------------------\u001B[0m",
      "\u001B[1;31mZeroDivisionError\u001B[0m                         Traceback (most recent call last)",
      "Cell \u001B[1;32mIn[6], line 1\u001B[0m\n\u001B[1;32m----> 1\u001B[0m d \u001B[38;5;241m=\u001B[39m \u001B[38;5;241;43m1\u001B[39;49m\u001B[38;5;241;43m/\u001B[39;49m\u001B[38;5;241;43m0\u001B[39;49m\n",
      "\u001B[1;31mZeroDivisionError\u001B[0m: division by zero"
     ]
    }
   ],
   "execution_count": 6
  },
  {
   "metadata": {
    "ExecuteTime": {
     "end_time": "2024-09-18T06:36:55.363927600Z",
     "start_time": "2024-09-18T06:29:13.135659Z"
    }
   },
   "cell_type": "code",
   "source": "int(\"Tekststreng\")",
   "id": "37991ed72eaa09f2",
   "outputs": [
    {
     "ename": "ValueError",
     "evalue": "invalid literal for int() with base 10: 'Tekststreng'",
     "output_type": "error",
     "traceback": [
      "\u001B[1;31m---------------------------------------------------------------------------\u001B[0m",
      "\u001B[1;31mValueError\u001B[0m                                Traceback (most recent call last)",
      "Cell \u001B[1;32mIn[7], line 1\u001B[0m\n\u001B[1;32m----> 1\u001B[0m \u001B[38;5;28;43mint\u001B[39;49m\u001B[43m(\u001B[49m\u001B[38;5;124;43m\"\u001B[39;49m\u001B[38;5;124;43mTekststreng\u001B[39;49m\u001B[38;5;124;43m\"\u001B[39;49m\u001B[43m)\u001B[49m\n",
      "\u001B[1;31mValueError\u001B[0m: invalid literal for int() with base 10: 'Tekststreng'"
     ]
    }
   ],
   "execution_count": 7
  },
  {
   "metadata": {},
   "cell_type": "markdown",
   "source": "##Try/except",
   "id": "8900332e845f7855"
  },
  {
   "metadata": {
    "ExecuteTime": {
     "end_time": "2024-09-18T06:36:55.365930Z",
     "start_time": "2024-09-18T06:34:26.995884Z"
    }
   },
   "cell_type": "code",
   "source": "tall = int(input(\"Gi meg et heltall: \"))\n",
   "id": "2d03c0b654d5a0f",
   "outputs": [
    {
     "ename": "ValueError",
     "evalue": "invalid literal for int() with base 10: 'asdh'",
     "output_type": "error",
     "traceback": [
      "\u001B[1;31m---------------------------------------------------------------------------\u001B[0m",
      "\u001B[1;31mValueError\u001B[0m                                Traceback (most recent call last)",
      "Cell \u001B[1;32mIn[10], line 1\u001B[0m\n\u001B[1;32m----> 1\u001B[0m tall \u001B[38;5;241m=\u001B[39m \u001B[38;5;28;43mint\u001B[39;49m\u001B[43m(\u001B[49m\u001B[38;5;28;43minput\u001B[39;49m\u001B[43m(\u001B[49m\u001B[38;5;124;43m\"\u001B[39;49m\u001B[38;5;124;43mGi meg et heltall: \u001B[39;49m\u001B[38;5;124;43m\"\u001B[39;49m\u001B[43m)\u001B[49m\u001B[43m)\u001B[49m\n",
      "\u001B[1;31mValueError\u001B[0m: invalid literal for int() with base 10: 'asdh'"
     ]
    }
   ],
   "execution_count": 10
  },
  {
   "metadata": {
    "ExecuteTime": {
     "end_time": "2024-09-18T06:36:55.366927200Z",
     "start_time": "2024-09-18T06:33:42.799486Z"
    }
   },
   "cell_type": "code",
   "source": [
    "try:\n",
    "    tall = int(input(\"Gi meg et heltall: \"))\n",
    "    \n",
    "except ValueError:\n",
    "    print(\"Du skrev ikke inn et heltall\")"
   ],
   "id": "48f6fe413cb27c98",
   "outputs": [
    {
     "name": "stdout",
     "output_type": "stream",
     "text": [
      "Du skrev ikke inn et heltall\n"
     ]
    }
   ],
   "execution_count": 9
  },
  {
   "metadata": {
    "ExecuteTime": {
     "end_time": "2024-09-18T06:38:46.468782Z",
     "start_time": "2024-09-18T06:38:35.933314Z"
    }
   },
   "cell_type": "code",
   "source": [
    "while True:\n",
    "    try:\n",
    "        tall = int(input(\"Gi meg et heltall: \"))\n",
    "        print(f'Du skrev inn tallet {tall}')\n",
    "        break\n",
    "    \n",
    "    except ValueError:\n",
    "        print(\"Du skrev ikke inn et heltall\")\n",
    "        "
   ],
   "id": "2ddcc747f45127ab",
   "outputs": [
    {
     "name": "stdout",
     "output_type": "stream",
     "text": [
      "Du skrev ikke inn et heltall\n",
      "Du skrev ikke inn et heltall\n",
      "Du skrev inn tallet 5\n"
     ]
    }
   ],
   "execution_count": 16
  },
  {
   "metadata": {
    "ExecuteTime": {
     "end_time": "2024-09-18T06:55:24.597236Z",
     "start_time": "2024-09-18T06:55:16.437601Z"
    }
   },
   "cell_type": "code",
   "source": [
    "farger = [\"Rød\", \"Oransj\", \"Gul\", \"Grønn\", \"Blå\", \"Indigoblå\", \"Lilla\"]\n",
    "\n",
    "for nr, farge in enumerate(farger):\n",
    "    print(f'[{nr+1}] {farge}')\n",
    "    \n",
    "while True:\n",
    "    try:\n",
    "        tall = int(input(\"Velg farge 1-7: \"))\n",
    "        break\n",
    "        \n",
    "    except ValueError:\n",
    "        print(\"Du skrev ikke inn et heltall\")\n",
    "    \n",
    "    \n"
   ],
   "id": "de2ac0b0f480ec24",
   "outputs": [
    {
     "name": "stdout",
     "output_type": "stream",
     "text": [
      "[1] Rød\n",
      "[2] Oransj\n",
      "[3] Gul\n",
      "[4] Grønn\n",
      "[5] Blå\n",
      "[6] Indigoblå\n",
      "[7] Lilla\n"
     ]
    }
   ],
   "execution_count": 20
  },
  {
   "metadata": {},
   "cell_type": "code",
   "outputs": [],
   "execution_count": null,
   "source": "",
   "id": "ea21c50c6cd07247"
  }
 ],
 "metadata": {
  "kernelspec": {
   "display_name": "Python 3",
   "language": "python",
   "name": "python3"
  },
  "language_info": {
   "codemirror_mode": {
    "name": "ipython",
    "version": 2
   },
   "file_extension": ".py",
   "mimetype": "text/x-python",
   "name": "python",
   "nbconvert_exporter": "python",
   "pygments_lexer": "ipython2",
   "version": "2.7.6"
  }
 },
 "nbformat": 4,
 "nbformat_minor": 5
}
