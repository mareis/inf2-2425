{
 "cells": [
  {
   "metadata": {},
   "cell_type": "markdown",
   "source": "4. Skrive ut tall fra 1 til 10 med en melding Lag en for-løkke som skriver ut tallene fra 1 til 10, men legg til en melding som “Dette er tall X” for hvert tall.",
   "id": "ab26a949fc8ae18c"
  },
  {
   "metadata": {
    "ExecuteTime": {
     "end_time": "2024-09-20T10:07:14.351541Z",
     "start_time": "2024-09-20T10:07:14.340540Z"
    }
   },
   "cell_type": "code",
   "source": [
    "for tall in range(1, 11):\n",
    "    print(\"Dette er tall\", tall)"
   ],
   "id": "f9c3947507828587",
   "outputs": [
    {
     "name": "stdout",
     "output_type": "stream",
     "text": [
      "Dette er tall 1\n",
      "Dette er tall 2\n",
      "Dette er tall 3\n",
      "Dette er tall 4\n",
      "Dette er tall 5\n",
      "Dette er tall 6\n",
      "Dette er tall 7\n",
      "Dette er tall 8\n",
      "Dette er tall 9\n",
      "Dette er tall 10\n"
     ]
    }
   ],
   "execution_count": 2
  },
  {
   "metadata": {
    "ExecuteTime": {
     "end_time": "2024-09-20T10:09:58.054447Z",
     "start_time": "2024-09-20T10:09:58.038807Z"
    }
   },
   "cell_type": "code",
   "source": [
    "for tall in range(1, 11):\n",
    "    print(f\"Dette talle er {tall}\")"
   ],
   "id": "2aa23713d963c279",
   "outputs": [
    {
     "name": "stdout",
     "output_type": "stream",
     "text": [
      "Dette talle er 1\n",
      "Dette talle er 2\n",
      "Dette talle er 3\n",
      "Dette talle er 4\n",
      "Dette talle er 5\n",
      "Dette talle er 6\n",
      "Dette talle er 7\n",
      "Dette talle er 8\n",
      "Dette talle er 9\n",
      "Dette talle er 10\n"
     ]
    }
   ],
   "execution_count": 3
  },
  {
   "metadata": {
    "ExecuteTime": {
     "end_time": "2024-09-24T09:22:17.276805Z",
     "start_time": "2024-09-24T09:22:17.244400Z"
    }
   },
   "cell_type": "code",
   "source": [
    "\n",
    "    "
   ],
   "id": "2cc0e4e3fe4b3a2b",
   "outputs": [
    {
     "name": "stdout",
     "output_type": "stream",
     "text": [
      "Dette talle er 1\n",
      "Dette talle er 2\n",
      "Dette talle er 3\n",
      "Dette talle er 4\n",
      "Dette talle er 5\n",
      "Dette talle er 6\n",
      "Dette talle er 7\n",
      "Dette talle er 8\n",
      "Dette talle er 9\n",
      "Dette talle er 10\n"
     ]
    }
   ],
   "execution_count": 4
  },
  {
   "metadata": {},
   "cell_type": "code",
   "outputs": [],
   "execution_count": null,
   "source": "",
   "id": "7336b5523aee82c2"
  }
 ],
 "metadata": {
  "kernelspec": {
   "display_name": "Python 3",
   "language": "python",
   "name": "python3"
  },
  "language_info": {
   "codemirror_mode": {
    "name": "ipython",
    "version": 2
   },
   "file_extension": ".py",
   "mimetype": "text/x-python",
   "name": "python",
   "nbconvert_exporter": "python",
   "pygments_lexer": "ipython2",
   "version": "2.7.6"
  }
 },
 "nbformat": 4,
 "nbformat_minor": 5
}
