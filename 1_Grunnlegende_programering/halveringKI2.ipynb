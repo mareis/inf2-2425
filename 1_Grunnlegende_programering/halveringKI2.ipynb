{
 "cells": [
  {
   "cell_type": "markdown",
   "metadata": {},
   "source": [
    "# Halveringsmetoden (Biseksjonsmetoden)\n",
    "\n",
    "Halveringsmetoden, også kjent som biseksjonsmetoden, er en effektiv numerisk teknikk for å finne røttene til en kontinuerlig funksjon. Metoden utnytter det faktum at hvis en funksjon skifter fortegn over et intervall, må det finnes minst én rot innenfor dette intervallet (ifølge mellomverditeoremet).\n",
    "\n",
    "## Hva er en rot?\n",
    "\n",
    "En rot til funksjonen \\(f(x)\\) er en verdi \\(x = c\\) slik at \\(f(c) = 0\\). For eksempel, hvis \\(f(x) = x^2 - 4\\), er røttene \\(x = 2\\) og \\(x = -2\\).\n",
    "\n",
    "## Når bruker vi halveringsmetoden?\n",
    "\n",
    "- Når vi har en kontinuerlig funksjon.\n",
    "- Når vi kan identifisere et intervall \\([a, b]\\) hvor funksjonen skifter fortegn, altså \\(f(a) \\, f(b) < 0\\).\n",
    "- Når analytiske metoder er vanskelige eller umulige å bruke.\n",
    "\n",
    "## Fordeler med halveringsmetoden:\n",
    "\n",
    "- Enkel å implementere.\n",
    "- Gir pålitelig konvergens så lenge funksjonen er kontinuerlig og intervallet inneholder en rot.\n",
    "- Krever ikke beregning av derivater.\n",
    "\n",
    "## Ulemper:\n",
    "\n",
    "- Konvergerer saktere enn andre metoder som Newton-Raphson.\n",
    "- Krever at vi kan identifisere et intervall der funksjonen skifter fortegn.\n"
  },
  {
   "cell_type": "markdown",
   "metadata": {},
   "source": [
    "## Trinnene i Halveringsmetoden\n",
    "\n",
    "1. **Velg et startintervall \\([a, b]\\)**:\n",
    "   - Sørg for at \\(f(a) \\, f(b) < 0\\). Dette sikrer at det finnes minst én rot i intervallet.\n",
    "\n",
    "2. **Beregn midtpunktet \\(c = \\frac{a + b}{2}\\)**.\n",
    "\n",
    "3. **Evaluer \\(f(c)\\)**:\n",
    "   - Hvis \\(f(c) = 0\\) eller intervallet \\([a, b]\\) er mindre enn ønsket toleranse, har vi funnet roten.\n",
    "   - Hvis \\(f(a) \\, f(c) < 0\\), sett \\(b = c\\).\n",
    "   - Hvis \\(f(c) \\, f(b) < 0\\), sett \\(a = c\\).\n",
    "\n",
    "4. **Gjenta trinn 2-3** til ønsket nøyaktighet er oppnådd.\n"
  },
  {
   "cell_type": "markdown",
   "metadata": {},
   "source": [
    "## Illustrasjon av Halveringsmetoden\n",
    "\n",
    "La oss visualisere hvordan halveringsmetoden fungerer ved å bruke en graf."
  },
  {
   "cell_type": "code",
   "execution_count": null,
   "metadata": {},
   "outputs": [],
   "source": [
    "import matplotlib.pyplot as plt\n",
    "import numpy as np\n",
    "\n",
    "def plot_function(f, a, b, c=None, iteration=None):\n",
    "    x = np.linspace(a - 1, b + 1, 400)\n",
    "    y = f(x)\n",
    "    plt.figure(figsize=(10, 6))\n",
    "    plt.plot(x, y, label='f(x)')\n",
    "    plt.axhline(0, color='black', linewidth=0.5)\n",
    "    plt.axvline(a, color='red', linestyle='--', label='a')\n",
    "    plt.axvline(b, color='green', linestyle='--', label='b')\n",
    "    if c is not None:\n",
    "        plt.axvline(c, color='blue', linestyle='--', label='c (Midtpunkt)')\n",
    "    plt.legend()\n",
    "    if iteration is not None:\n",
    "        plt.title(f'Halveringsmetoden - Iterasjon {iteration}')\n",
    "    else:\n",
    "        plt.title('Grafisk Representasjon av f(x) og Startintervall')\n",
    "    plt.xlabel('x')\n",
    "    plt.ylabel('f(x)')\n",
    "    plt.grid(True)\n",
    "    plt.show()\n"
  },
  {
   "cell_type": "markdown",
   "metadata": {},
   "source": [
    "I denne koden definerer vi en funksjon `plot_function` som tar inn funksjonen \\(f(x)\\), intervallet \\([a, b]\\), det aktuelle midtpunktet \\(c\\), og iterasjonsnummeret. Den plotter funksjonen og markerer intervallet og midtpunktet for å gi en visuell forståelse av hvor metoden opererer."
  },
  {
   "cell_type": "markdown",
   "metadata": {},
   "source": [
    "## Eksempel: Finne en rot av \\(f(x) = x^3 - x - 2\\) i intervallet \\([1, 2]\\)\n",
    "\n",
    "Vi skal finne en rot til funksjonen \\(f(x) = x^3 - x - 2\\) i intervallet \\([1, 2]\\). Først verifiserer vi at det er en rot i dette intervallet ved å sjekke at funksjonen skifter fortegn."
  },
  {
   "cell_type": "code",
   "execution_count": null,
   "metadata": {},
   "outputs": [],
   "source": [
    "def f(x):\n",
    "    return x**3 - x - 2\n",
    "\n",
    "a = 1\n",
    "b = 2\n\n",
    "fa = f(a)\n",
    "fb = f(b)\n\n",
    "print(f\"f({a}) = {fa}\")\n",
    "print(f\"f({b}) = {fb}\")\n\n",
    "if fa * fb < 0:\n",
    "    print(f\"Det finnes minst én rot i intervallet [{a}, {b}].\")\n",
    "    plot_function(f, a, b)\n",
    "else:\n",
    "    print(\"Ingen rot funnet i det gitte intervallet.\")"
  },
  {
   "cell_type": "markdown",
   "metadata": {},
   "source": [
    "Utgangen viser at \\(f(1) = -2\\) og \\(f(2) = 4\\), som har motsatte fortegn. Derfor finnes det minst én rot i \\([1, 2]\\). La oss nå implementere halveringsmetoden og se hvordan den konvergerer mot roten."
  },
  {
   "cell_type": "code",
   "execution_count": null,
   "metadata": {},
   "outputs": [],
   "source": [
    "def bisection_method(f, a, b, tolerance=1e-6, max_iterations=100):\n",
    "    fa = f(a)\n",
    "    fb = f(b)\n\n",
    "    if fa * fb >= 0:\n",
    "        print(\"Halveringsmetoden kan ikke brukes. Funksjonen må skifte fortegn i intervallet.\")\n",
    "        return None\n\n",
    "    iteration = 0\n\n",
    "    while (b - a) / 2 > tolerance and iteration < max_iterations:\n",
    "        c = (a + b) / 2\n",
    "        fc = f(c)\n",
    "        print(f\"Iterasjon {iteration}: a = {a}, b = {b}, c = {c}, f(c) = {fc}\")\n",
    "        plot_function(f, a, b, c, iteration)\n\n",
    "        if fc == 0:\n",
    "            print(f\"Eksakt rot funnet: x = {c}\")\n",
    "            return c\n"
    "        elif fa * fc < 0:\n",
    "            b = c\n",
    "            fb = fc\n",
    "        else:\n",
    "            a = c\n",
    "            fa = fc\n",
    "        iteration += 1\n\n",
    "    approx_root = (a + b) / 2\n",
    "    print(f\"Tilnærmet rot etter {iteration} iterasjoner: x = {approx_root}\")\n",
    "    return approx_root\n"
  },
  {
   "cell_type": "markdown",
   "metadata": {},
   "source": [
    "Denne funksjonen implementerer halveringsmetoden. Den tar inn funksjonen \\(f\\), intervallet \\([a, b]\\), ønsket toleranse, og maksimalt antall iterasjoner. For hver iterasjon beregner den midtpunktet \\(c\\), evaluerer \\(f(c)\\), og oppdaterer intervallet basert på fortegnskontrollen. Den plotter også funksjonen og intervallet ved hver iterasjon for visuell forståelse."
  },
  {
   "cell_type": "code",
   "execution_count": null,
   "metadata": {},
   "outputs": [],
   "source": [
    "approx_root = bisection_method(f, a, b)\n"
  },
  {
   "cell_type": "markdown",
   "metadata": {},
   "source": [
    "### Resultat\n",
    "\n",
    "Etter flere iterasjoner vil metoden konvergere mot roten med den spesifiserte toleransen. Plottene for hver iterasjon viser hvordan intervallet blir stadig mindre, og midtpunktet nærmer seg roten."
  },
  {
   "cell_type": "markdown",
   "metadata": {},
   "source": [
    "## Oppgaver\n",
    "\n",
    "1. **Funksjon \\(f(x) = x^2 - 5\\) i intervallet \\([2, 3]\\)**\n",
    "   - Bruk halveringsmetoden for å finne en rot av funksjonen \\(f(x) = x^2 - 5\\) i intervallet \\([2, 3]\\).\n",
    "   - Bruk en toleranse på \\(1 \\times 10^{-6}\\).\n",
    "   - Implementer koden og visualiser iterasjonene.\n",
    "\n",
    "2. **Funksjon \\(f(x) = \\cos(x) - x\\) mellom \\(x = 0\\) og \\(x = 1\\)**\n",
    "   - Finn roten til funksjonen \\(f(x) = \\cos(x) - x\\) ved hjelp av halveringsmetoden.\n",
    "   - Bruk en toleranse på \\(1 \\times 10^{-6}\\).\n",
    "   - Visualiser hver iterasjon.\n",
    "\n",
    "3. **Egnerdefinert funksjon**\n",
    "   - Velg en valgfri kontinuerlig funksjon \\(f(x)\\) og et intervall \\([a, b]\\) der du vet at det finnes en rot (dvs. \\(f(a) \\, f(b) < 0\\)).\n",
    "   - Implementer halveringsmetoden for å finne roten.\n",
    "   - Dokumenter trinnene dine med passende plots for hver iterasjon.\n",
    "\n",
    "## Tips for Oppgavene\n",
    "\n",
    "- Sørg for at funksjonen er kontinuerlig i det valgte intervallet.\n",
    "- Verifiser at \\(f(a) \\, f(b) < 0\\) før du starter metoden.\n",
    "- Bruk plotting for å få en bedre forståelse av hvordan metoden konvergerer mot roten.\n",
    "- Test koden din med forskjellige funksjoner og intervaller for å se hvordan metoden oppfører seg."
  },
  {
   "cell_type": "markdown",
   "metadata": {},
   "source": [
    "## Ekstra: Visualisering av Konvergens\n",
    "\n",
    "La oss se på hvordan halveringsmetoden konvergerer mot roten ved å plotte avstanden til den virkelige roten over iterasjonene."
  },
   "cell_type": "code",
   "execution_count": null,
   "metadata": {},
   "outputs": [],
   "source": [
    "def bisection_method_with_convergence(f, a, b, tolerance=1e-6, max_iterations=100, true_root=None):\n",
    "    fa = f(a)\n",
    "    fb = f(b)\n\n",
    "    if fa * fb >= 0:\n",
    "        print(\"Halveringsmetoden kan ikke brukes. Funksjonen må skifte fortegn i intervallet.\")\n",
    "        return None, None\n\n",
    "    iteration = 0\n\n",
    "    roots = []\n",
    "    errors = []\n\n",
    "    while (b - a) / 2 > tolerance and iteration < max_iterations:\n",
    "        c = (a + b) / 2\n",
    "        fc = f(c)\n",
    "        roots.append(c)\n\n",
    "        if true_root is not None:\n",
    "            errors.append(abs(c - true_root))\n\n",
    "        if fc == 0:\n",
    "            print(f\"Eksakt rot funnet: x = {c}\")\n",
    "            break\n",
    "        elif fa * fc < 0:\n",
    "            b = c\n",
    "            fb = fc\n",
    "        else:\n",
    "            a = c\n",
    "            fa = fc\n\n",
    "        iteration += 1\n\n",
    "    approx_root = (a + b) / 2\n\n",
    "    if true_root is not None:\n",
    "        plt.figure(figsize=(10, 6))\n",
    "        plt.plot(range(1, iteration + 1), errors, marker='o')\n",
    "        plt.yscale('log')\n",
    "        plt.title('Konvergens av Halveringsmetoden')\n",
    "        plt.xlabel('Iterasjon')\n",
    "        plt.ylabel('Absolutt feil')\n",
    "        plt.grid(True, which='both', ls='--')\n",
    "        plt.show()\n\n",
    "    print(f\"Tilnærmet rot etter {iteration} iterasjoner: x = {approx_root}\")\n\n",
    "    return approx_root, errors\n"
  },
  {
   "cell_type": "markdown",
   "metadata": {},
   "source": [
    "Denne utvidede funksjonen, `bisection_method_with_convergence`, beregner også avstanden mellom den tilnærmede roten og den virkelige roten (hvis kjent) for hver iterasjon. Dette gir oss en grafisk representasjon av konvergensen til metoden."
  ],
  {
   "cell_type": "markdown",
   "metadata": {},
   "source": [
    "### Eksempel på Konvergens\n",
    "\n",
    "Anta at den virkelige roten til \\(f(x) = x^3 - x - 2\\) i intervallet \\([1, 2]\\) er omtrent \\(1.52138\\). La oss bruke den utvidede funksjonen til å visualisere konvergensen."
  },
  {
   "cell_type": "code",
   "execution_count": null,
   "metadata": {},
   "outputs": [],
   "source": [
    "true_root = 1.52138\n",
    "approx_root, errors = bisection_method_with_convergence(f, a, b, true_root=true_root)"
  },
  {
   "cell_type": "markdown",
   "metadata": {},
   "source": [
    "Grafen viser hvordan den absolutte feilen reduseres over iterasjonene, og demonstrerer den logaritmiske reduksjonen i feil, noe som bekrefter den konsistente konvergensen til halveringsmetoden."
  }
 ],
 "metadata": {
  "kernelspec": {
   "display_name": "Python 3",
   "language": "python",
   "name": "python3"
  },
  "language_info": {
   "name": "python",
   "version": "3.9.7"
  }
 },
 "nbformat": 4,
 "nbformat_minor": 5
}
