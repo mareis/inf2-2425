{
 "cells": [
  {
   "cell_type": "markdown",
   "metadata": {},
   "source": [
    "### Halveringsmetoden\n",
    "\n",
    "Halveringsmetoden, også kjent som biseksjonsmetoden, er en numerisk metode for å finne røttene til en kontinuerlig funksjon. Metoden fungerer ved å gjentatte ganger halvere intervallet der funksjonen skifter fortegn, til en tilstrekkelig nøyaktig tilnærming av roten er funnet.\n",
    "\n",
    "#### Trinnene i halveringsmetoden:\n",
    "\n",
    "1. **Velg et startintervall \\([a, b]\\)** slik at \\(f(a)\\) og \\(f(b)\\) har motsatte fortegn, det vil si \\(f(a) \\cdot f(b) < 0\\). Dette sikrer at det finnes minst én rot i intervallet på grunn av den mellomliggende verdi-teoremet.\n",
    "\n",
    "2. **Beregn midtpunktet** \\(c = \\frac{a + b}{2}\\).\n",
    "\n",
    "3. **Evaluer \\(f(c)\\)**.\n",
    "\n",
    "    - Hvis \\(f(c) = 0\\) eller intervallet er mindre enn ønsket toleranse, stopper vi. Roten er funnet.\n",
    "    - Hvis \\(f(a) \\cdot f(c) < 0\\), settes \\(b = c\\).\n",
    "    - Hvis \\(f(c) \\cdot f(b) < 0\\), settes \\(a = c\\).\n",
    "\n",
    "4. **Gjenta trinn 2-3** til ønsket nøyaktighet er oppnådd."
   ]
  },
  {
   "cell_type": "markdown",
   "metadata": {},
   "source": [
    "### Eksempel\n",
    "\n",
    "La oss finne en rot av funksjonen \\(f(x) = x^3 - x - 2\\) i intervallet \\([1, 2]\\).\n",
    "\n",
    "#### Trinn 1:\n",
    "\n",
    "Vi sjekker at \\(f(1) = 1^3 - 1 - 2 = -2\\) og \\(f(2) = 2^3 - 2 - 2 = 4\\).\n",
    "\n",
    "Siden \\(f(1) \\cdot f(2) = (-2) \\cdot 4 = -8 < 0\\), er det en rot mellom \\(x = 1\\) og \\(x = 2\\).\n",
    "\n",
    "#### Trinn 2-4:\n",
    "\n",
    "Vi implementerer halveringsmetoden i Python:"
   ]
  },
  {
   "cell_type": "code",
   "execution_count": null,
   "metadata": {},
   "outputs": [],
   "source": [
    "def f(x):\n",
    "    return x**3 - x - 2\n",
    "\n",
    "a = 1\n",
    "b = 2\n",
    "tolerance = 1e-6\n",
    "max_iterations = 100\n",
    "iteration = 0\n",
    "\n",
    "while (b - a) / 2 > tolerance and iteration < max_iterations:\n",
    "    c = (a + b) / 2\n",
    "    fc = f(c)\n",
    "    print(f\"Iterasjon {iteration}: c = {c}, f(c) = {fc}\")\n",
    "    if fc == 0:\n",
    "        print(f\"Funnet eksakt rot: x = {c}\")\n",
    "        break\n",
    "    elif f(a) * fc < 0:\n",
    "        b = c\n",
    "    else:\n",
    "        a = c\n",
    "    iteration += 1\n",
    "\n",
    "approx_root = (a + b) / 2\n",
    "print(f\"Tilnærmet rot: x = {approx_root}\")"
   ]
  },
  {
   "cell_type": "markdown",
   "metadata": {},
   "source": [
    "### Oppgaver\n",
    "\n",
    "1. Bruk halveringsmetoden for å finne en rot av funksjonen \\(f(x) = x^2 - 5\\) i intervallet \\([2, 3]\\). Bruk en toleranse på \\(1 \\times 10^{-6}\\).\n",
    "\n",
    "2. Finn roten til funksjonen \\(f(x) = \\cos(x) - x\\) mellom \\(x = 0\\) og \\(x = 1\\) ved hjelp av halveringsmetoden.\n",
    "\n",
    "3. Implementer halveringsmetoden for en valgfri funksjon og intervall der du vet at det finnes en rot. Dokumenter trinnene dine."
   ]
  }
 ],
 "metadata": {
  "kernelspec": {
   "display_name": "Python 3",
   "language": "python",
   "name": "python3"
  },
  "language_info": {
   "name": "python",
   "version": ""
  }
 },
 "nbformat": 4,
 "nbformat_minor": 4
}