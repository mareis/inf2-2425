{
 "cells": [
  {
   "metadata": {},
   "cell_type": "markdown",
   "source": "## Sekvensielle trinn",
   "id": "7c36df535d3fe74b"
  },
  {
   "metadata": {
    "ExecuteTime": {
     "end_time": "2024-09-06T10:23:49.413294Z",
     "start_time": "2024-09-06T10:23:49.397293Z"
    }
   },
   "cell_type": "code",
   "source": [
    "x = 2\n",
    "print(x)\n",
    "x = x + 2\n",
    "print(x)"
   ],
   "id": "48a576fc1db94578",
   "outputs": [
    {
     "name": "stdout",
     "output_type": "stream",
     "text": [
      "2\n",
      "4\n"
     ]
    }
   ],
   "execution_count": 34
  },
  {
   "metadata": {},
   "cell_type": "markdown",
   "source": "## Betingede trinn",
   "id": "9997494b7cf31d1"
  },
  {
   "metadata": {
    "ExecuteTime": {
     "end_time": "2024-09-06T10:23:49.649795Z",
     "start_time": "2024-09-06T10:23:49.630209Z"
    }
   },
   "cell_type": "code",
   "source": [
    "x = 100\n",
    "if x < 100:\n",
    "    print(\"Tallet er mindre enn 10\" )\n",
    "elif x > 100:\n",
    "    print(\"Tallet er størren enn 10\")\n",
    "else:\n",
    "    print(\"💯‼\")"
   ],
   "id": "4649e91230d527fa",
   "outputs": [
    {
     "name": "stdout",
     "output_type": "stream",
     "text": [
      "💯‼\n"
     ]
    }
   ],
   "execution_count": 35
  },
  {
   "metadata": {},
   "cell_type": "markdown",
   "source": "## Repeterende steg",
   "id": "9f16f35596aea660"
  },
  {
   "metadata": {
    "ExecuteTime": {
     "end_time": "2024-09-06T10:23:49.808777Z",
     "start_time": "2024-09-06T10:23:49.787781Z"
    }
   },
   "cell_type": "code",
   "source": [
    "n = 10\n",
    "while n > 0:\n",
    "    print(n)\n",
    "    n = n - 1\n",
    "    \n",
    "print(\"Ignition!🪐\")\n",
    "    "
   ],
   "id": "90e3d509042e73f9",
   "outputs": [
    {
     "name": "stdout",
     "output_type": "stream",
     "text": [
      "10\n",
      "9\n",
      "8\n",
      "7\n",
      "6\n",
      "5\n",
      "4\n",
      "3\n",
      "2\n",
      "1\n",
      "Ignition!🪐\n"
     ]
    }
   ],
   "execution_count": 36
  },
  {
   "metadata": {
    "ExecuteTime": {
     "end_time": "2024-09-06T10:23:49.950787Z",
     "start_time": "2024-09-06T10:23:49.938784Z"
    }
   },
   "cell_type": "code",
   "source": "",
   "id": "27b87892bb96acf8",
   "outputs": [],
   "execution_count": null
  },
  {
   "metadata": {},
   "cell_type": "markdown",
   "source": [
    "# Variabelnavn\n",
    "\n",
    "### Reserverte navn 🙅‍♂️"
   ],
   "id": "cf39599b300f9df9"
  },
  {
   "cell_type": "code",
   "id": "initial_id",
   "metadata": {
    "collapsed": true,
    "ExecuteTime": {
     "end_time": "2024-09-06T10:23:50.077401Z",
     "start_time": "2024-09-06T10:23:50.066783Z"
    }
   },
   "source": [
    "import keyword\n",
    "print(keyword.kwlist)"
   ],
   "outputs": [
    {
     "name": "stdout",
     "output_type": "stream",
     "text": [
      "['False', 'None', 'True', '__peg_parser__', 'and', 'as', 'assert', 'async', 'await', 'break', 'class', 'continue', 'def', 'del', 'elif', 'else', 'except', 'finally', 'for', 'from', 'global', 'if', 'import', 'in', 'is', 'lambda', 'nonlocal', 'not', 'or', 'pass', 'raise', 'return', 'try', 'while', 'with', 'yield']\n"
     ]
    }
   ],
   "execution_count": 37
  },
  {
   "metadata": {},
   "cell_type": "markdown",
   "source": "",
   "id": "2b233665aab4dafe"
  },
  {
   "metadata": {
    "ExecuteTime": {
     "end_time": "2024-09-06T10:23:50.235644Z",
     "start_time": "2024-09-06T10:23:50.221111Z"
    }
   },
   "cell_type": "code",
   "source": [
    "spille_volleyball = \"Ja 😀\"\n",
    "spille_volleyball = \"Nei 😪\""
   ],
   "id": "c4aa881a58185bae",
   "outputs": [],
   "execution_count": 38
  },
  {
   "metadata": {},
   "cell_type": "markdown",
   "source": "### Konstanter",
   "id": "c9e5f8b4632de6b7"
  },
  {
   "metadata": {
    "ExecuteTime": {
     "end_time": "2024-09-06T10:23:50.377684Z",
     "start_time": "2024-09-06T10:23:50.348629Z"
    }
   },
   "cell_type": "code",
   "source": "FØDSELSÅR = 1983\n",
   "id": "f934682cc99018b6",
   "outputs": [],
   "execution_count": 39
  },
  {
   "metadata": {
    "ExecuteTime": {
     "end_time": "2024-09-06T10:24:00.536913Z",
     "start_time": "2024-09-06T10:23:50.487719Z"
    }
   },
   "cell_type": "code",
   "source": [
    "navn = input(\"Hva heter du?\")\n",
    "print(f'Hei, {navn}!')"
   ],
   "id": "7b6e11c05983c1fd",
   "outputs": [
    {
     "name": "stdout",
     "output_type": "stream",
     "text": [
      "Hei, OK!\n"
     ]
    }
   ],
   "execution_count": 40
  },
  {
   "metadata": {
    "ExecuteTime": {
     "end_time": "2024-09-06T10:24:00.675980Z",
     "start_time": "2024-09-06T10:24:00.643809Z"
    }
   },
   "cell_type": "code",
   "source": "type('Tekststreng')",
   "id": "b7a2be9a0c126226",
   "outputs": [
    {
     "data": {
      "text/plain": [
       "str"
      ]
     },
     "execution_count": 41,
     "metadata": {},
     "output_type": "execute_result"
    }
   ],
   "execution_count": 41
  },
  {
   "metadata": {
    "ExecuteTime": {
     "end_time": "2024-09-06T10:24:00.892390Z",
     "start_time": "2024-09-06T10:24:00.858427Z"
    }
   },
   "cell_type": "code",
   "source": [
    "tittel = \"informasjonsteknologi 2\"\n",
    "type(tittel)"
   ],
   "id": "539d45753c89186f",
   "outputs": [
    {
     "data": {
      "text/plain": [
       "str"
      ]
     },
     "execution_count": 42,
     "metadata": {},
     "output_type": "execute_result"
    }
   ],
   "execution_count": 42
  },
  {
   "metadata": {
    "ExecuteTime": {
     "end_time": "2024-09-06T10:24:01.100889Z",
     "start_time": "2024-09-06T10:24:01.085260Z"
    }
   },
   "cell_type": "code",
   "source": "tittel.capitalize()",
   "id": "c558da098525e403",
   "outputs": [
    {
     "data": {
      "text/plain": [
       "'Informasjonsteknologi 2'"
      ]
     },
     "execution_count": 43,
     "metadata": {},
     "output_type": "execute_result"
    }
   ],
   "execution_count": 43
  },
  {
   "metadata": {
    "ExecuteTime": {
     "end_time": "2024-09-06T10:24:01.198369Z",
     "start_time": "2024-09-06T10:24:01.182762Z"
    }
   },
   "cell_type": "code",
   "source": "tittel.upper()",
   "id": "fcc53c12a7f20624",
   "outputs": [
    {
     "data": {
      "text/plain": [
       "'INFORMASJONSTEKNOLOGI 2'"
      ]
     },
     "execution_count": 44,
     "metadata": {},
     "output_type": "execute_result"
    }
   ],
   "execution_count": 44
  },
  {
   "metadata": {
    "ExecuteTime": {
     "end_time": "2024-09-06T10:24:01.367852Z",
     "start_time": "2024-09-06T10:24:01.329999Z"
    }
   },
   "cell_type": "code",
   "source": [
    "heltall = 5\n",
    "type(heltall)"
   ],
   "id": "d5fb1462ed483450",
   "outputs": [
    {
     "data": {
      "text/plain": [
       "int"
      ]
     },
     "execution_count": 45,
     "metadata": {},
     "output_type": "execute_result"
    }
   ],
   "execution_count": 45
  },
  {
   "metadata": {
    "ExecuteTime": {
     "end_time": "2024-09-06T10:24:01.622099Z",
     "start_time": "2024-09-06T10:24:01.590830Z"
    }
   },
   "cell_type": "code",
   "source": [
    "desimaltall = 3.14\n",
    "type(desimaltall)"
   ],
   "id": "27a396b62bca99d8",
   "outputs": [
    {
     "data": {
      "text/plain": [
       "float"
      ]
     },
     "execution_count": 46,
     "metadata": {},
     "output_type": "execute_result"
    }
   ],
   "execution_count": 46
  },
  {
   "metadata": {
    "ExecuteTime": {
     "end_time": "2024-09-06T10:24:01.810530Z",
     "start_time": "2024-09-06T10:24:01.785529Z"
    }
   },
   "cell_type": "code",
   "source": [
    "regner = True\n",
    "type(regner)"
   ],
   "id": "42b781335690799a",
   "outputs": [
    {
     "data": {
      "text/plain": [
       "bool"
      ]
     },
     "execution_count": 47,
     "metadata": {},
     "output_type": "execute_result"
    }
   ],
   "execution_count": 47
  },
  {
   "metadata": {
    "ExecuteTime": {
     "end_time": "2024-09-06T10:24:06.412912Z",
     "start_time": "2024-09-06T10:24:01.891585Z"
    }
   },
   "cell_type": "code",
   "source": [
    "tall1 = int(input(\"tall 1:\"))\n",
    "tall2 = int(input(\"tall 2:\"))\n",
    "tall = tall1*tall2\n",
    "print(tall)"
   ],
   "id": "3f2e5f774a6384e3",
   "outputs": [
    {
     "name": "stdout",
     "output_type": "stream",
     "text": [
      "2\n"
     ]
    }
   ],
   "execution_count": 48
  },
  {
   "metadata": {
    "ExecuteTime": {
     "end_time": "2024-09-06T10:24:06.527625Z",
     "start_time": "2024-09-06T10:24:06.482055Z"
    }
   },
   "cell_type": "code",
   "source": [
    "from math import sqrt, cos, pi\n",
    "sqrt(9)"
   ],
   "id": "9597c37e0393eb6c",
   "outputs": [
    {
     "data": {
      "text/plain": [
       "3.0"
      ]
     },
     "execution_count": 49,
     "metadata": {},
     "output_type": "execute_result"
    }
   ],
   "execution_count": 49
  },
  {
   "metadata": {
    "ExecuteTime": {
     "end_time": "2024-09-06T10:24:06.700913Z",
     "start_time": "2024-09-06T10:24:06.675383Z"
    }
   },
   "cell_type": "code",
   "source": "cos(pi)",
   "id": "a16e4623460dcf55",
   "outputs": [
    {
     "data": {
      "text/plain": [
       "-1.0"
      ]
     },
     "execution_count": 50,
     "metadata": {},
     "output_type": "execute_result"
    }
   ],
   "execution_count": 50
  },
  {
   "metadata": {
    "ExecuteTime": {
     "end_time": "2024-09-06T10:24:07.199298Z",
     "start_time": "2024-09-06T10:24:06.840728Z"
    }
   },
   "cell_type": "code",
   "source": [
    "import numpy as np\n",
    "\n",
    "np.sqrt(9)"
   ],
   "id": "9c6d887fcef8a2a4",
   "outputs": [
    {
     "data": {
      "text/plain": [
       "3.0"
      ]
     },
     "execution_count": 51,
     "metadata": {},
     "output_type": "execute_result"
    }
   ],
   "execution_count": 51
  },
  {
   "metadata": {},
   "cell_type": "markdown",
   "source": "# Egenskaper og metoder til objekter",
   "id": "f7e8a29439cee377"
  },
  {
   "metadata": {
    "ExecuteTime": {
     "end_time": "2024-09-06T10:24:07.329529Z",
     "start_time": "2024-09-06T10:24:07.299613Z"
    }
   },
   "cell_type": "code",
   "source": [
    "class Person:\n",
    "    fornavn = \"N\"\n",
    "    etternavn = \"N\"\n",
    "    \n",
    "    \n",
    "person1 = Person()\n",
    "\n",
    "print(person1.fornavn)\n",
    "person1.fornavn = \"Ola\"\n",
    "person1.etternavn = \"Normann\"\n",
    "\n",
    "print(person1.fornavn)"
   ],
   "id": "2fa9e23b393dcfcd",
   "outputs": [
    {
     "name": "stdout",
     "output_type": "stream",
     "text": [
      "N\n",
      "Ola\n"
     ]
    }
   ],
   "execution_count": 52
  },
  {
   "metadata": {
    "ExecuteTime": {
     "end_time": "2024-09-06T10:24:07.468610Z",
     "start_time": "2024-09-06T10:24:07.460640Z"
    }
   },
   "cell_type": "code",
   "source": "person2 = Person()",
   "id": "4a51c0ec4a5301b6",
   "outputs": [],
   "execution_count": 53
  },
  {
   "metadata": {},
   "cell_type": "markdown",
   "source": [
    "# Operasjoner i Python\n",
    "\n",
    "/ * + - // % ** "
   ],
   "id": "489b5a6dec745f00"
  },
  {
   "metadata": {
    "ExecuteTime": {
     "end_time": "2024-09-06T10:24:07.536434Z",
     "start_time": "2024-09-06T10:24:07.505149Z"
    }
   },
   "cell_type": "code",
   "source": "5//2",
   "id": "fa7846c54cd8c838",
   "outputs": [
    {
     "data": {
      "text/plain": [
       "2"
      ]
     },
     "execution_count": 54,
     "metadata": {},
     "output_type": "execute_result"
    }
   ],
   "execution_count": 54
  },
  {
   "metadata": {
    "ExecuteTime": {
     "end_time": "2024-09-06T10:24:07.678348Z",
     "start_time": "2024-09-06T10:24:07.665750Z"
    }
   },
   "cell_type": "code",
   "source": "5%2",
   "id": "44ed271f4fc6cb83",
   "outputs": [
    {
     "data": {
      "text/plain": [
       "1"
      ]
     },
     "execution_count": 55,
     "metadata": {},
     "output_type": "execute_result"
    }
   ],
   "execution_count": 55
  },
  {
   "metadata": {
    "ExecuteTime": {
     "end_time": "2024-09-06T10:24:07.773899Z",
     "start_time": "2024-09-06T10:24:07.757912Z"
    }
   },
   "cell_type": "code",
   "source": "2**4",
   "id": "af8c46312a533bde",
   "outputs": [
    {
     "data": {
      "text/plain": [
       "16"
      ]
     },
     "execution_count": 56,
     "metadata": {},
     "output_type": "execute_result"
    }
   ],
   "execution_count": 56
  },
  {
   "metadata": {
    "ExecuteTime": {
     "end_time": "2024-09-06T10:24:07.915897Z",
     "start_time": "2024-09-06T10:24:07.892897Z"
    }
   },
   "cell_type": "code",
   "source": [
    "\n",
    "\n",
    "avstand_km = 5914 \n",
    "fart_knop = 370\n",
    "fart_kmt = fart_knop*1.852\n",
    "flytid = avstand_km/fart_kmt\n",
    "print(flytid)\n",
    "\n",
    "timer = int(flytid)\n",
    "print(timer)\n"
   ],
   "id": "8a2967361c01ca00",
   "outputs": [
    {
     "name": "stdout",
     "output_type": "stream",
     "text": [
      "8.630552799019322\n",
      "8\n"
     ]
    }
   ],
   "execution_count": 57
  },
  {
   "metadata": {
    "ExecuteTime": {
     "end_time": "2024-09-06T10:24:08.059005Z",
     "start_time": "2024-09-06T10:24:08.035916Z"
    }
   },
   "cell_type": "code",
   "source": [
    "timer = int(flytid)\n",
    "minutter = int((flytid-timer)*60)\n",
    "sekunder = int(round((flytid-timer-minutter/60)*3600, 0))\n",
    "timer, minutter, sekunder"
   ],
   "id": "b62c9469014d1b92",
   "outputs": [
    {
     "data": {
      "text/plain": [
       "(8, 37, 50)"
      ]
     },
     "execution_count": 58,
     "metadata": {},
     "output_type": "execute_result"
    }
   ],
   "execution_count": 58
  },
  {
   "metadata": {
    "ExecuteTime": {
     "end_time": "2024-09-06T10:24:08.186016Z",
     "start_time": "2024-09-06T10:24:08.161021Z"
    }
   },
   "cell_type": "code",
   "source": [
    "tittel = 'Smidig IT 2 med Python'\n",
    "tittel.capitalize()"
   ],
   "id": "9c59a2d49caaf411",
   "outputs": [
    {
     "data": {
      "text/plain": [
       "'Smidig it 2 med python'"
      ]
     },
     "execution_count": 59,
     "metadata": {},
     "output_type": "execute_result"
    }
   ],
   "execution_count": 59
  },
  {
   "metadata": {
    "ExecuteTime": {
     "end_time": "2024-09-06T10:24:08.295210Z",
     "start_time": "2024-09-06T10:24:08.277017Z"
    }
   },
   "cell_type": "code",
   "source": "tittel.upper()",
   "id": "394a042e6ef8e866",
   "outputs": [
    {
     "data": {
      "text/plain": [
       "'SMIDIG IT 2 MED PYTHON'"
      ]
     },
     "execution_count": 60,
     "metadata": {},
     "output_type": "execute_result"
    }
   ],
   "execution_count": 60
  },
  {
   "metadata": {
    "ExecuteTime": {
     "end_time": "2024-09-06T10:24:08.406233Z",
     "start_time": "2024-09-06T10:24:08.388230Z"
    }
   },
   "cell_type": "code",
   "source": "tittel.count('m')",
   "id": "de13b95933972257",
   "outputs": [
    {
     "data": {
      "text/plain": [
       "2"
      ]
     },
     "execution_count": 61,
     "metadata": {},
     "output_type": "execute_result"
    }
   ],
   "execution_count": 61
  },
  {
   "metadata": {
    "ExecuteTime": {
     "end_time": "2024-09-06T10:24:08.566229Z",
     "start_time": "2024-09-06T10:24:08.557229Z"
    }
   },
   "cell_type": "code",
   "source": "tittel.title()",
   "id": "354fb0ea72166af3",
   "outputs": [
    {
     "data": {
      "text/plain": [
       "'Smidig It 2 Med Python'"
      ]
     },
     "execution_count": 62,
     "metadata": {},
     "output_type": "execute_result"
    }
   ],
   "execution_count": 62
  },
  {
   "metadata": {
    "ExecuteTime": {
     "end_time": "2024-09-06T10:24:08.644873Z",
     "start_time": "2024-09-06T10:24:08.628873Z"
    }
   },
   "cell_type": "code",
   "source": "tittel.lower()",
   "id": "92a0f6e78d20021e",
   "outputs": [
    {
     "data": {
      "text/plain": [
       "'smidig it 2 med python'"
      ]
     },
     "execution_count": 63,
     "metadata": {},
     "output_type": "execute_result"
    }
   ],
   "execution_count": 63
  },
  {
   "metadata": {
    "ExecuteTime": {
     "end_time": "2024-09-06T10:24:08.739904Z",
     "start_time": "2024-09-06T10:24:08.728896Z"
    }
   },
   "cell_type": "code",
   "source": "\"1Aa\" < \"Ab\"",
   "id": "6d5dcb189099050e",
   "outputs": [
    {
     "data": {
      "text/plain": [
       "True"
      ]
     },
     "execution_count": 64,
     "metadata": {},
     "output_type": "execute_result"
    }
   ],
   "execution_count": 64
  },
  {
   "metadata": {
    "ExecuteTime": {
     "end_time": "2024-09-06T10:24:08.835896Z",
     "start_time": "2024-09-06T10:24:08.823897Z"
    }
   },
   "cell_type": "code",
   "source": "divmod(5, 2)",
   "id": "a2d80277f977a10c",
   "outputs": [
    {
     "data": {
      "text/plain": [
       "(2, 1)"
      ]
     },
     "execution_count": 65,
     "metadata": {},
     "output_type": "execute_result"
    }
   ],
   "execution_count": 65
  },
  {
   "metadata": {
    "ExecuteTime": {
     "end_time": "2024-09-06T10:24:08.914879Z",
     "start_time": "2024-09-06T10:24:08.905882Z"
    }
   },
   "cell_type": "code",
   "source": [
    "timer, rest = divmod(flytid*3600, 3600)\n",
    "minutter, rest = divmod(rest, 60)\n",
    "sekunder = round(rest, 0)"
   ],
   "id": "c17c25dbcef0766f",
   "outputs": [],
   "execution_count": 66
  },
  {
   "metadata": {
    "ExecuteTime": {
     "end_time": "2024-09-06T10:24:09.022740Z",
     "start_time": "2024-09-06T10:24:08.999305Z"
    }
   },
   "cell_type": "code",
   "source": "timer, minutter, sekunder",
   "id": "e815a259373ec53e",
   "outputs": [
    {
     "data": {
      "text/plain": [
       "(8.0, 37.0, 50.0)"
      ]
     },
     "execution_count": 67,
     "metadata": {},
     "output_type": "execute_result"
    }
   ],
   "execution_count": 67
  },
  {
   "metadata": {
    "ExecuteTime": {
     "end_time": "2024-09-06T10:24:09.100988Z",
     "start_time": "2024-09-06T10:24:09.087963Z"
    }
   },
   "cell_type": "code",
   "source": "rest",
   "id": "c1509ace3636e1c1",
   "outputs": [
    {
     "data": {
      "text/plain": [
       "49.990076469559426"
      ]
     },
     "execution_count": 68,
     "metadata": {},
     "output_type": "execute_result"
    }
   ],
   "execution_count": 68
  },
  {
   "metadata": {
    "ExecuteTime": {
     "end_time": "2024-09-06T10:24:09.256962Z",
     "start_time": "2024-09-06T10:24:09.182966Z"
    }
   },
   "cell_type": "code",
   "source": [
    "tekststreng = \"#¤%& 😎\"\n",
    "\n",
    "print(list(intervall))"
   ],
   "id": "213888af7c6dcdc0",
   "outputs": [
    {
     "ename": "NameError",
     "evalue": "name 'intervall' is not defined",
     "output_type": "error",
     "traceback": [
      "\u001B[1;31m---------------------------------------------------------------------------\u001B[0m",
      "\u001B[1;31mNameError\u001B[0m                                 Traceback (most recent call last)",
      "Cell \u001B[1;32mIn[69], line 3\u001B[0m\n\u001B[0;32m      1\u001B[0m tekststreng \u001B[38;5;241m=\u001B[39m \u001B[38;5;124m\"\u001B[39m\u001B[38;5;124m#¤\u001B[39m\u001B[38;5;124m%\u001B[39m\u001B[38;5;124m& 😎\u001B[39m\u001B[38;5;124m\"\u001B[39m\n\u001B[1;32m----> 3\u001B[0m \u001B[38;5;28mprint\u001B[39m(\u001B[38;5;28mlist\u001B[39m(\u001B[43mintervall\u001B[49m))\n",
      "\u001B[1;31mNameError\u001B[0m: name 'intervall' is not defined"
     ]
    }
   ],
   "execution_count": 69
  },
  {
   "metadata": {
    "ExecuteTime": {
     "end_time": "2024-09-06T10:24:09.281964400Z",
     "start_time": "2024-09-02T11:44:43.192480Z"
    }
   },
   "cell_type": "code",
   "source": [
    "for tegn in tekststreng:\n",
    "    print(tegn)"
   ],
   "id": "183720c2e2862b45",
   "outputs": [
    {
     "name": "stdout",
     "output_type": "stream",
     "text": [
      "#\n",
      "¤\n",
      "%\n",
      "&\n",
      " \n",
      "😎\n"
     ]
    }
   ],
   "execution_count": 120
  },
  {
   "metadata": {
    "ExecuteTime": {
     "end_time": "2024-09-06T10:24:09.316963900Z",
     "start_time": "2024-09-02T11:48:24.788258Z"
    }
   },
   "cell_type": "code",
   "source": [
    "liste = [4, 3.6, \"Tekst\", False]\n",
    "\n",
    "for verdi in liste:\n",
    "    print(verdi)"
   ],
   "id": "19a0c1e94f6cd17f",
   "outputs": [
    {
     "name": "stdout",
     "output_type": "stream",
     "text": [
      "4\n",
      "3.6\n",
      "Tekst\n",
      "False\n"
     ]
    }
   ],
   "execution_count": 121
  },
  {
   "metadata": {
    "ExecuteTime": {
     "end_time": "2024-09-06T10:24:09.318963100Z",
     "start_time": "2024-09-02T11:49:27.369291Z"
    }
   },
   "cell_type": "code",
   "source": [
    "intervall = range(-4, 12, 3)\n",
    "\n",
    "for tall in intervall:\n",
    "    print(tall)"
   ],
   "id": "62d2c1433d6bdc5b",
   "outputs": [
    {
     "name": "stdout",
     "output_type": "stream",
     "text": [
      "-4\n",
      "-1\n",
      "2\n",
      "5\n",
      "8\n",
      "11\n"
     ]
    }
   ],
   "execution_count": 122
  },
  {
   "metadata": {
    "ExecuteTime": {
     "end_time": "2024-09-06T10:24:09.319965100Z",
     "start_time": "2024-09-02T11:50:23.131047Z"
    }
   },
   "cell_type": "code",
   "source": [
    "for i in range(10):\n",
    "    print(\"Jump!\")"
   ],
   "id": "6545bbceec9f6be2",
   "outputs": [
    {
     "name": "stdout",
     "output_type": "stream",
     "text": [
      "Jump!\n",
      "Jump!\n",
      "Jump!\n",
      "Jump!\n",
      "Jump!\n",
      "Jump!\n",
      "Jump!\n",
      "Jump!\n",
      "Jump!\n",
      "Jump!\n"
     ]
    }
   ],
   "execution_count": 124
  },
  {
   "metadata": {
    "ExecuteTime": {
     "end_time": "2024-09-11T06:33:54.701083Z",
     "start_time": "2024-09-11T06:33:54.682843Z"
    }
   },
   "cell_type": "code",
   "source": "list(range(10))",
   "id": "9700fb855c5a2327",
   "outputs": [
    {
     "data": {
      "text/plain": [
       "[0, 1, 2, 3, 4, 5, 6, 7, 8, 9]"
      ]
     },
     "execution_count": 3,
     "metadata": {},
     "output_type": "execute_result"
    }
   ],
   "execution_count": 3
  },
  {
   "metadata": {
    "ExecuteTime": {
     "end_time": "2024-09-06T10:24:09.321967200Z",
     "start_time": "2024-09-04T06:28:26.732242Z"
    }
   },
   "cell_type": "code",
   "source": [
    "N = 6\n",
    "for i in range(1,N):\n",
    "    print(f'{\"* \"*i:^10}')"
   ],
   "id": "d0b11725b398e1f9",
   "outputs": [
    {
     "name": "stdout",
     "output_type": "stream",
     "text": [
      "    *     \n",
      "   * *    \n",
      "  * * *   \n",
      " * * * *  \n",
      "* * * * * \n"
     ]
    }
   ],
   "execution_count": 142
  },
  {
   "metadata": {
    "ExecuteTime": {
     "end_time": "2024-09-06T10:24:09.339965Z",
     "start_time": "2024-09-04T06:36:25.838801Z"
    }
   },
   "cell_type": "code",
   "source": [
    "tallene = list(range(1, 101))\n",
    "\n",
    "print()\n",
    "\n",
    "for tall in tallene:\n",
    "    if tall % 5 == 0:\n",
    "        print(f'{tall:4}')\n",
    "    else:\n",
    "        print(f'{tall:4}', end=\" \")"
   ],
   "id": "a343427ecdddd829",
   "outputs": [
    {
     "name": "stdout",
     "output_type": "stream",
     "text": [
      "   1    2    3    4    5\n",
      "   6    7    8    9   10\n",
      "  11   12   13   14   15\n",
      "  16   17   18   19   20\n",
      "  21   22   23   24   25\n",
      "  26   27   28   29   30\n",
      "  31   32   33   34   35\n",
      "  36   37   38   39   40\n",
      "  41   42   43   44   45\n",
      "  46   47   48   49   50\n",
      "  51   52   53   54   55\n",
      "  56   57   58   59   60\n",
      "  61   62   63   64   65\n",
      "  66   67   68   69   70\n",
      "  71   72   73   74   75\n",
      "  76   77   78   79   80\n",
      "  81   82   83   84   85\n",
      "  86   87   88   89   90\n",
      "  91   92   93   94   95\n",
      "  96   97   98   99  100\n"
     ]
    }
   ],
   "execution_count": 151
  },
  {
   "metadata": {
    "ExecuteTime": {
     "end_time": "2024-09-06T10:24:09.340963400Z",
     "start_time": "2024-09-04T07:07:32.903920Z"
    }
   },
   "cell_type": "code",
   "source": [
    "partall = list(range(2,101,2))\n",
    "kolonner = 7\n",
    "rader = int(len(partall)/kolonner)+1\n",
    "indeks = 0\n",
    "\n",
    "print(f'{\"______\"*kolonner} ')\n",
    "for i in range(rader):\n",
    "    for j in range(kolonner):\n",
    "        if indeks > len(partall)-1:\n",
    "            break\n",
    "        else:\n",
    "            print(f'|{partall[indeks]:4}', end=\" \")\n",
    "            indeks += 1\n",
    "        \n",
    "    print(\"|\")\n",
    "        "
   ],
   "id": "6bcebc49dd6966c5",
   "outputs": [
    {
     "name": "stdout",
     "output_type": "stream",
     "text": [
      "__________________________________________ \n",
      "|   2 |   4 |   6 |   8 |  10 |  12 |  14 |\n",
      "|  16 |  18 |  20 |  22 |  24 |  26 |  28 |\n",
      "|  30 |  32 |  34 |  36 |  38 |  40 |  42 |\n",
      "|  44 |  46 |  48 |  50 |  52 |  54 |  56 |\n",
      "|  58 |  60 |  62 |  64 |  66 |  68 |  70 |\n",
      "|  72 |  74 |  76 |  78 |  80 |  82 |  84 |\n",
      "|  86 |  88 |  90 |  92 |  94 |  96 |  98 |\n",
      "| 100 |\n"
     ]
    }
   ],
   "execution_count": 170
  },
  {
   "metadata": {
    "ExecuteTime": {
     "end_time": "2024-09-06T10:24:09.341965900Z",
     "start_time": "2024-09-04T06:42:13.498642Z"
    }
   },
   "cell_type": "code",
   "source": "partall[4]",
   "id": "7580aef29a050ae5",
   "outputs": [
    {
     "data": {
      "text/plain": [
       "10"
      ]
     },
     "execution_count": 157,
     "metadata": {},
     "output_type": "execute_result"
    }
   ],
   "execution_count": 157
  },
  {
   "metadata": {
    "ExecuteTime": {
     "end_time": "2024-09-06T10:24:09.343166900Z",
     "start_time": "2024-09-04T07:45:30.536031Z"
    }
   },
   "cell_type": "code",
   "source": [
    "a = 0\n",
    "b = 1\n",
    "c = a + b\n",
    "while c < 1000:\n",
    "    print(c)\n",
    "    a = b\n",
    "    b = c\n",
    "    c = a + b\n",
    "    \n",
    "    \n",
    "  "
   ],
   "id": "42b08864db3689bb",
   "outputs": [
    {
     "name": "stdout",
     "output_type": "stream",
     "text": [
      "1\n",
      "2\n",
      "3\n",
      "5\n",
      "8\n",
      "13\n",
      "21\n",
      "34\n",
      "55\n",
      "89\n",
      "144\n",
      "233\n",
      "377\n",
      "610\n",
      "987\n"
     ]
    }
   ],
   "execution_count": 178
  },
  {
   "metadata": {},
   "cell_type": "markdown",
   "source": "# Lister",
   "id": "e4bd5f9c167efec6"
  },
  {
   "metadata": {
    "ExecuteTime": {
     "end_time": "2024-09-06T10:24:29.464492Z",
     "start_time": "2024-09-06T10:24:29.438493Z"
    }
   },
   "cell_type": "code",
   "source": [
    "personer = [\"Irai\", \"Rocky\", \"Dole\"]\n",
    "personer[0]"
   ],
   "id": "2051270170c471dc",
   "outputs": [
    {
     "data": {
      "text/plain": [
       "'Irai'"
      ]
     },
     "execution_count": 70,
     "metadata": {},
     "output_type": "execute_result"
    }
   ],
   "execution_count": 70
  },
  {
   "metadata": {
    "ExecuteTime": {
     "end_time": "2024-09-06T10:24:29.709458Z",
     "start_time": "2024-09-06T10:24:29.681773Z"
    }
   },
   "cell_type": "code",
   "source": "personer[1]",
   "id": "2a1ec625c4aa4d5c",
   "outputs": [
    {
     "data": {
      "text/plain": [
       "'Rocky'"
      ]
     },
     "execution_count": 71,
     "metadata": {},
     "output_type": "execute_result"
    }
   ],
   "execution_count": 71
  },
  {
   "metadata": {
    "ExecuteTime": {
     "end_time": "2024-09-06T10:24:30.025905Z",
     "start_time": "2024-09-06T10:24:30.010284Z"
    }
   },
   "cell_type": "code",
   "source": [
    "for i in range(len(personer)):\n",
    "    print(i, personer[i])\n",
    "    "
   ],
   "id": "f70e3e3527f88e33",
   "outputs": [
    {
     "name": "stdout",
     "output_type": "stream",
     "text": [
      "0 Irai\n",
      "1 Rocky\n",
      "2 Dole\n"
     ]
    }
   ],
   "execution_count": 72
  },
  {
   "metadata": {
    "ExecuteTime": {
     "end_time": "2024-09-06T10:24:30.273449Z",
     "start_time": "2024-09-06T10:24:30.257801Z"
    }
   },
   "cell_type": "code",
   "source": [
    "for person in personer:\n",
    "    print(person)"
   ],
   "id": "53e7d682b3e1ac41",
   "outputs": [
    {
     "name": "stdout",
     "output_type": "stream",
     "text": [
      "Irai\n",
      "Rocky\n",
      "Dole\n"
     ]
    }
   ],
   "execution_count": 73
  },
  {
   "metadata": {
    "ExecuteTime": {
     "end_time": "2024-09-06T10:24:30.471707Z",
     "start_time": "2024-09-06T10:24:30.449546Z"
    }
   },
   "cell_type": "code",
   "source": [
    "for i, person in enumerate(personer):\n",
    "    print(i, person)"
   ],
   "id": "9c6b26d00da7a94e",
   "outputs": [
    {
     "name": "stdout",
     "output_type": "stream",
     "text": [
      "0 Irai\n",
      "1 Rocky\n",
      "2 Dole\n"
     ]
    }
   ],
   "execution_count": 74
  },
  {
   "metadata": {},
   "cell_type": "markdown",
   "source": "## Utvide liste",
   "id": "e4d8c7dc7cdef14e"
  },
  {
   "metadata": {
    "ExecuteTime": {
     "end_time": "2024-09-06T10:24:30.747088Z",
     "start_time": "2024-09-06T10:24:30.731367Z"
    }
   },
   "cell_type": "code",
   "source": "personer.append(\"Eivind med mobil mellom beina\")",
   "id": "89835e96f4bcbb32",
   "outputs": [],
   "execution_count": 75
  },
  {
   "metadata": {
    "ExecuteTime": {
     "end_time": "2024-09-06T10:24:31.018432Z",
     "start_time": "2024-09-06T10:24:30.982647Z"
    }
   },
   "cell_type": "code",
   "source": "personer",
   "id": "5b4d7cbd7c627fa9",
   "outputs": [
    {
     "data": {
      "text/plain": [
       "['Irai', 'Rocky', 'Dole', 'Eivind med mobil mellom beina']"
      ]
     },
     "execution_count": 76,
     "metadata": {},
     "output_type": "execute_result"
    }
   ],
   "execution_count": 76
  },
  {
   "metadata": {
    "ExecuteTime": {
     "end_time": "2024-09-06T10:24:31.116266Z",
     "start_time": "2024-09-06T10:24:31.080929Z"
    }
   },
   "cell_type": "code",
   "source": [
    "personer.extend([\"Doffen\", \"Ole\"])\n",
    "personer"
   ],
   "id": "f89d177bdacba26",
   "outputs": [
    {
     "data": {
      "text/plain": [
       "['Irai', 'Rocky', 'Dole', 'Eivind med mobil mellom beina', 'Doffen', 'Ole']"
      ]
     },
     "execution_count": 77,
     "metadata": {},
     "output_type": "execute_result"
    }
   ],
   "execution_count": 77
  },
  {
   "metadata": {},
   "cell_type": "markdown",
   "source": [
    "Slå opp for metoder som setter inn elementer på gitte plasser eller erstatter elementer\n",
    "\n",
    "## Fjerne elementer fra liste"
   ],
   "id": "35260ff79acb9bc"
  },
  {
   "metadata": {
    "ExecuteTime": {
     "end_time": "2024-09-06T10:24:31.309876Z",
     "start_time": "2024-09-06T10:24:31.294741Z"
    }
   },
   "cell_type": "code",
   "source": "personer.pop()",
   "id": "e3872e24152379d4",
   "outputs": [
    {
     "data": {
      "text/plain": [
       "'Ole'"
      ]
     },
     "execution_count": 78,
     "metadata": {},
     "output_type": "execute_result"
    }
   ],
   "execution_count": 78
  },
  {
   "metadata": {
    "ExecuteTime": {
     "end_time": "2024-09-06T10:24:31.576684Z",
     "start_time": "2024-09-06T10:24:31.547855Z"
    }
   },
   "cell_type": "code",
   "source": "personer",
   "id": "cf54de2b5e94eb21",
   "outputs": [
    {
     "data": {
      "text/plain": [
       "['Irai', 'Rocky', 'Dole', 'Eivind med mobil mellom beina', 'Doffen']"
      ]
     },
     "execution_count": 79,
     "metadata": {},
     "output_type": "execute_result"
    }
   ],
   "execution_count": 79
  },
  {
   "metadata": {
    "ExecuteTime": {
     "end_time": "2024-09-06T10:24:32.048674Z",
     "start_time": "2024-09-06T10:24:32.017773Z"
    }
   },
   "cell_type": "code",
   "source": [
    "personer.pop(3)\n",
    "personer"
   ],
   "id": "31d98f5106b2190",
   "outputs": [
    {
     "data": {
      "text/plain": [
       "['Irai', 'Rocky', 'Dole', 'Doffen']"
      ]
     },
     "execution_count": 80,
     "metadata": {},
     "output_type": "execute_result"
    }
   ],
   "execution_count": 80
  },
  {
   "metadata": {
    "ExecuteTime": {
     "end_time": "2024-09-06T10:24:32.585310Z",
     "start_time": "2024-09-06T10:24:32.553939Z"
    }
   },
   "cell_type": "code",
   "source": [
    "personer.remove(\"Doffen\")\n",
    "personer"
   ],
   "id": "b4d78e2bcf84f653",
   "outputs": [
    {
     "data": {
      "text/plain": [
       "['Irai', 'Rocky', 'Dole']"
      ]
     },
     "execution_count": 81,
     "metadata": {},
     "output_type": "execute_result"
    }
   ],
   "execution_count": 81
  },
  {
   "metadata": {
    "ExecuteTime": {
     "end_time": "2024-09-06T10:24:32.795909Z",
     "start_time": "2024-09-06T10:24:32.779982Z"
    }
   },
   "cell_type": "code",
   "source": [
    "personer.extend([\"Doffen\", \"Ole\"])\n",
    "personer"
   ],
   "id": "bfbc55f0717dba5c",
   "outputs": [
    {
     "data": {
      "text/plain": [
       "['Irai', 'Rocky', 'Dole', 'Doffen', 'Ole']"
      ]
     },
     "execution_count": 82,
     "metadata": {},
     "output_type": "execute_result"
    }
   ],
   "execution_count": 82
  },
  {
   "metadata": {
    "ExecuteTime": {
     "end_time": "2024-09-06T10:25:25.100246Z",
     "start_time": "2024-09-06T10:25:25.083365Z"
    }
   },
   "cell_type": "code",
   "source": "personer[1:3]",
   "id": "d5b61ea62e827535",
   "outputs": [
    {
     "data": {
      "text/plain": [
       "['Rocky', 'Dole']"
      ]
     },
     "execution_count": 83,
     "metadata": {},
     "output_type": "execute_result"
    }
   ],
   "execution_count": 83
  },
  {
   "metadata": {
    "ExecuteTime": {
     "end_time": "2024-09-06T10:25:58.328358Z",
     "start_time": "2024-09-06T10:25:58.294998Z"
    }
   },
   "cell_type": "code",
   "source": "personer[:4]",
   "id": "4614a8080dd17ab1",
   "outputs": [
    {
     "data": {
      "text/plain": [
       "['Irai', 'Rocky', 'Dole', 'Doffen']"
      ]
     },
     "execution_count": 85,
     "metadata": {},
     "output_type": "execute_result"
    }
   ],
   "execution_count": 85
  },
  {
   "metadata": {
    "ExecuteTime": {
     "end_time": "2024-09-06T10:26:24.250787Z",
     "start_time": "2024-09-06T10:26:24.219777Z"
    }
   },
   "cell_type": "code",
   "source": "personer[3:]",
   "id": "f18f5f9592842c7f",
   "outputs": [
    {
     "data": {
      "text/plain": [
       "['Doffen', 'Ole']"
      ]
     },
     "execution_count": 86,
     "metadata": {},
     "output_type": "execute_result"
    }
   ],
   "execution_count": 86
  },
  {
   "metadata": {
    "ExecuteTime": {
     "end_time": "2024-09-06T10:26:42.029593Z",
     "start_time": "2024-09-06T10:26:42.005880Z"
    }
   },
   "cell_type": "code",
   "source": "personer[-1]",
   "id": "ce7b99e1a8d8d57c",
   "outputs": [
    {
     "data": {
      "text/plain": [
       "'Ole'"
      ]
     },
     "execution_count": 87,
     "metadata": {},
     "output_type": "execute_result"
    }
   ],
   "execution_count": 87
  },
  {
   "metadata": {
    "ExecuteTime": {
     "end_time": "2024-09-06T10:27:13.215345Z",
     "start_time": "2024-09-06T10:27:13.199709Z"
    }
   },
   "cell_type": "code",
   "source": "personer[-2:]",
   "id": "d3a58cf7f89b4e67",
   "outputs": [
    {
     "data": {
      "text/plain": [
       "['Doffen', 'Ole']"
      ]
     },
     "execution_count": 89,
     "metadata": {},
     "output_type": "execute_result"
    }
   ],
   "execution_count": 89
  },
  {
   "metadata": {},
   "cell_type": "markdown",
   "source": "## Sortering",
   "id": "dabca513a97a1c67"
  },
  {
   "metadata": {
    "ExecuteTime": {
     "end_time": "2024-09-06T10:30:39.144519Z",
     "start_time": "2024-09-06T10:30:39.133518Z"
    }
   },
   "cell_type": "code",
   "source": [
    "personer.sort(reverse=True)\n",
    "personer"
   ],
   "id": "9091d7bb38004f79",
   "outputs": [
    {
     "data": {
      "text/plain": [
       "['Rocky', 'Ole', 'Irai', 'Dole', 'Doffen']"
      ]
     },
     "execution_count": 95,
     "metadata": {},
     "output_type": "execute_result"
    }
   ],
   "execution_count": 95
  },
  {
   "metadata": {
    "ExecuteTime": {
     "end_time": "2024-09-06T10:32:04.497023Z",
     "start_time": "2024-09-06T10:32:04.480025Z"
    }
   },
   "cell_type": "code",
   "source": "sorted(personer, reverse=False)",
   "id": "791a8b8b32aab58",
   "outputs": [
    {
     "data": {
      "text/plain": [
       "['Doffen', 'Dole', 'Irai', 'Ole', 'Rocky']"
      ]
     },
     "execution_count": 97,
     "metadata": {},
     "output_type": "execute_result"
    }
   ],
   "execution_count": 97
  },
  {
   "metadata": {
    "ExecuteTime": {
     "end_time": "2024-09-06T11:07:15.069558Z",
     "start_time": "2024-09-06T11:07:15.043557Z"
    }
   },
   "cell_type": "code",
   "source": [
    "personer[4] = \"Mikkel er frekk assa\"\n",
    "personer"
   ],
   "id": "33ca34f1f031c9f2",
   "outputs": [
    {
     "data": {
      "text/plain": [
       "['Rocky', 'Ole', 'Irai', 'Dole', 'Mikkel er frekk assa']"
      ]
     },
     "execution_count": 98,
     "metadata": {},
     "output_type": "execute_result"
    }
   ],
   "execution_count": 98
  },
  {
   "metadata": {
    "ExecuteTime": {
     "end_time": "2024-09-06T11:08:44.312807Z",
     "start_time": "2024-09-06T11:08:44.295812Z"
    }
   },
   "cell_type": "code",
   "source": "personer[personer.index(\"Ole\")] = \"Meg\"",
   "id": "478741ed07fd0089",
   "outputs": [],
   "execution_count": 100
  },
  {
   "metadata": {
    "ExecuteTime": {
     "end_time": "2024-09-06T11:08:49.299130Z",
     "start_time": "2024-09-06T11:08:49.283134Z"
    }
   },
   "cell_type": "code",
   "source": "personer",
   "id": "54f0be14fb38bf0a",
   "outputs": [
    {
     "data": {
      "text/plain": [
       "['Rocky', 'Meg', 'Irai', 'Dole', 'Mikkel er frekk assa']"
      ]
     },
     "execution_count": 101,
     "metadata": {},
     "output_type": "execute_result"
    }
   ],
   "execution_count": 101
  },
  {
   "metadata": {
    "ExecuteTime": {
     "end_time": "2024-09-11T06:42:55.089689Z",
     "start_time": "2024-09-11T06:42:55.069688Z"
    }
   },
   "cell_type": "code",
   "source": [
    "a = 0\n",
    "while a < 10:\n",
    "    print(a)\n",
    "    a += 2"
   ],
   "id": "1a6270da17b4bc07",
   "outputs": [
    {
     "name": "stdout",
     "output_type": "stream",
     "text": [
      "0\n",
      "2\n",
      "4\n",
      "6\n",
      "8\n"
     ]
    }
   ],
   "execution_count": 5
  },
  {
   "metadata": {
    "ExecuteTime": {
     "end_time": "2024-09-11T06:52:20.888744Z",
     "start_time": "2024-09-11T06:52:20.864259Z"
    }
   },
   "cell_type": "code",
   "source": [
    "import random as rd\n",
    "tall = -1\n",
    "teller = 0\n",
    "while tall != 67:\n",
    "    tall = rd.randint(1,100)\n",
    "    teller += 1\n",
    "\n",
    "print(teller, tall)\n"
   ],
   "id": "b13784149a8e0886",
   "outputs": [
    {
     "name": "stdout",
     "output_type": "stream",
     "text": [
      "1 67\n"
     ]
    }
   ],
   "execution_count": 15
  },
  {
   "metadata": {
    "ExecuteTime": {
     "end_time": "2024-09-11T07:00:30.572623Z",
     "start_time": "2024-09-11T07:00:26.237341Z"
    }
   },
   "cell_type": "code",
   "source": [
    "while True:\n",
    "    heltall = input(\"Gi meg et heltall.\")\n",
    "\n",
    "    if heltall.isdigit():\n",
    "        break\n",
    "    else:\n",
    "        heltall = input(\"Du må skrive inn et heltall.\")\n",
    "\n",
    "print(int(heltall)**2)\n"
   ],
   "id": "d12c122d731df70d",
   "outputs": [
    {
     "name": "stdout",
     "output_type": "stream",
     "text": [
      "25\n"
     ]
    }
   ],
   "execution_count": 20
  },
  {
   "metadata": {
    "jupyter": {
     "is_executing": true
    }
   },
   "cell_type": "code",
   "source": [
    "tall = [1, 2, 3, 4, 5]\n",
    "prod_tall = 1\n",
    "\n",
    "for t in tall:\n",
    "    if t % 2 != 0:\n",
    "        prod_tall *= t\n",
    "        \n",
    "print(prod_tall)"
   ],
   "id": "ebf257ce5376837e",
   "outputs": [],
   "execution_count": null
  },
  {
   "metadata": {},
   "cell_type": "code",
   "outputs": [],
   "execution_count": null,
   "source": "",
   "id": "dd9202efe7a5fdb6"
  }
 ],
 "metadata": {
  "kernelspec": {
   "display_name": "Python 3",
   "language": "python",
   "name": "python3"
  },
  "language_info": {
   "codemirror_mode": {
    "name": "ipython",
    "version": 2
   },
   "file_extension": ".py",
   "mimetype": "text/x-python",
   "name": "python",
   "nbconvert_exporter": "python",
   "pygments_lexer": "ipython2",
   "version": "2.7.6"
  }
 },
 "nbformat": 4,
 "nbformat_minor": 5
}
