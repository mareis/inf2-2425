{
 "cells": [
  {
   "cell_type": "code",
   "id": "initial_id",
   "metadata": {
    "collapsed": true,
    "ExecuteTime": {
     "end_time": "2024-11-22T10:47:47.948768Z",
     "start_time": "2024-11-22T10:47:44.710298Z"
    }
   },
   "source": "!pip install streamlit\n",
   "outputs": [
    {
     "name": "stdout",
     "output_type": "stream",
     "text": [
      "Requirement already satisfied: streamlit in c:\\users\\mareis\\appdata\\local\\programs\\python\\python39\\lib\\site-packages (1.38.0)\n",
      "Requirement already satisfied: requests<3,>=2.27 in c:\\users\\mareis\\appdata\\local\\programs\\python\\python39\\lib\\site-packages (from streamlit) (2.31.0)\n",
      "Requirement already satisfied: click<9,>=7.0 in c:\\users\\mareis\\appdata\\local\\programs\\python\\python39\\lib\\site-packages (from streamlit) (8.1.7)\n",
      "Requirement already satisfied: altair<6,>=4.0 in c:\\users\\mareis\\appdata\\local\\programs\\python\\python39\\lib\\site-packages (from streamlit) (5.4.1)\n",
      "Requirement already satisfied: typing-extensions<5,>=4.3.0 in c:\\users\\mareis\\appdata\\local\\programs\\python\\python39\\lib\\site-packages (from streamlit) (4.12.2)\n",
      "Requirement already satisfied: pillow<11,>=7.1.0 in c:\\users\\mareis\\appdata\\local\\programs\\python\\python39\\lib\\site-packages (from streamlit) (10.1.0)\n",
      "Requirement already satisfied: blinker<2,>=1.0.0 in c:\\users\\mareis\\appdata\\local\\programs\\python\\python39\\lib\\site-packages (from streamlit) (1.8.2)\n",
      "Requirement already satisfied: cachetools<6,>=4.0 in c:\\users\\mareis\\appdata\\local\\programs\\python\\python39\\lib\\site-packages (from streamlit) (5.5.0)\n",
      "Requirement already satisfied: watchdog<5,>=2.1.5 in c:\\users\\mareis\\appdata\\local\\programs\\python\\python39\\lib\\site-packages (from streamlit) (4.0.2)\n",
      "Requirement already satisfied: pandas<3,>=1.3.0 in c:\\users\\mareis\\appdata\\local\\programs\\python\\python39\\lib\\site-packages (from streamlit) (2.2.3)\n",
      "Requirement already satisfied: pydeck<1,>=0.8.0b4 in c:\\users\\mareis\\appdata\\local\\programs\\python\\python39\\lib\\site-packages (from streamlit) (0.9.1)\n",
      "Requirement already satisfied: tenacity<9,>=8.1.0 in c:\\users\\mareis\\appdata\\local\\programs\\python\\python39\\lib\\site-packages (from streamlit) (8.5.0)\n",
      "Requirement already satisfied: packaging<25,>=20 in c:\\users\\mareis\\appdata\\local\\programs\\python\\python39\\lib\\site-packages (from streamlit) (23.2)\n",
      "Requirement already satisfied: numpy<3,>=1.20 in c:\\users\\mareis\\appdata\\local\\programs\\python\\python39\\lib\\site-packages (from streamlit) (1.26.4)\n",
      "Requirement already satisfied: toml<2,>=0.10.1 in c:\\users\\mareis\\appdata\\local\\programs\\python\\python39\\lib\\site-packages (from streamlit) (0.10.2)\n",
      "Requirement already satisfied: pyarrow>=7.0 in c:\\users\\mareis\\appdata\\local\\programs\\python\\python39\\lib\\site-packages (from streamlit) (17.0.0)\n",
      "Requirement already satisfied: rich<14,>=10.14.0 in c:\\users\\mareis\\appdata\\local\\programs\\python\\python39\\lib\\site-packages (from streamlit) (13.8.1)\n",
      "Requirement already satisfied: tornado<7,>=6.0.3 in c:\\users\\mareis\\appdata\\local\\programs\\python\\python39\\lib\\site-packages (from streamlit) (6.3.3)\n",
      "Requirement already satisfied: protobuf<6,>=3.20 in c:\\users\\mareis\\appdata\\local\\programs\\python\\python39\\lib\\site-packages (from streamlit) (5.28.2)\n",
      "Requirement already satisfied: gitpython!=3.1.19,<4,>=3.0.7 in c:\\users\\mareis\\appdata\\local\\programs\\python\\python39\\lib\\site-packages (from streamlit) (3.1.43)\n",
      "Requirement already satisfied: narwhals>=1.5.2 in c:\\users\\mareis\\appdata\\local\\programs\\python\\python39\\lib\\site-packages (from altair<6,>=4.0->streamlit) (1.8.4)\n",
      "Requirement already satisfied: jsonschema>=3.0 in c:\\users\\mareis\\appdata\\local\\programs\\python\\python39\\lib\\site-packages (from altair<6,>=4.0->streamlit) (4.19.2)\n",
      "Requirement already satisfied: jinja2 in c:\\users\\mareis\\appdata\\local\\programs\\python\\python39\\lib\\site-packages (from altair<6,>=4.0->streamlit) (3.1.2)\n",
      "Requirement already satisfied: colorama in c:\\users\\mareis\\appdata\\local\\programs\\python\\python39\\lib\\site-packages (from click<9,>=7.0->streamlit) (0.4.6)\n",
      "Requirement already satisfied: gitdb<5,>=4.0.1 in c:\\users\\mareis\\appdata\\local\\programs\\python\\python39\\lib\\site-packages (from gitpython!=3.1.19,<4,>=3.0.7->streamlit) (4.0.11)\n",
      "Requirement already satisfied: python-dateutil>=2.8.2 in c:\\users\\mareis\\appdata\\local\\programs\\python\\python39\\lib\\site-packages (from pandas<3,>=1.3.0->streamlit) (2.8.2)\n",
      "Requirement already satisfied: pytz>=2020.1 in c:\\users\\mareis\\appdata\\local\\programs\\python\\python39\\lib\\site-packages (from pandas<3,>=1.3.0->streamlit) (2023.3.post1)\n",
      "Requirement already satisfied: tzdata>=2022.7 in c:\\users\\mareis\\appdata\\local\\programs\\python\\python39\\lib\\site-packages (from pandas<3,>=1.3.0->streamlit) (2023.3)\n",
      "Requirement already satisfied: charset-normalizer<4,>=2 in c:\\users\\mareis\\appdata\\local\\programs\\python\\python39\\lib\\site-packages (from requests<3,>=2.27->streamlit) (3.3.2)\n",
      "Requirement already satisfied: urllib3<3,>=1.21.1 in c:\\users\\mareis\\appdata\\local\\programs\\python\\python39\\lib\\site-packages (from requests<3,>=2.27->streamlit) (2.0.7)\n",
      "Requirement already satisfied: idna<4,>=2.5 in c:\\users\\mareis\\appdata\\local\\programs\\python\\python39\\lib\\site-packages (from requests<3,>=2.27->streamlit) (3.4)\n",
      "Requirement already satisfied: certifi>=2017.4.17 in c:\\users\\mareis\\appdata\\local\\programs\\python\\python39\\lib\\site-packages (from requests<3,>=2.27->streamlit) (2023.7.22)\n",
      "Requirement already satisfied: pygments<3.0.0,>=2.13.0 in c:\\users\\mareis\\appdata\\local\\programs\\python\\python39\\lib\\site-packages (from rich<14,>=10.14.0->streamlit) (2.16.1)\n",
      "Requirement already satisfied: markdown-it-py>=2.2.0 in c:\\users\\mareis\\appdata\\local\\programs\\python\\python39\\lib\\site-packages (from rich<14,>=10.14.0->streamlit) (3.0.0)\n",
      "Requirement already satisfied: smmap<6,>=3.0.1 in c:\\users\\mareis\\appdata\\local\\programs\\python\\python39\\lib\\site-packages (from gitdb<5,>=4.0.1->gitpython!=3.1.19,<4,>=3.0.7->streamlit) (5.0.1)\n",
      "Requirement already satisfied: MarkupSafe>=2.0 in c:\\users\\mareis\\appdata\\local\\programs\\python\\python39\\lib\\site-packages (from jinja2->altair<6,>=4.0->streamlit) (2.1.3)\n",
      "Requirement already satisfied: attrs>=22.2.0 in c:\\users\\mareis\\appdata\\local\\programs\\python\\python39\\lib\\site-packages (from jsonschema>=3.0->altair<6,>=4.0->streamlit) (24.2.0)\n",
      "Requirement already satisfied: jsonschema-specifications>=2023.03.6 in c:\\users\\mareis\\appdata\\local\\programs\\python\\python39\\lib\\site-packages (from jsonschema>=3.0->altair<6,>=4.0->streamlit) (2023.7.1)\n",
      "Requirement already satisfied: rpds-py>=0.7.1 in c:\\users\\mareis\\appdata\\local\\programs\\python\\python39\\lib\\site-packages (from jsonschema>=3.0->altair<6,>=4.0->streamlit) (0.12.0)\n",
      "Requirement already satisfied: referencing>=0.28.4 in c:\\users\\mareis\\appdata\\local\\programs\\python\\python39\\lib\\site-packages (from jsonschema>=3.0->altair<6,>=4.0->streamlit) (0.30.2)\n",
      "Requirement already satisfied: mdurl~=0.1 in c:\\users\\mareis\\appdata\\local\\programs\\python\\python39\\lib\\site-packages (from markdown-it-py>=2.2.0->rich<14,>=10.14.0->streamlit) (0.1.2)\n",
      "Requirement already satisfied: six>=1.5 in c:\\users\\mareis\\appdata\\local\\programs\\python\\python39\\lib\\site-packages (from python-dateutil>=2.8.2->pandas<3,>=1.3.0->streamlit) (1.16.0)\n"
     ]
    },
    {
     "name": "stderr",
     "output_type": "stream",
     "text": [
      "WARNING: You are using pip version 22.0.4; however, version 24.3.1 is available.\n",
      "You should consider upgrading via the 'C:\\Users\\mareis\\AppData\\Local\\Programs\\Python\\Python39\\python.exe -m pip install --upgrade pip' command.\n"
     ]
    }
   ],
   "execution_count": 1
  },
  {
   "metadata": {
    "ExecuteTime": {
     "end_time": "2024-11-22T10:49:27.336565Z",
     "start_time": "2024-11-22T10:48:11.739032Z"
    }
   },
   "cell_type": "code",
   "source": "!streamlit hello",
   "id": "65699e95b6d442fc",
   "outputs": [
    {
     "name": "stdout",
     "output_type": "stream",
     "text": [
      "^C\n"
     ]
    }
   ],
   "execution_count": 2
  },
  {
   "metadata": {},
   "cell_type": "code",
   "outputs": [],
   "execution_count": null,
   "source": "",
   "id": "346d5abf9c387f02"
  }
 ],
 "metadata": {
  "kernelspec": {
   "display_name": "Python 3",
   "language": "python",
   "name": "python3"
  },
  "language_info": {
   "codemirror_mode": {
    "name": "ipython",
    "version": 2
   },
   "file_extension": ".py",
   "mimetype": "text/x-python",
   "name": "python",
   "nbconvert_exporter": "python",
   "pygments_lexer": "ipython2",
   "version": "2.7.6"
  }
 },
 "nbformat": 4,
 "nbformat_minor": 5
}
