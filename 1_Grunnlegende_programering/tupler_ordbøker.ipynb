{
 "cells": [
  {
   "metadata": {},
   "cell_type": "markdown",
   "source": "# Tupler og ordbøker",
   "id": "ea1b16102741c20c"
  },
  {
   "metadata": {
    "ExecuteTime": {
     "end_time": "2024-10-21T11:38:05.485722Z",
     "start_time": "2024-10-21T11:38:05.469739Z"
    }
   },
   "cell_type": "code",
   "source": "l = [1,5,7]",
   "id": "76ab65506ab5e417",
   "outputs": [],
   "execution_count": 17
  },
  {
   "metadata": {
    "ExecuteTime": {
     "end_time": "2024-10-21T11:38:12.353599Z",
     "start_time": "2024-10-21T11:38:12.341602Z"
    }
   },
   "cell_type": "code",
   "source": "t = (1,5,7)",
   "id": "a85684dbbc7e2e2a",
   "outputs": [],
   "execution_count": 18
  },
  {
   "metadata": {
    "ExecuteTime": {
     "end_time": "2024-10-21T11:39:38.762209Z",
     "start_time": "2024-10-21T11:39:38.732595Z"
    }
   },
   "cell_type": "code",
   "source": "t",
   "id": "9c66f956f9ac71dd",
   "outputs": [
    {
     "data": {
      "text/plain": [
       "(1, 5, 7)"
      ]
     },
     "execution_count": 19,
     "metadata": {},
     "output_type": "execute_result"
    }
   ],
   "execution_count": 19
  },
  {
   "metadata": {
    "ExecuteTime": {
     "end_time": "2024-10-21T11:39:55.772432Z",
     "start_time": "2024-10-21T11:39:55.760437Z"
    }
   },
   "cell_type": "code",
   "source": [
    "t2 = 1, 5, 7\n",
    "t2"
   ],
   "id": "9174a6d3af1fc7a0",
   "outputs": [
    {
     "data": {
      "text/plain": [
       "(1, 5, 7)"
      ]
     },
     "execution_count": 21,
     "metadata": {},
     "output_type": "execute_result"
    }
   ],
   "execution_count": 21
  },
  {
   "metadata": {
    "ExecuteTime": {
     "end_time": "2024-10-21T11:43:19.686648Z",
     "start_time": "2024-10-21T11:43:19.672644Z"
    }
   },
   "cell_type": "code",
   "source": [
    "tall1, tall2, tall3 = t\n",
    "print(tall3)"
   ],
   "id": "100b207b14649c65",
   "outputs": [
    {
     "name": "stdout",
     "output_type": "stream",
     "text": [
      "7\n"
     ]
    }
   ],
   "execution_count": 25
  },
  {
   "metadata": {
    "ExecuteTime": {
     "end_time": "2024-10-21T11:43:41.058346Z",
     "start_time": "2024-10-21T11:43:41.043346Z"
    }
   },
   "cell_type": "code",
   "source": "print(*t)",
   "id": "42678e21ee9e4f98",
   "outputs": [
    {
     "name": "stdout",
     "output_type": "stream",
     "text": [
      "1 5 7\n"
     ]
    }
   ],
   "execution_count": 27
  },
  {
   "metadata": {
    "ExecuteTime": {
     "end_time": "2024-10-21T11:44:08.531460Z",
     "start_time": "2024-10-21T11:44:08.517902Z"
    }
   },
   "cell_type": "code",
   "source": "print(*l)",
   "id": "9ce06b6e1901c650",
   "outputs": [
    {
     "name": "stdout",
     "output_type": "stream",
     "text": [
      "1 5 7\n"
     ]
    }
   ],
   "execution_count": 28
  },
  {
   "metadata": {
    "ExecuteTime": {
     "end_time": "2024-10-21T11:46:30.705880Z",
     "start_time": "2024-10-21T11:46:30.691882Z"
    }
   },
   "cell_type": "code",
   "source": [
    "navn = [\"Geir\", \"Signe\"]\n",
    "alder = [15, 21]\n",
    "\n",
    "personer = zip(navn, alder)\n",
    "print(*personer)"
   ],
   "id": "8949c17e22236941",
   "outputs": [
    {
     "name": "stdout",
     "output_type": "stream",
     "text": [
      "('Geir', 15) ('Signe', 21)\n"
     ]
    }
   ],
   "execution_count": 31
  },
  {
   "metadata": {},
   "cell_type": "markdown",
   "source": "## Ordbøker",
   "id": "f81df961002791f2"
  },
  {
   "metadata": {
    "ExecuteTime": {
     "end_time": "2024-10-21T11:52:52.935103Z",
     "start_time": "2024-10-21T11:52:52.914167Z"
    }
   },
   "cell_type": "code",
   "source": [
    "person = {\n",
    "    'Navn': 'Eivind', \n",
    "    'Alder': 18, \n",
    "    'Spillavhengig':False\n",
    "}\n",
    "\n",
    "person['Navn']"
   ],
   "id": "87bed22448d4707e",
   "outputs": [
    {
     "data": {
      "text/plain": [
       "'Eivind'"
      ]
     },
     "execution_count": 32,
     "metadata": {},
     "output_type": "execute_result"
    }
   ],
   "execution_count": 32
  },
  {
   "metadata": {
    "ExecuteTime": {
     "end_time": "2024-10-21T12:30:23.196198Z",
     "start_time": "2024-10-21T12:30:23.164203Z"
    }
   },
   "cell_type": "code",
   "source": [
    "import random\n",
    "\n",
    "liste = [0,0,0,0,0]\n",
    "#opptelling = {1:0, 2:0, 3:0, 4:0, 5:0}\n",
    "opptelling = {nøkkel: 0 for nøkkel in range(1,6)}\n",
    "\n",
    "# En liste med 100 tilfeldige tall mellom 1 og 5\n",
    "tilfeldige_tall = [random.randint(1, 5) for _ in range(100)]\n",
    "for tall in tilfeldige_tall:\n",
    "    liste[tall-1] += 1\n",
    "    opptelling[tall] += 1\n",
    "    \n",
    "print(liste)\n",
    "print(opptelling)\n"
   ],
   "id": "16783979cf31a943",
   "outputs": [
    {
     "name": "stdout",
     "output_type": "stream",
     "text": [
      "[21, 24, 14, 22, 19]\n",
      "{1: 21, 2: 24, 3: 14, 4: 22, 5: 19}\n"
     ]
    }
   ],
   "execution_count": 58
  },
  {
   "metadata": {
    "ExecuteTime": {
     "end_time": "2024-10-21T12:10:43.605928Z",
     "start_time": "2024-10-21T12:10:43.574374Z"
    }
   },
   "cell_type": "code",
   "source": [
    "biler = [\n",
    "    {'Merke':'Nissan', 'Modell': 'Leaf', 'HP':23},\n",
    "    {'Merke':'Rimac', 'Modell': 'Nevera', 'HP':2000},\n",
    "    {'Merke':'Subaru', 'Modell': 'Impreza', 'HP':312}\n",
    "]\n",
    "\n",
    "biler[1]['Modell']"
   ],
   "id": "cf73b1cafe3dba47",
   "outputs": [
    {
     "data": {
      "text/plain": [
       "'Nevera'"
      ]
     },
     "execution_count": 40,
     "metadata": {},
     "output_type": "execute_result"
    }
   ],
   "execution_count": 40
  },
  {
   "metadata": {
    "ExecuteTime": {
     "end_time": "2024-10-21T12:11:38.351990Z",
     "start_time": "2024-10-21T12:11:38.339996Z"
    }
   },
   "cell_type": "code",
   "source": [
    "for bil in biler:\n",
    "    print(bil['Modell'], bil['HP'])"
   ],
   "id": "8f0284d76e871f7d",
   "outputs": [
    {
     "name": "stdout",
     "output_type": "stream",
     "text": [
      "Leaf 23\n",
      "Nevera 2000\n",
      "Impreza 312\n"
     ]
    }
   ],
   "execution_count": 43
  },
  {
   "metadata": {
    "ExecuteTime": {
     "end_time": "2024-10-21T12:15:08.035467Z",
     "start_time": "2024-10-21T12:15:08.017465Z"
    }
   },
   "cell_type": "code",
   "source": [
    "from operator import itemgetter\n",
    "sorted(biler, key=itemgetter('HP'), reverse=True)"
   ],
   "id": "6b792eef595a8311",
   "outputs": [
    {
     "data": {
      "text/plain": [
       "[{'Merke': 'Rimac', 'Modell': 'Nevera', 'HP': 2000},\n",
       " {'Merke': 'Subaru', 'Modell': 'Impreza', 'HP': 312},\n",
       " {'Merke': 'Nissan', 'Modell': 'Leaf', 'HP': 23}]"
      ]
     },
     "execution_count": 47,
     "metadata": {},
     "output_type": "execute_result"
    }
   ],
   "execution_count": 47
  },
  {
   "metadata": {
    "ExecuteTime": {
     "end_time": "2024-10-23T06:27:34.095175Z",
     "start_time": "2024-10-23T06:27:34.063176Z"
    }
   },
   "cell_type": "code",
   "source": "{1,4,5,1}",
   "id": "c976878ff78cc2cd",
   "outputs": [
    {
     "data": {
      "text/plain": [
       "{1, 4, 5}"
      ]
     },
     "execution_count": 1,
     "metadata": {},
     "output_type": "execute_result"
    }
   ],
   "execution_count": 1
  },
  {
   "metadata": {
    "ExecuteTime": {
     "end_time": "2024-10-23T07:40:02.967551Z",
     "start_time": "2024-10-23T07:39:58.065804Z"
    }
   },
   "cell_type": "code",
   "source": [
    "import operator\n",
    "\n",
    "personer = [\n",
    "    {'fornavn': 'Kari', 'etternavn':'Hansen', 'fødselsår': 2001},\n",
    "    {'fornavn': 'Gustav', 'etternavn': 'Monsen', 'fødselsår': 1995},\n",
    "    {'fornavn': 'Anette', 'etternavn': 'Ås', 'fødselsår': 1998},\n",
    "    {'fornavn': 'Marius', 'etternavn': 'Lie', 'fødselsår': 2002},\n",
    "    {'fornavn': 'Wenche', 'etternavn': 'Hovland', 'fødselsår': 1999}\n",
    "]\n",
    "valg = int(input(\n",
    "    f'1: Fornavn\\n'\n",
    "    f'2: Etternavn\\n'\n",
    "    f'3: Fødselsår\\n'\n",
    "    f'0: Avslutt\\n' \n",
    "))\n",
    "sortering = list(personer[0].keys())[valg-1]\n",
    "\n",
    "kolonner = \"\"\n",
    "for key in personer[0].keys():\n",
    "    kolonner += key.capitalize() + \" \"*5\n",
    "    \n",
    "print(kolonner)\n",
    "print(\"_\"*35)\n",
    "\n",
    "for person in sorted(personer, key=operator.itemgetter(sortering), reverse=False):\n",
    "    print(f'{person[\"fornavn\"]:12}{person[\"etternavn\"]:8}{person[\"fødselsår\"]:10}')\n",
    "    "
   ],
   "id": "5e99fc878e52fe53",
   "outputs": [
    {
     "ename": "KeyboardInterrupt",
     "evalue": "Interrupted by user",
     "output_type": "error",
     "traceback": [
      "\u001B[1;31m---------------------------------------------------------------------------\u001B[0m",
      "\u001B[1;31mKeyboardInterrupt\u001B[0m                         Traceback (most recent call last)",
      "Cell \u001B[1;32mIn[39], line 10\u001B[0m\n\u001B[0;32m      1\u001B[0m \u001B[38;5;28;01mimport\u001B[39;00m \u001B[38;5;21;01moperator\u001B[39;00m\n\u001B[0;32m      3\u001B[0m personer \u001B[38;5;241m=\u001B[39m [\n\u001B[0;32m      4\u001B[0m     {\u001B[38;5;124m'\u001B[39m\u001B[38;5;124mfornavn\u001B[39m\u001B[38;5;124m'\u001B[39m: \u001B[38;5;124m'\u001B[39m\u001B[38;5;124mKari\u001B[39m\u001B[38;5;124m'\u001B[39m, \u001B[38;5;124m'\u001B[39m\u001B[38;5;124metternavn\u001B[39m\u001B[38;5;124m'\u001B[39m:\u001B[38;5;124m'\u001B[39m\u001B[38;5;124mHansen\u001B[39m\u001B[38;5;124m'\u001B[39m, \u001B[38;5;124m'\u001B[39m\u001B[38;5;124mfødselsår\u001B[39m\u001B[38;5;124m'\u001B[39m: \u001B[38;5;241m2001\u001B[39m},\n\u001B[0;32m      5\u001B[0m     {\u001B[38;5;124m'\u001B[39m\u001B[38;5;124mfornavn\u001B[39m\u001B[38;5;124m'\u001B[39m: \u001B[38;5;124m'\u001B[39m\u001B[38;5;124mGustav\u001B[39m\u001B[38;5;124m'\u001B[39m, \u001B[38;5;124m'\u001B[39m\u001B[38;5;124metternavn\u001B[39m\u001B[38;5;124m'\u001B[39m: \u001B[38;5;124m'\u001B[39m\u001B[38;5;124mMonsen\u001B[39m\u001B[38;5;124m'\u001B[39m, \u001B[38;5;124m'\u001B[39m\u001B[38;5;124mfødselsår\u001B[39m\u001B[38;5;124m'\u001B[39m: \u001B[38;5;241m1995\u001B[39m},\n\u001B[1;32m   (...)\u001B[0m\n\u001B[0;32m      8\u001B[0m     {\u001B[38;5;124m'\u001B[39m\u001B[38;5;124mfornavn\u001B[39m\u001B[38;5;124m'\u001B[39m: \u001B[38;5;124m'\u001B[39m\u001B[38;5;124mWenche\u001B[39m\u001B[38;5;124m'\u001B[39m, \u001B[38;5;124m'\u001B[39m\u001B[38;5;124metternavn\u001B[39m\u001B[38;5;124m'\u001B[39m: \u001B[38;5;124m'\u001B[39m\u001B[38;5;124mHovland\u001B[39m\u001B[38;5;124m'\u001B[39m, \u001B[38;5;124m'\u001B[39m\u001B[38;5;124mfødselsår\u001B[39m\u001B[38;5;124m'\u001B[39m: \u001B[38;5;241m1999\u001B[39m}\n\u001B[0;32m      9\u001B[0m ]\n\u001B[1;32m---> 10\u001B[0m valg \u001B[38;5;241m=\u001B[39m \u001B[38;5;28mint\u001B[39m(\u001B[38;5;28;43minput\u001B[39;49m\u001B[43m(\u001B[49m\n\u001B[0;32m     11\u001B[0m \u001B[43m    \u001B[49m\u001B[38;5;124;43mf\u001B[39;49m\u001B[38;5;124;43m'\u001B[39;49m\u001B[38;5;124;43m1: Fornavn\u001B[39;49m\u001B[38;5;130;43;01m\\n\u001B[39;49;00m\u001B[38;5;124;43m'\u001B[39;49m\n\u001B[0;32m     12\u001B[0m \u001B[43m    \u001B[49m\u001B[38;5;124;43mf\u001B[39;49m\u001B[38;5;124;43m'\u001B[39;49m\u001B[38;5;124;43m2: Etternavn\u001B[39;49m\u001B[38;5;130;43;01m\\n\u001B[39;49;00m\u001B[38;5;124;43m'\u001B[39;49m\n\u001B[0;32m     13\u001B[0m \u001B[43m    \u001B[49m\u001B[38;5;124;43mf\u001B[39;49m\u001B[38;5;124;43m'\u001B[39;49m\u001B[38;5;124;43m3: Fødselsår\u001B[39;49m\u001B[38;5;130;43;01m\\n\u001B[39;49;00m\u001B[38;5;124;43m'\u001B[39;49m\n\u001B[0;32m     14\u001B[0m \u001B[43m    \u001B[49m\u001B[38;5;124;43mf\u001B[39;49m\u001B[38;5;124;43m'\u001B[39;49m\u001B[38;5;124;43m0: Avslutt\u001B[39;49m\u001B[38;5;130;43;01m\\n\u001B[39;49;00m\u001B[38;5;124;43m'\u001B[39;49m\u001B[43m \u001B[49m\n\u001B[0;32m     15\u001B[0m \u001B[43m)\u001B[49m)\n\u001B[0;32m     16\u001B[0m sortering \u001B[38;5;241m=\u001B[39m \u001B[38;5;28mlist\u001B[39m(personer[\u001B[38;5;241m0\u001B[39m]\u001B[38;5;241m.\u001B[39mkeys())[valg\u001B[38;5;241m-\u001B[39m\u001B[38;5;241m1\u001B[39m]\n\u001B[0;32m     18\u001B[0m kolonner \u001B[38;5;241m=\u001B[39m \u001B[38;5;124m\"\u001B[39m\u001B[38;5;124m\"\u001B[39m\n",
      "File \u001B[1;32m~\\AppData\\Local\\Programs\\Python\\Python39\\lib\\site-packages\\ipykernel\\kernelbase.py:1251\u001B[0m, in \u001B[0;36mKernel.raw_input\u001B[1;34m(self, prompt)\u001B[0m\n\u001B[0;32m   1249\u001B[0m     msg \u001B[38;5;241m=\u001B[39m \u001B[38;5;124m\"\u001B[39m\u001B[38;5;124mraw_input was called, but this frontend does not support input requests.\u001B[39m\u001B[38;5;124m\"\u001B[39m\n\u001B[0;32m   1250\u001B[0m     \u001B[38;5;28;01mraise\u001B[39;00m StdinNotImplementedError(msg)\n\u001B[1;32m-> 1251\u001B[0m \u001B[38;5;28;01mreturn\u001B[39;00m \u001B[38;5;28;43mself\u001B[39;49m\u001B[38;5;241;43m.\u001B[39;49m\u001B[43m_input_request\u001B[49m\u001B[43m(\u001B[49m\n\u001B[0;32m   1252\u001B[0m \u001B[43m    \u001B[49m\u001B[38;5;28;43mstr\u001B[39;49m\u001B[43m(\u001B[49m\u001B[43mprompt\u001B[49m\u001B[43m)\u001B[49m\u001B[43m,\u001B[49m\n\u001B[0;32m   1253\u001B[0m \u001B[43m    \u001B[49m\u001B[38;5;28;43mself\u001B[39;49m\u001B[38;5;241;43m.\u001B[39;49m\u001B[43m_parent_ident\u001B[49m\u001B[43m[\u001B[49m\u001B[38;5;124;43m\"\u001B[39;49m\u001B[38;5;124;43mshell\u001B[39;49m\u001B[38;5;124;43m\"\u001B[39;49m\u001B[43m]\u001B[49m\u001B[43m,\u001B[49m\n\u001B[0;32m   1254\u001B[0m \u001B[43m    \u001B[49m\u001B[38;5;28;43mself\u001B[39;49m\u001B[38;5;241;43m.\u001B[39;49m\u001B[43mget_parent\u001B[49m\u001B[43m(\u001B[49m\u001B[38;5;124;43m\"\u001B[39;49m\u001B[38;5;124;43mshell\u001B[39;49m\u001B[38;5;124;43m\"\u001B[39;49m\u001B[43m)\u001B[49m\u001B[43m,\u001B[49m\n\u001B[0;32m   1255\u001B[0m \u001B[43m    \u001B[49m\u001B[43mpassword\u001B[49m\u001B[38;5;241;43m=\u001B[39;49m\u001B[38;5;28;43;01mFalse\u001B[39;49;00m\u001B[43m,\u001B[49m\n\u001B[0;32m   1256\u001B[0m \u001B[43m\u001B[49m\u001B[43m)\u001B[49m\n",
      "File \u001B[1;32m~\\AppData\\Local\\Programs\\Python\\Python39\\lib\\site-packages\\ipykernel\\kernelbase.py:1295\u001B[0m, in \u001B[0;36mKernel._input_request\u001B[1;34m(self, prompt, ident, parent, password)\u001B[0m\n\u001B[0;32m   1292\u001B[0m \u001B[38;5;28;01mexcept\u001B[39;00m \u001B[38;5;167;01mKeyboardInterrupt\u001B[39;00m:\n\u001B[0;32m   1293\u001B[0m     \u001B[38;5;66;03m# re-raise KeyboardInterrupt, to truncate traceback\u001B[39;00m\n\u001B[0;32m   1294\u001B[0m     msg \u001B[38;5;241m=\u001B[39m \u001B[38;5;124m\"\u001B[39m\u001B[38;5;124mInterrupted by user\u001B[39m\u001B[38;5;124m\"\u001B[39m\n\u001B[1;32m-> 1295\u001B[0m     \u001B[38;5;28;01mraise\u001B[39;00m \u001B[38;5;167;01mKeyboardInterrupt\u001B[39;00m(msg) \u001B[38;5;28;01mfrom\u001B[39;00m \u001B[38;5;28;01mNone\u001B[39;00m\n\u001B[0;32m   1296\u001B[0m \u001B[38;5;28;01mexcept\u001B[39;00m \u001B[38;5;167;01mException\u001B[39;00m:\n\u001B[0;32m   1297\u001B[0m     \u001B[38;5;28mself\u001B[39m\u001B[38;5;241m.\u001B[39mlog\u001B[38;5;241m.\u001B[39mwarning(\u001B[38;5;124m\"\u001B[39m\u001B[38;5;124mInvalid Message:\u001B[39m\u001B[38;5;124m\"\u001B[39m, exc_info\u001B[38;5;241m=\u001B[39m\u001B[38;5;28;01mTrue\u001B[39;00m)\n",
      "\u001B[1;31mKeyboardInterrupt\u001B[0m: Interrupted by user"
     ]
    }
   ],
   "execution_count": 39
  },
  {
   "metadata": {
    "ExecuteTime": {
     "end_time": "2024-10-23T07:31:34.748162Z",
     "start_time": "2024-10-23T07:31:34.719163Z"
    }
   },
   "cell_type": "code",
   "source": [
    "import operator\n",
    "sorted(personer, key=operator.itemgetter(sortering), reverse=False)"
   ],
   "id": "f86a861b741e98a8",
   "outputs": [
    {
     "data": {
      "text/plain": [
       "[{'fornavn': 'Anette', 'etternavn': 'Ås', 'fødselsår': 1998},\n",
       " {'fornavn': 'Gustav', 'etternavn': 'Monsen', 'fødselsår': 1995},\n",
       " {'fornavn': 'Kari', 'etternavn': 'Hansen', 'fødselsår': 2001},\n",
       " {'fornavn': 'Marius', 'etternavn': 'Lie', 'fødselsår': 2002},\n",
       " {'fornavn': 'Wenche', 'etternavn': 'Hovland', 'fødselsår': 1999}]"
      ]
     },
     "execution_count": 27,
     "metadata": {},
     "output_type": "execute_result"
    }
   ],
   "execution_count": 27
  },
  {
   "metadata": {
    "ExecuteTime": {
     "end_time": "2024-10-23T07:35:24.146082Z",
     "start_time": "2024-10-23T07:35:24.133093Z"
    }
   },
   "cell_type": "code",
   "source": [
    "valg = 1\n",
    "sortering = list(personer[0].keys())[valg-1]\n",
    "sortering"
   ],
   "id": "6073fc7c5daf06ad",
   "outputs": [
    {
     "data": {
      "text/plain": [
       "'fornavn'"
      ]
     },
     "execution_count": 33,
     "metadata": {},
     "output_type": "execute_result"
    }
   ],
   "execution_count": 33
  },
  {
   "metadata": {},
   "cell_type": "code",
   "outputs": [],
   "execution_count": null,
   "source": "",
   "id": "dc50f3514d17849f"
  }
 ],
 "metadata": {
  "kernelspec": {
   "display_name": "Python 3",
   "language": "python",
   "name": "python3"
  },
  "language_info": {
   "codemirror_mode": {
    "name": "ipython",
    "version": 2
   },
   "file_extension": ".py",
   "mimetype": "text/x-python",
   "name": "python",
   "nbconvert_exporter": "python",
   "pygments_lexer": "ipython2",
   "version": "2.7.6"
  }
 },
 "nbformat": 4,
 "nbformat_minor": 5
}
