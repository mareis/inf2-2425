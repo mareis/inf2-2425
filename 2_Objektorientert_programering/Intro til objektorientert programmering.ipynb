{
 "cells": [
  {
   "metadata": {},
   "cell_type": "markdown",
   "source": "# Introduksjon til Objektorientert Programmering i Python",
   "id": "77796dc17965173f"
  },
  {
   "metadata": {},
   "cell_type": "markdown",
   "source": [
    "---\n",
    "\n",
    "## Innholdsfortegnelse\n",
    "\n",
    "1. [Hva er objektorientert programmering?](#Hva-er-objektorientert-programmering?)\n",
    "2. [Klasser og objekter](#Klasser-og-objekter)\n",
    "3. [Egenskaper (attributter)](#Egenskaper-attributter)\n",
    "4. [Metoder](#Metoder)\n",
    "5. [Oppgaver](#Oppgaver)"
   ],
   "id": "65b5579e5904bcfc"
  },
  {
   "metadata": {},
   "cell_type": "markdown",
   "source": [
    "---\n",
    "\n",
    "## Hva er objektorientert programmering?\n",
    "\n",
    "Objektorientert programmering er en måte å organisere og strukturere koden din på ved å bruke \"objekter\". Et objekt er en samling av data og funksjoner som representerer noe i den virkelige verden.\n",
    "\n",
    "**Grunnleggende konsepter:**\n",
    "\n",
    "- **Klasse:** En mal eller blueprint som definerer egenskapene og metodene som objektene vil ha.\n",
    "- **Objekt:** En instans av en klasse; det er det faktiske elementet som er opprettet basert på klassen.\n",
    "- **Egenskaper (Attributter):** Variabler som tilhører et objekt.\n",
    "- **Metoder:** Funksjoner som tilhører et objekt."
   ],
   "id": "ecd6b9ded4d84d9e"
  },
  {
   "metadata": {},
   "cell_type": "markdown",
   "source": [
    "---\n",
    "\n",
    "## Klasser og objekter\n",
    "\n",
    "### Definere en klasse\n",
    "\n",
    "I Python definerer vi en klasse ved å bruke nøkkelordet `class`:"
   ],
   "id": "b7fd9231c5d907b5"
  },
  {
   "metadata": {},
   "cell_type": "code",
   "outputs": [],
   "execution_count": null,
   "source": [
    "class Person:\n",
    "    pass  # 'pass' brukes når vi ikke vil definere noe ennå"
   ],
   "id": "ad435ea72bdb0798"
  },
  {
   "metadata": {},
   "cell_type": "markdown",
   "source": "### Opprette et objekt (instansiere en klasse)",
   "id": "8975c03d4f74f8c3"
  },
  {
   "metadata": {},
   "cell_type": "code",
   "outputs": [],
   "execution_count": null,
   "source": [
    "person1 = Person()\n",
    "print(person1)"
   ],
   "id": "d23601073a2b2d22"
  },
  {
   "metadata": {},
   "cell_type": "markdown",
   "source": [
    "---\n",
    "\n",
    "## Egenskaper (attributter)\n",
    "\n",
    "Vi kan legge til egenskaper til klassen ved å bruke en spesiell metode kalt `__init__()`. Denne metoden kalles når vi oppretter et nytt objekt.\n",
    "\n",
    "### Legge til egenskaper med `__init__()`"
   ],
   "id": "9262dfbff4075987"
  },
  {
   "metadata": {},
   "cell_type": "code",
   "outputs": [],
   "execution_count": null,
   "source": [
    "class Person:\n",
    "    def __init__(self, navn, alder):\n",
    "        self.navn = navn  # 'self.navn' er en egenskap\n",
    "        self.alder = alder"
   ],
   "id": "25ab4356e9c5b715"
  },
  {
   "metadata": {},
   "cell_type": "markdown",
   "source": [
    "- `self` refererer til objektet selv.\n",
    "- `navn` og `alder` er parametere som vi sender inn når vi oppretter et objekt."
   ],
   "id": "94d7768eacd29da3"
  },
  {
   "metadata": {},
   "cell_type": "markdown",
   "source": "### Opprette et objekt med egenskaper",
   "id": "1dd472ccc9905607"
  },
  {
   "metadata": {},
   "cell_type": "code",
   "outputs": [],
   "execution_count": null,
   "source": [
    "person1 = Person(\"Ole\", 30)\n",
    "print(f\"Navn: {person1.navn}\")\n",
    "print(f\"Alder: {person1.alder}\")"
   ],
   "id": "60cbc0ccbee93436"
  },
  {
   "metadata": {},
   "cell_type": "markdown",
   "source": [
    "---\n",
    "\n",
    "## Metoder\n",
    "\n",
    "Metoder er funksjoner som er definert inne i en klasse og som utfører handlinger på objektene.\n",
    "\n",
    "### Legge til metoder"
   ],
   "id": "a2d838de39071baa"
  },
  {
   "metadata": {},
   "cell_type": "code",
   "outputs": [],
   "execution_count": null,
   "source": [
    "class Person:\n",
    "    def __init__(self, navn, alder):\n",
    "        self.navn = navn\n",
    "        self.alder = alder\n",
    "    \n",
    "    def si_hei(self):\n",
    "        print(f\"Hei, jeg heter {self.navn} og er {self.alder} år gammel.\")"
   ],
   "id": "160143c6b7d58d46"
  },
  {
   "metadata": {},
   "cell_type": "markdown",
   "source": "### Bruke metoder",
   "id": "4ae616a70e8fad46"
  },
  {
   "metadata": {},
   "cell_type": "code",
   "outputs": [],
   "execution_count": null,
   "source": [
    "person1 = Person(\"Ole\", 30)\n",
    "person1.si_hei()"
   ],
   "id": "b1aed2240dc957fc"
  },
  {
   "metadata": {},
   "cell_type": "markdown",
   "source": [
    "---\n",
    "\n",
    "## Oppgaver\n",
    "\n",
    "Nå er det din tur til å prøve! Forsøk å løse oppgavene før du ser på løsningen.\n",
    "\n",
    "### Oppgave 1\n",
    "\n",
    "Lag en klasse `Student` som har egenskapene `navn` og `studentnummer`. Legg til en metode `presenter()` som skriver ut \"Jeg heter [navn] og mitt studentnummer er [studentnummer].\""
   ],
   "id": "ff6c82881742e052"
  },
  {
   "metadata": {},
   "cell_type": "code",
   "outputs": [],
   "execution_count": null,
   "source": "# Skriv din kode her",
   "id": "8e9f461510d90a2c"
  },
  {
   "metadata": {},
   "cell_type": "markdown",
   "source": [
    "---\n",
    "\n",
    "### Oppgave 2\n",
    "\n",
    "Utvid `Student`-klassen med en egenskap `fag` som er en liste over fag studenten tar. Legg til en metode `legg_til_fag(fag)` som legger til et fag i listen, og en metode `vis_fag()` som skriver ut alle fagene studenten tar."
   ],
   "id": "d73cb575494ad494"
  },
  {
   "metadata": {},
   "cell_type": "code",
   "outputs": [],
   "execution_count": null,
   "source": "# Skriv din kode her",
   "id": "f31caeba918f255b"
  },
  {
   "metadata": {},
   "cell_type": "markdown",
   "source": [
    "---\n",
    "\n",
    "### Oppgave 3\n",
    "\n",
    "Lag en klasse `Rektangel` med egenskapene `bredde` og `høyde`. Legg til metoder `areal()` og `omkrets()` som beregner og returnerer arealet og omkretsen av rektangelet."
   ],
   "id": "b24c16cf8e1deae8"
  },
  {
   "metadata": {},
   "cell_type": "code",
   "outputs": [],
   "execution_count": null,
   "source": "# Skriv din kode her",
   "id": "334f0e2cdf738703"
  },
  {
   "metadata": {},
   "cell_type": "markdown",
   "source": [
    "---\n",
    "\n",
    "### Oppgave 4\n",
    "\n",
    "Lag en klasse `BankKonto` med egenskapene `kontonummer` og `saldo`. Legg til metoder `sett_inn(beløp)`, `ta_ut(beløp)` og `vis_saldo()`.\n",
    "\n",
    "- `sett_inn(beløp)`: Legger til beløpet i saldoen.\n",
    "- `ta_ut(beløp)`: Trekker beløpet fra saldoen hvis det er tilstrekkelig saldo.\n",
    "- `vis_saldo()`: Skriver ut nåværende saldo."
   ],
   "id": "2b47cf6388a3210c"
  },
  {
   "metadata": {},
   "cell_type": "code",
   "outputs": [],
   "execution_count": null,
   "source": "# Skriv din kode her",
   "id": "eba7fa5b5105be57"
  },
  {
   "metadata": {},
   "cell_type": "markdown",
   "source": [
    "---\n",
    "\n",
    "### Oppgave 5\n",
    "\n",
    "Lag en klasse `Bil` med egenskapene `merke`, `modell` og `år`. Legg til en metode `hent_info()` som returnerer en streng med all informasjon om bilen."
   ],
   "id": "776da2e63ed450e0"
  },
  {
   "metadata": {},
   "cell_type": "code",
   "outputs": [],
   "execution_count": null,
   "source": "# Skriv din kode her",
   "id": "316914e35acf42c5"
  },
  {
   "metadata": {},
   "cell_type": "markdown",
   "source": [
    "---\n",
    "\n",
    "### Oppgave 6\n",
    "\n",
    "Utvid `Bil`-klassen med en metode `start()` som skriver ut \"Bilen starter\", og en metode `stopp()` som skriver ut \"Bilen stopper\"."
   ],
   "id": "cb451a9d4f1e433e"
  },
  {
   "metadata": {},
   "cell_type": "code",
   "outputs": [],
   "execution_count": null,
   "source": "# Skriv din kode her",
   "id": "2a4f1f0e3b042aae"
  },
  {
   "metadata": {},
   "cell_type": "markdown",
   "source": [
    "---\n",
    "\n",
    "### Oppgave 7\n",
    "\n",
    "Lag en klasse `Sirkel` med egenskapen `radius`. Legg til metoder `areal()` og `omkrets()` som beregner og returnerer sirkelens areal og omkrets. (Tips: Bruk `import math` og `math.pi`.)"
   ],
   "id": "eb4fffbd954ad49"
  },
  {
   "metadata": {},
   "cell_type": "code",
   "outputs": [],
   "execution_count": null,
   "source": "# Skriv din kode her",
   "id": "7fd9a2bc8932974f"
  },
  {
   "metadata": {},
   "cell_type": "markdown",
   "source": [
    "---\n",
    "\n",
    "### Oppgave 8\n",
    "\n",
    "Forklar med egne ord hva en klasse og et objekt er, og hvordan de relaterer til hverandre."
   ],
   "id": "4b76ee4714fc9b17"
  },
  {
   "metadata": {},
   "cell_type": "markdown",
   "source": "**Skriv ditt svar her**",
   "id": "55e354a27405457d"
  },
  {
   "metadata": {},
   "cell_type": "markdown",
   "source": [
    "---\n",
    "\n",
    "## Ekstra oppgaver\n",
    "\n",
    "Hvis du ønsker å utfordre deg selv ytterligere, her er noen ekstra oppgaver:\n",
    "\n",
    "### Oppgave 9\n",
    "\n",
    "Lag en klasse `Bok` med egenskapene `tittel`, `forfatter` og `år`. Legg til en metode `hent_info()` som returnerer en streng med informasjon om boken. Lag også en metode `er_eldre_enn(annet_år)` som returnerer `True` hvis boken er eldre enn `annet_år`.\n",
    "\n",
    "### Oppgave 10\n",
    "\n",
    "Lag en klasse `Kalkulator` som kan utføre grunnleggende matematiske operasjoner (addisjon, subtraksjon, multiplikasjon, divisjon). Legg til metoder for hver operasjon."
   ],
   "id": "f1a6fe458b079def"
  },
  {
   "metadata": {},
   "cell_type": "code",
   "outputs": [],
   "execution_count": null,
   "source": "# Skriv din kode her",
   "id": "c698b321d0ece2d"
  },
  {
   "metadata": {},
   "cell_type": "markdown",
   "source": [
    "---\n",
    "\n",
    "**Lykke til videre med programmeringen!**"
   ],
   "id": "449321455aa5c810"
  }
 ],
 "metadata": {},
 "nbformat": 5,
 "nbformat_minor": 9
}
