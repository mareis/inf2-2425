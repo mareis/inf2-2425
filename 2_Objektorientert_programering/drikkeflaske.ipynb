{
 "cells": [
  {
   "cell_type": "markdown",
   "id": "3c383ed9",
   "metadata": {},
   "source": "# Bygge opp 'DrikkeFlaske'-klassen Steg for Steg"
  },
  {
   "cell_type": "markdown",
   "id": "9e9513e1",
   "metadata": {},
   "source": [
    "---"
   ]
  },
  {
   "cell_type": "markdown",
   "id": "b84c8724",
   "metadata": {},
   "source": [
    "## Steg 1: Definere en Tom Klasse\n",
    "\n",
    "Først starter vi med å definere en tom klasse ved hjelp av nøkkelordet `class`."
   ]
  },
  {
   "cell_type": "code",
   "execution_count": null,
   "id": "9e6dc3fa",
   "metadata": {},
   "outputs": [],
   "source": [
    "class Drikkeflaske:\n",
    "    pass  # Bruker 'pass' siden klassen er tom foreløpig\n",
    "    "
   ]
  },
  {
   "cell_type": "markdown",
   "id": "d61af4c5",
   "metadata": {},
   "source": "Dette oppretter en klasse med navnet `DrikkeFlaske`, men den har ingen egenskaper eller metoder ennå.cla"
  },
  {
   "metadata": {},
   "cell_type": "code",
   "outputs": [],
   "execution_count": null,
   "source": [
    "class Drikkeflaske:\n",
    "    def __init__(self):\n",
    "        # Egenskapene til objektet\n",
    "        pass\n",
    "    \n",
    "    def fylle_flaske(self):\n",
    "        pass\n",
    "    \n",
    "    def tømme_flaske(self):\n",
    "        pass\n",
    "    \n",
    "    def drikke_flaske(self):\n",
    "        pass\n",
    "    \n",
    "    "
   ],
   "id": "d5466de2b80301d8"
  },
  {
   "cell_type": "markdown",
   "id": "728d9cdb",
   "metadata": {},
   "source": [
    "---"
   ]
  },
  {
   "cell_type": "markdown",
   "id": "cbfd1d14",
   "metadata": {},
   "source": [
    "## Steg 2: Legge til Egenskaper (Attributter)\n",
    "\n",
    "Vi ønsker at flasken skal ha visse egenskaper:\n",
    "\n",
    "- `kapasitet`: Maksimalt volum flasken kan inneholde (i dl).\n",
    "- `innhold`: Nåværende volum av væske i flasken (i dl).\n",
    "- `type_væske`: Hvilken type væske flasken inneholder (f.eks. vann, juice).\n",
    "\n",
    "For å legge til egenskaper, definerer vi en konstruktørmetode `__init__()`."
   ]
  },
  {
   "cell_type": "code",
   "execution_count": null,
   "id": "52ca3937",
   "metadata": {},
   "outputs": [],
   "source": [
    "class DrikkeFlaske:\n",
    "    def __init__(self, kapasitet):\n",
    "        self.kapasitet = kapasitet  # Maksimal kapasitet i dl\n",
    "        self.innhold = 0            # Starter med tom flaske\n",
    "        self.type_væske = None      # Ingen væske ved opprettelse"
   ]
  },
  {
   "cell_type": "markdown",
   "id": "b26cba23",
   "metadata": {},
   "source": [
    "Her initialiserer vi `innhold` til 0 og `type_væske` til `None` når flasken opprettes."
   ]
  },
  {
   "cell_type": "markdown",
   "id": "3e1e352c",
   "metadata": {},
   "source": [
    "---"
   ]
  },
  {
   "cell_type": "markdown",
   "id": "ca4e6ea1",
   "metadata": {},
   "source": [
    "## Steg 3: Legge til Metoden `fyll_opp()`\n",
    "\n",
    "Vi trenger en metode for å fylle på flasken med væske."
   ]
  },
  {
   "cell_type": "code",
   "id": "f4e21e5a",
   "metadata": {
    "ExecuteTime": {
     "end_time": "2024-11-04T13:12:38.988310Z",
     "start_time": "2024-11-04T13:12:38.956825Z"
    }
   },
   "source": [
    "class Drikkeflaske:\n",
    "    def __init__(self, kapasitet):\n",
    "        self.kapasitet = kapasitet\n",
    "        self.innhold = 0\n",
    "        self.type_væske = None\n",
    "\n",
    "    def fyll_flaske(self):\n",
    "        self.innhold = self.kapasitet\n",
    "        \n",
    "    def tøm_flaske(self):\n",
    "        self.innhold = 0\n",
    "        \n",
    "    def drikke_fra_flaske(self, volum):\n",
    "        pass\n",
    "    \n",
    "    def ta_en_slurk(self):\n",
    "        slurk = 0.5\n",
    "        if self.innhold >= slurk:\n",
    "            self.innhold -= slurk\n",
    "        else:\n",
    "            self.innhold = 0  \n",
    "        \n",
    "    def status(self):\n",
    "        print(f'Det er {self.innhold} dl igjen av {self.kapasitet} dl.')\n",
    "        \n",
    "min_flaske = Drikkeflaske(5.5)\n",
    "din_flaske = Drikkeflaske(5)\n",
    "\n",
    "print(min_flaske.kapasitet)\n",
    "print(min_flaske.innhold)\n",
    "min_flaske.fyll_flaske()\n",
    "print(min_flaske.innhold)\n",
    "min_flaske.ta_en_slurk()\n",
    "min_flaske.ta_en_slurk()\n",
    "print(min_flaske.innhold)\n",
    "min_flaske.ta_en_slurk()\n",
    "min_flaske.status()\n",
    "    "
   ],
   "outputs": [
    {
     "name": "stdout",
     "output_type": "stream",
     "text": [
      "5.5\n",
      "0\n",
      "5.5\n",
      "4.5\n",
      "Det er 4.0 dl igjen av 5.5 dl.\n"
     ]
    }
   ],
   "execution_count": 11
  },
  {
   "cell_type": "markdown",
   "id": "d352d7af",
   "metadata": {},
   "source": [
    "Forklaring:\n",
    "\n",
    "- Sjekker om det er nok plass til å fylle på ønsket mengde.\n",
    "- Oppdaterer `innhold` og `type_væske` hvis det er plass.\n",
    "- Hvis ikke, fyller opp til maks kapasitet og gir en melding."
   ]
  },
  {
   "cell_type": "markdown",
   "id": "35c54f3b",
   "metadata": {},
   "source": [
    "---"
   ]
  },
  {
   "cell_type": "markdown",
   "id": "e3ce9a75",
   "metadata": {},
   "source": [
    "## Steg 4: Legge til Metoden `drikk()`\n",
    "\n",
    "Vi legger til en metode som lar oss drikke fra flasken."
   ]
  },
  {
   "cell_type": "code",
   "execution_count": null,
   "id": "4f9bf9ce",
   "metadata": {},
   "outputs": [],
   "source": [
    "class DrikkeFlaske:\n",
    "    def __init__(self, kapasitet):\n",
    "        self.kapasitet = kapasitet\n",
    "        self.innhold = 0\n",
    "        self.type_væske = None\n",
    "\n",
    "    def fyll_opp(self, mengde, type_væske):\n",
    "        if self.innhold + mengde <= self.kapasitet:\n",
    "            self.innhold += mengde\n",
    "            self.type_væske = type_væske\n",
    "            print(f\"Du fylte på {mengde} dl {type_væske}.\")\n",
    "        else:\n",
    "            tilgjengelig_plass = self.kapasitet - self.innhold\n",
    "            self.innhold = self.kapasitet\n",
    "            self.type_væske = type_væske\n",
    "            print(f\"Flasken er full! Du fylte på {tilgjengelig_plass} dl {type_væske}.\")\n",
    "\n",
    "    def drikk(self, mengde):\n",
    "        if self.innhold == 0:\n",
    "            print(\"Flasken er tom.\")\n",
    "        elif mengde <= self.innhold:\n",
    "            self.innhold -= mengde\n",
    "            print(f\"Du drakk {mengde} dl {self.type_væske}.\")\n",
    "            if self.innhold == 0:\n",
    "                self.type_væske = None\n",
    "        else:\n",
    "            print(f\"Det er ikke nok {self.type_væske} i flasken. Du drakk opp resten på {self.innhold} dl.\")\n",
    "            self.innhold = 0\n",
    "            self.type_væske = None"
   ]
  },
  {
   "cell_type": "markdown",
   "id": "0c1b3285",
   "metadata": {},
   "source": [
    "Forklaring:\n",
    "\n",
    "- Sjekker om flasken er tom før vi prøver å drikke.\n",
    "- Hvis det er nok væske, reduserer vi `innhold` med `mengde`.\n",
    "- Hvis ikke, drikker vi opp resten og oppdaterer `innhold` og `type_væske`."
   ]
  },
  {
   "cell_type": "markdown",
   "id": "dbe91e93",
   "metadata": {},
   "source": [
    "---"
   ]
  },
  {
   "cell_type": "markdown",
   "id": "d9a8cf1a",
   "metadata": {},
   "source": [
    "## Steg 5: Legge til Metoden `rapporter_innhold()`\n",
    "\n",
    "Vi ønsker å kunne rapportere nåværende innhold i flasken."
   ]
  },
  {
   "cell_type": "code",
   "execution_count": null,
   "id": "d5b9ba4c",
   "metadata": {},
   "outputs": [],
   "source": [
    "class DrikkeFlaske:\n",
    "    def __init__(self, kapasitet):\n",
    "        self.kapasitet = kapasitet\n",
    "        self.innhold = 0\n",
    "        self.type_væske = None\n",
    "\n",
    "    def fyll_opp(self, mengde, type_væske):\n",
    "        if self.innhold + mengde <= self.kapasitet:\n",
    "            self.innhold += mengde\n",
    "            self.type_væske = type_væske\n",
    "            print(f\"Du fylte på {mengde} dl {type_væske}.\")\n",
    "        else:\n",
    "            tilgjengelig_plass = self.kapasitet - self.innhold\n",
    "            self.innhold = self.kapasitet\n",
    "            self.type_væske = type_væske\n",
    "            print(f\"Flasken er full! Du fylte på {tilgjengelig_plass} dl {type_væske}.\")\n",
    "\n",
    "    def drikk(self, mengde):\n",
    "        if self.innhold == 0:\n",
    "            print(\"Flasken er tom.\")\n",
    "        elif mengde <= self.innhold:\n",
    "            self.innhold -= mengde\n",
    "            print(f\"Du drakk {mengde} dl {self.type_væske}.\")\n",
    "            if self.innhold == 0:\n",
    "                self.type_væske = None\n",
    "        else:\n",
    "            print(f\"Det er ikke nok {self.type_væske} i flasken. Du drakk opp resten på {self.innhold} dl.\")\n",
    "            self.innhold = 0\n",
    "            self.type_væske = None\n",
    "\n",
    "    def rapporter_innhold(self):\n",
    "        if self.innhold > 0:\n",
    "            print(f\"Flasken inneholder {self.innhold} dl {self.type_væske}.\")\n",
    "        else:\n",
    "            print(\"Flasken er tom.\")"
   ]
  },
  {
   "cell_type": "markdown",
   "id": "0bbdb8a3",
   "metadata": {},
   "source": [
    "Forklaring:\n",
    "\n",
    "- Sjekker om flasken har noe innhold.\n",
    "- Skriver ut passende melding."
   ]
  },
  {
   "cell_type": "markdown",
   "id": "845f4c1d",
   "metadata": {},
   "source": [
    "---"
   ]
  },
  {
   "cell_type": "markdown",
   "id": "ca0d9c13",
   "metadata": {},
   "source": [
    "## Fullstendig Klassekode\n",
    "\n",
    "Her er den fullstendige klassen med alle metodene samlet:"
   ]
  },
  {
   "cell_type": "code",
   "execution_count": null,
   "id": "ecc0dff7",
   "metadata": {},
   "outputs": [],
   "source": [
    "class DrikkeFlaske:\n",
    "    def __init__(self, kapasitet):\n",
    "        self.kapasitet = kapasitet\n",
    "        self.innhold = 0\n",
    "        self.type_væske = None\n",
    "\n",
    "    def fyll_opp(self, mengde, type_væske):\n",
    "        if self.innhold + mengde <= self.kapasitet:\n",
    "            self.innhold += mengde\n",
    "            self.type_væske = type_væske\n",
    "            print(f\"Du fylte på {mengde} dl {type_væske}.\")\n",
    "        else:\n",
    "            tilgjengelig_plass = self.kapasitet - self.innhold\n",
    "            self.innhold = self.kapasitet\n",
    "            self.type_væske = type_væske\n",
    "            print(f\"Flasken er full! Du fylte på {tilgjengelig_plass} dl {type_væske}.\")\n",
    "\n",
    "    def drikk(self, mengde):\n",
    "        if self.innhold == 0:\n",
    "            print(\"Flasken er tom.\")\n",
    "        elif mengde <= self.innhold:\n",
    "            self.innhold -= mengde\n",
    "            print(f\"Du drakk {mengde} dl {self.type_væske}.\")\n",
    "            if self.innhold == 0:\n",
    "                self.type_væske = None\n",
    "        else:\n",
    "            print(f\"Det er ikke nok {self.type_væske} i flasken. Du drakk opp resten på {self.innhold} dl.\")\n",
    "            self.innhold = 0\n",
    "            self.type_væske = None\n",
    "\n",
    "    def rapporter_innhold(self):\n",
    "        if self.innhold > 0:\n",
    "            print(f\"Flasken inneholder {self.innhold} dl {self.type_væske}.\")\n",
    "        else:\n",
    "            print(\"Flasken er tom.\")"
   ]
  },
  {
   "cell_type": "markdown",
   "id": "c218e8d6",
   "metadata": {},
   "source": [
    "---"
   ]
  },
  {
   "cell_type": "markdown",
   "id": "486dc746",
   "metadata": {},
   "source": [
    "## Steg 6: Testing av Klassen\n",
    "\n",
    "La oss teste klassen ved å opprette et `DrikkeFlaske`-objekt og bruke metodene."
   ]
  },
  {
   "cell_type": "markdown",
   "id": "11a6a9f1",
   "metadata": {},
   "source": [
    "### Eksempel 1: Fylle på og drikke"
   ]
  },
  {
   "cell_type": "code",
   "execution_count": null,
   "id": "6a7afc97",
   "metadata": {},
   "outputs": [],
   "source": [
    "# Opprett en flaske med kapasitet på 5 dl\n",
    "min_flaske = DrikkeFlaske(5)\n",
    "\n",
    "# Fyll opp flasken med 3 dl vann\n",
    "min_flaske.fyll_opp(3, \"vann\")\n",
    "\n",
    "# Rapporter innholdet i flasken\n",
    "min_flaske.rapporter_innhold()\n",
    "\n",
    "# Drikk 2 dl\n",
    "min_flaske.drikk(2)\n",
    "\n",
    "# Rapporter innholdet igjen\n",
    "min_flaske.rapporter_innhold()"
   ]
  },
  {
   "cell_type": "markdown",
   "id": "44a47dd0",
   "metadata": {},
   "source": [
    "**Forventet Output:**\n",
    "\n",
    "```\n",
    "Du fylte på 3 dl vann.\n",
    "Flasken inneholder 3 dl vann.\n",
    "Du drakk 2 dl vann.\n",
    "Flasken inneholder 1 dl vann.\n",
    "```"
   ]
  },
  {
   "cell_type": "markdown",
   "id": "a9c4fef2",
   "metadata": {},
   "source": [
    "---"
   ]
  },
  {
   "cell_type": "markdown",
   "id": "bd7f5755",
   "metadata": {},
   "source": [
    "### Eksempel 2: Overfylling og Drikke Opp Alt"
   ]
  },
  {
   "cell_type": "code",
   "execution_count": null,
   "id": "ea60c510",
   "metadata": {},
   "outputs": [],
   "source": [
    "# Prøv å fylle på 4 dl juice\n",
    "min_flaske.fyll_opp(4, \"juice\")\n",
    "\n",
    "# Rapporter innholdet\n",
    "min_flaske.rapporter_innhold()\n",
    "\n",
    "# Drikk 5 dl\n",
    "min_flaske.drikk(5)\n",
    "\n",
    "# Rapporter innholdet til slutt\n",
    "min_flaske.rapporter_innhold()"
   ]
  },
  {
   "cell_type": "markdown",
   "id": "a3310ac1",
   "metadata": {},
   "source": [
    "**Forventet Output:**\n",
    "\n",
    "```\n",
    "Flasken er full! Du fylte på 2 dl juice.\n",
    "Flasken inneholder 5 dl juice.\n",
    "Du drakk 5 dl juice.\n",
    "Flasken er tom.\n",
    "```"
   ]
  },
  {
   "cell_type": "markdown",
   "id": "7e19ce85",
   "metadata": {},
   "source": [
    "---"
   ]
  },
  {
   "cell_type": "markdown",
   "id": "f3290f1e",
   "metadata": {},
   "source": [
    "## Steg 7: Håndtere Spesialtilfeller\n",
    "\n",
    "La oss forbedre metoden `drikk()` for å håndtere tilfeller der flasken er tom."
   ]
  },
  {
   "cell_type": "markdown",
   "id": "c3a942c8",
   "metadata": {},
   "source": [
    "Dette har vi allerede gjort i tidligere kode ved å sjekke `if self.innhold == 0:` i `drikk()`-metoden."
   ]
  },
  {
   "cell_type": "markdown",
   "id": "01a6bc90",
   "metadata": {},
   "source": [
    "---"
   ]
  },
  {
   "cell_type": "markdown",
   "id": "0be1b660",
   "metadata": {},
   "source": [
    "## Steg 8: Legge til Metoden `tøm_flasken()`\n",
    "\n",
    "La oss legge til en metode for å tømme flasken."
   ]
  },
  {
   "cell_type": "code",
   "execution_count": null,
   "id": "7788e163",
   "metadata": {},
   "outputs": [],
   "source": [
    "class DrikkeFlaske:\n",
    "    # ... tidligere kode ...\n",
    "\n",
    "    def tøm_flasken(self):\n",
    "        self.innhold = 0\n",
    "        self.type_væske = None\n",
    "        print(\"Flasken er nå tømt.\")"
   ]
  },
  {
   "cell_type": "markdown",
   "id": "d38d95df",
   "metadata": {},
   "source": [
    "Legg denne metoden til klassen."
   ]
  },
  {
   "cell_type": "markdown",
   "id": "989a3031",
   "metadata": {},
   "source": [
    "---"
   ]
  },
  {
   "cell_type": "markdown",
   "id": "32e36bfe",
   "metadata": {},
   "source": [
    "## Steg 9: Eksempel med Tømming av Flasken"
   ]
  },
  {
   "cell_type": "code",
   "execution_count": null,
   "id": "12b42677",
   "metadata": {},
   "outputs": [],
   "source": [
    "# Fyll opp flasken med 2 dl brus\n",
    "min_flaske.fyll_opp(2, \"brus\")\n",
    "\n",
    "# Rapporter innholdet\n",
    "min_flaske.rapporter_innhold()\n",
    "\n",
    "# Tøm flasken\n",
    "min_flaske.tøm_flasken()\n",
    "\n",
    "# Rapporter innholdet igjen\n",
    "min_flaske.rapporter_innhold()"
   ]
  },
  {
   "cell_type": "markdown",
   "id": "cf46b68b",
   "metadata": {},
   "source": [
    "**Forventet Output:**\n",
    "\n",
    "```\n",
    "Du fylte på 2 dl brus.\n",
    "Flasken inneholder 2 dl brus.\n",
    "Flasken er nå tømt.\n",
    "Flasken er tom.\n",
    "```"
   ]
  },
  {
   "cell_type": "markdown",
   "id": "f3069ac4",
   "metadata": {},
   "source": [
    "---"
   ]
  },
  {
   "cell_type": "markdown",
   "id": "d277f269",
   "metadata": {},
   "source": [
    "## Oppsummering\n",
    "\n",
    "Vi har nå bygget opp en `DrikkeFlaske`-klasse steg for steg:\n",
    "\n",
    "- Definert klassen og lagt til egenskaper.\n",
    "- Lagt til metoder for å fylle på, drikke, rapportere innhold og tømme flasken.\n",
    "- Testet klassen med ulike scenarioer.\n",
    "\n",
    "Dette eksempelet demonstrerer hvordan man kan bruke objektorientert programmering til å modellere et enkelt objekt fra virkeligheten, og hvordan man kan utvide funksjonaliteten gradvis."
   ]
  },
  {
   "cell_type": "markdown",
   "id": "1eea1688",
   "metadata": {},
   "source": [
    "---\n",
    "\n",
    "**Lykke til med din egen implementering og utforskning av objektorientert programmering i Python!**"
   ]
  }
 ],
 "metadata": {
  "kernelspec": {
   "display_name": "Python 3",
   "language": "python",
   "name": "python3"
  },
  "language_info": {
   "file_extension": ".py",
   "mimetype": "text/x-python",
   "name": "python",
   "version": "3.8"
  }
 },
 "nbformat": 4,
 "nbformat_minor": 5
}
