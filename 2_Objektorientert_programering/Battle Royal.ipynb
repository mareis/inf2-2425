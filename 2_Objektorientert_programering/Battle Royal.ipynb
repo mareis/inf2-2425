{
 "cells": [
  {
   "cell_type": "markdown",
   "id": "introduction",
   "metadata": {},
   "source": [
    "# Lag ditt eget Tekstbaserte Battle Royale-spill\n",
    "\n",
    "I denne oppgaven skal du bruke objektorientert programmering (OOP) til å lage en enkel tekstbasert Battle Royale-inspirert spillopplevelse. Dette vil hjelpe deg med å forstå hvordan klasser og objekter kan brukes til å modellere komplekse systemer på en strukturert måte."
   ]
  },
  {
   "cell_type": "markdown",
   "id": "objectives",
   "metadata": {},
   "source": [
    "## Mål for denne oppgaven\n",
    "\n",
    "- **Forstå klasser og objekter**\n",
    "- **Definere egenskaper og metoder**\n",
    "- **Skape interaksjon mellom objekter**\n",
    "- **Implementere enkel spilllogikk**"
   ]
  },
  {
   "cell_type": "markdown",
   "id": "part1",
   "metadata": {},
   "source": [
    "## Del 1: Definere klasser"
   ]
  },
  {
   "cell_type": "markdown",
   "id": "player_class",
   "metadata": {},
   "source": [
    "### Klasse `Spiller`\n",
    "\n",
    "**Oppgave:**\n",
    "\n",
    "Definer en klasse `Spiller` med følgende egenskaper og metoder:\n",
    "\n",
    "- **Egenskaper:**\n",
    "  - `navn`: Navnet på spilleren.\n",
    "  - `helse`: Starter på 100.\n",
    "  - `våpen`: Starter som `None`.\n",
    "  - `posisjon`: En tuple `(x, y)` som representerer posisjonen på kartet.\n",
    "- **Metoder:**\n",
    "  - `beveg(de_x, de_y)`: Endrer posisjonen basert på `de_x` og `de_y`.\n",
    "  - `plukk_opp_våpen(våpen)`: Setter `våpen`-egenskapen til det nye våpenet.\n",
    "  - `angrip(mål_spiller)`: Angriper en annen spiller hvis innenfor rekkevidde."
   ]
  },
  {
   "cell_type": "code",
   "execution_count": null,
   "id": "player_code",
   "metadata": {},
   "outputs": [],
   "source": [
    "import math\n",
    "\n",
    "class Spiller:\n",
    "    def __init__(self, navn, x=0, y=0):\n",
    "        self.navn = navn\n",
    "        self.helse = 100\n",
    "        self.våpen = None\n",
    "        self.posisjon = (x, y)\n",
    "    \n",
    "    def beveg(self, de_x, de_y):\n",
    "        ny_x = self.posisjon[0] + de_x\n",
    "        ny_y = self.posisjon[1] + de_y\n",
    "        self.posisjon = (ny_x, ny_y)\n",
    "        print(f\"{self.navn} beveger seg til {self.posisjon}.\")\n",
    "    \n",
    "    def plukk_opp_våpen(self, våpen):\n",
    "        self.våpen = våpen\n",
    "        print(f\"{self.navn} plukket opp {våpen.navn}.\")\n",
    "    \n",
    "    def angrip(self, mål_spiller):\n",
    "        if self.våpen is None:\n",
    "            print(f\"{self.navn} har ingen våpen å angripe med!\")\n",
    "            return\n",
    "        avstand = math.hypot(mål_spiller.posisjon[0] - self.posisjon[0],\n",
    "                             mål_spiller.posisjon[1] - self.posisjon[1])\n",
    "        if avstand <= self.våpen.rekkevidde:\n",
    "            mål_spiller.helse -= self.våpen.skade\n",
    "            print(f\"{self.navn} angriper {mål_spiller.navn} med {self.våpen.navn} og gjør {self.våpen.skade} skade!\")\n",
    "            if mål_spiller.helse <= 0:\n",
    "                print(f\"{mål_spiller.navn} er eliminert!\")\n",
    "        else:\n",
    "            print(f\"{mål_spiller.navn} er utenfor rekkevidde.\")"
   ]
  },
  {
   "cell_type": "markdown",
   "id": "weapon_class",
   "metadata": {},
   "source": [
    "### Klasse `Våpen`\n",
    "\n",
    "**Oppgave:**\n",
    "\n",
    "Definer en klasse `Våpen` med følgende egenskaper:\n",
    "\n",
    "- `navn`: Navnet på våpenet.\n",
    "- `skade`: Hvor mye skade våpenet gjør.\n",
    "- `rekkevidde`: Hvor langt våpenet kan nå."
   ]
  },
  {
   "cell_type": "code",
   "execution_count": null,
   "id": "weapon_code",
   "metadata": {},
   "outputs": [],
   "source": [
    "class Våpen:\n",
    "    def __init__(self, navn, skade, rekkevidde):\n",
    "        self.navn = navn\n",
    "        self.skade = skade\n",
    "        self.rekkevidde = rekkevidde"
   ]
  },
  {
   "cell_type": "markdown",
   "id": "part2",
   "metadata": {},
   "source": [
    "## Del 2: Implementere spilllogikk"
   ]
  },
  {
   "cell_type": "markdown",
   "id": "simulate_game",
   "metadata": {},
   "source": [
    "### Opprette spillere og våpen\n",
    "\n",
    "**Oppgave:**\n",
    "\n",
    "- Opprett to spillere med navn du velger.\n",
    "- Opprett noen våpen.\n",
    "- La spillerne plukke opp våpen og bevege seg rundt."
   ]
  },
  {
   "cell_type": "code",
   "execution_count": null,
   "id": "simulate_code",
   "metadata": {},
   "outputs": [],
   "source": [
    "# Opprett spillere\n",
    "spiller1 = Spiller(\"Alex\")\n",
    "spiller2 = Spiller(\"Jordan\")\n",
    "\n",
    "# Opprett våpen\n",
    "pistol = Våpen(\"Pistol\", skade=20, rekkevidde=3)\n",
    "sniper = Våpen(\"Sniper\", skade=50, rekkevidde=7)\n",
    "\n",
    "# Spillere plukker opp våpen\n",
    "spiller1.plukk_opp_våpen(pistol)\n",
    "spiller2.plukk_opp_våpen(sniper)\n",
    "\n",
    "# Beveg spillere\n",
    "spiller1.beveg(2, 2)\n",
    "spiller2.beveg(5, 5)"
   ]
  },
  {
   "cell_type": "markdown",
   "id": "battle",
   "metadata": {},
   "source": [
    "### Spillere angriper hverandre\n",
    "\n",
    "**Oppgave:**\n",
    "\n",
    "- La spillerne angripe hverandre og observer hva som skjer.\n",
    "- Husk å sjekke avstanden mellom spillerne."
   ]
  },
  {
   "cell_type": "code",
   "execution_count": null,
   "id": "battle_code",
   "metadata": {},
   "outputs": [],
   "source": [
    "# Spiller 1 angriper Spiller 2\n",
    "spiller1.angrip(spiller2)\n",
    "\n",
    "# Spiller 2 angriper Spiller 1\n",
    "spiller2.angrip(spiller1)"
   ]
  },
  {
   "cell_type": "markdown",
   "id": "part3",
   "metadata": {},
   "source": [
    "## Del 3: Simulere spillet"
   ]
  },
  {
   "cell_type": "markdown",
   "id": "game_loop",
   "metadata": {},
   "source": [
    "### En enkel spillloop\n",
    "\n",
    "**Oppgave:**\n",
    "\n",
    "- Lag en enkel loop der spillerne får tur til å bevege seg eller angripe.\n",
    "- Avslutt spillet når en spiller er eliminert."
   ]
  },
  {
   "cell_type": "code",
   "execution_count": null,
   "id": "game_loop_code",
   "metadata": {},
   "outputs": [],
   "source": [
    "spillere = [spiller1, spiller2]\n",
    "\n",
    "runde = 1\n",
    "while len([s for s in spillere if s.helse > 0]) > 1:\n",
    "    print(f\"\\n=== Runde {runde} ===\")\n",
    "    for spiller in spillere:\n",
    "        if spiller.helse <= 0:\n",
    "            continue\n",
    "        # Enkel logikk for å bevege eller angripe\n",
    "        if spiller == spiller1:\n",
    "            spiller.beveg(1, 1)\n",
    "            spiller.angrip(spiller2)\n",
    "        else:\n",
    "            spiller.beveg(-1, -1)\n",
    "            spiller.angrip(spiller1)\n",
    "    runde += 1\n",
    "\n",
    "print(\"\\n=== Spillet er over! ===\")\n",
    "for spiller in spillere:\n",
    "    status = \"levende\" if spiller.helse > 0 else \"eliminert\"\n",
    "    print(f\"{spiller.navn} er {status} med {spiller.helse} helse igjen.\")"
   ]
  },
  {
   "cell_type": "markdown",
   "id": "part4",
   "metadata": {},
   "source": [
    "## Del 4: Oppgaver og refleksjon"
   ]
  },
  {
   "cell_type": "markdown",
   "id": "extension_tasks",
   "metadata": {},
   "source": [
    "### Utvidelser\n",
    "\n",
    "**Oppgave:**\n",
    "\n",
    "- Legg til flere spillere og våpen.\n",
    "- Implementer en sone som krymper over tid.\n",
    "- Legg til helsepakker spillere kan plukke opp.\n",
    "- Lag et mer avansert kart med hindringer."
   ]
  },
  {
   "cell_type": "markdown",
   "id": "reflection",
   "metadata": {},
   "source": [
    "### Refleksjon\n",
    "\n",
    "- Hvordan hjalp bruken av klasser og objekter deg med å organisere koden?\n",
    "- Hva ville vært utfordringen med å lage dette spillet uten OOP?\n",
    "- Hvordan kan du videreutvikle spillet ved å bruke flere OOP-konsepter?"
   ]
  },
  {
   "cell_type": "markdown",
   "id": "conclusion",
   "metadata": {},
   "source": [
    "## Gratulerer!\n",
    "\n",
    "Du har nå laget et enkelt tekstbasert Battle Royale-spill ved hjelp av objektorientert programmering i Python. Dette er en flott prestasjon som viser din forståelse av klasser, objekter, egenskaper og metoder.\n",
    "\n",
    "Fortsett å eksperimentere og bygge på dette grunnlaget. Kanskje du kan lage et grafisk grensesnitt neste gang?\n",
    "\n",
    "**Lykke til videre med programmeringen!**"
   ]
  }
 ],
 "metadata": {
  "kernelspec": {
   "display_name": "Python 3",
   "language": "python",
   "name": "python3"
  },
  "language_info": {
   "codemirror_mode": {
    "name": "ipython",
    "version": 3
   },
   "file_extension": ".py",
   "mimetype": "text/x-python",
   "name": "python",
   "nbconvert_exporter": "python",
   "pygments_lexer": "ipython3",
   "version": "3.8"
  }
 },
 "nbformat": 4,
 "nbformat_minor": 5
}
