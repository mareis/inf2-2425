{
 "cells": [
  {
   "cell_type": "markdown",
   "id": "intro",
   "metadata": {},
   "source": [
    "# Lag ditt eget Tekstbaserte Minecraft-inspirerte Spill\n",
    "\n",
    "Velkommen! I denne oppgaven skal du lage et enkelt tekstbasert spill inspirert av Minecraft ved hjelp av objektorientert programmering i Python. Du vil designe klasser og objekter som representerer ulike elementer i spillet."
   ]
  },
  {
   "cell_type": "markdown",
   "id": "goals",
   "metadata": {},
   "source": [
    "## Mål for denne oppgaven\n",
    "\n",
    "- **Forstå klasser og objekter**\n",
    "- **Definere egenskaper og metoder**\n",
    "- **Skape interaksjon mellom objekter**\n",
    "- **Bruke kreativitet til å designe egne løsninger**"
   ]
  },
  {
   "cell_type": "markdown",
   "id": "part1",
   "metadata": {},
   "source": [
    "## Del 1: Planlegging"
   ]
  },
  {
   "cell_type": "markdown",
   "id": "identify_classes",
   "metadata": {},
   "source": [
    "### Oppgave 1: Identifiser nødvendige klasser\n",
    "\n",
    "Tenk over hvilke klasser du trenger for å lage et enkelt tekstbasert Minecraft-inspirert spill.\n",
    "\n",
    "- **Tips**: Noen mulige klasser kan være `Spiller`, `Blokk`, `Verktøy`.\n",
    "\n",
    "**Skriv ned hvilke klasser du vil opprette, og hvilke egenskaper og metoder de bør ha.**"
   ]
  },
  {
   "cell_type": "markdown",
   "id": "your_classes",
   "metadata": {},
   "source": [
    "**Svar:**\n",
    "\n",
    "- `Spiller`:\n",
    "  - **Egenskaper**: navn, posisjon, inventar\n",
    "  - **Metoder**: beveg(), samle_blokk(), bruk_verktøy()\n",
    "- `Blokk`:\n",
    "  - **Egenskaper**: type, er_solid\n",
    "  - **Metoder**: beskriv()\n",
    "- `Verktøy`:\n",
    "  - **Egenskaper**: navn, holdbarhet\n",
    "  - **Metoder**: bruk()\n",
    "\n",
    "*Du kan tilpasse disse klassene etter eget ønske.*"
   ]
  },
  {
   "cell_type": "markdown",
   "id": "part2",
   "metadata": {},
   "source": [
    "## Del 2: Implementering"
   ]
  },
  {
   "cell_type": "markdown",
   "id": "implement_classes",
   "metadata": {},
   "source": [
    "### Oppgave 2: Implementer klassene\n",
    "\n",
    "Basert på planleggingen din, implementer klassene i Python.\n",
    "\n",
    "**Instruksjoner:**\n",
    "\n",
    "- Definer hver klasse med `class`-nøkkelordet.\n",
    "- Inkluder en `__init__`-metode for å initialisere egenskaper.\n",
    "- Skriv metoder som utfører handlinger relevante for klassen.\n",
    "\n",
    "**Eksempel på start (du kan velge å bruke dette eller lage ditt eget):**\n",
    "\n",
    "```python\n",
    "class Spiller:\n",
    "    def __init__(self, navn):\n",
    "        self.navn = navn\n",
    "        self.posisjon = (0, 0, 0)  # x, y, z koordinater\n",
    "        self.inventar = []\n",
    "\n",
    "    def beveg(self, de_x, de_y, de_z):\n",
    "        # Oppdater posisjonen basert på bevegelse\n",
    "        pass\n",
    "```\n",
    "\n",
    "*Skriv koden din i cellen under.*"
   ]
  },
  {
   "cell_type": "code",
   "id": "player_class",
   "metadata": {
    "ExecuteTime": {
     "end_time": "2024-11-05T08:05:40.661707Z",
     "start_time": "2024-11-05T08:05:40.639549Z"
    }
   },
   "source": "# Implementer klassene dine her\n",
   "outputs": [],
   "execution_count": 1
  },
  {
   "cell_type": "markdown",
   "id": "test_objects",
   "metadata": {},
   "source": [
    "### Oppgave 3: Opprett objekter og test dem\n",
    "\n",
    "Nå som du har definert klassene dine, opprett instanser (objekter) av dem og test metodene.\n",
    "\n",
    "**Instruksjoner:**\n",
    "\n",
    "- Opprett en `Spiller`-objekt med et navn du velger.\n",
    "- Opprett noen `Blokk`- og `Verktøy`-objekter.\n",
    "- Simuler at spilleren beveger seg rundt, samler blokker, og bruker verktøy.\n",
    "\n",
    "*Skriv koden din i cellen under.*"
   ]
  },
  {
   "cell_type": "code",
   "id": "test_code",
   "metadata": {
    "ExecuteTime": {
     "end_time": "2024-11-05T08:06:21.498739Z",
     "start_time": "2024-11-05T08:06:21.489743Z"
    }
   },
   "source": [
    "# Skriv testkoden din her\n",
    "\n",
    "# Opprett spiller\n",
    "\n",
    "# Opprett verktøy\n",
    "\n",
    "# Opprett blokk\n",
    "\n",
    "# Spilleren bruker verktøyet\n",
    "\n",
    "\n",
    "# Spilleren beveger seg\n",
    "\n",
    "# Spilleren samler en blokk\n"
   ],
   "outputs": [],
   "execution_count": 2
  },
  {
   "cell_type": "markdown",
   "id": "part3",
   "metadata": {},
   "source": [
    "## Del 3: Utvidelse"
   ]
  },
  {
   "cell_type": "markdown",
   "id": "extend_game",
   "metadata": {},
   "source": [
    "### Oppgave 4: Legg til flere funksjoner\n",
    "\n",
    "Utvid spillet ditt ved å legge til flere funksjoner og kompleksitet.\n",
    "\n",
    "**Forslag:**\n",
    "\n",
    "- Legg til flere typer blokker (stein, jord, vann).\n",
    "- Implementer en metode for spilleren å samle blokker og legge dem til inventaret.\n",
    "- Lag et enkelt kart eller verden som spilleren kan utforske.\n",
    "- Legg til fiender eller andre spillere.\n",
    "\n",
    "*Bruk kreativiteten din og ha det gøy!*\n",
    "\n",
    "*Skriv koden din i cellen under.*"
   ]
  },
  {
   "cell_type": "code",
   "id": "extend_code",
   "metadata": {
    "ExecuteTime": {
     "end_time": "2024-11-05T08:06:51.385291Z",
     "start_time": "2024-11-05T08:06:51.375282Z"
    }
   },
   "source": [
    "# Utvid koden din her\n",
    "\n",
    "# For eksempel, legg til en metode for å samle blokker\n",
    "\n",
    "\n",
    "# Opprett flere blokker\n",
    "\n",
    "\n",
    "# Spilleren samler blokker\n"
   ],
   "outputs": [],
   "execution_count": 3
  },
  {
   "cell_type": "markdown",
   "id": "reflection",
   "metadata": {},
   "source": [
    "### Oppgave 5: Refleksjon\n",
    "\n",
    "Tenk over følgende spørsmål:\n",
    "\n",
    "- Hvordan hjalp planleggingen deg med å strukturere koden din?\n",
    "- Hva var utfordrende med å designe egne klasser og metoder?\n",
    "- Hvordan kan du bruke objektorientert programmering i andre prosjekter?"
   ]
  },
  {
   "cell_type": "markdown",
   "id": "conclusion",
   "metadata": {},
   "source": [
    "## Gratulerer!\n",
    "\n",
    "Du har nå laget et enkelt tekstbasert spill inspirert av Minecraft ved hjelp av objektorientert programmering i Python. Dette er en flott prestasjon som viser din forståelse av klasser, objekter, egenskaper og metoder.\n",
    "\n",
    "**Fortsett å eksperimentere og bygge på dette grunnlaget. Kanskje du kan legge til flere funksjoner eller til og med lage et grafisk grensesnitt i fremtiden?**\n",
    "\n",
    "**Lykke til videre med programmeringen!**"
   ]
  }
 ],
 "metadata": {
  "kernelspec": {
   "display_name": "Python 3",
   "language": "python",
   "name": "python3"
  },
  "language_info": {
   "file_extension": ".py",
   "mimetype": "text/x-python",
   "name": "python",
   "version": "3.8"
  }
 },
 "nbformat": 4,
 "nbformat_minor": 5
}
