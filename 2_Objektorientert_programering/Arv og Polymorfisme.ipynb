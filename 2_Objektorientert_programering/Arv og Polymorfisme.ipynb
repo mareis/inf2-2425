{
 "cells": [
  {
   "cell_type": "markdown",
   "id": "intro",
   "metadata": {},
   "source": [
    "# Oppgave 1: Bygg en Virtuell Butikk med Arv og Polymorfisme\n",
    "\n",
    "I denne oppgaven skal du lage en enkel virtuell butikk der kunder kan handle produkter, legge dem i en handlekurv og gjennomføre kjøp. Du vil bruke konseptene **arv** og **polymorfisme** i objektorientert programmering for å modellere produkter og deres egenskaper."
   ]
  },
  {
   "cell_type": "markdown",
   "id": "goals",
   "metadata": {},
   "source": [
    "## Mål for denne oppgaven\n",
    "\n",
    "- **Forstå arv og polymorfisme**\n",
    "- **Implementere en virtuell butikk**\n",
    "- **Håndtere objektsamlinger**\n",
    "- **Simulere en kjøpsprosess**"
   ]
  },
  {
   "cell_type": "markdown",
   "id": "inheritance_polymorphism",
   "metadata": {},
   "source": [
    "## Hva er Arv og Polymorfisme?\n",
    "\n",
    "### Arv\n",
    "\n",
    "- **Definisjon:** Arv er et prinsipp i objektorientert programmering der en klasse (underklasse) kan arve egenskaper og metoder fra en annen klasse (superklasse).\n",
    "- **Formål:** Gjenbruk av kode og etablering av hierarkier.\n",
    "\n",
    "### Polymorfisme\n",
    "\n",
    "- **Definisjon:** Polymorfisme tillater objekter av forskjellige klasser å bli behandlet som objekter av en felles superklasse.\n",
    "- **Formål:** Gir fleksibilitet til å bruke samme metode på forskjellige objekter."
   ]
  },
  {
   "cell_type": "markdown",
   "id": "planning",
   "metadata": {},
   "source": [
    "## Del 1: Planlegging\n",
    "\n",
    "Vi skal lage følgende klasser:\n",
    "\n",
    "- **Produkt** (superklasse)\n",
    "  - Egenskaper: `navn`, `pris`\n",
    "  - Metoder: `vis_info()`\n",
    "- **Bok** (underklasse av Produkt)\n",
    "  - Egenskaper: `forfatter`\n",
    "  - Metoder: Overstyrer `vis_info()`\n",
    "- **Elektronikk** (underklasse av Produkt)\n",
    "  - Egenskaper: `merke`\n",
    "  - Metoder: Overstyrer `vis_info()`\n",
    "- **Kunde**\n",
    "  - Egenskaper: `navn`, `handlekurv`\n",
    "  - Metoder: `legg_til_i_kurv()`, `vis_kurv()`, `sjekk_ut()`"
   ]
  },
  {
   "cell_type": "markdown",
   "id": "implementation_product",
   "metadata": {},
   "source": [
    "## Del 2: Implementering av Klassene\n",
    "\n",
    "### 1. Baseklasse `Produkt` og Underklasser"
   ]
  },
  {
   "cell_type": "code",
   "execution_count": 13,
   "id": "product_classes",
   "metadata": {},
   "outputs": [],
   "source": [
    "# Baseklasse\n",
    "class Produkt:\n",
    "    def __init__(self, navn, pris):\n",
    "        self.navn = navn\n",
    "        self.pris = pris\n",
    "    \n",
    "    def vis_info(self):\n",
    "        print(f\"Produkt: {self.navn}, Pris: {self.pris} kr\")\n",
    "\n",
    "# Underklasse Bok\n",
    "class Bok(Produkt):\n",
    "    def __init__(self, navn, pris, forfatter):\n",
    "        super().__init__(navn, pris)\n",
    "        self.forfatter = forfatter\n",
    "    \n",
    "    def vis_info(self):\n",
    "        print(f\"Bok: {self.navn}, Forfatter: {self.forfatter}, Pris: {self.pris} kr\")\n",
    "\n",
    "# Underklasse Elektronikk\n",
    "class Elektronikk(Produkt):\n",
    "    def __init__(self, navn, pris, merke):\n",
    "        super().__init__(navn, pris)\n",
    "        self.merke = merke\n",
    "    \n",
    "    def vis_info(self):\n",
    "        print(f\"Elektronikk: {self.navn}, Merke: {self.merke}, Pris: {self.pris} kr\")"
   ]
  },
  {
   "cell_type": "markdown",
   "id": "implementation_customer",
   "metadata": {},
   "source": [
    "### 2. `Kunde`-klassen"
   ]
  },
  {
   "cell_type": "code",
   "execution_count": 14,
   "id": "customer_class",
   "metadata": {},
   "outputs": [],
   "source": [
    "class Kunde:\n",
    "    def __init__(self, navn):\n",
    "        self.navn = navn\n",
    "        self.handlekurv = []\n",
    "    \n",
    "    def legg_til_i_kurv(self, produkt):\n",
    "        self.handlekurv.append(produkt)\n",
    "        print(f\"{produkt.navn} er lagt til i handlekurven.\")\n",
    "    \n",
    "    def vis_kurv(self):\n",
    "        print(f\"\\n{self.navn}s handlekurv:\")\n",
    "        for produkt in self.handlekurv:\n",
    "            produkt.vis_info()\n",
    "    \n",
    "    def sjekk_ut(self):\n",
    "        totalpris = sum([produkt.pris for produkt in self.handlekurv])\n",
    "        print(f\"\\nTotalpris for kjøpet er {totalpris} kr.\")\n",
    "        self.handlekurv = []\n",
    "        print(\"Takk for ditt kjøp!\")"
   ]
  },
  {
   "cell_type": "markdown",
   "id": "simulation",
   "metadata": {},
   "source": [
    "## Del 3: Simulering av Kjøp\n",
    "\n",
    "Vi skal nå opprette objekter og simulere et kjøp."
   ]
  },
  {
   "cell_type": "code",
   "execution_count": 15,
   "id": "simulation_code",
   "metadata": {},
   "outputs": [
    {
     "name": "stdout",
     "output_type": "stream",
     "text": [
      "Harry Potter er lagt til i handlekurven.\n",
      "Smartphone er lagt til i handlekurven.\n",
      "\n",
      "Emmas handlekurv:\n",
      "Bok: Harry Potter, Forfatter: J.K. Rowling, Pris: 299 kr\n",
      "Elektronikk: Smartphone, Merke: TechBrand, Pris: 5999 kr\n",
      "\n",
      "Totalpris for kjøpet er 6298 kr.\n",
      "Takk for ditt kjøp!\n"
     ]
    }
   ],
   "source": [
    "# Opprett produkter\n",
    "bok1 = Bok(\"Harry Potter\", 299, \"J.K. Rowling\")\n",
    "elektronikk1 = Elektronikk(\"Smartphone\", 5999, \"TechBrand\")\n",
    "\n",
    "# Opprett kunde\n",
    "kunde1 = Kunde(\"Emma\")\n",
    "\n",
    "# Kunde handler\n",
    "kunde1.legg_til_i_kurv(bok1)\n",
    "kunde1.legg_til_i_kurv(elektronikk1)\n",
    "kunde1.vis_kurv()\n",
    "\n",
    "# Sjekk ut\n",
    "kunde1.sjekk_ut()"
   ]
  },
  {
   "cell_type": "markdown",
   "id": "extension",
   "metadata": {},
   "source": [
    "## Del 4: Utvidelse\n",
    "\n",
    "### Legg til Lagerbeholdning\n",
    "\n",
    "Vi skal nå legge til lagerbeholdning til `Produkt`-klassen og oppdatere `Kunde`-klassen for å håndtere lagerbeholdningen."
   ]
  },
  {
   "cell_type": "code",
   "execution_count": 16,
   "id": "product_stock",
   "metadata": {},
   "outputs": [],
   "source": [
    "# Oppdatert Produkt-klasse med lagerbeholdning\n",
    "class Produkt:\n",
    "    def __init__(self, navn, pris, lagerbeholdning):\n",
    "        self.navn = navn\n",
    "        self.pris = pris\n",
    "        self.lagerbeholdning = lagerbeholdning\n",
    "    \n",
    "    def vis_info(self):\n",
    "        print(f\"Produkt: {self.navn}, Pris: {self.pris} kr, Lager: {self.lagerbeholdning}\")\n",
    "    \n",
    "    def oppdater_lager(self, antall):\n",
    "        self.lagerbeholdning -= antall\n",
    "        if self.lagerbeholdning < 0:\n",
    "            print(f\"Advarsel: Ikke nok {self.navn} på lager.\")\n",
    "            self.lagerbeholdning = 0"
   ]
  },
  {
   "cell_type": "markdown",
   "id": "updated_subclasses",
   "metadata": {},
   "source": [
    "### Oppdaterte Underklasser"
   ]
  },
  {
   "cell_type": "code",
   "execution_count": 17,
   "id": "updated_subclasses_code",
   "metadata": {},
   "outputs": [],
   "source": [
    "class Bok(Produkt):\n",
    "    def __init__(self, navn, pris, lagerbeholdning, forfatter):\n",
    "        super().__init__(navn, pris, lagerbeholdning)\n",
    "        self.forfatter = forfatter\n",
    "    \n",
    "    def vis_info(self):\n",
    "        print(f\"Bok: {self.navn}, Forfatter: {self.forfatter}, Pris: {self.pris} kr, Lager: {self.lagerbeholdning}\")\n",
    "\n",
    "class Elektronikk(Produkt):\n",
    "    def __init__(self, navn, pris, lagerbeholdning, merke):\n",
    "        super().__init__(navn, pris, lagerbeholdning)\n",
    "        self.merke = merke\n",
    "    \n",
    "    def vis_info(self):\n",
    "        print(f\"Elektronikk: {self.navn}, Merke: {self.merke}, Pris: {self.pris} kr, Lager: {self.lagerbeholdning}\")"
   ]
  },
  {
   "cell_type": "markdown",
   "id": "updated_customer",
   "metadata": {},
   "source": [
    "### Oppdatert `Kunde`-klasse"
   ]
  },
  {
   "cell_type": "code",
   "execution_count": 18,
   "id": "updated_customer_code",
   "metadata": {},
   "outputs": [],
   "source": [
    "class Kunde:\n",
    "    def __init__(self, navn):\n",
    "        self.navn = navn\n",
    "        self.handlekurv = {}\n",
    "    \n",
    "    def legg_til_i_kurv(self, produkt, antall):\n",
    "        if produkt.lagerbeholdning >= antall:\n",
    "            self.handlekurv[produkt] = antall\n",
    "            print(f\"{antall} x {produkt.navn} er lagt til i handlekurven.\")\n",
    "        else:\n",
    "            print(f\"Beklager, kun {produkt.lagerbeholdning} x {produkt.navn} på lager.\")\n",
    "    \n",
    "    def vis_kurv(self):\n",
    "        print(f\"\\n{self.navn}s handlekurv:\")\n",
    "        for produkt, antall in self.handlekurv.items():\n",
    "            print(f\"{antall} x {produkt.navn} til {produkt.pris} kr per stk.\")\n",
    "    \n",
    "    def sjekk_ut(self):\n",
    "        totalpris = 0\n",
    "        for produkt, antall in self.handlekurv.items():\n",
    "            produkt.oppdater_lager(antall)\n",
    "            totalpris += produkt.pris * antall\n",
    "        print(f\"\\nTotalpris for kjøpet er {totalpris} kr.\")\n",
    "        self.handlekurv = {}\n",
    "        print(\"Takk for ditt kjøp!\")"
   ]
  },
  {
   "cell_type": "markdown",
   "id": "simulation_with_stock",
   "metadata": {},
   "source": [
    "### Simulering med Lagerbeholdning"
   ]
  },
  {
   "cell_type": "code",
   "execution_count": 19,
   "id": "simulation_with_stock_code",
   "metadata": {},
   "outputs": [
    {
     "name": "stdout",
     "output_type": "stream",
     "text": [
      "2 x Harry Potter er lagt til i handlekurven.\n",
      "1 x Smartphone er lagt til i handlekurven.\n",
      "\n",
      "Emmas handlekurv:\n",
      "2 x Harry Potter til 299 kr per stk.\n",
      "1 x Smartphone til 5999 kr per stk.\n",
      "\n",
      "Totalpris for kjøpet er 6597 kr.\n",
      "Takk for ditt kjøp!\n",
      "Bok: Harry Potter, Forfatter: J.K. Rowling, Pris: 299 kr, Lager: 3\n",
      "Elektronikk: Smartphone, Merke: TechBrand, Pris: 5999 kr, Lager: 1\n"
     ]
    }
   ],
   "source": [
    "# Opprett produkter med lagerbeholdning\n",
    "bok1 = Bok(\"Harry Potter\", 299, 5, \"J.K. Rowling\")\n",
    "elektronikk1 = Elektronikk(\"Smartphone\", 5999, 2, \"TechBrand\")\n",
    "\n",
    "# Opprett kunde\n",
    "kunde1 = Kunde(\"Emma\")\n",
    "\n",
    "# Kunde handler\n",
    "kunde1.legg_til_i_kurv(bok1, 2)\n",
    "kunde1.legg_til_i_kurv(elektronikk1, 1)\n",
    "kunde1.vis_kurv()\n",
    "\n",
    "# Sjekk ut\n",
    "kunde1.sjekk_ut()\n",
    "\n",
    "# Vis oppdatert lagerbeholdning\n",
    "bok1.vis_info()\n",
    "elektronikk1.vis_info()"
   ]
  },
  {
   "cell_type": "markdown",
   "id": "conclusion",
   "metadata": {},
   "source": [
    "## Del 5: Refleksjon\n",
    "\n",
    "- **Arv** hjelper oss med å gjenbruke kode og opprette et strukturert klassesystem.\n",
    "- **Polymorfisme** lar oss bruke samme metode på objekter av forskjellige klasser.\n",
    "- Ved å overstyre metoder kan vi tilpasse funksjonalitet i underklasser.\n",
    "\n",
    "**Lykke til videre med programmeringen!**"
   ]
  },
  {
   "cell_type": "markdown",
   "id": "separator",
   "metadata": {},
   "source": [
    "---\n",
    "\n",
    "# Oppgave 2: Simuler en Dyrehage med Arv og Polymorfisme\n",
    "\n",
    "I denne oppgaven skal du lage en simulering av en dyrehage ved hjelp av objektorientert programmering. Du vil modellere ulike dyr, deres egenskaper og atferd, og se hvordan de kan organiseres i et system ved hjelp av **arv** og **polymorfisme**."
   ]
  },
  {
   "cell_type": "markdown",
   "id": "goals_3",
   "metadata": {},
   "source": [
    "## Mål for denne oppgaven\n",
    "\n",
    "- **Implementere arv og polymorfisme**\n",
    "- **Modellere komplekse systemer**\n",
    "- **Utforske abstraksjon**\n",
    "- **Håndtere lister av objekter**"
   ]
  },
  {
   "cell_type": "markdown",
   "id": "inheritance_polymorphism_3",
   "metadata": {},
   "source": [
    "## Hva er Arv og Polymorfisme?\n",
    "\n",
    "### Arv\n",
    "\n",
    "- Lar en underklasse overta egenskaper og metoder fra en baseklasse.\n",
    "- Gjør koden mer organisert og reduserer gjentakelse.\n",
    "\n",
    "### Polymorfisme\n",
    "\n",
    "- Evnen til å bruke samme metode på objekter av ulike klasser.\n",
    "- Lar oss behandle objekter på en generell måte."
   ]
  },
  {
   "cell_type": "markdown",
   "id": "planning_3",
   "metadata": {},
   "source": [
    "## Del 1: Planlegging\n",
    "\n",
    "Vi skal lage følgende klasser:\n",
    "\n",
    "- **Dyr** (superklasse)\n",
    "  - Egenskaper: `navn`\n",
    "  - Metoder: `lag_lyd()`\n",
    "- **Pattedyr**, **Fugl**, **Reptil** (underklasser av Dyr)\n",
    "  - Egenskaper og metoder spesifikke for hver klasse\n",
    "- **Dyrehage**\n",
    "  - Egenskaper: `dyr_liste`\n",
    "  - Metoder: `legg_til_dyr()`, `vis_alle_dyr()`"
   ]
  },
  {
   "cell_type": "markdown",
   "id": "implementation_3",
   "metadata": {},
   "source": [
    "## Del 2: Implementering av Klassene\n",
    "\n",
    "### 1. Baseklasse `Dyr` og Underklasser"
   ]
  },
  {
   "cell_type": "code",
   "execution_count": 20,
   "id": "animal_classes",
   "metadata": {},
   "outputs": [],
   "source": [
    "# Baseklasse\n",
    "class Dyr:\n",
    "    def __init__(self, navn):\n",
    "        self.navn = navn\n",
    "    \n",
    "    def lag_lyd(self):\n",
    "        print(f\"{self.navn} lager en lyd.\")\n",
    "\n",
    "# Underklasse Pattedyr\n",
    "class Pattedyr(Dyr):\n",
    "    def __init__(self, navn, pelsfarge):\n",
    "        super().__init__(navn)\n",
    "        self.pelsfarge = pelsfarge\n",
    "    \n",
    "    def lag_lyd(self):\n",
    "        print(f\"{self.navn} sier: Brøl!\")\n",
    "\n",
    "# Underklasse Fugl\n",
    "class Fugl(Dyr):\n",
    "    def __init__(self, navn, vingespenn):\n",
    "        super().__init__(navn)\n",
    "        self.vingespenn = vingespenn\n",
    "    \n",
    "    def lag_lyd(self):\n",
    "        print(f\"{self.navn} sier: Kvitre!\")\n",
    "    \n",
    "    def fly(self):\n",
    "        print(f\"{self.navn} flyr med vingespenn på {self.vingespenn} meter.\")\n",
    "\n",
    "# Underklasse Reptil\n",
    "class Reptil(Dyr):\n",
    "    def __init__(self, navn, giftig):\n",
    "        super().__init__(navn)\n",
    "        self.giftig = giftig\n",
    "    \n",
    "    def lag_lyd(self):\n",
    "        print(f\"{self.navn} sier: Hves!\")"
   ]
  },
  {
   "cell_type": "markdown",
   "id": "zoo_class",
   "metadata": {},
   "source": [
    "### 2. `Dyrehage`-klassen"
   ]
  },
  {
   "cell_type": "code",
   "execution_count": 21,
   "id": "zoo_code",
   "metadata": {},
   "outputs": [],
   "source": [
    "class Dyrehage:\n",
    "    def __init__(self):\n",
    "        self.dyr_liste = []\n",
    "    \n",
    "    def legg_til_dyr(self, dyr):\n",
    "        self.dyr_liste.append(dyr)\n",
    "        print(f\"{dyr.navn} er lagt til i dyrehagen.\")\n",
    "    \n",
    "    def vis_alle_dyr(self):\n",
    "        print(\"\\nDyrehagens beboere:\")\n",
    "        for dyr in self.dyr_liste:\n",
    "            print(f\"- {dyr.navn}\")"
   ]
  },
  {
   "cell_type": "markdown",
   "id": "simulation_3",
   "metadata": {},
   "source": [
    "## Del 3: Simulering av Dyrehagen"
   ]
  },
  {
   "cell_type": "code",
   "execution_count": 22,
   "id": "simulation_3_code",
   "metadata": {},
   "outputs": [
    {
     "name": "stdout",
     "output_type": "stream",
     "text": [
      "Løve er lagt til i dyrehagen.\n",
      "Ørn er lagt til i dyrehagen.\n",
      "Kongekobra er lagt til i dyrehagen.\n",
      "\n",
      "Dyrehagens beboere:\n",
      "- Løve\n",
      "- Ørn\n",
      "- Kongekobra\n",
      "Løve sier: Brøl!\n",
      "Ørn sier: Kvitre!\n",
      "Kongekobra sier: Hves!\n",
      "Ørn flyr med vingespenn på 2.5 meter.\n"
     ]
    }
   ],
   "source": [
    "# Opprett dyrehage\n",
    "dyrehage = Dyrehage()\n",
    "\n",
    "# Opprett dyr\n",
    "løve = Pattedyr(\"Løve\", \"Gylden\")\n",
    "ørn = Fugl(\"Ørn\", 2.5)\n",
    "kobra = Reptil(\"Kongekobra\", True)\n",
    "\n",
    "# Legg dyr til dyrehagen\n",
    "dyrehage.legg_til_dyr(løve)\n",
    "dyrehage.legg_til_dyr(ørn)\n",
    "dyrehage.legg_til_dyr(kobra)\n",
    "\n",
    "# Vis alle dyr\n",
    "dyrehage.vis_alle_dyr()\n",
    "\n",
    "# La dyrene lage lyder\n",
    "for dyr in dyrehage.dyr_liste:\n",
    "    dyr.lag_lyd()\n",
    "\n",
    "# Ørnen flyr\n",
    "ørn.fly()"
   ]
  },
  {
   "cell_type": "markdown",
   "id": "extension_3",
   "metadata": {},
   "source": [
    "## Del 4: Utvidelse\n",
    "\n",
    "### Legg til Flere Dyr og Funksjoner\n",
    "\n",
    "- **Amfibier**: Lag en ny underklasse.\n",
    "- **Interaksjoner**: Simuler samspill mellom dyrene."
   ]
  },
  {
   "cell_type": "code",
   "execution_count": 23,
   "id": "extension_3_code",
   "metadata": {},
   "outputs": [
    {
     "name": "stdout",
     "output_type": "stream",
     "text": [
      "Frosk er lagt til i dyrehagen.\n",
      "Frosk svømmer.\n"
     ]
    }
   ],
   "source": [
    "# Underklasse Amfibie\n",
    "class Amfibie(Dyr):\n",
    "    def __init__(self, navn, kan_puste_under_vann):\n",
    "        super().__init__(navn)\n",
    "        self.kan_puste_under_vann = kan_puste_under_vann\n",
    "    \n",
    "    def lag_lyd(self):\n",
    "        print(f\"{self.navn} sier: Kvakk!\")\n",
    "    \n",
    "    def svøm(self):\n",
    "        print(f\"{self.navn} svømmer.\")\n",
    "\n",
    "# Opprett amfibie\n",
    "frosk = Amfibie(\"Frosk\", True)\n",
    "\n",
    "# Legg til dyrehagen\n",
    "dyrehage.legg_til_dyr(frosk)\n",
    "\n",
    "# Frosken svømmer\n",
    "frosk.svøm()"
   ]
  },
  {
   "cell_type": "markdown",
   "id": "conclusion_3",
   "metadata": {},
   "source": [
    "## Del 5: Refleksjon\n",
    "\n",
    "- **Arv** hjelper oss med å organisere klassene og gjenbruke kode.\n",
    "- **Polymorfisme** lar oss bruke samme metode på ulike objekter med forventet oppførsel.\n",
    "- Vi kan enkelt utvide systemet ved å legge til nye underklasser.\n",
    "\n",
    "**Gratulerer med å ha fullført oppgaven!**"
   ]
  },
  {
   "cell_type": "code",
   "execution_count": 24,
   "id": "7253566d9c9cd8aa",
   "metadata": {},
   "outputs": [
    {
     "name": "stderr",
     "output_type": "stream",
     "text": [
      "'pip' is not recognized as an internal or external command,\n",
      "operable program or batch file.\n"
     ]
    }
   ],
   "source": [
    "!pip install tk"
   ]
  }
 ],
 "metadata": {
  "kernelspec": {
   "display_name": "Python 3",
   "language": "python",
   "name": "python3"
  },
  "language_info": {
   "codemirror_mode": {
    "name": "ipython",
    "version": 3
   },
   "file_extension": ".py",
   "mimetype": "text/x-python",
   "name": "python",
   "nbconvert_exporter": "python",
   "pygments_lexer": "ipython3",
   "version": "3.9.13"
  }
 },
 "nbformat": 4,
 "nbformat_minor": 5
}
