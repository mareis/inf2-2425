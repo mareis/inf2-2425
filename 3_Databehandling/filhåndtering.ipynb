{
 "cells": [
  {
   "metadata": {},
   "cell_type": "markdown",
   "source": "# Filhåndtering",
   "id": "d6a3965d8eefa8c3"
  },
  {
   "metadata": {
    "ExecuteTime": {
     "end_time": "2024-09-30T09:11:51.300201Z",
     "start_time": "2024-09-30T09:11:51.237208Z"
    }
   },
   "cell_type": "code",
   "source": [
    "fil = open('data/fag.txt')\n",
    "print(fil.readlines())\n",
    "fil.seek(0)\n",
    "print(fil.read())\n",
    "fil.close()"
   ],
   "id": "97060d5a21c23232",
   "outputs": [
    {
     "name": "stdout",
     "output_type": "stream",
     "text": [
      "['Informasjonsteknologi 2\\n', 'Fysikk 1\\n', 'Matematikk R2']\n",
      "Informasjonsteknologi 2\n",
      "Fysikk 1\n",
      "Matematikk R2\n"
     ]
    }
   ],
   "execution_count": 1
  },
  {
   "metadata": {
    "ExecuteTime": {
     "end_time": "2024-09-30T09:11:51.345201Z",
     "start_time": "2024-09-30T09:11:51.330199Z"
    }
   },
   "cell_type": "code",
   "source": [
    "with open('vinnere.txt', encoding='utf') as vinnere:\n",
    "    for line in vinnere:\n",
    "        print(line)"
   ],
   "id": "22ce021473516241",
   "outputs": [
    {
     "name": "stdout",
     "output_type": "stream",
     "text": [
      "Erik Risan\n",
      "\n",
      "Marius Bolsønes\n",
      "\n",
      "Elia Hansen\n"
     ]
    }
   ],
   "execution_count": 2
  },
  {
   "metadata": {
    "ExecuteTime": {
     "end_time": "2024-09-30T09:11:51.564616Z",
     "start_time": "2024-09-30T09:11:51.551613Z"
    }
   },
   "cell_type": "code",
   "source": [
    "with open('data/tall.txt', 'w') as tall:\n",
    "    for line in range(3,100, 4):\n",
    "        tall.write(str(line)+'\\n')"
   ],
   "id": "a68408f45e36ac03",
   "outputs": [],
   "execution_count": 3
  },
  {
   "metadata": {
    "ExecuteTime": {
     "end_time": "2024-09-30T09:11:51.596614Z",
     "start_time": "2024-09-30T09:11:51.583621Z"
    }
   },
   "cell_type": "code",
   "source": [
    "with open('vinnere.txt', 'a') as vinnere:\n",
    "    vinnere.write('Elia Hansen')\n",
    "    "
   ],
   "id": "d4844dcf9a283e92",
   "outputs": [],
   "execution_count": 4
  },
  {
   "metadata": {
    "ExecuteTime": {
     "end_time": "2024-09-30T09:11:51.628612Z",
     "start_time": "2024-09-30T09:11:51.615614Z"
    }
   },
   "cell_type": "code",
   "source": "",
   "id": "83b6dd345273d1dd",
   "outputs": [],
   "execution_count": null
  },
  {
   "metadata": {
    "ExecuteTime": {
     "end_time": "2024-09-30T09:11:51.658614Z",
     "start_time": "2024-09-30T09:11:51.649621Z"
    }
   },
   "cell_type": "code",
   "source": "",
   "id": "efda3b485efa9aa2",
   "outputs": [],
   "execution_count": null
  },
  {
   "metadata": {
    "ExecuteTime": {
     "end_time": "2024-09-30T09:11:51.689621Z",
     "start_time": "2024-09-30T09:11:51.675612Z"
    }
   },
   "cell_type": "code",
   "source": "",
   "id": "a4c077f02bb756f8",
   "outputs": [],
   "execution_count": null
  },
  {
   "metadata": {
    "ExecuteTime": {
     "end_time": "2024-09-30T09:11:51.737617Z",
     "start_time": "2024-09-30T09:11:51.729612Z"
    }
   },
   "cell_type": "code",
   "source": [
    "fil = open(\"data/test.txt\")\n",
    "print(fil.read())\n",
    "fil.close()"
   ],
   "id": "b3493da7a56cffda",
   "outputs": [
    {
     "name": "stdout",
     "output_type": "stream",
     "text": [
      "Informasjonsteknologi 2\n",
      "Matematikk R2\n"
     ]
    }
   ],
   "execution_count": 5
  },
  {
   "metadata": {
    "ExecuteTime": {
     "end_time": "2024-09-30T09:11:51.847614Z",
     "start_time": "2024-09-30T09:11:51.838618Z"
    }
   },
   "cell_type": "code",
   "source": [
    "with open(\"data/test.txt\") as fil:\n",
    "    print(fil.read())\n",
    "    fil.seek(0)\n",
    "    print(fil.readlines())\n",
    "    fil.seek(0)\n",
    "    print(fil.readline())\n",
    "    print(fil.readline())"
   ],
   "id": "e0e9a99dfcaa317f",
   "outputs": [
    {
     "name": "stdout",
     "output_type": "stream",
     "text": [
      "Informasjonsteknologi 2\n",
      "Matematikk R2\n",
      "['Informasjonsteknologi 2\\n', 'Matematikk R2']\n",
      "Informasjonsteknologi 2\n",
      "\n",
      "Matematikk R2\n"
     ]
    }
   ],
   "execution_count": 6
  },
  {
   "metadata": {
    "ExecuteTime": {
     "end_time": "2024-09-16T09:10:54.788762Z",
     "start_time": "2024-09-16T09:10:54.777760Z"
    }
   },
   "cell_type": "code",
   "source": [
    "with open(\"data/heltall.txt\", mode='w') as tall:\n",
    "    for line in range(1, 101):\n",
    "        tall.write(str(line) + '\\n')\n"
   ],
   "id": "a76c1406696abcb5",
   "outputs": [],
   "execution_count": 28
  },
  {
   "metadata": {
    "ExecuteTime": {
     "end_time": "2024-09-18T06:19:06.673080Z",
     "start_time": "2024-09-18T06:19:06.652081Z"
    }
   },
   "cell_type": "code",
   "source": [
    "with open(\"data/heltall.txt\") as tall:\n",
    "    sum = 0\n",
    "    for line in tall:\n",
    "        #print(int(line))\n",
    "        sum += int(line)\n",
    "    print(sum)    "
   ],
   "id": "67e0c9d6485f2900",
   "outputs": [
    {
     "name": "stdout",
     "output_type": "stream",
     "text": [
      "5050\n"
     ]
    }
   ],
   "execution_count": 14
  },
  {
   "metadata": {},
   "cell_type": "code",
   "outputs": [],
   "execution_count": null,
   "source": "",
   "id": "41b3ee3ae29e67b0"
  }
 ],
 "metadata": {
  "kernelspec": {
   "display_name": "Python 3",
   "language": "python",
   "name": "python3"
  },
  "language_info": {
   "codemirror_mode": {
    "name": "ipython",
    "version": 2
   },
   "file_extension": ".py",
   "mimetype": "text/x-python",
   "name": "python",
   "nbconvert_exporter": "python",
   "pygments_lexer": "ipython2",
   "version": "2.7.6"
  }
 },
 "nbformat": 4,
 "nbformat_minor": 5
}
