{
 "cells": [
  {
   "cell_type": "code",
   "id": "initial_id",
   "metadata": {
    "collapsed": true,
    "ExecuteTime": {
     "end_time": "2024-09-25T06:54:50.963551Z",
     "start_time": "2024-09-25T06:54:50.912007Z"
    }
   },
   "source": [
    "import pandas as pd\n",
    "kpi = pd.read_csv('data/konsumprisindeks.csv', sep=';', decimal=',')\n",
    "kpi.head(10)"
   ],
   "outputs": [
    {
     "data": {
      "text/plain": [
       "     År  Årsgjennomsnitt    Jan    Feb    Mar    Apr    Mai    Jun    Jul  \\\n",
       "0  2022              NaN  117.8  119.1  119.8  121.2  121.5  122.6  124.2   \n",
       "1  2021            116.1  114.1  114.9  114.6  115.0  114.9  115.3  116.3   \n",
       "2  2020            112.2  111.3  111.2  111.2  111.7  111.9  112.1  112.9   \n",
       "3  2019            110.8  109.3  110.2  110.4  110.8  110.5  110.6  111.4   \n",
       "4  2018            108.4  106.0  107.0  107.3  107.7  107.8  108.5  109.3   \n",
       "5  2017            105.5  104.3  104.7  105.0  105.2  105.4  105.8  106.1   \n",
       "6  2016            103.6  101.5  102.1  102.5  102.9  103.2  103.8  104.5   \n",
       "7  2015            100.0   98.6   98.9   99.2   99.6   99.8  100.1  100.1   \n",
       "8  2014             97.9   96.6   97.1   97.3   97.7   97.8   97.5   98.3   \n",
       "9  2013             95.9   94.5   95.1   95.4   95.9   96.0   95.7   96.1   \n",
       "\n",
       "     Aug    Sep    Okt    Nov    Des  \n",
       "0  123.9  125.6    NaN    NaN    NaN  \n",
       "1  116.3  117.5  117.2  118.1  118.9  \n",
       "2  112.5  112.9  113.2  112.4  112.9  \n",
       "3  110.6  111.1  111.3  111.6  111.3  \n",
       "4  108.9  109.5  109.3  109.8  109.8  \n",
       "5  105.3  105.9  106.0  106.1  106.1  \n",
       "6  103.9  104.2  104.7  104.9  104.4  \n",
       "7   99.9  100.6  101.0  101.3  100.9  \n",
       "8   97.9   98.5   98.6   98.6   98.6  \n",
       "9   96.0   96.4   96.6   96.7   96.6  "
      ],
      "text/html": [
       "<div>\n",
       "<style scoped>\n",
       "    .dataframe tbody tr th:only-of-type {\n",
       "        vertical-align: middle;\n",
       "    }\n",
       "\n",
       "    .dataframe tbody tr th {\n",
       "        vertical-align: top;\n",
       "    }\n",
       "\n",
       "    .dataframe thead th {\n",
       "        text-align: right;\n",
       "    }\n",
       "</style>\n",
       "<table border=\"1\" class=\"dataframe\">\n",
       "  <thead>\n",
       "    <tr style=\"text-align: right;\">\n",
       "      <th></th>\n",
       "      <th>År</th>\n",
       "      <th>Årsgjennomsnitt</th>\n",
       "      <th>Jan</th>\n",
       "      <th>Feb</th>\n",
       "      <th>Mar</th>\n",
       "      <th>Apr</th>\n",
       "      <th>Mai</th>\n",
       "      <th>Jun</th>\n",
       "      <th>Jul</th>\n",
       "      <th>Aug</th>\n",
       "      <th>Sep</th>\n",
       "      <th>Okt</th>\n",
       "      <th>Nov</th>\n",
       "      <th>Des</th>\n",
       "    </tr>\n",
       "  </thead>\n",
       "  <tbody>\n",
       "    <tr>\n",
       "      <th>0</th>\n",
       "      <td>2022</td>\n",
       "      <td>NaN</td>\n",
       "      <td>117.8</td>\n",
       "      <td>119.1</td>\n",
       "      <td>119.8</td>\n",
       "      <td>121.2</td>\n",
       "      <td>121.5</td>\n",
       "      <td>122.6</td>\n",
       "      <td>124.2</td>\n",
       "      <td>123.9</td>\n",
       "      <td>125.6</td>\n",
       "      <td>NaN</td>\n",
       "      <td>NaN</td>\n",
       "      <td>NaN</td>\n",
       "    </tr>\n",
       "    <tr>\n",
       "      <th>1</th>\n",
       "      <td>2021</td>\n",
       "      <td>116.1</td>\n",
       "      <td>114.1</td>\n",
       "      <td>114.9</td>\n",
       "      <td>114.6</td>\n",
       "      <td>115.0</td>\n",
       "      <td>114.9</td>\n",
       "      <td>115.3</td>\n",
       "      <td>116.3</td>\n",
       "      <td>116.3</td>\n",
       "      <td>117.5</td>\n",
       "      <td>117.2</td>\n",
       "      <td>118.1</td>\n",
       "      <td>118.9</td>\n",
       "    </tr>\n",
       "    <tr>\n",
       "      <th>2</th>\n",
       "      <td>2020</td>\n",
       "      <td>112.2</td>\n",
       "      <td>111.3</td>\n",
       "      <td>111.2</td>\n",
       "      <td>111.2</td>\n",
       "      <td>111.7</td>\n",
       "      <td>111.9</td>\n",
       "      <td>112.1</td>\n",
       "      <td>112.9</td>\n",
       "      <td>112.5</td>\n",
       "      <td>112.9</td>\n",
       "      <td>113.2</td>\n",
       "      <td>112.4</td>\n",
       "      <td>112.9</td>\n",
       "    </tr>\n",
       "    <tr>\n",
       "      <th>3</th>\n",
       "      <td>2019</td>\n",
       "      <td>110.8</td>\n",
       "      <td>109.3</td>\n",
       "      <td>110.2</td>\n",
       "      <td>110.4</td>\n",
       "      <td>110.8</td>\n",
       "      <td>110.5</td>\n",
       "      <td>110.6</td>\n",
       "      <td>111.4</td>\n",
       "      <td>110.6</td>\n",
       "      <td>111.1</td>\n",
       "      <td>111.3</td>\n",
       "      <td>111.6</td>\n",
       "      <td>111.3</td>\n",
       "    </tr>\n",
       "    <tr>\n",
       "      <th>4</th>\n",
       "      <td>2018</td>\n",
       "      <td>108.4</td>\n",
       "      <td>106.0</td>\n",
       "      <td>107.0</td>\n",
       "      <td>107.3</td>\n",
       "      <td>107.7</td>\n",
       "      <td>107.8</td>\n",
       "      <td>108.5</td>\n",
       "      <td>109.3</td>\n",
       "      <td>108.9</td>\n",
       "      <td>109.5</td>\n",
       "      <td>109.3</td>\n",
       "      <td>109.8</td>\n",
       "      <td>109.8</td>\n",
       "    </tr>\n",
       "    <tr>\n",
       "      <th>5</th>\n",
       "      <td>2017</td>\n",
       "      <td>105.5</td>\n",
       "      <td>104.3</td>\n",
       "      <td>104.7</td>\n",
       "      <td>105.0</td>\n",
       "      <td>105.2</td>\n",
       "      <td>105.4</td>\n",
       "      <td>105.8</td>\n",
       "      <td>106.1</td>\n",
       "      <td>105.3</td>\n",
       "      <td>105.9</td>\n",
       "      <td>106.0</td>\n",
       "      <td>106.1</td>\n",
       "      <td>106.1</td>\n",
       "    </tr>\n",
       "    <tr>\n",
       "      <th>6</th>\n",
       "      <td>2016</td>\n",
       "      <td>103.6</td>\n",
       "      <td>101.5</td>\n",
       "      <td>102.1</td>\n",
       "      <td>102.5</td>\n",
       "      <td>102.9</td>\n",
       "      <td>103.2</td>\n",
       "      <td>103.8</td>\n",
       "      <td>104.5</td>\n",
       "      <td>103.9</td>\n",
       "      <td>104.2</td>\n",
       "      <td>104.7</td>\n",
       "      <td>104.9</td>\n",
       "      <td>104.4</td>\n",
       "    </tr>\n",
       "    <tr>\n",
       "      <th>7</th>\n",
       "      <td>2015</td>\n",
       "      <td>100.0</td>\n",
       "      <td>98.6</td>\n",
       "      <td>98.9</td>\n",
       "      <td>99.2</td>\n",
       "      <td>99.6</td>\n",
       "      <td>99.8</td>\n",
       "      <td>100.1</td>\n",
       "      <td>100.1</td>\n",
       "      <td>99.9</td>\n",
       "      <td>100.6</td>\n",
       "      <td>101.0</td>\n",
       "      <td>101.3</td>\n",
       "      <td>100.9</td>\n",
       "    </tr>\n",
       "    <tr>\n",
       "      <th>8</th>\n",
       "      <td>2014</td>\n",
       "      <td>97.9</td>\n",
       "      <td>96.6</td>\n",
       "      <td>97.1</td>\n",
       "      <td>97.3</td>\n",
       "      <td>97.7</td>\n",
       "      <td>97.8</td>\n",
       "      <td>97.5</td>\n",
       "      <td>98.3</td>\n",
       "      <td>97.9</td>\n",
       "      <td>98.5</td>\n",
       "      <td>98.6</td>\n",
       "      <td>98.6</td>\n",
       "      <td>98.6</td>\n",
       "    </tr>\n",
       "    <tr>\n",
       "      <th>9</th>\n",
       "      <td>2013</td>\n",
       "      <td>95.9</td>\n",
       "      <td>94.5</td>\n",
       "      <td>95.1</td>\n",
       "      <td>95.4</td>\n",
       "      <td>95.9</td>\n",
       "      <td>96.0</td>\n",
       "      <td>95.7</td>\n",
       "      <td>96.1</td>\n",
       "      <td>96.0</td>\n",
       "      <td>96.4</td>\n",
       "      <td>96.6</td>\n",
       "      <td>96.7</td>\n",
       "      <td>96.6</td>\n",
       "    </tr>\n",
       "  </tbody>\n",
       "</table>\n",
       "</div>"
      ]
     },
     "execution_count": 10,
     "metadata": {},
     "output_type": "execute_result"
    }
   ],
   "execution_count": 10
  },
  {
   "metadata": {
    "ExecuteTime": {
     "end_time": "2024-09-25T06:55:11.118991Z",
     "start_time": "2024-09-25T06:55:10.838594Z"
    }
   },
   "cell_type": "code",
   "source": [
    "import seaborn as sns\n",
    "import matplotlib.pyplot as plt\n",
    "\n",
    "sns.set(style='darkgrid')\n",
    "sns.lineplot(kpi, x=\"År\", y=\"Årsgjennomsnitt\")\n",
    "plt.show()"
   ],
   "id": "3e44c0d3e5ad1b67",
   "outputs": [
    {
     "data": {
      "text/plain": [
       "<Figure size 640x480 with 1 Axes>"
      ],
      "image/png": "[encoded data removed]"
     },
     "metadata": {},
     "output_type": "display_data"
    }
   ],
   "execution_count": 11
  },
  {
   "metadata": {
    "ExecuteTime": {
     "end_time": "2024-09-25T07:04:00.934942Z",
     "start_time": "2024-09-25T07:04:00.903687Z"
    }
   },
   "cell_type": "code",
   "source": [
    "åg = kpi[\"Årsgjennomsnitt\"][1:]\n",
    "\n",
    "indeks, maks = 0, 0\n",
    "for i in range(1, len(åg)):\n",
    "    er = åg[i]/åg[i+1]\n",
    "    if er>maks:\n",
    "        indeks, maks = i, er\n",
    "  \n",
    "kpi[\"År\"][indeks], maks"
   ],
   "id": "41b4eaca52671354",
   "outputs": [
    {
     "data": {
      "text/plain": [
       "(1941, 1.1891891891891893)"
      ]
     },
     "execution_count": 19,
     "metadata": {},
     "output_type": "execute_result"
    }
   ],
   "execution_count": 19
  },
  {
   "metadata": {
    "ExecuteTime": {
     "end_time": "2024-09-25T07:15:01.837654Z",
     "start_time": "2024-09-25T07:15:01.815661Z"
    }
   },
   "cell_type": "code",
   "source": [
    "åg = kpi[\"Årsgjennomsnitt\"][1:]\n",
    "\n",
    "indeks, maks = 0, 0\n",
    "for i in range(1, len(åg)):\n",
    "    er = åg[i]-åg[i+1]\n",
    "    if er>maks:\n",
    "        indeks, maks = i, er\n",
    "  \n",
    "kpi[\"År\"][indeks], maks"
   ],
   "id": "28bf2aed2679b80a",
   "outputs": [
    {
     "data": {
      "text/plain": [
       "(1987, 4.200000000000003)"
      ]
     },
     "execution_count": 21,
     "metadata": {},
     "output_type": "execute_result"
    }
   ],
   "execution_count": 21
  },
  {
   "metadata": {
    "ExecuteTime": {
     "end_time": "2024-09-25T07:16:37.862816Z",
     "start_time": "2024-09-25T07:16:37.801824Z"
    }
   },
   "cell_type": "code",
   "source": "kpi.diff(1, \"Årsgjennomsnitt\")",
   "id": "60e32739f1ca3146",
   "outputs": [
    {
     "ename": "ValueError",
     "evalue": "No axis named Årsgjennomsnitt for object type DataFrame",
     "output_type": "error",
     "traceback": [
      "\u001B[1;31m---------------------------------------------------------------------------\u001B[0m",
      "\u001B[1;31mKeyError\u001B[0m                                  Traceback (most recent call last)",
      "\u001B[1;32m~\\AppData\\Local\\Programs\\Python\\Python39\\lib\\site-packages\\pandas\\core\\generic.py\u001B[0m in \u001B[0;36m?\u001B[1;34m(cls, axis)\u001B[0m\n\u001B[0;32m    576\u001B[0m             \u001B[1;32mreturn\u001B[0m \u001B[0mcls\u001B[0m\u001B[1;33m.\u001B[0m\u001B[0m_AXIS_TO_AXIS_NUMBER\u001B[0m\u001B[1;33m[\u001B[0m\u001B[0maxis\u001B[0m\u001B[1;33m]\u001B[0m\u001B[1;33m\u001B[0m\u001B[1;33m\u001B[0m\u001B[0m\n\u001B[0;32m    577\u001B[0m         \u001B[1;32mexcept\u001B[0m \u001B[0mKeyError\u001B[0m\u001B[1;33m:\u001B[0m\u001B[1;33m\u001B[0m\u001B[1;33m\u001B[0m\u001B[0m\n\u001B[1;32m--> 578\u001B[1;33m             \u001B[1;32mraise\u001B[0m \u001B[0mValueError\u001B[0m\u001B[1;33m(\u001B[0m\u001B[1;34mf\"No axis named {axis} for object type {cls.__name__}\"\u001B[0m\u001B[1;33m)\u001B[0m\u001B[1;33m\u001B[0m\u001B[1;33m\u001B[0m\u001B[0m\n\u001B[0m",
      "\u001B[1;31mKeyError\u001B[0m: 'Årsgjennomsnitt'",
      "\nDuring handling of the above exception, another exception occurred:\n",
      "\u001B[1;31mValueError\u001B[0m                                Traceback (most recent call last)",
      "\u001B[1;32m~\\AppData\\Local\\Temp\\ipykernel_12424\\2179313948.py\u001B[0m in \u001B[0;36m?\u001B[1;34m()\u001B[0m\n\u001B[1;32m----> 1\u001B[1;33m \u001B[0mkpi\u001B[0m\u001B[1;33m.\u001B[0m\u001B[0mdiff\u001B[0m\u001B[1;33m(\u001B[0m\u001B[1;36m1\u001B[0m\u001B[1;33m,\u001B[0m \u001B[1;34m\"Årsgjennomsnitt\"\u001B[0m\u001B[1;33m)\u001B[0m\u001B[1;33m\u001B[0m\u001B[1;33m\u001B[0m\u001B[0m\n\u001B[0m",
      "\u001B[1;32m~\\AppData\\Local\\Programs\\Python\\Python39\\lib\\site-packages\\pandas\\core\\frame.py\u001B[0m in \u001B[0;36m?\u001B[1;34m(self, periods, axis)\u001B[0m\n\u001B[0;32m  10030\u001B[0m             \u001B[1;32mif\u001B[0m \u001B[1;32mnot\u001B[0m \u001B[1;33m(\u001B[0m\u001B[0mis_float\u001B[0m\u001B[1;33m(\u001B[0m\u001B[0mperiods\u001B[0m\u001B[1;33m)\u001B[0m \u001B[1;32mand\u001B[0m \u001B[0mperiods\u001B[0m\u001B[1;33m.\u001B[0m\u001B[0mis_integer\u001B[0m\u001B[1;33m(\u001B[0m\u001B[1;33m)\u001B[0m\u001B[1;33m)\u001B[0m\u001B[1;33m:\u001B[0m\u001B[1;33m\u001B[0m\u001B[1;33m\u001B[0m\u001B[0m\n\u001B[0;32m  10031\u001B[0m                 \u001B[1;32mraise\u001B[0m \u001B[0mValueError\u001B[0m\u001B[1;33m(\u001B[0m\u001B[1;34m\"periods must be an integer\"\u001B[0m\u001B[1;33m)\u001B[0m\u001B[1;33m\u001B[0m\u001B[1;33m\u001B[0m\u001B[0m\n\u001B[0;32m  10032\u001B[0m             \u001B[0mperiods\u001B[0m \u001B[1;33m=\u001B[0m \u001B[0mint\u001B[0m\u001B[1;33m(\u001B[0m\u001B[0mperiods\u001B[0m\u001B[1;33m)\u001B[0m\u001B[1;33m\u001B[0m\u001B[1;33m\u001B[0m\u001B[0m\n\u001B[0;32m  10033\u001B[0m \u001B[1;33m\u001B[0m\u001B[0m\n\u001B[1;32m> 10034\u001B[1;33m         \u001B[0maxis\u001B[0m \u001B[1;33m=\u001B[0m \u001B[0mself\u001B[0m\u001B[1;33m.\u001B[0m\u001B[0m_get_axis_number\u001B[0m\u001B[1;33m(\u001B[0m\u001B[0maxis\u001B[0m\u001B[1;33m)\u001B[0m\u001B[1;33m\u001B[0m\u001B[1;33m\u001B[0m\u001B[0m\n\u001B[0m\u001B[0;32m  10035\u001B[0m         \u001B[1;32mif\u001B[0m \u001B[0maxis\u001B[0m \u001B[1;33m==\u001B[0m \u001B[1;36m1\u001B[0m\u001B[1;33m:\u001B[0m\u001B[1;33m\u001B[0m\u001B[1;33m\u001B[0m\u001B[0m\n\u001B[0;32m  10036\u001B[0m             \u001B[1;32mif\u001B[0m \u001B[0mperiods\u001B[0m \u001B[1;33m!=\u001B[0m \u001B[1;36m0\u001B[0m\u001B[1;33m:\u001B[0m\u001B[1;33m\u001B[0m\u001B[1;33m\u001B[0m\u001B[0m\n\u001B[0;32m  10037\u001B[0m                 \u001B[1;31m# in the periods == 0 case, this is equivalent diff of 0 periods\u001B[0m\u001B[1;33m\u001B[0m\u001B[1;33m\u001B[0m\u001B[0m\n",
      "\u001B[1;32m~\\AppData\\Local\\Programs\\Python\\Python39\\lib\\site-packages\\pandas\\core\\generic.py\u001B[0m in \u001B[0;36m?\u001B[1;34m(cls, axis)\u001B[0m\n\u001B[0;32m    574\u001B[0m     \u001B[1;32mdef\u001B[0m \u001B[0m_get_axis_number\u001B[0m\u001B[1;33m(\u001B[0m\u001B[0mcls\u001B[0m\u001B[1;33m,\u001B[0m \u001B[0maxis\u001B[0m\u001B[1;33m:\u001B[0m \u001B[0mAxis\u001B[0m\u001B[1;33m)\u001B[0m \u001B[1;33m->\u001B[0m \u001B[0mAxisInt\u001B[0m\u001B[1;33m:\u001B[0m\u001B[1;33m\u001B[0m\u001B[1;33m\u001B[0m\u001B[0m\n\u001B[0;32m    575\u001B[0m         \u001B[1;32mtry\u001B[0m\u001B[1;33m:\u001B[0m\u001B[1;33m\u001B[0m\u001B[1;33m\u001B[0m\u001B[0m\n\u001B[0;32m    576\u001B[0m             \u001B[1;32mreturn\u001B[0m \u001B[0mcls\u001B[0m\u001B[1;33m.\u001B[0m\u001B[0m_AXIS_TO_AXIS_NUMBER\u001B[0m\u001B[1;33m[\u001B[0m\u001B[0maxis\u001B[0m\u001B[1;33m]\u001B[0m\u001B[1;33m\u001B[0m\u001B[1;33m\u001B[0m\u001B[0m\n\u001B[0;32m    577\u001B[0m         \u001B[1;32mexcept\u001B[0m \u001B[0mKeyError\u001B[0m\u001B[1;33m:\u001B[0m\u001B[1;33m\u001B[0m\u001B[1;33m\u001B[0m\u001B[0m\n\u001B[1;32m--> 578\u001B[1;33m             \u001B[1;32mraise\u001B[0m \u001B[0mValueError\u001B[0m\u001B[1;33m(\u001B[0m\u001B[1;34mf\"No axis named {axis} for object type {cls.__name__}\"\u001B[0m\u001B[1;33m)\u001B[0m\u001B[1;33m\u001B[0m\u001B[1;33m\u001B[0m\u001B[0m\n\u001B[0m",
      "\u001B[1;31mValueError\u001B[0m: No axis named Årsgjennomsnitt for object type DataFrame"
     ]
    }
   ],
   "execution_count": 23
  },
  {
   "metadata": {},
   "cell_type": "code",
   "outputs": [],
   "execution_count": null,
   "source": "",
   "id": "3b59ea41e5cb6c04"
  }
 ],
 "metadata": {
  "kernelspec": {
   "display_name": "Python 3",
   "language": "python",
   "name": "python3"
  },
  "language_info": {
   "codemirror_mode": {
    "name": "ipython",
    "version": 2
   },
   "file_extension": ".py",
   "mimetype": "text/x-python",
   "name": "python",
   "nbconvert_exporter": "python",
   "pygments_lexer": "ipython2",
   "version": "2.7.6"
  }
 },
 "nbformat": 4,
 "nbformat_minor": 5
}
