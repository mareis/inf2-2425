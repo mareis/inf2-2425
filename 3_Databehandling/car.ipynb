{
 "cells": [
  {
   "cell_type": "code",
   "id": "b19e242e-e443-46cc-aa46-07e13de55d21",
   "metadata": {
    "ExecuteTime": {
     "end_time": "2024-09-25T07:28:41.876328Z",
     "start_time": "2024-09-25T07:28:41.861322Z"
    }
   },
   "source": [
    "import pandas as pd"
   ],
   "outputs": [],
   "execution_count": 3
  },
  {
   "cell_type": "code",
   "id": "cdd322f5-7ccb-407b-af3f-03938844f616",
   "metadata": {
    "ExecuteTime": {
     "end_time": "2024-09-25T07:28:43.011351Z",
     "start_time": "2024-09-25T07:28:42.906347Z"
    }
   },
   "source": [
    "df=pd.read_csv('data/car.csv', sep=',')\n",
    "df"
   ],
   "outputs": [
    {
     "data": {
      "text/plain": [
       "       dvcat    weight   dead  airbag seatbelt  frontal sex  ageOFocc  \\\n",
       "0        55+    53.342   dead  airbag   belted        1   f        48   \n",
       "1      25-39   154.960  alive    none     none        1   m        26   \n",
       "2        55+    38.994  alive    none     none        1   f        51   \n",
       "3      25-39   168.568  alive  airbag   belted        1   m        27   \n",
       "4      10-24    27.751  alive  airbag   belted        0   m        26   \n",
       "...      ...       ...    ...     ...      ...      ...  ..       ...   \n",
       "17560  10-24   131.491  alive  airbag   belted        0   m        28   \n",
       "17561  10-24   281.693  alive    none   belted        1   f        39   \n",
       "17562  10-24   419.418  alive  airbag   belted        1   f        29   \n",
       "17563  40-54     9.815  alive    none     none        1   f        22   \n",
       "17564  10-24  1395.602  alive    none   belted        1   m        19   \n",
       "\n",
       "       yearacc  yearVeh     abcat occRole  deploy    caseid  injSeverity  \n",
       "0         2002     1997    deploy  driver       1  45:150:1            3  \n",
       "1         2001     1968   unavail  driver       0   76:40:1            3  \n",
       "2         2002     1994   unavail  driver       0  11:184:1            3  \n",
       "3         1998     1996    deploy    pass       1    9:17:1            3  \n",
       "4         2002     1997  nodeploy    pass       0     2:2:2            0  \n",
       "...        ...      ...       ...     ...     ...       ...          ...  \n",
       "17560     2002     1997    deploy  driver       1   2:106:1            0  \n",
       "17561     1998     1987   unavail  driver       0  12:118:1            1  \n",
       "17562     1997     1988    deploy  driver       1    9:37:2            3  \n",
       "17563     2000     1990   unavail  driver       0  49:112:2            3  \n",
       "17564     2002     1987   unavail    pass       0  43:159:2            0  \n",
       "\n",
       "[17565 rows x 15 columns]"
      ],
      "text/html": [
       "<div>\n",
       "<style scoped>\n",
       "    .dataframe tbody tr th:only-of-type {\n",
       "        vertical-align: middle;\n",
       "    }\n",
       "\n",
       "    .dataframe tbody tr th {\n",
       "        vertical-align: top;\n",
       "    }\n",
       "\n",
       "    .dataframe thead th {\n",
       "        text-align: right;\n",
       "    }\n",
       "</style>\n",
       "<table border=\"1\" class=\"dataframe\">\n",
       "  <thead>\n",
       "    <tr style=\"text-align: right;\">\n",
       "      <th></th>\n",
       "      <th>dvcat</th>\n",
       "      <th>weight</th>\n",
       "      <th>dead</th>\n",
       "      <th>airbag</th>\n",
       "      <th>seatbelt</th>\n",
       "      <th>frontal</th>\n",
       "      <th>sex</th>\n",
       "      <th>ageOFocc</th>\n",
       "      <th>yearacc</th>\n",
       "      <th>yearVeh</th>\n",
       "      <th>abcat</th>\n",
       "      <th>occRole</th>\n",
       "      <th>deploy</th>\n",
       "      <th>caseid</th>\n",
       "      <th>injSeverity</th>\n",
       "    </tr>\n",
       "  </thead>\n",
       "  <tbody>\n",
       "    <tr>\n",
       "      <th>0</th>\n",
       "      <td>55+</td>\n",
       "      <td>53.342</td>\n",
       "      <td>dead</td>\n",
       "      <td>airbag</td>\n",
       "      <td>belted</td>\n",
       "      <td>1</td>\n",
       "      <td>f</td>\n",
       "      <td>48</td>\n",
       "      <td>2002</td>\n",
       "      <td>1997</td>\n",
       "      <td>deploy</td>\n",
       "      <td>driver</td>\n",
       "      <td>1</td>\n",
       "      <td>45:150:1</td>\n",
       "      <td>3</td>\n",
       "    </tr>\n",
       "    <tr>\n",
       "      <th>1</th>\n",
       "      <td>25-39</td>\n",
       "      <td>154.960</td>\n",
       "      <td>alive</td>\n",
       "      <td>none</td>\n",
       "      <td>none</td>\n",
       "      <td>1</td>\n",
       "      <td>m</td>\n",
       "      <td>26</td>\n",
       "      <td>2001</td>\n",
       "      <td>1968</td>\n",
       "      <td>unavail</td>\n",
       "      <td>driver</td>\n",
       "      <td>0</td>\n",
       "      <td>76:40:1</td>\n",
       "      <td>3</td>\n",
       "    </tr>\n",
       "    <tr>\n",
       "      <th>2</th>\n",
       "      <td>55+</td>\n",
       "      <td>38.994</td>\n",
       "      <td>alive</td>\n",
       "      <td>none</td>\n",
       "      <td>none</td>\n",
       "      <td>1</td>\n",
       "      <td>f</td>\n",
       "      <td>51</td>\n",
       "      <td>2002</td>\n",
       "      <td>1994</td>\n",
       "      <td>unavail</td>\n",
       "      <td>driver</td>\n",
       "      <td>0</td>\n",
       "      <td>11:184:1</td>\n",
       "      <td>3</td>\n",
       "    </tr>\n",
       "    <tr>\n",
       "      <th>3</th>\n",
       "      <td>25-39</td>\n",
       "      <td>168.568</td>\n",
       "      <td>alive</td>\n",
       "      <td>airbag</td>\n",
       "      <td>belted</td>\n",
       "      <td>1</td>\n",
       "      <td>m</td>\n",
       "      <td>27</td>\n",
       "      <td>1998</td>\n",
       "      <td>1996</td>\n",
       "      <td>deploy</td>\n",
       "      <td>pass</td>\n",
       "      <td>1</td>\n",
       "      <td>9:17:1</td>\n",
       "      <td>3</td>\n",
       "    </tr>\n",
       "    <tr>\n",
       "      <th>4</th>\n",
       "      <td>10-24</td>\n",
       "      <td>27.751</td>\n",
       "      <td>alive</td>\n",
       "      <td>airbag</td>\n",
       "      <td>belted</td>\n",
       "      <td>0</td>\n",
       "      <td>m</td>\n",
       "      <td>26</td>\n",
       "      <td>2002</td>\n",
       "      <td>1997</td>\n",
       "      <td>nodeploy</td>\n",
       "      <td>pass</td>\n",
       "      <td>0</td>\n",
       "      <td>2:2:2</td>\n",
       "      <td>0</td>\n",
       "    </tr>\n",
       "    <tr>\n",
       "      <th>...</th>\n",
       "      <td>...</td>\n",
       "      <td>...</td>\n",
       "      <td>...</td>\n",
       "      <td>...</td>\n",
       "      <td>...</td>\n",
       "      <td>...</td>\n",
       "      <td>...</td>\n",
       "      <td>...</td>\n",
       "      <td>...</td>\n",
       "      <td>...</td>\n",
       "      <td>...</td>\n",
       "      <td>...</td>\n",
       "      <td>...</td>\n",
       "      <td>...</td>\n",
       "      <td>...</td>\n",
       "    </tr>\n",
       "    <tr>\n",
       "      <th>17560</th>\n",
       "      <td>10-24</td>\n",
       "      <td>131.491</td>\n",
       "      <td>alive</td>\n",
       "      <td>airbag</td>\n",
       "      <td>belted</td>\n",
       "      <td>0</td>\n",
       "      <td>m</td>\n",
       "      <td>28</td>\n",
       "      <td>2002</td>\n",
       "      <td>1997</td>\n",
       "      <td>deploy</td>\n",
       "      <td>driver</td>\n",
       "      <td>1</td>\n",
       "      <td>2:106:1</td>\n",
       "      <td>0</td>\n",
       "    </tr>\n",
       "    <tr>\n",
       "      <th>17561</th>\n",
       "      <td>10-24</td>\n",
       "      <td>281.693</td>\n",
       "      <td>alive</td>\n",
       "      <td>none</td>\n",
       "      <td>belted</td>\n",
       "      <td>1</td>\n",
       "      <td>f</td>\n",
       "      <td>39</td>\n",
       "      <td>1998</td>\n",
       "      <td>1987</td>\n",
       "      <td>unavail</td>\n",
       "      <td>driver</td>\n",
       "      <td>0</td>\n",
       "      <td>12:118:1</td>\n",
       "      <td>1</td>\n",
       "    </tr>\n",
       "    <tr>\n",
       "      <th>17562</th>\n",
       "      <td>10-24</td>\n",
       "      <td>419.418</td>\n",
       "      <td>alive</td>\n",
       "      <td>airbag</td>\n",
       "      <td>belted</td>\n",
       "      <td>1</td>\n",
       "      <td>f</td>\n",
       "      <td>29</td>\n",
       "      <td>1997</td>\n",
       "      <td>1988</td>\n",
       "      <td>deploy</td>\n",
       "      <td>driver</td>\n",
       "      <td>1</td>\n",
       "      <td>9:37:2</td>\n",
       "      <td>3</td>\n",
       "    </tr>\n",
       "    <tr>\n",
       "      <th>17563</th>\n",
       "      <td>40-54</td>\n",
       "      <td>9.815</td>\n",
       "      <td>alive</td>\n",
       "      <td>none</td>\n",
       "      <td>none</td>\n",
       "      <td>1</td>\n",
       "      <td>f</td>\n",
       "      <td>22</td>\n",
       "      <td>2000</td>\n",
       "      <td>1990</td>\n",
       "      <td>unavail</td>\n",
       "      <td>driver</td>\n",
       "      <td>0</td>\n",
       "      <td>49:112:2</td>\n",
       "      <td>3</td>\n",
       "    </tr>\n",
       "    <tr>\n",
       "      <th>17564</th>\n",
       "      <td>10-24</td>\n",
       "      <td>1395.602</td>\n",
       "      <td>alive</td>\n",
       "      <td>none</td>\n",
       "      <td>belted</td>\n",
       "      <td>1</td>\n",
       "      <td>m</td>\n",
       "      <td>19</td>\n",
       "      <td>2002</td>\n",
       "      <td>1987</td>\n",
       "      <td>unavail</td>\n",
       "      <td>pass</td>\n",
       "      <td>0</td>\n",
       "      <td>43:159:2</td>\n",
       "      <td>0</td>\n",
       "    </tr>\n",
       "  </tbody>\n",
       "</table>\n",
       "<p>17565 rows × 15 columns</p>\n",
       "</div>"
      ]
     },
     "execution_count": 4,
     "metadata": {},
     "output_type": "execute_result"
    }
   ],
   "execution_count": 4
  },
  {
   "cell_type": "code",
   "id": "0ad3f87a-206c-4d45-af7d-54fa37aef7d4",
   "metadata": {
    "ExecuteTime": {
     "end_time": "2024-09-25T07:37:48.312049Z",
     "start_time": "2024-09-25T07:37:48.273050Z"
    }
   },
   "source": [
    "df_driver = df[df['occRole'] == 'driver']\n",
    "df_driver.head()"
   ],
   "outputs": [
    {
     "data": {
      "text/plain": [
       "   dvcat   weight   dead  airbag seatbelt  frontal sex  ageOFocc  yearacc  \\\n",
       "0    55+   53.342   dead  airbag   belted        1   f        48     2002   \n",
       "1  25-39  154.960  alive    none     none        1   m        26     2001   \n",
       "2    55+   38.994  alive    none     none        1   f        51     2002   \n",
       "5  10-24  720.453  alive  airbag   belted        1   m        47     1998   \n",
       "6  10-24    1.000  alive  airbag   belted        1   m        17     2002   \n",
       "\n",
       "   yearVeh     abcat occRole  deploy    caseid  injSeverity  \n",
       "0     1997    deploy  driver       1  45:150:1            3  \n",
       "1     1968   unavail  driver       0   76:40:1            3  \n",
       "2     1994   unavail  driver       0  11:184:1            3  \n",
       "5     1997  nodeploy  driver       0   11:32:1            0  \n",
       "6     1991    deploy  driver       1    50:3:1            2  "
      ],
      "text/html": [
       "<div>\n",
       "<style scoped>\n",
       "    .dataframe tbody tr th:only-of-type {\n",
       "        vertical-align: middle;\n",
       "    }\n",
       "\n",
       "    .dataframe tbody tr th {\n",
       "        vertical-align: top;\n",
       "    }\n",
       "\n",
       "    .dataframe thead th {\n",
       "        text-align: right;\n",
       "    }\n",
       "</style>\n",
       "<table border=\"1\" class=\"dataframe\">\n",
       "  <thead>\n",
       "    <tr style=\"text-align: right;\">\n",
       "      <th></th>\n",
       "      <th>dvcat</th>\n",
       "      <th>weight</th>\n",
       "      <th>dead</th>\n",
       "      <th>airbag</th>\n",
       "      <th>seatbelt</th>\n",
       "      <th>frontal</th>\n",
       "      <th>sex</th>\n",
       "      <th>ageOFocc</th>\n",
       "      <th>yearacc</th>\n",
       "      <th>yearVeh</th>\n",
       "      <th>abcat</th>\n",
       "      <th>occRole</th>\n",
       "      <th>deploy</th>\n",
       "      <th>caseid</th>\n",
       "      <th>injSeverity</th>\n",
       "    </tr>\n",
       "  </thead>\n",
       "  <tbody>\n",
       "    <tr>\n",
       "      <th>0</th>\n",
       "      <td>55+</td>\n",
       "      <td>53.342</td>\n",
       "      <td>dead</td>\n",
       "      <td>airbag</td>\n",
       "      <td>belted</td>\n",
       "      <td>1</td>\n",
       "      <td>f</td>\n",
       "      <td>48</td>\n",
       "      <td>2002</td>\n",
       "      <td>1997</td>\n",
       "      <td>deploy</td>\n",
       "      <td>driver</td>\n",
       "      <td>1</td>\n",
       "      <td>45:150:1</td>\n",
       "      <td>3</td>\n",
       "    </tr>\n",
       "    <tr>\n",
       "      <th>1</th>\n",
       "      <td>25-39</td>\n",
       "      <td>154.960</td>\n",
       "      <td>alive</td>\n",
       "      <td>none</td>\n",
       "      <td>none</td>\n",
       "      <td>1</td>\n",
       "      <td>m</td>\n",
       "      <td>26</td>\n",
       "      <td>2001</td>\n",
       "      <td>1968</td>\n",
       "      <td>unavail</td>\n",
       "      <td>driver</td>\n",
       "      <td>0</td>\n",
       "      <td>76:40:1</td>\n",
       "      <td>3</td>\n",
       "    </tr>\n",
       "    <tr>\n",
       "      <th>2</th>\n",
       "      <td>55+</td>\n",
       "      <td>38.994</td>\n",
       "      <td>alive</td>\n",
       "      <td>none</td>\n",
       "      <td>none</td>\n",
       "      <td>1</td>\n",
       "      <td>f</td>\n",
       "      <td>51</td>\n",
       "      <td>2002</td>\n",
       "      <td>1994</td>\n",
       "      <td>unavail</td>\n",
       "      <td>driver</td>\n",
       "      <td>0</td>\n",
       "      <td>11:184:1</td>\n",
       "      <td>3</td>\n",
       "    </tr>\n",
       "    <tr>\n",
       "      <th>5</th>\n",
       "      <td>10-24</td>\n",
       "      <td>720.453</td>\n",
       "      <td>alive</td>\n",
       "      <td>airbag</td>\n",
       "      <td>belted</td>\n",
       "      <td>1</td>\n",
       "      <td>m</td>\n",
       "      <td>47</td>\n",
       "      <td>1998</td>\n",
       "      <td>1997</td>\n",
       "      <td>nodeploy</td>\n",
       "      <td>driver</td>\n",
       "      <td>0</td>\n",
       "      <td>11:32:1</td>\n",
       "      <td>0</td>\n",
       "    </tr>\n",
       "    <tr>\n",
       "      <th>6</th>\n",
       "      <td>10-24</td>\n",
       "      <td>1.000</td>\n",
       "      <td>alive</td>\n",
       "      <td>airbag</td>\n",
       "      <td>belted</td>\n",
       "      <td>1</td>\n",
       "      <td>m</td>\n",
       "      <td>17</td>\n",
       "      <td>2002</td>\n",
       "      <td>1991</td>\n",
       "      <td>deploy</td>\n",
       "      <td>driver</td>\n",
       "      <td>1</td>\n",
       "      <td>50:3:1</td>\n",
       "      <td>2</td>\n",
       "    </tr>\n",
       "  </tbody>\n",
       "</table>\n",
       "</div>"
      ]
     },
     "execution_count": 6,
     "metadata": {},
     "output_type": "execute_result"
    }
   ],
   "execution_count": 6
  },
  {
   "cell_type": "code",
   "id": "bae76ba5-c180-45a8-9739-62e32ff34471",
   "metadata": {
    "ExecuteTime": {
     "end_time": "2024-09-25T07:37:49.007278Z",
     "start_time": "2024-09-25T07:37:48.978228Z"
    }
   },
   "source": [
    "df.groupby('sex')['weight'].mean()"
   ],
   "outputs": [
    {
     "data": {
      "text/plain": [
       "sex\n",
       "f    493.105541\n",
       "m    428.499518\n",
       "Name: weight, dtype: float64"
      ]
     },
     "execution_count": 7,
     "metadata": {},
     "output_type": "execute_result"
    }
   ],
   "execution_count": 7
  },
  {
   "cell_type": "code",
   "id": "12da6432-1230-479e-96f2-a1ed7c76b707",
   "metadata": {
    "ExecuteTime": {
     "end_time": "2024-09-25T07:37:49.542054Z",
     "start_time": "2024-09-25T07:37:49.511057Z"
    }
   },
   "source": [
    "df.groupby('sex')['injSeverity'].mean()"
   ],
   "outputs": [
    {
     "data": {
      "text/plain": [
       "sex\n",
       "f    1.764463\n",
       "m    1.667773\n",
       "Name: injSeverity, dtype: float64"
      ]
     },
     "execution_count": 8,
     "metadata": {},
     "output_type": "execute_result"
    }
   ],
   "execution_count": 8
  },
  {
   "metadata": {
    "ExecuteTime": {
     "end_time": "2024-09-25T07:37:51.708719Z",
     "start_time": "2024-09-25T07:37:51.678644Z"
    }
   },
   "cell_type": "code",
   "source": "df_driver.groupby('sex')['injSeverity'].mean()",
   "id": "77e966ae644939a5",
   "outputs": [
    {
     "data": {
      "text/plain": [
       "sex\n",
       "f    1.762640\n",
       "m    1.676524\n",
       "Name: injSeverity, dtype: float64"
      ]
     },
     "execution_count": 9,
     "metadata": {},
     "output_type": "execute_result"
    }
   ],
   "execution_count": 9
  },
  {
   "metadata": {
    "ExecuteTime": {
     "end_time": "2024-09-25T07:39:16.260613Z",
     "start_time": "2024-09-25T07:39:16.096612Z"
    }
   },
   "cell_type": "code",
   "source": "df_driver.groupby('dvcat')['injSeverity'].mean()\n",
   "id": "447ad0877b16d028",
   "outputs": [
    {
     "data": {
      "text/plain": [
       "dvcat\n",
       "1-9km/h    0.897297\n",
       "10-24      1.279923\n",
       "25-39      1.934662\n",
       "40-54      2.505473\n",
       "55+        3.034826\n",
       "Name: injSeverity, dtype: float64"
      ]
     },
     "execution_count": 10,
     "metadata": {},
     "output_type": "execute_result"
    }
   ],
   "execution_count": 10
  },
  {
   "cell_type": "code",
   "execution_count": 13,
   "id": "27275600-c1bf-4e1e-934c-7866a12b1b73",
   "metadata": {},
   "outputs": [
    {
     "data": {
      "text/plain": [
       "<pandas.core.groupby.generic.DataFrameGroupBy object at 0x7fbf9df65f70>"
      ]
     },
     "execution_count": 13,
     "metadata": {},
     "output_type": "execute_result"
    }
   ],
   "source": [
    "df_driver.groupby('sex')"
   ]
  },
  {
   "cell_type": "code",
   "id": "f221c429-9ab7-4969-aa57-733ce16b0dc6",
   "metadata": {
    "ExecuteTime": {
     "end_time": "2024-09-25T07:41:07.614016Z",
     "start_time": "2024-09-25T07:41:07.583932Z"
    }
   },
   "source": [
    "df_driver['seatbelt_2'] = df_driver['seatbelt'].replace(['belted', 'none'],[1, 0])"
   ],
   "outputs": [
    {
     "name": "stderr",
     "output_type": "stream",
     "text": [
      "C:\\Users\\mareis\\AppData\\Local\\Temp\\ipykernel_29044\\3476102689.py:1: FutureWarning: Downcasting behavior in `replace` is deprecated and will be removed in a future version. To retain the old behavior, explicitly call `result.infer_objects(copy=False)`. To opt-in to the future behavior, set `pd.set_option('future.no_silent_downcasting', True)`\n",
      "  df_driver['seatbelt_2'] = df_driver['seatbelt'].replace(['belted', 'none'],[1, 0])\n",
      "C:\\Users\\mareis\\AppData\\Local\\Temp\\ipykernel_29044\\3476102689.py:1: SettingWithCopyWarning: \n",
      "A value is trying to be set on a copy of a slice from a DataFrame.\n",
      "Try using .loc[row_indexer,col_indexer] = value instead\n",
      "\n",
      "See the caveats in the documentation: https://pandas.pydata.org/pandas-docs/stable/user_guide/indexing.html#returning-a-view-versus-a-copy\n",
      "  df_driver['seatbelt_2'] = df_driver['seatbelt'].replace(['belted', 'none'],[1, 0])\n"
     ]
    }
   ],
   "execution_count": 11
  },
  {
   "cell_type": "code",
   "id": "15f8b1bc-a26a-427f-8674-20c86eb45a2c",
   "metadata": {
    "ExecuteTime": {
     "end_time": "2024-09-25T07:41:10.344796Z",
     "start_time": "2024-09-25T07:41:10.311819Z"
    }
   },
   "source": [
    "df_driver.groupby(['sex'])['seatbelt_2'].mean()"
   ],
   "outputs": [
    {
     "data": {
      "text/plain": [
       "sex\n",
       "f    0.786277\n",
       "m    0.673022\n",
       "Name: seatbelt_2, dtype: float64"
      ]
     },
     "execution_count": 12,
     "metadata": {},
     "output_type": "execute_result"
    }
   ],
   "execution_count": 12
  },
  {
   "cell_type": "code",
   "execution_count": 54,
   "id": "e3cfa6c7-9744-4c95-a300-734b54aab2bb",
   "metadata": {},
   "outputs": [
    {
     "data": {
      "text/html": [
       "<div>\n",
       "<style scoped>\n",
       "    .dataframe tbody tr th:only-of-type {\n",
       "        vertical-align: middle;\n",
       "    }\n",
       "\n",
       "    .dataframe tbody tr th {\n",
       "        vertical-align: top;\n",
       "    }\n",
       "\n",
       "    .dataframe thead th {\n",
       "        text-align: right;\n",
       "    }\n",
       "</style>\n",
       "<table border=\"1\" class=\"dataframe\">\n",
       "  <thead>\n",
       "    <tr style=\"text-align: right;\">\n",
       "      <th></th>\n",
       "      <th>dvcat</th>\n",
       "      <th>weight</th>\n",
       "      <th>dead</th>\n",
       "      <th>airbag</th>\n",
       "      <th>seatbelt</th>\n",
       "      <th>frontal</th>\n",
       "      <th>sex</th>\n",
       "      <th>ageOFocc</th>\n",
       "      <th>yearacc</th>\n",
       "      <th>yearVeh</th>\n",
       "      <th>abcat</th>\n",
       "      <th>occRole</th>\n",
       "      <th>deploy</th>\n",
       "      <th>caseid</th>\n",
       "      <th>injSeverity</th>\n",
       "      <th>seatbelt_2</th>\n",
       "    </tr>\n",
       "  </thead>\n",
       "  <tbody>\n",
       "    <tr>\n",
       "      <th>200</th>\n",
       "      <td>10-24</td>\n",
       "      <td>86.264</td>\n",
       "      <td>alive</td>\n",
       "      <td>airbag</td>\n",
       "      <td>none</td>\n",
       "      <td>1</td>\n",
       "      <td>f</td>\n",
       "      <td>42</td>\n",
       "      <td>2002</td>\n",
       "      <td>1995</td>\n",
       "      <td>deploy</td>\n",
       "      <td>driver</td>\n",
       "      <td>1</td>\n",
       "      <td>6:66:2</td>\n",
       "      <td>5</td>\n",
       "      <td>0</td>\n",
       "    </tr>\n",
       "    <tr>\n",
       "      <th>365</th>\n",
       "      <td>10-24</td>\n",
       "      <td>402.377</td>\n",
       "      <td>alive</td>\n",
       "      <td>none</td>\n",
       "      <td>belted</td>\n",
       "      <td>1</td>\n",
       "      <td>m</td>\n",
       "      <td>19</td>\n",
       "      <td>1997</td>\n",
       "      <td>1991</td>\n",
       "      <td>unavail</td>\n",
       "      <td>driver</td>\n",
       "      <td>0</td>\n",
       "      <td>8:167:1</td>\n",
       "      <td>5</td>\n",
       "      <td>1</td>\n",
       "    </tr>\n",
       "    <tr>\n",
       "      <th>1620</th>\n",
       "      <td>10-24</td>\n",
       "      <td>31.851</td>\n",
       "      <td>alive</td>\n",
       "      <td>none</td>\n",
       "      <td>none</td>\n",
       "      <td>0</td>\n",
       "      <td>f</td>\n",
       "      <td>97</td>\n",
       "      <td>2000</td>\n",
       "      <td>1988</td>\n",
       "      <td>unavail</td>\n",
       "      <td>driver</td>\n",
       "      <td>0</td>\n",
       "      <td>49:156:1</td>\n",
       "      <td>5</td>\n",
       "      <td>0</td>\n",
       "    </tr>\n",
       "    <tr>\n",
       "      <th>1842</th>\n",
       "      <td>10-24</td>\n",
       "      <td>111.649</td>\n",
       "      <td>alive</td>\n",
       "      <td>airbag</td>\n",
       "      <td>belted</td>\n",
       "      <td>1</td>\n",
       "      <td>m</td>\n",
       "      <td>41</td>\n",
       "      <td>2000</td>\n",
       "      <td>2000</td>\n",
       "      <td>deploy</td>\n",
       "      <td>driver</td>\n",
       "      <td>1</td>\n",
       "      <td>8:107:2</td>\n",
       "      <td>5</td>\n",
       "      <td>1</td>\n",
       "    </tr>\n",
       "    <tr>\n",
       "      <th>2117</th>\n",
       "      <td>40-54</td>\n",
       "      <td>388.489</td>\n",
       "      <td>alive</td>\n",
       "      <td>none</td>\n",
       "      <td>none</td>\n",
       "      <td>1</td>\n",
       "      <td>m</td>\n",
       "      <td>36</td>\n",
       "      <td>1999</td>\n",
       "      <td>1971</td>\n",
       "      <td>unavail</td>\n",
       "      <td>driver</td>\n",
       "      <td>0</td>\n",
       "      <td>76:88:2</td>\n",
       "      <td>5</td>\n",
       "      <td>0</td>\n",
       "    </tr>\n",
       "    <tr>\n",
       "      <th>...</th>\n",
       "      <td>...</td>\n",
       "      <td>...</td>\n",
       "      <td>...</td>\n",
       "      <td>...</td>\n",
       "      <td>...</td>\n",
       "      <td>...</td>\n",
       "      <td>...</td>\n",
       "      <td>...</td>\n",
       "      <td>...</td>\n",
       "      <td>...</td>\n",
       "      <td>...</td>\n",
       "      <td>...</td>\n",
       "      <td>...</td>\n",
       "      <td>...</td>\n",
       "      <td>...</td>\n",
       "      <td>...</td>\n",
       "    </tr>\n",
       "    <tr>\n",
       "      <th>15841</th>\n",
       "      <td>10-24</td>\n",
       "      <td>213.767</td>\n",
       "      <td>alive</td>\n",
       "      <td>none</td>\n",
       "      <td>none</td>\n",
       "      <td>1</td>\n",
       "      <td>f</td>\n",
       "      <td>28</td>\n",
       "      <td>1997</td>\n",
       "      <td>1989</td>\n",
       "      <td>unavail</td>\n",
       "      <td>driver</td>\n",
       "      <td>0</td>\n",
       "      <td>8:144:2</td>\n",
       "      <td>5</td>\n",
       "      <td>0</td>\n",
       "    </tr>\n",
       "    <tr>\n",
       "      <th>16042</th>\n",
       "      <td>10-24</td>\n",
       "      <td>568.234</td>\n",
       "      <td>alive</td>\n",
       "      <td>none</td>\n",
       "      <td>belted</td>\n",
       "      <td>0</td>\n",
       "      <td>f</td>\n",
       "      <td>33</td>\n",
       "      <td>2002</td>\n",
       "      <td>1991</td>\n",
       "      <td>unavail</td>\n",
       "      <td>driver</td>\n",
       "      <td>0</td>\n",
       "      <td>5:21:2</td>\n",
       "      <td>5</td>\n",
       "      <td>1</td>\n",
       "    </tr>\n",
       "    <tr>\n",
       "      <th>16378</th>\n",
       "      <td>25-39</td>\n",
       "      <td>109.182</td>\n",
       "      <td>alive</td>\n",
       "      <td>none</td>\n",
       "      <td>belted</td>\n",
       "      <td>0</td>\n",
       "      <td>m</td>\n",
       "      <td>46</td>\n",
       "      <td>1998</td>\n",
       "      <td>1986</td>\n",
       "      <td>unavail</td>\n",
       "      <td>driver</td>\n",
       "      <td>0</td>\n",
       "      <td>2:38:2</td>\n",
       "      <td>5</td>\n",
       "      <td>1</td>\n",
       "    </tr>\n",
       "    <tr>\n",
       "      <th>16749</th>\n",
       "      <td>40-54</td>\n",
       "      <td>9.026</td>\n",
       "      <td>alive</td>\n",
       "      <td>none</td>\n",
       "      <td>belted</td>\n",
       "      <td>0</td>\n",
       "      <td>m</td>\n",
       "      <td>20</td>\n",
       "      <td>2002</td>\n",
       "      <td>1991</td>\n",
       "      <td>unavail</td>\n",
       "      <td>driver</td>\n",
       "      <td>0</td>\n",
       "      <td>74:158:2</td>\n",
       "      <td>5</td>\n",
       "      <td>1</td>\n",
       "    </tr>\n",
       "    <tr>\n",
       "      <th>17088</th>\n",
       "      <td>40-54</td>\n",
       "      <td>322.318</td>\n",
       "      <td>alive</td>\n",
       "      <td>none</td>\n",
       "      <td>none</td>\n",
       "      <td>1</td>\n",
       "      <td>m</td>\n",
       "      <td>34</td>\n",
       "      <td>2002</td>\n",
       "      <td>1990</td>\n",
       "      <td>unavail</td>\n",
       "      <td>driver</td>\n",
       "      <td>0</td>\n",
       "      <td>8:118:1</td>\n",
       "      <td>5</td>\n",
       "      <td>0</td>\n",
       "    </tr>\n",
       "  </tbody>\n",
       "</table>\n",
       "<p>68 rows × 16 columns</p>\n",
       "</div>"
      ],
      "text/plain": [
       "       dvcat   weight   dead  airbag seatbelt  frontal sex  ageOFocc  yearacc  \\\n",
       "200    10-24   86.264  alive  airbag     none        1   f        42     2002   \n",
       "365    10-24  402.377  alive    none   belted        1   m        19     1997   \n",
       "1620   10-24   31.851  alive    none     none        0   f        97     2000   \n",
       "1842   10-24  111.649  alive  airbag   belted        1   m        41     2000   \n",
       "2117   40-54  388.489  alive    none     none        1   m        36     1999   \n",
       "...      ...      ...    ...     ...      ...      ...  ..       ...      ...   \n",
       "15841  10-24  213.767  alive    none     none        1   f        28     1997   \n",
       "16042  10-24  568.234  alive    none   belted        0   f        33     2002   \n",
       "16378  25-39  109.182  alive    none   belted        0   m        46     1998   \n",
       "16749  40-54    9.026  alive    none   belted        0   m        20     2002   \n",
       "17088  40-54  322.318  alive    none     none        1   m        34     2002   \n",
       "\n",
       "       yearVeh    abcat occRole  deploy    caseid  injSeverity  seatbelt_2  \n",
       "200       1995   deploy  driver       1    6:66:2            5           0  \n",
       "365       1991  unavail  driver       0   8:167:1            5           1  \n",
       "1620      1988  unavail  driver       0  49:156:1            5           0  \n",
       "1842      2000   deploy  driver       1   8:107:2            5           1  \n",
       "2117      1971  unavail  driver       0   76:88:2            5           0  \n",
       "...        ...      ...     ...     ...       ...          ...         ...  \n",
       "15841     1989  unavail  driver       0   8:144:2            5           0  \n",
       "16042     1991  unavail  driver       0    5:21:2            5           1  \n",
       "16378     1986  unavail  driver       0    2:38:2            5           1  \n",
       "16749     1991  unavail  driver       0  74:158:2            5           1  \n",
       "17088     1990  unavail  driver       0   8:118:1            5           0  \n",
       "\n",
       "[68 rows x 16 columns]"
      ]
     },
     "execution_count": 54,
     "metadata": {},
     "output_type": "execute_result"
    }
   ],
   "source": [
    "df_driver[df_driver['injSeverity'] == 5]"
   ]
  },
  {
   "cell_type": "code",
   "execution_count": 66,
   "id": "1369fc5d-c39a-467e-8331-3cf2771fdd5f",
   "metadata": {},
   "outputs": [
    {
     "data": {
      "image/png": "[encoded data removed]",
      "text/plain": [
       "<Figure size 640x480 with 1 Axes>"
      ]
     },
     "metadata": {},
     "output_type": "display_data"
    }
   ],
   "source": [
    "import seaborn as sns\n",
    "import matplotlib.pyplot as plt\n",
    "\n",
    "sns.barplot(x='injSeverity', y='abcat', data=df_driver)\n",
    "plt.show()"
   ]
  },
  {
   "cell_type": "code",
   "execution_count": 68,
   "id": "979487fb-d7a6-41ca-9dca-f8a65c2ebdd9",
   "metadata": {},
   "outputs": [
    {
     "data": {
      "text/plain": [
       "<AxesSubplot:xlabel='yearVeh', ylabel='injSeverity'>"
      ]
     },
     "execution_count": 68,
     "metadata": {},
     "output_type": "execute_result"
    },
    {
     "data": {
      "image/png": "[encoded data removed]",
      "text/plain": [
       "<Figure size 640x480 with 1 Axes>"
      ]
     },
     "metadata": {},
     "output_type": "display_data"
    }
   ],
   "source": [
    "sns.scatterplot(x='yearVeh', y='injSeverity', data=df_driver)"
   ]
  },
  {
   "cell_type": "code",
   "execution_count": 75,
   "id": "e94e1e03-4024-44f7-a99b-b45a92feb8d4",
   "metadata": {},
   "outputs": [
    {
     "data": {
      "text/plain": [
       "2002    2522\n",
       "1999    2370\n",
       "2000    2319\n",
       "1998    2302\n",
       "2001    2182\n",
       "1997    2107\n",
       "Name: yearacc, dtype: int64"
      ]
     },
     "execution_count": 75,
     "metadata": {},
     "output_type": "execute_result"
    }
   ],
   "source": [
    "ant_coll = df_driver['yearacc'].value_counts()\n",
    "ant_coll\n",
    "\n",
    "#sns.lineplot(x='yearacc', y='injSeverity', data=df_driver)"
   ]
  },
  {
   "cell_type": "code",
   "execution_count": 76,
   "id": "ad5ee737-47a2-4c2b-b033-5649b4c74318",
   "metadata": {},
   "outputs": [
    {
     "data": {
      "text/plain": [
       "<AxesSubplot:ylabel='yearacc'>"
      ]
     },
     "execution_count": 76,
     "metadata": {},
     "output_type": "execute_result"
    },
    {
     "data": {
      "image/png": "[encoded data removed]",
      "text/plain": [
       "<Figure size 640x480 with 1 Axes>"
      ]
     },
     "metadata": {},
     "output_type": "display_data"
    }
   ],
   "source": [
    "sns.lineplot(x=ant_coll.index, y=ant_coll)"
   ]
  },
  {
   "cell_type": "code",
   "execution_count": 77,
   "id": "97886c63-1e45-4dd4-8bbd-d7401ed87c8a",
   "metadata": {},
   "outputs": [
    {
     "data": {
      "text/plain": [
       "2"
      ]
     },
     "execution_count": 77,
     "metadata": {},
     "output_type": "execute_result"
    }
   ],
   "source": [
    "abs(-2)"
   ]
  },
  {
   "cell_type": "code",
   "id": "89fc9d5e-16fb-4241-974f-fbcec3e10fde",
   "metadata": {
    "ExecuteTime": {
     "end_time": "2024-09-27T09:47:03.803426Z",
     "start_time": "2024-09-27T09:47:03.787155Z"
    }
   },
   "source": [
    "a = 3\n",
    "S = 0\n",
    "n = 0\n",
    "\n",
    "while a <= 33:\n",
    "    n = n + 1\n",
    "    S = S + a\n",
    "    a = a + 5\n",
    "    \n",
    "print(n)\n",
    "print(S)  "
   ],
   "outputs": [
    {
     "name": "stdout",
     "output_type": "stream",
     "text": [
      "7\n",
      "126\n"
     ]
    }
   ],
   "execution_count": 5
  },
  {
   "metadata": {},
   "cell_type": "code",
   "outputs": [],
   "execution_count": null,
   "source": "",
   "id": "26c973c007e33def"
  }
 ],
 "metadata": {
  "kernelspec": {
   "display_name": "Python 3 (ipykernel)",
   "language": "python",
   "name": "python3"
  },
  "language_info": {
   "codemirror_mode": {
    "name": "ipython",
    "version": 3
   },
   "file_extension": ".py",
   "mimetype": "text/x-python",
   "name": "python",
   "nbconvert_exporter": "python",
   "pygments_lexer": "ipython3",
   "version": "3.8.18"
  }
 },
 "nbformat": 4,
 "nbformat_minor": 5
}
